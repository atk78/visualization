{
 "cells": [
  {
   "cell_type": "code",
   "execution_count": 3,
   "metadata": {},
   "outputs": [],
   "source": [
    "# ライブラリのインポート\n",
    "from bokeh import palettes\n",
    "from bokeh.transform import transform, log_cmap\n",
    "from bokeh.layouts import row, column\n",
    "from bokeh.plotting import figure, output_file, show\n",
    "from bokeh.io import output_notebook\n",
    "from bokeh.models import DatetimeTickFormatter, Legend, ColorBar, LinearColorMapper, ColumnDataSource\n",
    "import pandas as pd\n",
    "import numpy as np"
   ]
  },
  {
   "attachments": {},
   "cell_type": "markdown",
   "metadata": {},
   "source": [
    "# 折れ線グラフ\n",
    "連続した数値の変化を表す定番グラフ。ただし、ラベルの種類数が10を超えたあたりから線が重なるなどで見づらくなる。<br>\n",
    "推奨数は5で、それ以上の場合はグラフを複数に分けるほうが無難<br>\n",
    "データはhttps://gist.github.com/mbostock/3884955 からのもので、ある時期の各地域の温度（°F）の関係図"
   ]
  },
  {
   "cell_type": "code",
   "execution_count": 4,
   "metadata": {},
   "outputs": [
    {
     "name": "stderr",
     "output_type": "stream",
     "text": [
      "C:\\Users\\atsu9\\AppData\\Local\\Temp\\ipykernel_21260\\1058361137.py:1: FutureWarning: The argument 'date_parser' is deprecated and will be removed in a future version. Please use 'date_format' instead, or read your data in as 'object' dtype and then call 'to_datetime'.\n",
      "  df = pd.read_csv(\n"
     ]
    },
    {
     "data": {
      "text/html": [
       "<div>\n",
       "<style scoped>\n",
       "    .dataframe tbody tr th:only-of-type {\n",
       "        vertical-align: middle;\n",
       "    }\n",
       "\n",
       "    .dataframe tbody tr th {\n",
       "        vertical-align: top;\n",
       "    }\n",
       "\n",
       "    .dataframe thead th {\n",
       "        text-align: right;\n",
       "    }\n",
       "</style>\n",
       "<table border=\"1\" class=\"dataframe\">\n",
       "  <thead>\n",
       "    <tr style=\"text-align: right;\">\n",
       "      <th></th>\n",
       "      <th>New York</th>\n",
       "      <th>San Francisco</th>\n",
       "      <th>Austin</th>\n",
       "    </tr>\n",
       "    <tr>\n",
       "      <th>date</th>\n",
       "      <th></th>\n",
       "      <th></th>\n",
       "      <th></th>\n",
       "    </tr>\n",
       "  </thead>\n",
       "  <tbody>\n",
       "    <tr>\n",
       "      <th>2011-10-01</th>\n",
       "      <td>63.4</td>\n",
       "      <td>62.7</td>\n",
       "      <td>72.2</td>\n",
       "    </tr>\n",
       "    <tr>\n",
       "      <th>2011-10-02</th>\n",
       "      <td>58.0</td>\n",
       "      <td>59.9</td>\n",
       "      <td>67.7</td>\n",
       "    </tr>\n",
       "    <tr>\n",
       "      <th>2011-10-03</th>\n",
       "      <td>53.3</td>\n",
       "      <td>59.1</td>\n",
       "      <td>69.4</td>\n",
       "    </tr>\n",
       "    <tr>\n",
       "      <th>2011-10-04</th>\n",
       "      <td>55.7</td>\n",
       "      <td>58.8</td>\n",
       "      <td>68.0</td>\n",
       "    </tr>\n",
       "    <tr>\n",
       "      <th>2011-10-05</th>\n",
       "      <td>64.2</td>\n",
       "      <td>58.7</td>\n",
       "      <td>72.4</td>\n",
       "    </tr>\n",
       "  </tbody>\n",
       "</table>\n",
       "</div>"
      ],
      "text/plain": [
       "            New York  San Francisco  Austin\n",
       "date                                       \n",
       "2011-10-01      63.4           62.7    72.2\n",
       "2011-10-02      58.0           59.9    67.7\n",
       "2011-10-03      53.3           59.1    69.4\n",
       "2011-10-04      55.7           58.8    68.0\n",
       "2011-10-05      64.2           58.7    72.4"
      ]
     },
     "execution_count": 4,
     "metadata": {},
     "output_type": "execute_result"
    }
   ],
   "source": [
    "df = pd.read_csv(\n",
    "    \"../data/plot.csv\",\n",
    "    index_col=\"date\",\n",
    "    parse_dates=True,\n",
    "    date_parser=lambda x: pd.to_datetime(x, format=\"%Y%m%d\"))  # yyyymmdd -> yyyy-mm-ddに変換\n",
    "\n",
    "df.head()"
   ]
  },
  {
   "cell_type": "code",
   "execution_count": 5,
   "metadata": {},
   "outputs": [
    {
     "data": {
      "text/html": [
       "    <style>\n",
       "        .bk-notebook-logo {\n",
       "            display: block;\n",
       "            width: 20px;\n",
       "            height: 20px;\n",
       "            background-image: url(data:image/png;base64,iVBORw0KGgoAAAANSUhEUgAAABQAAAAUCAYAAACNiR0NAAAABHNCSVQICAgIfAhkiAAAAAlwSFlzAAALEgAACxIB0t1+/AAAABx0RVh0U29mdHdhcmUAQWRvYmUgRmlyZXdvcmtzIENTNui8sowAAAOkSURBVDiNjZRtaJVlGMd/1/08zzln5zjP1LWcU9N0NkN8m2CYjpgQYQXqSs0I84OLIC0hkEKoPtiH3gmKoiJDU7QpLgoLjLIQCpEsNJ1vqUOdO7ppbuec5+V+rj4ctwzd8IIbbi6u+8f1539dt3A78eXC7QizUF7gyV1fD1Yqg4JWz84yffhm0qkFqBogB9rM8tZdtwVsPUhWhGcFJngGeWrPzHm5oaMmkfEg1usvLFyc8jLRqDOMru7AyC8saQr7GG7f5fvDeH7Ej8CM66nIF+8yngt6HWaKh7k49Soy9nXurCi1o3qUbS3zWfrYeQDTB/Qj6kX6Ybhw4B+bOYoLKCC9H3Nu/leUTZ1JdRWkkn2ldcCamzrcf47KKXdAJllSlxAOkRgyHsGC/zRday5Qld9DyoM4/q/rUoy/CXh3jzOu3bHUVZeU+DEn8FInkPBFlu3+nW3Nw0mk6vCDiWg8CeJaxEwuHS3+z5RgY+YBR6V1Z1nxSOfoaPa4LASWxxdNp+VWTk7+4vzaou8v8PN+xo+KY2xsw6une2frhw05CTYOmQvsEhjhWjn0bmXPjpE1+kplmmkP3suftwTubK9Vq22qKmrBhpY4jvd5afdRA3wGjFAgcnTK2s4hY0/GPNIb0nErGMCRxWOOX64Z8RAC4oCXdklmEvcL8o0BfkNK4lUg9HTl+oPlQxdNo3Mg4Nv175e/1LDGzZen30MEjRUtmXSfiTVu1kK8W4txyV6BMKlbgk3lMwYCiusNy9fVfvvwMxv8Ynl6vxoByANLTWplvuj/nF9m2+PDtt1eiHPBr1oIfhCChQMBw6Aw0UulqTKZdfVvfG7VcfIqLG9bcldL/+pdWTLxLUy8Qq38heUIjh4XlzZxzQm19lLFlr8vdQ97rjZVOLf8nclzckbcD4wxXMidpX30sFd37Fv/GtwwhzhxGVAprjbg0gCAEeIgwCZyTV2Z1REEW8O4py0wsjeloKoMr6iCY6dP92H6Vw/oTyICIthibxjm/DfN9lVz8IqtqKYLUXfoKVMVQVVJOElGjrnnUt9T9wbgp8AyYKaGlqingHZU/uG2NTZSVqwHQTWkx9hxjkpWDaCg6Ckj5qebgBVbT3V3NNXMSiWSDdGV3hrtzla7J+duwPOToIg42ChPQOQjspnSlp1V+Gjdged7+8UN5CRAV7a5EdFNwCjEaBR27b3W890TE7g24NAP/mMDXRWrGoFPQI9ls/MWO2dWFAar/xcOIImbbpA3zgAAAABJRU5ErkJggg==);\n",
       "        }\n",
       "    </style>\n",
       "    <div>\n",
       "        <a href=\"https://bokeh.org\" target=\"_blank\" class=\"bk-notebook-logo\"></a>\n",
       "        <span id=\"cb035dae-042e-4d6d-aff4-7440f11cef42\">Loading BokehJS ...</span>\n",
       "    </div>\n"
      ]
     },
     "metadata": {},
     "output_type": "display_data"
    },
    {
     "data": {
      "application/javascript": "(function(root) {\n  function now() {\n    return new Date();\n  }\n\n  const force = true;\n\n  if (typeof root._bokeh_onload_callbacks === \"undefined\" || force === true) {\n    root._bokeh_onload_callbacks = [];\n    root._bokeh_is_loading = undefined;\n  }\n\nconst JS_MIME_TYPE = 'application/javascript';\n  const HTML_MIME_TYPE = 'text/html';\n  const EXEC_MIME_TYPE = 'application/vnd.bokehjs_exec.v0+json';\n  const CLASS_NAME = 'output_bokeh rendered_html';\n\n  /**\n   * Render data to the DOM node\n   */\n  function render(props, node) {\n    const script = document.createElement(\"script\");\n    node.appendChild(script);\n  }\n\n  /**\n   * Handle when an output is cleared or removed\n   */\n  function handleClearOutput(event, handle) {\n    function drop(id) {\n      const view = Bokeh.index.get_by_id(id)\n      if (view != null) {\n        view.model.document.clear()\n        Bokeh.index.delete(view)\n      }\n    }\n\n    const cell = handle.cell;\n\n    const id = cell.output_area._bokeh_element_id;\n    const server_id = cell.output_area._bokeh_server_id;\n\n    // Clean up Bokeh references\n    if (id != null) {\n      drop(id)\n    }\n\n    if (server_id !== undefined) {\n      // Clean up Bokeh references\n      const cmd_clean = \"from bokeh.io.state import curstate; print(curstate().uuid_to_server['\" + server_id + \"'].get_sessions()[0].document.roots[0]._id)\";\n      cell.notebook.kernel.execute(cmd_clean, {\n        iopub: {\n          output: function(msg) {\n            const id = msg.content.text.trim()\n            drop(id)\n          }\n        }\n      });\n      // Destroy server and session\n      const cmd_destroy = \"import bokeh.io.notebook as ion; ion.destroy_server('\" + server_id + \"')\";\n      cell.notebook.kernel.execute(cmd_destroy);\n    }\n  }\n\n  /**\n   * Handle when a new output is added\n   */\n  function handleAddOutput(event, handle) {\n    const output_area = handle.output_area;\n    const output = handle.output;\n\n    // limit handleAddOutput to display_data with EXEC_MIME_TYPE content only\n    if ((output.output_type != \"display_data\") || (!Object.prototype.hasOwnProperty.call(output.data, EXEC_MIME_TYPE))) {\n      return\n    }\n\n    const toinsert = output_area.element.find(\".\" + CLASS_NAME.split(' ')[0]);\n\n    if (output.metadata[EXEC_MIME_TYPE][\"id\"] !== undefined) {\n      toinsert[toinsert.length - 1].firstChild.textContent = output.data[JS_MIME_TYPE];\n      // store reference to embed id on output_area\n      output_area._bokeh_element_id = output.metadata[EXEC_MIME_TYPE][\"id\"];\n    }\n    if (output.metadata[EXEC_MIME_TYPE][\"server_id\"] !== undefined) {\n      const bk_div = document.createElement(\"div\");\n      bk_div.innerHTML = output.data[HTML_MIME_TYPE];\n      const script_attrs = bk_div.children[0].attributes;\n      for (let i = 0; i < script_attrs.length; i++) {\n        toinsert[toinsert.length - 1].firstChild.setAttribute(script_attrs[i].name, script_attrs[i].value);\n        toinsert[toinsert.length - 1].firstChild.textContent = bk_div.children[0].textContent\n      }\n      // store reference to server id on output_area\n      output_area._bokeh_server_id = output.metadata[EXEC_MIME_TYPE][\"server_id\"];\n    }\n  }\n\n  function register_renderer(events, OutputArea) {\n\n    function append_mime(data, metadata, element) {\n      // create a DOM node to render to\n      const toinsert = this.create_output_subarea(\n        metadata,\n        CLASS_NAME,\n        EXEC_MIME_TYPE\n      );\n      this.keyboard_manager.register_events(toinsert);\n      // Render to node\n      const props = {data: data, metadata: metadata[EXEC_MIME_TYPE]};\n      render(props, toinsert[toinsert.length - 1]);\n      element.append(toinsert);\n      return toinsert\n    }\n\n    /* Handle when an output is cleared or removed */\n    events.on('clear_output.CodeCell', handleClearOutput);\n    events.on('delete.Cell', handleClearOutput);\n\n    /* Handle when a new output is added */\n    events.on('output_added.OutputArea', handleAddOutput);\n\n    /**\n     * Register the mime type and append_mime function with output_area\n     */\n    OutputArea.prototype.register_mime_type(EXEC_MIME_TYPE, append_mime, {\n      /* Is output safe? */\n      safe: true,\n      /* Index of renderer in `output_area.display_order` */\n      index: 0\n    });\n  }\n\n  // register the mime type if in Jupyter Notebook environment and previously unregistered\n  if (root.Jupyter !== undefined) {\n    const events = require('base/js/events');\n    const OutputArea = require('notebook/js/outputarea').OutputArea;\n\n    if (OutputArea.prototype.mime_types().indexOf(EXEC_MIME_TYPE) == -1) {\n      register_renderer(events, OutputArea);\n    }\n  }\n  if (typeof (root._bokeh_timeout) === \"undefined\" || force === true) {\n    root._bokeh_timeout = Date.now() + 5000;\n    root._bokeh_failed_load = false;\n  }\n\n  const NB_LOAD_WARNING = {'data': {'text/html':\n     \"<div style='background-color: #fdd'>\\n\"+\n     \"<p>\\n\"+\n     \"BokehJS does not appear to have successfully loaded. If loading BokehJS from CDN, this \\n\"+\n     \"may be due to a slow or bad network connection. Possible fixes:\\n\"+\n     \"</p>\\n\"+\n     \"<ul>\\n\"+\n     \"<li>re-rerun `output_notebook()` to attempt to load from CDN again, or</li>\\n\"+\n     \"<li>use INLINE resources instead, as so:</li>\\n\"+\n     \"</ul>\\n\"+\n     \"<code>\\n\"+\n     \"from bokeh.resources import INLINE\\n\"+\n     \"output_notebook(resources=INLINE)\\n\"+\n     \"</code>\\n\"+\n     \"</div>\"}};\n\n  function display_loaded() {\n    const el = document.getElementById(\"cb035dae-042e-4d6d-aff4-7440f11cef42\");\n    if (el != null) {\n      el.textContent = \"BokehJS is loading...\";\n    }\n    if (root.Bokeh !== undefined) {\n      if (el != null) {\n        el.textContent = \"BokehJS \" + root.Bokeh.version + \" successfully loaded.\";\n      }\n    } else if (Date.now() < root._bokeh_timeout) {\n      setTimeout(display_loaded, 100)\n    }\n  }\n\n  function run_callbacks() {\n    try {\n      root._bokeh_onload_callbacks.forEach(function(callback) {\n        if (callback != null)\n          callback();\n      });\n    } finally {\n      delete root._bokeh_onload_callbacks\n    }\n    console.debug(\"Bokeh: all callbacks have finished\");\n  }\n\n  function load_libs(css_urls, js_urls, callback) {\n    if (css_urls == null) css_urls = [];\n    if (js_urls == null) js_urls = [];\n\n    root._bokeh_onload_callbacks.push(callback);\n    if (root._bokeh_is_loading > 0) {\n      console.debug(\"Bokeh: BokehJS is being loaded, scheduling callback at\", now());\n      return null;\n    }\n    if (js_urls == null || js_urls.length === 0) {\n      run_callbacks();\n      return null;\n    }\n    console.debug(\"Bokeh: BokehJS not loaded, scheduling load and callback at\", now());\n    root._bokeh_is_loading = css_urls.length + js_urls.length;\n\n    function on_load() {\n      root._bokeh_is_loading--;\n      if (root._bokeh_is_loading === 0) {\n        console.debug(\"Bokeh: all BokehJS libraries/stylesheets loaded\");\n        run_callbacks()\n      }\n    }\n\n    function on_error(url) {\n      console.error(\"failed to load \" + url);\n    }\n\n    for (let i = 0; i < css_urls.length; i++) {\n      const url = css_urls[i];\n      const element = document.createElement(\"link\");\n      element.onload = on_load;\n      element.onerror = on_error.bind(null, url);\n      element.rel = \"stylesheet\";\n      element.type = \"text/css\";\n      element.href = url;\n      console.debug(\"Bokeh: injecting link tag for BokehJS stylesheet: \", url);\n      document.body.appendChild(element);\n    }\n\n    for (let i = 0; i < js_urls.length; i++) {\n      const url = js_urls[i];\n      const element = document.createElement('script');\n      element.onload = on_load;\n      element.onerror = on_error.bind(null, url);\n      element.async = false;\n      element.src = url;\n      console.debug(\"Bokeh: injecting script tag for BokehJS library: \", url);\n      document.head.appendChild(element);\n    }\n  };\n\n  function inject_raw_css(css) {\n    const element = document.createElement(\"style\");\n    element.appendChild(document.createTextNode(css));\n    document.body.appendChild(element);\n  }\n\n  const js_urls = [\"https://cdn.bokeh.org/bokeh/release/bokeh-3.3.2.min.js\", \"https://cdn.bokeh.org/bokeh/release/bokeh-gl-3.3.2.min.js\", \"https://cdn.bokeh.org/bokeh/release/bokeh-widgets-3.3.2.min.js\", \"https://cdn.bokeh.org/bokeh/release/bokeh-tables-3.3.2.min.js\", \"https://cdn.bokeh.org/bokeh/release/bokeh-mathjax-3.3.2.min.js\"];\n  const css_urls = [];\n\n  const inline_js = [    function(Bokeh) {\n      Bokeh.set_log_level(\"info\");\n    },\nfunction(Bokeh) {\n    }\n  ];\n\n  function run_inline_js() {\n    if (root.Bokeh !== undefined || force === true) {\n          for (let i = 0; i < inline_js.length; i++) {\n      inline_js[i].call(root, root.Bokeh);\n    }\nif (force === true) {\n        display_loaded();\n      }} else if (Date.now() < root._bokeh_timeout) {\n      setTimeout(run_inline_js, 100);\n    } else if (!root._bokeh_failed_load) {\n      console.log(\"Bokeh: BokehJS failed to load within specified timeout.\");\n      root._bokeh_failed_load = true;\n    } else if (force !== true) {\n      const cell = $(document.getElementById(\"cb035dae-042e-4d6d-aff4-7440f11cef42\")).parents('.cell').data().cell;\n      cell.output_area.append_execute_result(NB_LOAD_WARNING)\n    }\n  }\n\n  if (root._bokeh_is_loading === 0) {\n    console.debug(\"Bokeh: BokehJS loaded, going straight to plotting\");\n    run_inline_js();\n  } else {\n    load_libs(css_urls, js_urls, function() {\n      console.debug(\"Bokeh: BokehJS plotting callback run at\", now());\n      run_inline_js();\n    });\n  }\n}(window));",
      "application/vnd.bokehjs_load.v0+json": ""
     },
     "metadata": {},
     "output_type": "display_data"
    }
   ],
   "source": [
    "output_notebook()"
   ]
  },
  {
   "cell_type": "code",
   "execution_count": 19,
   "metadata": {},
   "outputs": [
    {
     "ename": "IndexError",
     "evalue": "tuple index out of range",
     "output_type": "error",
     "traceback": [
      "\u001b[1;31m---------------------------------------------------------------------------\u001b[0m",
      "\u001b[1;31mIndexError\u001b[0m                                Traceback (most recent call last)",
      "Cell \u001b[1;32mIn[19], line 15\u001b[0m\n\u001b[0;32m      9\u001b[0m x_format \u001b[38;5;241m=\u001b[39m \u001b[38;5;124m\"\u001b[39m\u001b[38;5;124m%\u001b[39m\u001b[38;5;124mY/\u001b[39m\u001b[38;5;124m%\u001b[39m\u001b[38;5;124mm/\u001b[39m\u001b[38;5;132;01m%d\u001b[39;00m\u001b[38;5;124m\"\u001b[39m\n\u001b[0;32m     11\u001b[0m \u001b[38;5;28;01mfor\u001b[39;00m i, city_name \u001b[38;5;129;01min\u001b[39;00m \u001b[38;5;28menumerate\u001b[39m(df\u001b[38;5;241m.\u001b[39mcolumns):\n\u001b[0;32m     12\u001b[0m     p\u001b[38;5;241m.\u001b[39mline(\n\u001b[0;32m     13\u001b[0m         x \u001b[38;5;241m=\u001b[39m df\u001b[38;5;241m.\u001b[39mindex\u001b[38;5;241m.\u001b[39mto_numpy(),\n\u001b[0;32m     14\u001b[0m         y \u001b[38;5;241m=\u001b[39m df\u001b[38;5;241m.\u001b[39mloc[:, city_name],\n\u001b[1;32m---> 15\u001b[0m         line_color\u001b[38;5;241m=\u001b[39m\u001b[43mcolors\u001b[49m\u001b[43m[\u001b[49m\u001b[43mi\u001b[49m\u001b[43m]\u001b[49m,\n\u001b[0;32m     16\u001b[0m         legend_label \u001b[38;5;241m=\u001b[39m city_name\n\u001b[0;32m     17\u001b[0m         )\n\u001b[0;32m     19\u001b[0m p\u001b[38;5;241m.\u001b[39mxaxis\u001b[38;5;241m.\u001b[39mformatter \u001b[38;5;241m=\u001b[39m DatetimeTickFormatter(\n\u001b[0;32m     20\u001b[0m     days\u001b[38;5;241m=\u001b[39mx_format,\n\u001b[0;32m     21\u001b[0m     months\u001b[38;5;241m=\u001b[39mx_format,\n\u001b[0;32m     22\u001b[0m     years\u001b[38;5;241m=\u001b[39mx_format\n\u001b[0;32m     23\u001b[0m     )\n\u001b[0;32m     24\u001b[0m p\u001b[38;5;241m.\u001b[39mxaxis\u001b[38;5;241m.\u001b[39mmajor_label_orientation \u001b[38;5;241m=\u001b[39m np\u001b[38;5;241m.\u001b[39mpi\u001b[38;5;241m/\u001b[39m\u001b[38;5;241m2\u001b[39m\n",
      "\u001b[1;31mIndexError\u001b[0m: tuple index out of range"
     ]
    }
   ],
   "source": [
    "p = figure(\n",
    "    width=700,\n",
    "    height=400,\n",
    "    title=\"City Temperature\",\n",
    "    x_axis_type = \"datetime\")\n",
    "\n",
    "colors = palettes.Category10[3]\n",
    "\n",
    "x_format = \"%Y/%m/%d\"\n",
    "\n",
    "for i, city_name in enumerate(df.columns):\n",
    "    p.line(\n",
    "        x = df.index.to_numpy(),\n",
    "        y = df.loc[:, city_name],\n",
    "        line_color=colors[i],\n",
    "        legend_label = city_name\n",
    "        )\n",
    "\n",
    "p.xaxis.formatter = DatetimeTickFormatter(\n",
    "    days=x_format,\n",
    "    months=x_format,\n",
    "    years=x_format\n",
    "    )\n",
    "p.xaxis.major_label_orientation = np.pi/2\n",
    "p.xaxis.axis_label = \"date\"\n",
    "p.yaxis.axis_label = \"Temeperature[F°]\"\n",
    "p.add_layout(p.legend[0], \"right\")\n",
    "\n",
    "show(p)"
   ]
  },
  {
   "cell_type": "code",
   "execution_count": 7,
   "metadata": {},
   "outputs": [
    {
     "data": {
      "text/html": [
       "\n",
       "  <div id=\"ed4b4813-223d-43a0-b47e-a2d81def9169\" data-root-id=\"p1249\" style=\"display: contents;\"></div>\n"
      ]
     },
     "metadata": {},
     "output_type": "display_data"
    },
    {
     "data": {
      "application/javascript": "(function(root) {\n  function embed_document(root) {\n  const docs_json = {\"70548ae1-73d3-49d0-8a59-f90d59c53a8f\":{\"version\":\"3.3.2\",\"title\":\"Bokeh Application\",\"roots\":[{\"type\":\"object\",\"name\":\"Column\",\"id\":\"p1249\",\"attributes\":{\"children\":[{\"type\":\"object\",\"name\":\"Figure\",\"id\":\"p1084\",\"attributes\":{\"width\":700,\"height\":300,\"x_range\":{\"type\":\"object\",\"name\":\"DataRange1d\",\"id\":\"p1085\"},\"y_range\":{\"type\":\"object\",\"name\":\"DataRange1d\",\"id\":\"p1086\"},\"x_scale\":{\"type\":\"object\",\"name\":\"LinearScale\",\"id\":\"p1094\"},\"y_scale\":{\"type\":\"object\",\"name\":\"LinearScale\",\"id\":\"p1095\"},\"title\":{\"type\":\"object\",\"name\":\"Title\",\"id\":\"p1087\",\"attributes\":{\"text\":\"New York\"}},\"renderers\":[{\"type\":\"object\",\"name\":\"GlyphRenderer\",\"id\":\"p1135\",\"attributes\":{\"data_source\":{\"type\":\"object\",\"name\":\"ColumnDataSource\",\"id\":\"p1129\",\"attributes\":{\"selected\":{\"type\":\"object\",\"name\":\"Selection\",\"id\":\"p1130\",\"attributes\":{\"indices\":[],\"line_indices\":[]}},\"selection_policy\":{\"type\":\"object\",\"name\":\"UnionRenderers\",\"id\":\"p1131\"},\"data\":{\"type\":\"map\",\"entries\":[[\"x\",{\"type\":\"ndarray\",\"array\":{\"type\":\"bytes\",\"data\":\"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\"},\"shape\":[366],\"dtype\":\"float64\",\"order\":\"little\"}],[\"y\",{\"type\":\"ndarray\",\"array\":{\"type\":\"bytes\",\"data\":\"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\"},\"shape\":[366],\"dtype\":\"float64\",\"order\":\"little\"}]]}}},\"view\":{\"type\":\"object\",\"name\":\"CDSView\",\"id\":\"p1136\",\"attributes\":{\"filter\":{\"type\":\"object\",\"name\":\"AllIndices\",\"id\":\"p1137\"}}},\"glyph\":{\"type\":\"object\",\"name\":\"Line\",\"id\":\"p1132\",\"attributes\":{\"x\":{\"type\":\"field\",\"field\":\"x\"},\"y\":{\"type\":\"field\",\"field\":\"y\"},\"line_color\":\"#1f77b4\"}},\"nonselection_glyph\":{\"type\":\"object\",\"name\":\"Line\",\"id\":\"p1133\",\"attributes\":{\"x\":{\"type\":\"field\",\"field\":\"x\"},\"y\":{\"type\":\"field\",\"field\":\"y\"},\"line_color\":\"#1f77b4\",\"line_alpha\":0.1}},\"muted_glyph\":{\"type\":\"object\",\"name\":\"Line\",\"id\":\"p1134\",\"attributes\":{\"x\":{\"type\":\"field\",\"field\":\"x\"},\"y\":{\"type\":\"field\",\"field\":\"y\"},\"line_color\":\"#1f77b4\",\"line_alpha\":0.2}}}}],\"toolbar\":{\"type\":\"object\",\"name\":\"Toolbar\",\"id\":\"p1093\",\"attributes\":{\"tools\":[{\"type\":\"object\",\"name\":\"PanTool\",\"id\":\"p1118\"},{\"type\":\"object\",\"name\":\"WheelZoomTool\",\"id\":\"p1119\",\"attributes\":{\"renderers\":\"auto\"}},{\"type\":\"object\",\"name\":\"BoxZoomTool\",\"id\":\"p1120\",\"attributes\":{\"overlay\":{\"type\":\"object\",\"name\":\"BoxAnnotation\",\"id\":\"p1121\",\"attributes\":{\"syncable\":false,\"level\":\"overlay\",\"visible\":false,\"left\":{\"type\":\"number\",\"value\":\"nan\"},\"right\":{\"type\":\"number\",\"value\":\"nan\"},\"top\":{\"type\":\"number\",\"value\":\"nan\"},\"bottom\":{\"type\":\"number\",\"value\":\"nan\"},\"left_units\":\"canvas\",\"right_units\":\"canvas\",\"top_units\":\"canvas\",\"bottom_units\":\"canvas\",\"line_color\":\"black\",\"line_alpha\":1.0,\"line_width\":2,\"line_dash\":[4,4],\"fill_color\":\"lightgrey\",\"fill_alpha\":0.5}}}},{\"type\":\"object\",\"name\":\"SaveTool\",\"id\":\"p1126\"},{\"type\":\"object\",\"name\":\"ResetTool\",\"id\":\"p1127\"},{\"type\":\"object\",\"name\":\"HelpTool\",\"id\":\"p1128\"}]}},\"left\":[{\"type\":\"object\",\"name\":\"LinearAxis\",\"id\":\"p1113\",\"attributes\":{\"ticker\":{\"type\":\"object\",\"name\":\"BasicTicker\",\"id\":\"p1114\",\"attributes\":{\"mantissas\":[1,2,5]}},\"formatter\":{\"type\":\"object\",\"name\":\"BasicTickFormatter\",\"id\":\"p1115\"},\"axis_label\":\"Temperature[F\\u00b0]\",\"major_label_policy\":{\"type\":\"object\",\"name\":\"AllLabels\",\"id\":\"p1116\"}}}],\"below\":[{\"type\":\"object\",\"name\":\"DatetimeAxis\",\"id\":\"p1096\",\"attributes\":{\"ticker\":{\"type\":\"object\",\"name\":\"DatetimeTicker\",\"id\":\"p1097\",\"attributes\":{\"num_minor_ticks\":5,\"tickers\":[{\"type\":\"object\",\"name\":\"AdaptiveTicker\",\"id\":\"p1098\",\"attributes\":{\"num_minor_ticks\":0,\"mantissas\":[1,2,5],\"max_interval\":500.0}},{\"type\":\"object\",\"name\":\"AdaptiveTicker\",\"id\":\"p1099\",\"attributes\":{\"num_minor_ticks\":0,\"base\":60,\"mantissas\":[1,2,5,10,15,20,30],\"min_interval\":1000.0,\"max_interval\":1800000.0}},{\"type\":\"object\",\"name\":\"AdaptiveTicker\",\"id\":\"p1100\",\"attributes\":{\"num_minor_ticks\":0,\"base\":24,\"mantissas\":[1,2,4,6,8,12],\"min_interval\":3600000.0,\"max_interval\":43200000.0}},{\"type\":\"object\",\"name\":\"DaysTicker\",\"id\":\"p1101\",\"attributes\":{\"days\":[1,2,3,4,5,6,7,8,9,10,11,12,13,14,15,16,17,18,19,20,21,22,23,24,25,26,27,28,29,30,31]}},{\"type\":\"object\",\"name\":\"DaysTicker\",\"id\":\"p1102\",\"attributes\":{\"days\":[1,4,7,10,13,16,19,22,25,28]}},{\"type\":\"object\",\"name\":\"DaysTicker\",\"id\":\"p1103\",\"attributes\":{\"days\":[1,8,15,22]}},{\"type\":\"object\",\"name\":\"DaysTicker\",\"id\":\"p1104\",\"attributes\":{\"days\":[1,15]}},{\"type\":\"object\",\"name\":\"MonthsTicker\",\"id\":\"p1105\",\"attributes\":{\"months\":[0,1,2,3,4,5,6,7,8,9,10,11]}},{\"type\":\"object\",\"name\":\"MonthsTicker\",\"id\":\"p1106\",\"attributes\":{\"months\":[0,2,4,6,8,10]}},{\"type\":\"object\",\"name\":\"MonthsTicker\",\"id\":\"p1107\",\"attributes\":{\"months\":[0,4,8]}},{\"type\":\"object\",\"name\":\"MonthsTicker\",\"id\":\"p1108\",\"attributes\":{\"months\":[0,6]}},{\"type\":\"object\",\"name\":\"YearsTicker\",\"id\":\"p1109\"}]}},\"formatter\":{\"type\":\"object\",\"name\":\"DatetimeTickFormatter\",\"id\":\"p1138\",\"attributes\":{\"months\":\"%Y/%m\",\"years\":\"%Y/%m\"}},\"axis_label\":\"date\",\"major_label_policy\":{\"type\":\"object\",\"name\":\"AllLabels\",\"id\":\"p1111\"}}}],\"center\":[{\"type\":\"object\",\"name\":\"Grid\",\"id\":\"p1112\",\"attributes\":{\"axis\":{\"id\":\"p1096\"}}},{\"type\":\"object\",\"name\":\"Grid\",\"id\":\"p1117\",\"attributes\":{\"dimension\":1,\"axis\":{\"id\":\"p1113\"}}}]}},{\"type\":\"object\",\"name\":\"Figure\",\"id\":\"p1139\",\"attributes\":{\"width\":700,\"height\":300,\"x_range\":{\"type\":\"object\",\"name\":\"DataRange1d\",\"id\":\"p1140\"},\"y_range\":{\"type\":\"object\",\"name\":\"DataRange1d\",\"id\":\"p1141\"},\"x_scale\":{\"type\":\"object\",\"name\":\"LinearScale\",\"id\":\"p1149\"},\"y_scale\":{\"type\":\"object\",\"name\":\"LinearScale\",\"id\":\"p1150\"},\"title\":{\"type\":\"object\",\"name\":\"Title\",\"id\":\"p1142\",\"attributes\":{\"text\":\"San Francisco\"}},\"renderers\":[{\"type\":\"object\",\"name\":\"GlyphRenderer\",\"id\":\"p1190\",\"attributes\":{\"data_source\":{\"type\":\"object\",\"name\":\"ColumnDataSource\",\"id\":\"p1184\",\"attributes\":{\"selected\":{\"type\":\"object\",\"name\":\"Selection\",\"id\":\"p1185\",\"attributes\":{\"indices\":[],\"line_indices\":[]}},\"selection_policy\":{\"type\":\"object\",\"name\":\"UnionRenderers\",\"id\":\"p1186\"},\"data\":{\"type\":\"map\",\"entries\":[[\"x\",{\"type\":\"ndarray\",\"array\":{\"type\":\"bytes\",\"data\":\"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\"},\"shape\":[366],\"dtype\":\"float64\",\"order\":\"little\"}],[\"y\",{\"type\":\"ndarray\",\"array\":{\"type\":\"bytes\",\"data\":\"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\"},\"shape\":[366],\"dtype\":\"float64\",\"order\":\"little\"}]]}}},\"view\":{\"type\":\"object\",\"name\":\"CDSView\",\"id\":\"p1191\",\"attributes\":{\"filter\":{\"type\":\"object\",\"name\":\"AllIndices\",\"id\":\"p1192\"}}},\"glyph\":{\"type\":\"object\",\"name\":\"Line\",\"id\":\"p1187\",\"attributes\":{\"x\":{\"type\":\"field\",\"field\":\"x\"},\"y\":{\"type\":\"field\",\"field\":\"y\"},\"line_color\":\"#ff7f0e\"}},\"nonselection_glyph\":{\"type\":\"object\",\"name\":\"Line\",\"id\":\"p1188\",\"attributes\":{\"x\":{\"type\":\"field\",\"field\":\"x\"},\"y\":{\"type\":\"field\",\"field\":\"y\"},\"line_color\":\"#ff7f0e\",\"line_alpha\":0.1}},\"muted_glyph\":{\"type\":\"object\",\"name\":\"Line\",\"id\":\"p1189\",\"attributes\":{\"x\":{\"type\":\"field\",\"field\":\"x\"},\"y\":{\"type\":\"field\",\"field\":\"y\"},\"line_color\":\"#ff7f0e\",\"line_alpha\":0.2}}}}],\"toolbar\":{\"type\":\"object\",\"name\":\"Toolbar\",\"id\":\"p1148\",\"attributes\":{\"tools\":[{\"type\":\"object\",\"name\":\"PanTool\",\"id\":\"p1173\"},{\"type\":\"object\",\"name\":\"WheelZoomTool\",\"id\":\"p1174\",\"attributes\":{\"renderers\":\"auto\"}},{\"type\":\"object\",\"name\":\"BoxZoomTool\",\"id\":\"p1175\",\"attributes\":{\"overlay\":{\"type\":\"object\",\"name\":\"BoxAnnotation\",\"id\":\"p1176\",\"attributes\":{\"syncable\":false,\"level\":\"overlay\",\"visible\":false,\"left\":{\"type\":\"number\",\"value\":\"nan\"},\"right\":{\"type\":\"number\",\"value\":\"nan\"},\"top\":{\"type\":\"number\",\"value\":\"nan\"},\"bottom\":{\"type\":\"number\",\"value\":\"nan\"},\"left_units\":\"canvas\",\"right_units\":\"canvas\",\"top_units\":\"canvas\",\"bottom_units\":\"canvas\",\"line_color\":\"black\",\"line_alpha\":1.0,\"line_width\":2,\"line_dash\":[4,4],\"fill_color\":\"lightgrey\",\"fill_alpha\":0.5}}}},{\"type\":\"object\",\"name\":\"SaveTool\",\"id\":\"p1181\"},{\"type\":\"object\",\"name\":\"ResetTool\",\"id\":\"p1182\"},{\"type\":\"object\",\"name\":\"HelpTool\",\"id\":\"p1183\"}]}},\"left\":[{\"type\":\"object\",\"name\":\"LinearAxis\",\"id\":\"p1168\",\"attributes\":{\"ticker\":{\"type\":\"object\",\"name\":\"BasicTicker\",\"id\":\"p1169\",\"attributes\":{\"mantissas\":[1,2,5]}},\"formatter\":{\"type\":\"object\",\"name\":\"BasicTickFormatter\",\"id\":\"p1170\"},\"axis_label\":\"Temperature[F\\u00b0]\",\"major_label_policy\":{\"type\":\"object\",\"name\":\"AllLabels\",\"id\":\"p1171\"}}}],\"below\":[{\"type\":\"object\",\"name\":\"DatetimeAxis\",\"id\":\"p1151\",\"attributes\":{\"ticker\":{\"type\":\"object\",\"name\":\"DatetimeTicker\",\"id\":\"p1152\",\"attributes\":{\"num_minor_ticks\":5,\"tickers\":[{\"type\":\"object\",\"name\":\"AdaptiveTicker\",\"id\":\"p1153\",\"attributes\":{\"num_minor_ticks\":0,\"mantissas\":[1,2,5],\"max_interval\":500.0}},{\"type\":\"object\",\"name\":\"AdaptiveTicker\",\"id\":\"p1154\",\"attributes\":{\"num_minor_ticks\":0,\"base\":60,\"mantissas\":[1,2,5,10,15,20,30],\"min_interval\":1000.0,\"max_interval\":1800000.0}},{\"type\":\"object\",\"name\":\"AdaptiveTicker\",\"id\":\"p1155\",\"attributes\":{\"num_minor_ticks\":0,\"base\":24,\"mantissas\":[1,2,4,6,8,12],\"min_interval\":3600000.0,\"max_interval\":43200000.0}},{\"type\":\"object\",\"name\":\"DaysTicker\",\"id\":\"p1156\",\"attributes\":{\"days\":[1,2,3,4,5,6,7,8,9,10,11,12,13,14,15,16,17,18,19,20,21,22,23,24,25,26,27,28,29,30,31]}},{\"type\":\"object\",\"name\":\"DaysTicker\",\"id\":\"p1157\",\"attributes\":{\"days\":[1,4,7,10,13,16,19,22,25,28]}},{\"type\":\"object\",\"name\":\"DaysTicker\",\"id\":\"p1158\",\"attributes\":{\"days\":[1,8,15,22]}},{\"type\":\"object\",\"name\":\"DaysTicker\",\"id\":\"p1159\",\"attributes\":{\"days\":[1,15]}},{\"type\":\"object\",\"name\":\"MonthsTicker\",\"id\":\"p1160\",\"attributes\":{\"months\":[0,1,2,3,4,5,6,7,8,9,10,11]}},{\"type\":\"object\",\"name\":\"MonthsTicker\",\"id\":\"p1161\",\"attributes\":{\"months\":[0,2,4,6,8,10]}},{\"type\":\"object\",\"name\":\"MonthsTicker\",\"id\":\"p1162\",\"attributes\":{\"months\":[0,4,8]}},{\"type\":\"object\",\"name\":\"MonthsTicker\",\"id\":\"p1163\",\"attributes\":{\"months\":[0,6]}},{\"type\":\"object\",\"name\":\"YearsTicker\",\"id\":\"p1164\"}]}},\"formatter\":{\"type\":\"object\",\"name\":\"DatetimeTickFormatter\",\"id\":\"p1193\",\"attributes\":{\"months\":\"%Y/%m\",\"years\":\"%Y/%m\"}},\"axis_label\":\"date\",\"major_label_policy\":{\"type\":\"object\",\"name\":\"AllLabels\",\"id\":\"p1166\"}}}],\"center\":[{\"type\":\"object\",\"name\":\"Grid\",\"id\":\"p1167\",\"attributes\":{\"axis\":{\"id\":\"p1151\"}}},{\"type\":\"object\",\"name\":\"Grid\",\"id\":\"p1172\",\"attributes\":{\"dimension\":1,\"axis\":{\"id\":\"p1168\"}}}]}},{\"type\":\"object\",\"name\":\"Figure\",\"id\":\"p1194\",\"attributes\":{\"width\":700,\"height\":300,\"x_range\":{\"type\":\"object\",\"name\":\"DataRange1d\",\"id\":\"p1195\"},\"y_range\":{\"type\":\"object\",\"name\":\"DataRange1d\",\"id\":\"p1196\"},\"x_scale\":{\"type\":\"object\",\"name\":\"LinearScale\",\"id\":\"p1204\"},\"y_scale\":{\"type\":\"object\",\"name\":\"LinearScale\",\"id\":\"p1205\"},\"title\":{\"type\":\"object\",\"name\":\"Title\",\"id\":\"p1197\",\"attributes\":{\"text\":\"Austin\"}},\"renderers\":[{\"type\":\"object\",\"name\":\"GlyphRenderer\",\"id\":\"p1245\",\"attributes\":{\"data_source\":{\"type\":\"object\",\"name\":\"ColumnDataSource\",\"id\":\"p1239\",\"attributes\":{\"selected\":{\"type\":\"object\",\"name\":\"Selection\",\"id\":\"p1240\",\"attributes\":{\"indices\":[],\"line_indices\":[]}},\"selection_policy\":{\"type\":\"object\",\"name\":\"UnionRenderers\",\"id\":\"p1241\"},\"data\":{\"type\":\"map\",\"entries\":[[\"x\",{\"type\":\"ndarray\",\"array\":{\"type\":\"bytes\",\"data\":\"AAAAfMwrc0IAAMDhHixzQgAAgEdxLHNCAABArcMsc0IAAAATFi1zQgAAwHhoLXNCAACA3rotc0IAAEBEDS5zQgAAAKpfLnNCAADAD7Iuc0IAAIB1BC9zQgAAQNtWL3NCAAAAQakvc0IAAMCm+y9zQgAAgAxOMHNCAABAcqAwc0IAAADY8jBzQgAAwD1FMXNCAACAo5cxc0IAAEAJ6jFzQgAAAG88MnNCAADA1I4yc0IAAIA64TJzQgAAQKAzM3NCAAAABoYzc0IAAMBr2DNzQgAAgNEqNHNCAABAN300c0IAAACdzzRzQgAAwAIiNXNCAACAaHQ1c0IAAEDOxjVzQgAAADQZNnNCAADAmWs2c0IAAID/vTZzQgAAQGUQN3NCAAAAy2I3c0IAAMAwtTdzQgAAgJYHOHNCAABA/Fk4c0IAAABirDhzQgAAwMf+OHNCAACALVE5c0IAAECTozlzQgAAAPn1OXNCAADAXkg6c0IAAIDEmjpzQgAAQCrtOnNCAAAAkD87c0IAAMD1kTtzQgAAgFvkO3NCAABAwTY8c0IAAAAniTxzQgAAwIzbPHNCAACA8i09c0IAAEBYgD1zQgAAAL7SPXNCAADAIyU+c0IAAICJdz5zQgAAQO/JPnNCAAAAVRw/c0IAAMC6bj9zQgAAgCDBP3NCAABAhhNAc0IAAADsZUBzQgAAwFG4QHNCAACAtwpBc0IAAEAdXUFzQgAAAIOvQXNCAADA6AFCc0IAAIBOVEJzQgAAQLSmQnNCAAAAGvlCc0IAAMB/S0NzQgAAgOWdQ3NCAABAS/BDc0IAAACxQkRzQgAAwBaVRHNCAACAfOdEc0IAAEDiOUVzQgAAAEiMRXNCAADArd5Fc0IAAIATMUZzQgAAQHmDRnNCAAAA39VGc0IAAMBEKEdzQgAAgKp6R3NCAABAEM1Hc0IAAAB2H0hzQgAAwNtxSHNCAACAQcRIc0IAAECnFklzQgAAAA1pSXNCAADAcrtJc0IAAIDYDUpzQgAAQD5gSnNCAAAApLJKc0IAAMAJBUtzQgAAgG9XS3NCAABA1alLc0IAAAA7/EtzQgAAwKBOTHNCAACABqFMc0IAAEBs80xzQgAAANJFTXNCAADAN5hNc0IAAICd6k1zQgAAQAM9TnNCAAAAaY9Oc0IAAMDO4U5zQgAAgDQ0T3NCAABAmoZPc0IAAAAA2U9zQgAAwGUrUHNCAACAy31Qc0IAAEAx0FBzQgAAAJciUXNCAADA/HRRc0IAAIBix1FzQgAAQMgZUnNCAAAALmxSc0IAAMCTvlJzQgAAgPkQU3NCAABAX2NTc0IAAADFtVNzQgAAwCoIVHNCAACAkFpUc0IAAED2rFRzQgAAAFz/VHNCAADAwVFVc0IAAIAnpFVzQgAAQI32VXNCAAAA80hWc0IAAMBYm1ZzQgAAgL7tVnNCAABAJEBXc0IAAACKkldzQgAAwO/kV3NCAACAVTdYc0IAAEC7iVhzQgAAACHcWHNCAADAhi5Zc0IAAIDsgFlzQgAAQFLTWXNCAAAAuCVac0IAAMAdeFpzQgAAgIPKWnNCAABA6Rxbc0IAAABPb1tzQgAAwLTBW3NCAACAGhRcc0IAAECAZlxzQgAAAOa4XHNCAADASwtdc0IAAICxXV1zQgAAQBewXXNCAAAAfQJec0IAAMDiVF5zQgAAgEinXnNCAABArvlec0IAAAAUTF9zQgAAwHmeX3NCAACA3/Bfc0IAAEBFQ2BzQgAAAKuVYHNCAADAEOhgc0IAAIB2OmFzQgAAQNyMYXNCAAAAQt9hc0IAAMCnMWJzQgAAgA2EYnNCAABAc9Zic0IAAADZKGNzQgAAwD57Y3NCAACApM1jc0IAAEAKIGRzQgAAAHByZHNCAADA1cRkc0IAAIA7F2VzQgAAQKFpZXNCAAAAB7xlc0IAAMBsDmZzQgAAgNJgZnNCAABAOLNmc0IAAACeBWdzQgAAwANYZ3NCAACAaapnc0IAAEDP/GdzQgAAADVPaHNCAADAmqFoc0IAAIAA9GhzQgAAQGZGaXNCAAAAzJhpc0IAAMAx62lzQgAAgJc9anNCAABA/Y9qc0IAAABj4mpzQgAAwMg0a3NCAACALodrc0IAAECU2WtzQgAAAPorbHNCAADAX35sc0IAAIDF0GxzQgAAQCsjbXNCAAAAkXVtc0IAAMD2x21zQgAAgFwabnNCAABAwmxuc0IAAAAov25zQgAAwI0Rb3NCAACA82Nvc0IAAEBZtm9zQgAAAL8IcHNCAADAJFtwc0IAAICKrXBzQgAAQPD/cHNCAAAAVlJxc0IAAMC7pHFzQgAAgCH3cXNCAABAh0lyc0IAAADtm3JzQgAAwFLucnNCAACAuEBzc0IAAEAek3NzQgAAAITlc3NCAADA6Td0c0IAAIBPinRzQgAAQLXcdHNCAAAAGy91c0IAAMCAgXVzQgAAgObTdXNCAABATCZ2c0IAAACyeHZzQgAAwBfLdnNCAACAfR13c0IAAEDjb3dzQgAAAEnCd3NCAADArhR4c0IAAIAUZ3hzQgAAQHq5eHNCAAAA4At5c0IAAMBFXnlzQgAAgKuweXNCAABAEQN6c0IAAAB3VXpzQgAAwNynenNCAACAQvp6c0IAAECoTHtzQgAAAA6fe3NCAADAc/F7c0IAAIDZQ3xzQgAAQD+WfHNCAAAApeh8c0IAAMAKO31zQgAAgHCNfXNCAABA1t99c0IAAAA8Mn5zQgAAwKGEfnNCAACAB9d+c0IAAEBtKX9zQgAAANN7f3NCAADAOM5/c0IAAICeIIBzQgAAQARzgHNCAAAAasWAc0IAAMDPF4FzQgAAgDVqgXNCAABAm7yBc0IAAAABD4JzQgAAwGZhgnNCAACAzLOCc0IAAEAyBoNzQgAAAJhYg3NCAADA/aqDc0IAAIBj/YNzQgAAQMlPhHNCAAAAL6KEc0IAAMCU9IRzQgAAgPpGhXNCAABAYJmFc0IAAADG64VzQgAAwCs+hnNCAACAkZCGc0IAAED34oZzQgAAAF01h3NCAADAwoeHc0IAAIAo2odzQgAAQI4siHNCAAAA9H6Ic0IAAMBZ0YhzQgAAgL8jiXNCAABAJXaJc0IAAACLyIlzQgAAwPAainNCAACAVm2Kc0IAAEC8v4pzQgAAACISi3NCAADAh2SLc0IAAIDttotzQgAAQFMJjHNCAAAAuVuMc0IAAMAeroxzQgAAgIQAjXNCAABA6lKNc0IAAABQpY1zQgAAwLX3jXNCAACAG0qOc0IAAECBnI5zQgAAAOfujnNCAADATEGPc0IAAICyk49zQgAAQBjmj3NCAAAAfjiQc0IAAMDjipBzQgAAgEndkHNCAABAry+Rc0IAAAAVgpFzQgAAwHrUkXNCAACA4CaSc0IAAEBGeZJzQgAAAKzLknNCAADAER6Tc0IAAIB3cJNzQgAAQN3Ck3NCAAAAQxWUc0IAAMCoZ5RzQgAAgA66lHNCAABAdAyVc0IAAADaXpVzQgAAwD+xlXNCAACApQOWc0IAAEALVpZzQgAAAHGolnNCAADA1vqWc0IAAIA8TZdzQgAAQKKfl3NCAAAACPKXc0IAAMBtRJhzQgAAgNOWmHNCAABAOemYc0IAAACfO5lzQgAAwASOmXNCAACAauCZc0IAAEDQMppzQgAAADaFmnNCAADAm9eac0IAAIABKptzQgAAQGd8m3NCAAAAzc6bc0IAAMAyIZxzQgAAgJhznHNCAABA/sWcc0IAAABkGJ1zQgAAwMlqnXNCAACAL72dc0IAAECVD55zQgAAAPthnnNCAADAYLSec0IAAIDGBp9zQgAAQCxZn3NCAAAAkqufc0IAAMD3/Z9zQgAAgF1QoHNCAABAw6Kgc0IAAAAp9aBzQgAAwI5HoXNC\"},\"shape\":[366],\"dtype\":\"float64\",\"order\":\"little\"}],[\"y\",{\"type\":\"ndarray\",\"array\":{\"type\":\"bytes\",\"data\":\"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\"},\"shape\":[366],\"dtype\":\"float64\",\"order\":\"little\"}]]}}},\"view\":{\"type\":\"object\",\"name\":\"CDSView\",\"id\":\"p1246\",\"attributes\":{\"filter\":{\"type\":\"object\",\"name\":\"AllIndices\",\"id\":\"p1247\"}}},\"glyph\":{\"type\":\"object\",\"name\":\"Line\",\"id\":\"p1242\",\"attributes\":{\"x\":{\"type\":\"field\",\"field\":\"x\"},\"y\":{\"type\":\"field\",\"field\":\"y\"},\"line_color\":\"#2ca02c\"}},\"nonselection_glyph\":{\"type\":\"object\",\"name\":\"Line\",\"id\":\"p1243\",\"attributes\":{\"x\":{\"type\":\"field\",\"field\":\"x\"},\"y\":{\"type\":\"field\",\"field\":\"y\"},\"line_color\":\"#2ca02c\",\"line_alpha\":0.1}},\"muted_glyph\":{\"type\":\"object\",\"name\":\"Line\",\"id\":\"p1244\",\"attributes\":{\"x\":{\"type\":\"field\",\"field\":\"x\"},\"y\":{\"type\":\"field\",\"field\":\"y\"},\"line_color\":\"#2ca02c\",\"line_alpha\":0.2}}}}],\"toolbar\":{\"type\":\"object\",\"name\":\"Toolbar\",\"id\":\"p1203\",\"attributes\":{\"tools\":[{\"type\":\"object\",\"name\":\"PanTool\",\"id\":\"p1228\"},{\"type\":\"object\",\"name\":\"WheelZoomTool\",\"id\":\"p1229\",\"attributes\":{\"renderers\":\"auto\"}},{\"type\":\"object\",\"name\":\"BoxZoomTool\",\"id\":\"p1230\",\"attributes\":{\"overlay\":{\"type\":\"object\",\"name\":\"BoxAnnotation\",\"id\":\"p1231\",\"attributes\":{\"syncable\":false,\"level\":\"overlay\",\"visible\":false,\"left\":{\"type\":\"number\",\"value\":\"nan\"},\"right\":{\"type\":\"number\",\"value\":\"nan\"},\"top\":{\"type\":\"number\",\"value\":\"nan\"},\"bottom\":{\"type\":\"number\",\"value\":\"nan\"},\"left_units\":\"canvas\",\"right_units\":\"canvas\",\"top_units\":\"canvas\",\"bottom_units\":\"canvas\",\"line_color\":\"black\",\"line_alpha\":1.0,\"line_width\":2,\"line_dash\":[4,4],\"fill_color\":\"lightgrey\",\"fill_alpha\":0.5}}}},{\"type\":\"object\",\"name\":\"SaveTool\",\"id\":\"p1236\"},{\"type\":\"object\",\"name\":\"ResetTool\",\"id\":\"p1237\"},{\"type\":\"object\",\"name\":\"HelpTool\",\"id\":\"p1238\"}]}},\"left\":[{\"type\":\"object\",\"name\":\"LinearAxis\",\"id\":\"p1223\",\"attributes\":{\"ticker\":{\"type\":\"object\",\"name\":\"BasicTicker\",\"id\":\"p1224\",\"attributes\":{\"mantissas\":[1,2,5]}},\"formatter\":{\"type\":\"object\",\"name\":\"BasicTickFormatter\",\"id\":\"p1225\"},\"axis_label\":\"Temperature[F\\u00b0]\",\"major_label_policy\":{\"type\":\"object\",\"name\":\"AllLabels\",\"id\":\"p1226\"}}}],\"below\":[{\"type\":\"object\",\"name\":\"DatetimeAxis\",\"id\":\"p1206\",\"attributes\":{\"ticker\":{\"type\":\"object\",\"name\":\"DatetimeTicker\",\"id\":\"p1207\",\"attributes\":{\"num_minor_ticks\":5,\"tickers\":[{\"type\":\"object\",\"name\":\"AdaptiveTicker\",\"id\":\"p1208\",\"attributes\":{\"num_minor_ticks\":0,\"mantissas\":[1,2,5],\"max_interval\":500.0}},{\"type\":\"object\",\"name\":\"AdaptiveTicker\",\"id\":\"p1209\",\"attributes\":{\"num_minor_ticks\":0,\"base\":60,\"mantissas\":[1,2,5,10,15,20,30],\"min_interval\":1000.0,\"max_interval\":1800000.0}},{\"type\":\"object\",\"name\":\"AdaptiveTicker\",\"id\":\"p1210\",\"attributes\":{\"num_minor_ticks\":0,\"base\":24,\"mantissas\":[1,2,4,6,8,12],\"min_interval\":3600000.0,\"max_interval\":43200000.0}},{\"type\":\"object\",\"name\":\"DaysTicker\",\"id\":\"p1211\",\"attributes\":{\"days\":[1,2,3,4,5,6,7,8,9,10,11,12,13,14,15,16,17,18,19,20,21,22,23,24,25,26,27,28,29,30,31]}},{\"type\":\"object\",\"name\":\"DaysTicker\",\"id\":\"p1212\",\"attributes\":{\"days\":[1,4,7,10,13,16,19,22,25,28]}},{\"type\":\"object\",\"name\":\"DaysTicker\",\"id\":\"p1213\",\"attributes\":{\"days\":[1,8,15,22]}},{\"type\":\"object\",\"name\":\"DaysTicker\",\"id\":\"p1214\",\"attributes\":{\"days\":[1,15]}},{\"type\":\"object\",\"name\":\"MonthsTicker\",\"id\":\"p1215\",\"attributes\":{\"months\":[0,1,2,3,4,5,6,7,8,9,10,11]}},{\"type\":\"object\",\"name\":\"MonthsTicker\",\"id\":\"p1216\",\"attributes\":{\"months\":[0,2,4,6,8,10]}},{\"type\":\"object\",\"name\":\"MonthsTicker\",\"id\":\"p1217\",\"attributes\":{\"months\":[0,4,8]}},{\"type\":\"object\",\"name\":\"MonthsTicker\",\"id\":\"p1218\",\"attributes\":{\"months\":[0,6]}},{\"type\":\"object\",\"name\":\"YearsTicker\",\"id\":\"p1219\"}]}},\"formatter\":{\"type\":\"object\",\"name\":\"DatetimeTickFormatter\",\"id\":\"p1248\",\"attributes\":{\"months\":\"%Y/%m\",\"years\":\"%Y/%m\"}},\"axis_label\":\"date\",\"major_label_policy\":{\"type\":\"object\",\"name\":\"AllLabels\",\"id\":\"p1221\"}}}],\"center\":[{\"type\":\"object\",\"name\":\"Grid\",\"id\":\"p1222\",\"attributes\":{\"axis\":{\"id\":\"p1206\"}}},{\"type\":\"object\",\"name\":\"Grid\",\"id\":\"p1227\",\"attributes\":{\"dimension\":1,\"axis\":{\"id\":\"p1223\"}}}]}}]}}]}};\n  const render_items = [{\"docid\":\"70548ae1-73d3-49d0-8a59-f90d59c53a8f\",\"roots\":{\"p1249\":\"ed4b4813-223d-43a0-b47e-a2d81def9169\"},\"root_ids\":[\"p1249\"]}];\n  root.Bokeh.embed.embed_items_notebook(docs_json, render_items);\n  }\n  if (root.Bokeh !== undefined) {\n    embed_document(root);\n  } else {\n    let attempts = 0;\n    const timer = setInterval(function(root) {\n      if (root.Bokeh !== undefined) {\n        clearInterval(timer);\n        embed_document(root);\n      } else {\n        attempts++;\n        if (attempts > 100) {\n          clearInterval(timer);\n          console.log(\"Bokeh: ERROR: Unable to run BokehJS code because BokehJS library is missing\");\n        }\n      }\n    }, 10, root)\n  }\n})(window);",
      "application/vnd.bokehjs_exec.v0+json": ""
     },
     "metadata": {
      "application/vnd.bokehjs_exec.v0+json": {
       "id": "p1249"
      }
     },
     "output_type": "display_data"
    }
   ],
   "source": [
    "colors = palettes.Category10[3]\n",
    "x_format = \"%Y/%m\"\n",
    "p_list = []\n",
    "\n",
    "for i, city_name in enumerate(df.columns):\n",
    "    p = figure(\n",
    "        width=700,\n",
    "        height=300,\n",
    "        x_axis_type = \"datetime\",\n",
    "        title=city_name\n",
    "        )\n",
    "    p.line(\n",
    "        x = df.index.to_numpy(),\n",
    "        y = df.loc[:, city_name],\n",
    "        line_color=colors[i]\n",
    "        )\n",
    "    p.xaxis.formatter = DatetimeTickFormatter(\n",
    "        months=x_format,\n",
    "        years=x_format\n",
    "    )\n",
    "    p.xaxis.axis_label = \"date\"\n",
    "    p.yaxis.axis_label = \"Temperature[F°]\"\n",
    "    p_list.append(p)\n",
    "\n",
    "\n",
    "show(column(p_list))"
   ]
  },
  {
   "attachments": {},
   "cell_type": "markdown",
   "metadata": {},
   "source": [
    "# 散布図\n",
    "2つの数値を座標として捉えたときのデータの偏りを調べる方法。1つの系列が自国の場合はX軸を時刻に割り当てる場合が多い。3つめの数値があるときは点の代償などで大小を表現することができる。ただし、見る人が対象となるラベルを見つけなければならないため、折れ線グラフや時系列ヒートマップのように時間的な数値の増減を表現するのは苦手。あくまで、「どこに偏りがあるか？」を見るのに使う。<br>\n",
    "データはボストンの住宅価格データセットを用いた。\n",
    "- CRIM： 町別の「犯罪率」\n",
    "- ZN： 25,000平方フィートを超える区画に分類される住宅地の割合＝「広い家の割合」\n",
    "- INDUS： 町別の「非小売業の割合」\n",
    "- CHAS： チャールズ川のダミー変数（区画が川に接している場合は1、そうでない場合は0）＝「川の隣か」\n",
    "- NOX： 「NOx濃度（0.1ppm単位）」＝一酸化窒素濃度（parts per 10 million単位）。この項目を目的変数とする場合もある\n",
    "- RM： 1戸当たりの「平均部屋数」\n",
    "- AGE： 1940年より前に建てられた持ち家の割合＝「古い家の割合」\n",
    "- DIS： 5つあるボストン雇用センターまでの加重距離＝「主要施設への距離」\n",
    "- RAD： 「主要高速道路へのアクセス性」の指数\n",
    "- TAX： 10,000ドル当たりの「固定資産税率」\n",
    "- PTRATIO： 町別の「生徒と先生の比率」\n",
    "- B： 「1000(Bk - 0.63)」の二乗値。Bk＝「町ごとの黒人の割合」を指す\n",
    "- LSTAT： 「低所得者人口の割合」\n",
    "- MEDV：「住宅価格」（1000ドル単位）の中央値。通常はこの数値が目的変数として使われる"
   ]
  },
  {
   "cell_type": "code",
   "execution_count": 8,
   "metadata": {},
   "outputs": [
    {
     "data": {
      "text/html": [
       "<div>\n",
       "<style scoped>\n",
       "    .dataframe tbody tr th:only-of-type {\n",
       "        vertical-align: middle;\n",
       "    }\n",
       "\n",
       "    .dataframe tbody tr th {\n",
       "        vertical-align: top;\n",
       "    }\n",
       "\n",
       "    .dataframe thead th {\n",
       "        text-align: right;\n",
       "    }\n",
       "</style>\n",
       "<table border=\"1\" class=\"dataframe\">\n",
       "  <thead>\n",
       "    <tr style=\"text-align: right;\">\n",
       "      <th></th>\n",
       "      <th>crim</th>\n",
       "      <th>zn</th>\n",
       "      <th>indus</th>\n",
       "      <th>chas</th>\n",
       "      <th>nox</th>\n",
       "      <th>rm</th>\n",
       "      <th>age</th>\n",
       "      <th>dis</th>\n",
       "      <th>rad</th>\n",
       "      <th>tax</th>\n",
       "      <th>ptratio</th>\n",
       "      <th>b</th>\n",
       "      <th>lstat</th>\n",
       "      <th>medv</th>\n",
       "    </tr>\n",
       "  </thead>\n",
       "  <tbody>\n",
       "    <tr>\n",
       "      <th>0</th>\n",
       "      <td>0.00632</td>\n",
       "      <td>18.0</td>\n",
       "      <td>2.31</td>\n",
       "      <td>0</td>\n",
       "      <td>0.538</td>\n",
       "      <td>6.575</td>\n",
       "      <td>65.2</td>\n",
       "      <td>4.0900</td>\n",
       "      <td>1</td>\n",
       "      <td>296</td>\n",
       "      <td>15.3</td>\n",
       "      <td>396.90</td>\n",
       "      <td>4.98</td>\n",
       "      <td>24.0</td>\n",
       "    </tr>\n",
       "    <tr>\n",
       "      <th>1</th>\n",
       "      <td>0.02731</td>\n",
       "      <td>0.0</td>\n",
       "      <td>7.07</td>\n",
       "      <td>0</td>\n",
       "      <td>0.469</td>\n",
       "      <td>6.421</td>\n",
       "      <td>78.9</td>\n",
       "      <td>4.9671</td>\n",
       "      <td>2</td>\n",
       "      <td>242</td>\n",
       "      <td>17.8</td>\n",
       "      <td>396.90</td>\n",
       "      <td>9.14</td>\n",
       "      <td>21.6</td>\n",
       "    </tr>\n",
       "    <tr>\n",
       "      <th>2</th>\n",
       "      <td>0.02729</td>\n",
       "      <td>0.0</td>\n",
       "      <td>7.07</td>\n",
       "      <td>0</td>\n",
       "      <td>0.469</td>\n",
       "      <td>7.185</td>\n",
       "      <td>61.1</td>\n",
       "      <td>4.9671</td>\n",
       "      <td>2</td>\n",
       "      <td>242</td>\n",
       "      <td>17.8</td>\n",
       "      <td>392.83</td>\n",
       "      <td>4.03</td>\n",
       "      <td>34.7</td>\n",
       "    </tr>\n",
       "    <tr>\n",
       "      <th>3</th>\n",
       "      <td>0.03237</td>\n",
       "      <td>0.0</td>\n",
       "      <td>2.18</td>\n",
       "      <td>0</td>\n",
       "      <td>0.458</td>\n",
       "      <td>6.998</td>\n",
       "      <td>45.8</td>\n",
       "      <td>6.0622</td>\n",
       "      <td>3</td>\n",
       "      <td>222</td>\n",
       "      <td>18.7</td>\n",
       "      <td>394.63</td>\n",
       "      <td>2.94</td>\n",
       "      <td>33.4</td>\n",
       "    </tr>\n",
       "    <tr>\n",
       "      <th>4</th>\n",
       "      <td>0.06905</td>\n",
       "      <td>0.0</td>\n",
       "      <td>2.18</td>\n",
       "      <td>0</td>\n",
       "      <td>0.458</td>\n",
       "      <td>7.147</td>\n",
       "      <td>54.2</td>\n",
       "      <td>6.0622</td>\n",
       "      <td>3</td>\n",
       "      <td>222</td>\n",
       "      <td>18.7</td>\n",
       "      <td>396.90</td>\n",
       "      <td>5.33</td>\n",
       "      <td>36.2</td>\n",
       "    </tr>\n",
       "  </tbody>\n",
       "</table>\n",
       "</div>"
      ],
      "text/plain": [
       "      crim    zn  indus  chas    nox     rm   age     dis  rad  tax  ptratio  \\\n",
       "0  0.00632  18.0   2.31     0  0.538  6.575  65.2  4.0900    1  296     15.3   \n",
       "1  0.02731   0.0   7.07     0  0.469  6.421  78.9  4.9671    2  242     17.8   \n",
       "2  0.02729   0.0   7.07     0  0.469  7.185  61.1  4.9671    2  242     17.8   \n",
       "3  0.03237   0.0   2.18     0  0.458  6.998  45.8  6.0622    3  222     18.7   \n",
       "4  0.06905   0.0   2.18     0  0.458  7.147  54.2  6.0622    3  222     18.7   \n",
       "\n",
       "        b  lstat  medv  \n",
       "0  396.90   4.98  24.0  \n",
       "1  396.90   9.14  21.6  \n",
       "2  392.83   4.03  34.7  \n",
       "3  394.63   2.94  33.4  \n",
       "4  396.90   5.33  36.2  "
      ]
     },
     "execution_count": 8,
     "metadata": {},
     "output_type": "execute_result"
    }
   ],
   "source": [
    "scatter_df = pd.read_csv('../data/scatter.csv')\n",
    "# その地域の住宅の平均部屋数と低所得者数から住宅価格との関連性を確認する\n",
    "scatter_df.head()"
   ]
  },
  {
   "cell_type": "code",
   "execution_count": 9,
   "metadata": {},
   "outputs": [
    {
     "data": {
      "text/html": [
       "\n",
       "  <div id=\"b4c2828a-5e05-4db5-a09b-9365f310e403\" data-root-id=\"p1256\" style=\"display: contents;\"></div>\n"
      ]
     },
     "metadata": {},
     "output_type": "display_data"
    },
    {
     "data": {
      "application/javascript": "(function(root) {\n  function embed_document(root) {\n  const docs_json = {\"ea5f99e6-d1ce-41e1-b1ac-ac88546c5997\":{\"version\":\"3.3.2\",\"title\":\"Bokeh Application\",\"roots\":[{\"type\":\"object\",\"name\":\"Figure\",\"id\":\"p1256\",\"attributes\":{\"width\":700,\"height\":400,\"x_range\":{\"type\":\"object\",\"name\":\"DataRange1d\",\"id\":\"p1257\"},\"y_range\":{\"type\":\"object\",\"name\":\"DataRange1d\",\"id\":\"p1258\"},\"x_scale\":{\"type\":\"object\",\"name\":\"LinearScale\",\"id\":\"p1266\"},\"y_scale\":{\"type\":\"object\",\"name\":\"LinearScale\",\"id\":\"p1267\"},\"title\":{\"type\":\"object\",\"name\":\"Title\",\"id\":\"p1259\",\"attributes\":{\"text\":\"Boston House Price\"}},\"renderers\":[{\"type\":\"object\",\"name\":\"GlyphRenderer\",\"id\":\"p1301\",\"attributes\":{\"data_source\":{\"type\":\"object\",\"name\":\"ColumnDataSource\",\"id\":\"p1289\",\"attributes\":{\"selected\":{\"type\":\"object\",\"name\":\"Selection\",\"id\":\"p1290\",\"attributes\":{\"indices\":[],\"line_indices\":[]}},\"selection_policy\":{\"type\":\"object\",\"name\":\"UnionRenderers\",\"id\":\"p1291\"},\"data\":{\"type\":\"map\",\"entries\":[[\"x\",{\"type\":\"ndarray\",\"array\":{\"type\":\"bytes\",\"data\":\"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\"},\"shape\":[506],\"dtype\":\"float64\",\"order\":\"little\"}],[\"y\",{\"type\":\"ndarray\",\"array\":{\"type\":\"bytes\",\"data\":\"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\"},\"shape\":[506],\"dtype\":\"float64\",\"order\":\"little\"}],[\"c\",{\"type\":\"ndarray\",\"array\":{\"type\":\"bytes\",\"data\":\"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\"},\"shape\":[506],\"dtype\":\"float64\",\"order\":\"little\"}],[\"s\",{\"type\":\"ndarray\",\"array\":{\"type\":\"bytes\",\"data\":\"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\"},\"shape\":[506],\"dtype\":\"float64\",\"order\":\"little\"}]]}}},\"view\":{\"type\":\"object\",\"name\":\"CDSView\",\"id\":\"p1302\",\"attributes\":{\"filter\":{\"type\":\"object\",\"name\":\"AllIndices\",\"id\":\"p1303\"}}},\"glyph\":{\"type\":\"object\",\"name\":\"Scatter\",\"id\":\"p1298\",\"attributes\":{\"x\":{\"type\":\"field\",\"field\":\"x\"},\"y\":{\"type\":\"field\",\"field\":\"y\"},\"size\":{\"type\":\"field\",\"field\":\"s\"},\"line_color\":{\"type\":\"value\",\"value\":\"#1f77b4\"},\"fill_color\":{\"type\":\"field\",\"field\":\"c\",\"transform\":{\"type\":\"object\",\"name\":\"LinearColorMapper\",\"id\":\"p1292\",\"attributes\":{\"palette\":[\"#FCFEA4\",\"#F7FB99\",\"#F4F78D\",\"#F2F485\",\"#F1F079\",\"#F1ED70\",\"#F1E864\",\"#F3E259\",\"#F3DE52\",\"#F5D948\",\"#F6D542\",\"#F7CF3A\",\"#F8CB34\",\"#F9C52C\",\"#FABF25\",\"#FABB21\",\"#FBB51A\",\"#FBB116\",\"#FBAC10\",\"#FBA80D\",\"#FBA208\",\"#FB9D06\",\"#FB9906\",\"#FA9306\",\"#F99008\",\"#F88A0B\",\"#F8870D\",\"#F68111\",\"#F57C15\",\"#F37918\",\"#F2741C\",\"#F0701E\",\"#EE6C22\",\"#ED6825\",\"#EA6428\",\"#E75F2C\",\"#E65C2E\",\"#E35832\",\"#E05634\",\"#DD5238\",\"#DA4E3B\",\"#D74B3E\",\"#D44841\",\"#D14643\",\"#CD4247\",\"#CB4049\",\"#C73E4C\",\"#C23B4F\",\"#BF3951\",\"#BB3754\",\"#B83556\",\"#B43358\",\"#B1315A\",\"#AC2F5C\",\"#A72D5F\",\"#A42C60\",\"#A02A62\",\"#9C2963\",\"#982765\",\"#952666\",\"#902468\",\"#8B2269\",\"#88216A\",\"#83206B\",\"#801F6B\",\"#7B1D6C\",\"#781C6D\",\"#731A6D\",\"#6E186E\",\"#6B176E\",\"#66156E\",\"#63146E\",\"#5F126E\",\"#5A116D\",\"#570F6D\",\"#520E6C\",\"#4F0D6C\",\"#4A0B6A\",\"#460A69\",\"#410967\",\"#3C0965\",\"#390962\",\"#34095F\",\"#300A5C\",\"#2B0A56\",\"#270B52\",\"#220B4C\",\"#1D0C45\",\"#1A0B40\",\"#160B39\",\"#130A34\",\"#0F092D\",\"#0D0828\",\"#090621\",\"#06041B\",\"#040316\",\"#020210\",\"#01010B\",\"#000006\",\"#000003\"],\"low\":0,\"high\":50.0}}}}},\"nonselection_glyph\":{\"type\":\"object\",\"name\":\"Scatter\",\"id\":\"p1299\",\"attributes\":{\"x\":{\"type\":\"field\",\"field\":\"x\"},\"y\":{\"type\":\"field\",\"field\":\"y\"},\"size\":{\"type\":\"field\",\"field\":\"s\"},\"line_color\":{\"type\":\"value\",\"value\":\"#1f77b4\"},\"line_alpha\":{\"type\":\"value\",\"value\":0.1},\"fill_color\":{\"type\":\"field\",\"field\":\"c\",\"transform\":{\"id\":\"p1292\"}},\"fill_alpha\":{\"type\":\"value\",\"value\":0.1},\"hatch_alpha\":{\"type\":\"value\",\"value\":0.1}}},\"muted_glyph\":{\"type\":\"object\",\"name\":\"Scatter\",\"id\":\"p1300\",\"attributes\":{\"x\":{\"type\":\"field\",\"field\":\"x\"},\"y\":{\"type\":\"field\",\"field\":\"y\"},\"size\":{\"type\":\"field\",\"field\":\"s\"},\"line_color\":{\"type\":\"value\",\"value\":\"#1f77b4\"},\"line_alpha\":{\"type\":\"value\",\"value\":0.2},\"fill_color\":{\"type\":\"field\",\"field\":\"c\",\"transform\":{\"id\":\"p1292\"}},\"fill_alpha\":{\"type\":\"value\",\"value\":0.2},\"hatch_alpha\":{\"type\":\"value\",\"value\":0.2}}}}}],\"toolbar\":{\"type\":\"object\",\"name\":\"Toolbar\",\"id\":\"p1265\",\"attributes\":{\"tools\":[{\"type\":\"object\",\"name\":\"PanTool\",\"id\":\"p1278\"},{\"type\":\"object\",\"name\":\"WheelZoomTool\",\"id\":\"p1279\",\"attributes\":{\"renderers\":\"auto\"}},{\"type\":\"object\",\"name\":\"BoxZoomTool\",\"id\":\"p1280\",\"attributes\":{\"overlay\":{\"type\":\"object\",\"name\":\"BoxAnnotation\",\"id\":\"p1281\",\"attributes\":{\"syncable\":false,\"level\":\"overlay\",\"visible\":false,\"left\":{\"type\":\"number\",\"value\":\"nan\"},\"right\":{\"type\":\"number\",\"value\":\"nan\"},\"top\":{\"type\":\"number\",\"value\":\"nan\"},\"bottom\":{\"type\":\"number\",\"value\":\"nan\"},\"left_units\":\"canvas\",\"right_units\":\"canvas\",\"top_units\":\"canvas\",\"bottom_units\":\"canvas\",\"line_color\":\"black\",\"line_alpha\":1.0,\"line_width\":2,\"line_dash\":[4,4],\"fill_color\":\"lightgrey\",\"fill_alpha\":0.5}}}},{\"type\":\"object\",\"name\":\"SaveTool\",\"id\":\"p1286\"},{\"type\":\"object\",\"name\":\"ResetTool\",\"id\":\"p1287\"},{\"type\":\"object\",\"name\":\"HelpTool\",\"id\":\"p1288\"}]}},\"left\":[{\"type\":\"object\",\"name\":\"LinearAxis\",\"id\":\"p1273\",\"attributes\":{\"ticker\":{\"type\":\"object\",\"name\":\"BasicTicker\",\"id\":\"p1274\",\"attributes\":{\"mantissas\":[1,2,5]}},\"formatter\":{\"type\":\"object\",\"name\":\"BasicTickFormatter\",\"id\":\"p1275\"},\"axis_label\":\"Tlower status of the population\",\"major_label_policy\":{\"type\":\"object\",\"name\":\"AllLabels\",\"id\":\"p1276\"}}}],\"below\":[{\"type\":\"object\",\"name\":\"LinearAxis\",\"id\":\"p1268\",\"attributes\":{\"ticker\":{\"type\":\"object\",\"name\":\"BasicTicker\",\"id\":\"p1269\",\"attributes\":{\"mantissas\":[1,2,5]}},\"formatter\":{\"type\":\"object\",\"name\":\"BasicTickFormatter\",\"id\":\"p1270\"},\"axis_label\":\"average number of rooms per dweling\",\"major_label_policy\":{\"type\":\"object\",\"name\":\"AllLabels\",\"id\":\"p1271\"}}},{\"type\":\"object\",\"name\":\"ColorBar\",\"id\":\"p1293\",\"attributes\":{\"location\":[0,0],\"orientation\":\"horizontal\",\"height\":20,\"width\":550,\"major_label_policy\":{\"type\":\"object\",\"name\":\"NoOverlap\",\"id\":\"p1294\"},\"major_tick_line_color\":\"black\",\"bar_line_color\":\"black\",\"color_mapper\":{\"id\":\"p1292\"}}}],\"center\":[{\"type\":\"object\",\"name\":\"Grid\",\"id\":\"p1272\",\"attributes\":{\"axis\":{\"id\":\"p1268\"}}},{\"type\":\"object\",\"name\":\"Grid\",\"id\":\"p1277\",\"attributes\":{\"dimension\":1,\"axis\":{\"id\":\"p1273\"}}}]}}]}};\n  const render_items = [{\"docid\":\"ea5f99e6-d1ce-41e1-b1ac-ac88546c5997\",\"roots\":{\"p1256\":\"b4c2828a-5e05-4db5-a09b-9365f310e403\"},\"root_ids\":[\"p1256\"]}];\n  root.Bokeh.embed.embed_items_notebook(docs_json, render_items);\n  }\n  if (root.Bokeh !== undefined) {\n    embed_document(root);\n  } else {\n    let attempts = 0;\n    const timer = setInterval(function(root) {\n      if (root.Bokeh !== undefined) {\n        clearInterval(timer);\n        embed_document(root);\n      } else {\n        attempts++;\n        if (attempts > 100) {\n          clearInterval(timer);\n          console.log(\"Bokeh: ERROR: Unable to run BokehJS code because BokehJS library is missing\");\n        }\n      }\n    }, 10, root)\n  }\n})(window);",
      "application/vnd.bokehjs_exec.v0+json": ""
     },
     "metadata": {
      "application/vnd.bokehjs_exec.v0+json": {
       "id": "p1256"
      }
     },
     "output_type": "display_data"
    }
   ],
   "source": [
    "p = figure(\n",
    "    width=700,\n",
    "    height=400,\n",
    "    title=\"Boston House Price\")\n",
    "\n",
    "src = ColumnDataSource(dict(\n",
    "    x=scatter_df.loc[:, \"rm\"],\n",
    "    y=scatter_df.loc[:, \"lstat\"],\n",
    "    c=scatter_df.loc[:, \"medv\"],\n",
    "    s=scatter_df.loc[:, \"medv\"]**0.6\n",
    "    ))\n",
    "\n",
    "color_range = 100\n",
    "target = \"medv\"\n",
    "colors = palettes.inferno(color_range)[::-1]\n",
    "\n",
    "color_mapper = LinearColorMapper(\n",
    "    palette=colors,\n",
    "    # low=df.loc[:, target].min(),\n",
    "    low=0,\n",
    "    high=scatter_df.loc[:, target].max())\n",
    "\n",
    "color_bar = ColorBar(\n",
    "    color_mapper=color_mapper,\n",
    "    width=550,\n",
    "    height=20,\n",
    "    location=(0, 0),\n",
    "    orientation=\"horizontal\",\n",
    "    bar_line_color=\"black\",\n",
    "    major_tick_line_color=\"black\")\n",
    "\n",
    "p.scatter(\n",
    "    x=\"x\", y=\"y\", size = \"s\",\n",
    "    marker=\"circle\",\n",
    "    fill_color = transform(\"c\", color_mapper),\n",
    "    source = src)\n",
    "\n",
    "p.xaxis.axis_label = \"average number of rooms per dweling\"\n",
    "p.yaxis.axis_label = \"Tlower status of the population\"\n",
    "p.add_layout(color_bar, \"below\")\n",
    "\n",
    "show(p)"
   ]
  },
  {
   "attachments": {},
   "cell_type": "markdown",
   "metadata": {},
   "source": [
    "# ヒートマップ\n",
    "数値2つを座標として、3つ目の数値をその座標の色を決定するために使うことで、全体の数値のバラつきや、高い・低い値の集中しているエリアを知ることができる。数値の代わりに時刻にすることもできなくはないが、あまりそういうグラフは見たことがない。<br>\n",
    "データはhttps://github.com/mwaskom/seaborn-../data/blob/master/flights.csv からのもので、各年の各月における飛行機の乗客数"
   ]
  },
  {
   "attachments": {},
   "cell_type": "markdown",
   "metadata": {},
   "source": [
    "# 積み重ね棒グラフ/集合棒グラフ\n",
    "2つのラベルと1つの数値があったときに、これらの数値の大小を比較する方法。2つ以上のラベルをうまく表現できる数少ない方法だと思うが、データ数（≒2つのラベルの組み合わせ数）が50を超えたぐらいから図が煩雑になって読み取りが難しくなってしまう。<br>\n",
    "データはhttps://www.enecho.meti.go.jp/about/whitepaper/2014html/2-1-1.html からのもので、日本の一次エネルギー国内供給の推移である。"
   ]
  },
  {
   "cell_type": "code",
   "execution_count": 10,
   "metadata": {},
   "outputs": [
    {
     "data": {
      "text/html": [
       "<div>\n",
       "<style scoped>\n",
       "    .dataframe tbody tr th:only-of-type {\n",
       "        vertical-align: middle;\n",
       "    }\n",
       "\n",
       "    .dataframe tbody tr th {\n",
       "        vertical-align: top;\n",
       "    }\n",
       "\n",
       "    .dataframe thead th {\n",
       "        text-align: right;\n",
       "    }\n",
       "</style>\n",
       "<table border=\"1\" class=\"dataframe\">\n",
       "  <thead>\n",
       "    <tr style=\"text-align: right;\">\n",
       "      <th></th>\n",
       "      <th>年度</th>\n",
       "      <th>石油</th>\n",
       "      <th>石炭</th>\n",
       "      <th>天然ガス</th>\n",
       "      <th>原子力</th>\n",
       "      <th>水力</th>\n",
       "      <th>新エネルギー・地熱等</th>\n",
       "    </tr>\n",
       "  </thead>\n",
       "  <tbody>\n",
       "    <tr>\n",
       "      <th>0</th>\n",
       "      <td>1965</td>\n",
       "      <td>3.56</td>\n",
       "      <td>1.87</td>\n",
       "      <td>0.08</td>\n",
       "      <td>0.00</td>\n",
       "      <td>0.75</td>\n",
       "      <td>0.11</td>\n",
       "    </tr>\n",
       "    <tr>\n",
       "      <th>1</th>\n",
       "      <td>1966</td>\n",
       "      <td>4.13</td>\n",
       "      <td>1.92</td>\n",
       "      <td>0.09</td>\n",
       "      <td>0.01</td>\n",
       "      <td>0.77</td>\n",
       "      <td>0.11</td>\n",
       "    </tr>\n",
       "    <tr>\n",
       "      <th>2</th>\n",
       "      <td>1967</td>\n",
       "      <td>5.11</td>\n",
       "      <td>2.29</td>\n",
       "      <td>0.09</td>\n",
       "      <td>0.01</td>\n",
       "      <td>0.67</td>\n",
       "      <td>0.11</td>\n",
       "    </tr>\n",
       "    <tr>\n",
       "      <th>3</th>\n",
       "      <td>1968</td>\n",
       "      <td>5.95</td>\n",
       "      <td>2.42</td>\n",
       "      <td>0.10</td>\n",
       "      <td>0.01</td>\n",
       "      <td>0.72</td>\n",
       "      <td>0.12</td>\n",
       "    </tr>\n",
       "    <tr>\n",
       "      <th>4</th>\n",
       "      <td>1969</td>\n",
       "      <td>7.19</td>\n",
       "      <td>2.59</td>\n",
       "      <td>0.12</td>\n",
       "      <td>0.01</td>\n",
       "      <td>0.73</td>\n",
       "      <td>0.13</td>\n",
       "    </tr>\n",
       "  </tbody>\n",
       "</table>\n",
       "</div>"
      ],
      "text/plain": [
       "     年度    石油    石炭  天然ガス   原子力    水力  新エネルギー・地熱等\n",
       "0  1965  3.56  1.87  0.08  0.00  0.75        0.11\n",
       "1  1966  4.13  1.92  0.09  0.01  0.77        0.11\n",
       "2  1967  5.11  2.29  0.09  0.01  0.67        0.11\n",
       "3  1968  5.95  2.42  0.10  0.01  0.72        0.12\n",
       "4  1969  7.19  2.59  0.12  0.01  0.73        0.13"
      ]
     },
     "execution_count": 10,
     "metadata": {},
     "output_type": "execute_result"
    }
   ],
   "source": [
    "df = pd.read_csv('../data/stacked_bar_chart.csv')\n",
    "df.head()"
   ]
  },
  {
   "cell_type": "code",
   "execution_count": 11,
   "metadata": {},
   "outputs": [
    {
     "data": {
      "text/html": [
       "\n",
       "  <div id=\"d0ca4828-88b6-477a-826a-8fa83d9d9c46\" data-root-id=\"p1311\" style=\"display: contents;\"></div>\n"
      ]
     },
     "metadata": {},
     "output_type": "display_data"
    },
    {
     "data": {
      "application/javascript": "(function(root) {\n  function embed_document(root) {\n  const docs_json = {\"cbed0c6d-a29b-4515-9558-4ebe2df17e24\":{\"version\":\"3.3.2\",\"title\":\"Bokeh Application\",\"roots\":[{\"type\":\"object\",\"name\":\"Figure\",\"id\":\"p1311\",\"attributes\":{\"width\":1200,\"height\":400,\"x_range\":{\"type\":\"object\",\"name\":\"DataRange1d\",\"id\":\"p1312\",\"attributes\":{\"start\":1964,\"end\":2013}},\"y_range\":{\"type\":\"object\",\"name\":\"DataRange1d\",\"id\":\"p1313\"},\"x_scale\":{\"type\":\"object\",\"name\":\"LinearScale\",\"id\":\"p1321\"},\"y_scale\":{\"type\":\"object\",\"name\":\"LinearScale\",\"id\":\"p1322\"},\"title\":{\"type\":\"object\",\"name\":\"Title\",\"id\":\"p1314\",\"attributes\":{\"text\":\"Domestic Energy Supplies\"}},\"renderers\":[{\"type\":\"object\",\"name\":\"GlyphRenderer\",\"id\":\"p1362\",\"attributes\":{\"name\":\"\\u77f3\\u6cb9\",\"data_source\":{\"type\":\"object\",\"name\":\"ColumnDataSource\",\"id\":\"p1308\",\"attributes\":{\"selected\":{\"type\":\"object\",\"name\":\"Selection\",\"id\":\"p1309\",\"attributes\":{\"indices\":[],\"line_indices\":[]}},\"selection_policy\":{\"type\":\"object\",\"name\":\"UnionRenderers\",\"id\":\"p1310\"},\"data\":{\"type\":\"map\",\"entries\":[[\"index\",{\"type\":\"ndarray\",\"array\":{\"type\":\"bytes\",\"data\":\"AAAAAAEAAAACAAAAAwAAAAQAAAAFAAAABgAAAAcAAAAIAAAACQAAAAoAAAALAAAADAAAAA0AAAAOAAAADwAAABAAAAARAAAAEgAAABMAAAAUAAAAFQAAABYAAAAXAAAAGAAAABkAAAAaAAAAGwAAABwAAAAdAAAAHgAAAB8AAAAgAAAAIQAAACIAAAAjAAAAJAAAACUAAAAmAAAAJwAAACgAAAApAAAAKgAAACsAAAAsAAAALQAAAC4AAAAvAAAA\"},\"shape\":[48],\"dtype\":\"int32\",\"order\":\"little\"}],[\"\\u5e74\\u5ea6\",{\"type\":\"ndarray\",\"array\":{\"type\":\"bytes\",\"data\":\"rQcAAK4HAACvBwAAsAcAALEHAACyBwAAswcAALQHAAC1BwAAtgcAALcHAAC4BwAAuQcAALoHAAC7BwAAvAcAAL0HAAC+BwAAvwcAAMAHAADBBwAAwgcAAMMHAADEBwAAxQcAAMYHAADHBwAAyAcAAMkHAADKBwAAywcAAMwHAADNBwAAzgcAAM8HAADQBwAA0QcAANIHAADTBwAA1AcAANUHAADWBwAA1wcAANgHAADZBwAA2gcAANsHAADcBwAA\"},\"shape\":[48],\"dtype\":\"int32\",\"order\":\"little\"}],[\"\\u77f3\\u6cb9\",{\"type\":\"ndarray\",\"array\":{\"type\":\"bytes\",\"data\":\"exSuR+F6DECF61G4HoUQQHE9CtejcBRAzczMzMzMF0DD9Shcj8IcQFyPwvUoXCFAPQrXo3A9IkCamZmZmRkkQKRwPQrXoyZAZmZmZmZmJUCamZmZmZkkQAAAAAAAACZAexSuR+F6JkDD9Shcj8ImQK5H4XoUriZAmpmZmZmZJEDD9Shcj0IjQClcj8L1qCJAPQrXo3A9I0AzMzMzM7MiQD0K16NwPSJAUrgehetRIkDD9Shcj0IjQGZmZmZmZiRAzczMzMxMJUAAAAAAAAAmQM3MzMzMTCZASOF6FK7HJkC4HoXrUTgmQPYoXI/CdSdAmpmZmZmZJ0CF61G4HoUnQPYoXI/C9SZAzczMzMxMJkApXI/C9agmQFK4HoXrUSZApHA9CtejJUBI4XoUrsclQK5H4XoUriVArkfhehQuJUCkcD0K1yMlQFyPwvUoXCRA7FG4HoVrJEApXI/C9agiQJqZmZmZmSFAKVyPwvWoIUA9CtejcD0iQHE9CtejcCJA\"},\"shape\":[48],\"dtype\":\"float64\",\"order\":\"little\"}],[\"\\u77f3\\u70ad\",{\"type\":\"ndarray\",\"array\":{\"type\":\"bytes\",\"data\":\"7FG4HoXr/T+4HoXrUbj+P1K4HoXrUQJAXI/C9ShcA0C4HoXrUbgEQB+F61G4HgVAexSuR+F6AkBmZmZmZmYCQD0K16NwPQRAXI/C9ShcBUAAAAAAAAAEQJqZmZmZmQNAPQrXo3A9AkCPwvUoXI8AQGZmZmZmZgJAZmZmZmZmBkBI4XoUrkcHQD0K16NwPQZApHA9CtejBkC4HoXrUbgIQMP1KFyPwglAcT0K16NwB0CPwvUoXI8IQGZmZmZmZgpAUrgehetRCkB7FK5H4XoKQB+F61G4HgtAZmZmZmZmCkB7FK5H4XoKQClcj8L1KAxAH4XrUbgeDUDXo3A9CtcNQM3MzMzMzA5A9ihcj8L1DEDNzMzMzMwOQM3MzMzMzBBAKVyPwvUoEUDD9Shcj8IRQEjhehSuRxJAAAAAAAAAFEAK16NwPQoTQEjhehSuRxNAKVyPwvUoFECuR+F6FK4TQIXrUbgehRFA7FG4HoXrE0CamZmZmZkSQHE9CtejcBNA\"},\"shape\":[48],\"dtype\":\"float64\",\"order\":\"little\"}],[\"\\u5929\\u7136\\u30ac\\u30b9\",{\"type\":\"ndarray\",\"array\":{\"type\":\"bytes\",\"data\":\"exSuR+F6tD8K16NwPQq3PwrXo3A9Crc/mpmZmZmZuT+4HoXrUbi+P8P1KFyPwsU/w/UoXI/CxT/D9Shcj8LFP7gehetRuM4/exSuR+F61D/2KFyPwvXYPylcj8L1KNw/j8L1KFyP4j8AAAAAAADoP83MzMzMzOw/KVyPwvUo8D9SuB6F61HwP/YoXI/C9fA/XI/C9Shc8z/NzMzMzMz4P5qZmZmZmfk/j8L1KFyP+j9cj8L1KFz7P3sUrkfhevw/4XoUrkfh/j/NzMzMzMwAQAAAAAAAAAJAPQrXo3A9AkCkcD0K16MCQK5H4XoUrgNAUrgehetRBEBxPQrXo3AFQFK4HoXrUQZAzczMzMzMBkAUrkfhehQIQArXo3A9CglACtejcD0KCUDD9Shcj8IJQPYoXI/C9QpA4XoUrkfhCkAfhetRuB4LQAAAAAAAAA5AXI/C9ShcEEAUrkfhehQQQNejcD0K1w9A7FG4HoXrEEC4HoXrUbgTQGZmZmZmZhRA\"},\"shape\":[48],\"dtype\":\"float64\",\"order\":\"little\"}],[\"\\u539f\\u5b50\\u529b\",{\"type\":\"ndarray\",\"array\":{\"type\":\"bytes\",\"data\":\"AAAAAAAAAAB7FK5H4XqEP3sUrkfheoQ/exSuR+F6hD97FK5H4XqEP3sUrkfheqQ/exSuR+F6tD8K16NwPQq3PwrXo3A9Crc/UrgehetRyD+4HoXrUbjOP3sUrkfhetQ/MzMzMzMz0z/sUbgehevhPx+F61G4HuU/9ihcj8L16D+PwvUoXI/qP7gehetRuO4/SOF6FK5H8T8pXI/C9Sj0PwAAAAAAAPg/cT0K16Nw+T9SuB6F61H8P+F6FK5H4fo/hetRuB6F+z89CtejcD3+P9ejcD0K1/8/pHA9CtejAECPwvUoXI8CQAAAAAAAAARAmpmZmZmZBUA9CtejcD0GQEjhehSuRwdAFK5H4XoUCEC4HoXrUbgGQPYoXI/C9QZAuB6F61G4BkC4HoXrUbgEQOF6FK5H4QBA7FG4HoXrA0BxPQrXo3AFQEjhehSuRwVAj8L1KFyPAkAAAAAAAAACQEjhehSuRwNA7FG4HoXrA0B7FK5H4XrsP+xRuB6F68E/\"},\"shape\":[48],\"dtype\":\"float64\",\"order\":\"little\"}],[\"\\u6c34\\u529b\",{\"type\":\"ndarray\",\"array\":{\"type\":\"bytes\",\"data\":\"AAAAAAAA6D+kcD0K16PoP3E9CtejcOU/CtejcD0K5z9cj8L1KFznPwAAAAAAAOg/mpmZmZmZ6T89CtejcD3qPx+F61G4HuU/SOF6FK5H6T/sUbgehevpPz0K16NwPeo/uB6F61G45j8UrkfhehTmP0jhehSuR+k/hetRuB6F6z/hehSuR+HqP/YoXI/C9eg/7FG4HoXr6T8UrkfhehTmP5qZmZmZmek/9ihcj8L16D8K16NwPQrnP9ejcD0K1+s/KVyPwvUo7D+PwvUoXI/qPx+F61G4Hu0/pHA9Ctej6D97FK5H4XrsP9ejcD0K1+M/UrgehetR6D+uR+F6FK7nPz0K16NwPeo/4XoUrkfh6j+kcD0K16PoP/YoXI/C9eg/AAAAAAAA6D8K16NwPQrnP4/C9Shcj+o/j8L1KFyP6j9xPQrXo3DlP6RwPQrXo+g/zczMzMzM5D9xPQrXo3DlPx+F61G4HuU/uB6F61G45j8K16NwPQrnPx+F61G4HuU/\"},\"shape\":[48],\"dtype\":\"float64\",\"order\":\"little\"}],[\"\\u65b0\\u30a8\\u30cd\\u30eb\\u30ae\\u30fc\\u30fb\\u5730\\u71b1\\u7b49\",{\"type\":\"ndarray\",\"array\":{\"type\":\"bytes\",\"data\":\"KVyPwvUovD8pXI/C9Si8Pylcj8L1KLw/uB6F61G4vj+kcD0K16PAP+xRuB6F68E/7FG4HoXrwT8zMzMzMzPDP3sUrkfhesQ/MzMzMzMzwz8zMzMzMzPDP3sUrkfhesQ/exSuR+F6xD97FK5H4XrEPwrXo3A9Csc/CtejcD0Kxz8K16NwPQrHP1K4HoXrUcg/mpmZmZmZyT8pXI/C9SjMPylcj8L1KMw/cT0K16NwzT+4HoXrUbjOPwAAAAAAANA/pHA9Ctej0D+kcD0K16PgP/YoXI/C9eA/9ihcj8L14D+kcD0K16PgP/YoXI/C9eA/7FG4HoXr4T+PwvUoXI/iPzMzMzMzM+M/4XoUrkfh4j+F61G4HoXjP9ejcD0K1+M/MzMzMzMz4z+F61G4HoXjPylcj8L1KOQ/16NwPQrX4z/D9Shcj8LlP2ZmZmZmZuY/CtejcD0K5z9xPQrXo3DlP83MzMzMzOQ/SOF6FK5H6T/hehSuR+HqP+F6FK5H4eo/\"},\"shape\":[48],\"dtype\":\"float64\",\"order\":\"little\"}]]}}},\"view\":{\"type\":\"object\",\"name\":\"CDSView\",\"id\":\"p1363\",\"attributes\":{\"filter\":{\"type\":\"object\",\"name\":\"AllIndices\",\"id\":\"p1364\"}}},\"glyph\":{\"type\":\"object\",\"name\":\"VBar\",\"id\":\"p1359\",\"attributes\":{\"x\":{\"type\":\"field\",\"field\":\"\\u5e74\\u5ea6\"},\"width\":{\"type\":\"value\",\"value\":0.6},\"bottom\":{\"type\":\"expr\",\"expr\":{\"type\":\"object\",\"name\":\"Stack\",\"id\":\"p1344\",\"attributes\":{\"fields\":[]}}},\"top\":{\"type\":\"expr\",\"expr\":{\"type\":\"object\",\"name\":\"Stack\",\"id\":\"p1345\",\"attributes\":{\"fields\":[\"\\u77f3\\u6cb9\"]}}},\"line_color\":{\"type\":\"value\",\"value\":\"#1a9850\"},\"fill_color\":{\"type\":\"value\",\"value\":\"#1a9850\"},\"hatch_color\":{\"type\":\"value\",\"value\":\"#1a9850\"}}},\"nonselection_glyph\":{\"type\":\"object\",\"name\":\"VBar\",\"id\":\"p1360\",\"attributes\":{\"x\":{\"type\":\"field\",\"field\":\"\\u5e74\\u5ea6\"},\"width\":{\"type\":\"value\",\"value\":0.6},\"bottom\":{\"type\":\"expr\",\"expr\":{\"id\":\"p1344\"}},\"top\":{\"type\":\"expr\",\"expr\":{\"id\":\"p1345\"}},\"line_color\":{\"type\":\"value\",\"value\":\"#1a9850\"},\"line_alpha\":{\"type\":\"value\",\"value\":0.1},\"fill_color\":{\"type\":\"value\",\"value\":\"#1a9850\"},\"fill_alpha\":{\"type\":\"value\",\"value\":0.1},\"hatch_color\":{\"type\":\"value\",\"value\":\"#1a9850\"},\"hatch_alpha\":{\"type\":\"value\",\"value\":0.1}}},\"muted_glyph\":{\"type\":\"object\",\"name\":\"VBar\",\"id\":\"p1361\",\"attributes\":{\"x\":{\"type\":\"field\",\"field\":\"\\u5e74\\u5ea6\"},\"width\":{\"type\":\"value\",\"value\":0.6},\"bottom\":{\"type\":\"expr\",\"expr\":{\"id\":\"p1344\"}},\"top\":{\"type\":\"expr\",\"expr\":{\"id\":\"p1345\"}},\"line_color\":{\"type\":\"value\",\"value\":\"#1a9850\"},\"line_alpha\":{\"type\":\"value\",\"value\":0.2},\"fill_color\":{\"type\":\"value\",\"value\":\"#1a9850\"},\"fill_alpha\":{\"type\":\"value\",\"value\":0.2},\"hatch_color\":{\"type\":\"value\",\"value\":\"#1a9850\"},\"hatch_alpha\":{\"type\":\"value\",\"value\":0.2}}}}},{\"type\":\"object\",\"name\":\"GlyphRenderer\",\"id\":\"p1373\",\"attributes\":{\"name\":\"\\u77f3\\u70ad\",\"data_source\":{\"id\":\"p1308\"},\"view\":{\"type\":\"object\",\"name\":\"CDSView\",\"id\":\"p1374\",\"attributes\":{\"filter\":{\"type\":\"object\",\"name\":\"AllIndices\",\"id\":\"p1375\"}}},\"glyph\":{\"type\":\"object\",\"name\":\"VBar\",\"id\":\"p1370\",\"attributes\":{\"x\":{\"type\":\"field\",\"field\":\"\\u5e74\\u5ea6\"},\"width\":{\"type\":\"value\",\"value\":0.6},\"bottom\":{\"type\":\"expr\",\"expr\":{\"type\":\"object\",\"name\":\"Stack\",\"id\":\"p1346\",\"attributes\":{\"fields\":[\"\\u77f3\\u6cb9\"]}}},\"top\":{\"type\":\"expr\",\"expr\":{\"type\":\"object\",\"name\":\"Stack\",\"id\":\"p1347\",\"attributes\":{\"fields\":[\"\\u77f3\\u6cb9\",\"\\u77f3\\u70ad\"]}}},\"line_color\":{\"type\":\"value\",\"value\":\"#91cf60\"},\"fill_color\":{\"type\":\"value\",\"value\":\"#91cf60\"},\"hatch_color\":{\"type\":\"value\",\"value\":\"#91cf60\"}}},\"nonselection_glyph\":{\"type\":\"object\",\"name\":\"VBar\",\"id\":\"p1371\",\"attributes\":{\"x\":{\"type\":\"field\",\"field\":\"\\u5e74\\u5ea6\"},\"width\":{\"type\":\"value\",\"value\":0.6},\"bottom\":{\"type\":\"expr\",\"expr\":{\"id\":\"p1346\"}},\"top\":{\"type\":\"expr\",\"expr\":{\"id\":\"p1347\"}},\"line_color\":{\"type\":\"value\",\"value\":\"#91cf60\"},\"line_alpha\":{\"type\":\"value\",\"value\":0.1},\"fill_color\":{\"type\":\"value\",\"value\":\"#91cf60\"},\"fill_alpha\":{\"type\":\"value\",\"value\":0.1},\"hatch_color\":{\"type\":\"value\",\"value\":\"#91cf60\"},\"hatch_alpha\":{\"type\":\"value\",\"value\":0.1}}},\"muted_glyph\":{\"type\":\"object\",\"name\":\"VBar\",\"id\":\"p1372\",\"attributes\":{\"x\":{\"type\":\"field\",\"field\":\"\\u5e74\\u5ea6\"},\"width\":{\"type\":\"value\",\"value\":0.6},\"bottom\":{\"type\":\"expr\",\"expr\":{\"id\":\"p1346\"}},\"top\":{\"type\":\"expr\",\"expr\":{\"id\":\"p1347\"}},\"line_color\":{\"type\":\"value\",\"value\":\"#91cf60\"},\"line_alpha\":{\"type\":\"value\",\"value\":0.2},\"fill_color\":{\"type\":\"value\",\"value\":\"#91cf60\"},\"fill_alpha\":{\"type\":\"value\",\"value\":0.2},\"hatch_color\":{\"type\":\"value\",\"value\":\"#91cf60\"},\"hatch_alpha\":{\"type\":\"value\",\"value\":0.2}}}}},{\"type\":\"object\",\"name\":\"GlyphRenderer\",\"id\":\"p1383\",\"attributes\":{\"name\":\"\\u5929\\u7136\\u30ac\\u30b9\",\"data_source\":{\"id\":\"p1308\"},\"view\":{\"type\":\"object\",\"name\":\"CDSView\",\"id\":\"p1384\",\"attributes\":{\"filter\":{\"type\":\"object\",\"name\":\"AllIndices\",\"id\":\"p1385\"}}},\"glyph\":{\"type\":\"object\",\"name\":\"VBar\",\"id\":\"p1380\",\"attributes\":{\"x\":{\"type\":\"field\",\"field\":\"\\u5e74\\u5ea6\"},\"width\":{\"type\":\"value\",\"value\":0.6},\"bottom\":{\"type\":\"expr\",\"expr\":{\"type\":\"object\",\"name\":\"Stack\",\"id\":\"p1348\",\"attributes\":{\"fields\":[\"\\u77f3\\u6cb9\",\"\\u77f3\\u70ad\"]}}},\"top\":{\"type\":\"expr\",\"expr\":{\"type\":\"object\",\"name\":\"Stack\",\"id\":\"p1349\",\"attributes\":{\"fields\":[\"\\u77f3\\u6cb9\",\"\\u77f3\\u70ad\",\"\\u5929\\u7136\\u30ac\\u30b9\"]}}},\"line_color\":{\"type\":\"value\",\"value\":\"#d9ef8b\"},\"fill_color\":{\"type\":\"value\",\"value\":\"#d9ef8b\"},\"hatch_color\":{\"type\":\"value\",\"value\":\"#d9ef8b\"}}},\"nonselection_glyph\":{\"type\":\"object\",\"name\":\"VBar\",\"id\":\"p1381\",\"attributes\":{\"x\":{\"type\":\"field\",\"field\":\"\\u5e74\\u5ea6\"},\"width\":{\"type\":\"value\",\"value\":0.6},\"bottom\":{\"type\":\"expr\",\"expr\":{\"id\":\"p1348\"}},\"top\":{\"type\":\"expr\",\"expr\":{\"id\":\"p1349\"}},\"line_color\":{\"type\":\"value\",\"value\":\"#d9ef8b\"},\"line_alpha\":{\"type\":\"value\",\"value\":0.1},\"fill_color\":{\"type\":\"value\",\"value\":\"#d9ef8b\"},\"fill_alpha\":{\"type\":\"value\",\"value\":0.1},\"hatch_color\":{\"type\":\"value\",\"value\":\"#d9ef8b\"},\"hatch_alpha\":{\"type\":\"value\",\"value\":0.1}}},\"muted_glyph\":{\"type\":\"object\",\"name\":\"VBar\",\"id\":\"p1382\",\"attributes\":{\"x\":{\"type\":\"field\",\"field\":\"\\u5e74\\u5ea6\"},\"width\":{\"type\":\"value\",\"value\":0.6},\"bottom\":{\"type\":\"expr\",\"expr\":{\"id\":\"p1348\"}},\"top\":{\"type\":\"expr\",\"expr\":{\"id\":\"p1349\"}},\"line_color\":{\"type\":\"value\",\"value\":\"#d9ef8b\"},\"line_alpha\":{\"type\":\"value\",\"value\":0.2},\"fill_color\":{\"type\":\"value\",\"value\":\"#d9ef8b\"},\"fill_alpha\":{\"type\":\"value\",\"value\":0.2},\"hatch_color\":{\"type\":\"value\",\"value\":\"#d9ef8b\"},\"hatch_alpha\":{\"type\":\"value\",\"value\":0.2}}}}},{\"type\":\"object\",\"name\":\"GlyphRenderer\",\"id\":\"p1393\",\"attributes\":{\"name\":\"\\u539f\\u5b50\\u529b\",\"data_source\":{\"id\":\"p1308\"},\"view\":{\"type\":\"object\",\"name\":\"CDSView\",\"id\":\"p1394\",\"attributes\":{\"filter\":{\"type\":\"object\",\"name\":\"AllIndices\",\"id\":\"p1395\"}}},\"glyph\":{\"type\":\"object\",\"name\":\"VBar\",\"id\":\"p1390\",\"attributes\":{\"x\":{\"type\":\"field\",\"field\":\"\\u5e74\\u5ea6\"},\"width\":{\"type\":\"value\",\"value\":0.6},\"bottom\":{\"type\":\"expr\",\"expr\":{\"type\":\"object\",\"name\":\"Stack\",\"id\":\"p1350\",\"attributes\":{\"fields\":[\"\\u77f3\\u6cb9\",\"\\u77f3\\u70ad\",\"\\u5929\\u7136\\u30ac\\u30b9\"]}}},\"top\":{\"type\":\"expr\",\"expr\":{\"type\":\"object\",\"name\":\"Stack\",\"id\":\"p1351\",\"attributes\":{\"fields\":[\"\\u77f3\\u6cb9\",\"\\u77f3\\u70ad\",\"\\u5929\\u7136\\u30ac\\u30b9\",\"\\u539f\\u5b50\\u529b\"]}}},\"line_color\":{\"type\":\"value\",\"value\":\"#fee08b\"},\"fill_color\":{\"type\":\"value\",\"value\":\"#fee08b\"},\"hatch_color\":{\"type\":\"value\",\"value\":\"#fee08b\"}}},\"nonselection_glyph\":{\"type\":\"object\",\"name\":\"VBar\",\"id\":\"p1391\",\"attributes\":{\"x\":{\"type\":\"field\",\"field\":\"\\u5e74\\u5ea6\"},\"width\":{\"type\":\"value\",\"value\":0.6},\"bottom\":{\"type\":\"expr\",\"expr\":{\"id\":\"p1350\"}},\"top\":{\"type\":\"expr\",\"expr\":{\"id\":\"p1351\"}},\"line_color\":{\"type\":\"value\",\"value\":\"#fee08b\"},\"line_alpha\":{\"type\":\"value\",\"value\":0.1},\"fill_color\":{\"type\":\"value\",\"value\":\"#fee08b\"},\"fill_alpha\":{\"type\":\"value\",\"value\":0.1},\"hatch_color\":{\"type\":\"value\",\"value\":\"#fee08b\"},\"hatch_alpha\":{\"type\":\"value\",\"value\":0.1}}},\"muted_glyph\":{\"type\":\"object\",\"name\":\"VBar\",\"id\":\"p1392\",\"attributes\":{\"x\":{\"type\":\"field\",\"field\":\"\\u5e74\\u5ea6\"},\"width\":{\"type\":\"value\",\"value\":0.6},\"bottom\":{\"type\":\"expr\",\"expr\":{\"id\":\"p1350\"}},\"top\":{\"type\":\"expr\",\"expr\":{\"id\":\"p1351\"}},\"line_color\":{\"type\":\"value\",\"value\":\"#fee08b\"},\"line_alpha\":{\"type\":\"value\",\"value\":0.2},\"fill_color\":{\"type\":\"value\",\"value\":\"#fee08b\"},\"fill_alpha\":{\"type\":\"value\",\"value\":0.2},\"hatch_color\":{\"type\":\"value\",\"value\":\"#fee08b\"},\"hatch_alpha\":{\"type\":\"value\",\"value\":0.2}}}}},{\"type\":\"object\",\"name\":\"GlyphRenderer\",\"id\":\"p1403\",\"attributes\":{\"name\":\"\\u6c34\\u529b\",\"data_source\":{\"id\":\"p1308\"},\"view\":{\"type\":\"object\",\"name\":\"CDSView\",\"id\":\"p1404\",\"attributes\":{\"filter\":{\"type\":\"object\",\"name\":\"AllIndices\",\"id\":\"p1405\"}}},\"glyph\":{\"type\":\"object\",\"name\":\"VBar\",\"id\":\"p1400\",\"attributes\":{\"x\":{\"type\":\"field\",\"field\":\"\\u5e74\\u5ea6\"},\"width\":{\"type\":\"value\",\"value\":0.6},\"bottom\":{\"type\":\"expr\",\"expr\":{\"type\":\"object\",\"name\":\"Stack\",\"id\":\"p1352\",\"attributes\":{\"fields\":[\"\\u77f3\\u6cb9\",\"\\u77f3\\u70ad\",\"\\u5929\\u7136\\u30ac\\u30b9\",\"\\u539f\\u5b50\\u529b\"]}}},\"top\":{\"type\":\"expr\",\"expr\":{\"type\":\"object\",\"name\":\"Stack\",\"id\":\"p1353\",\"attributes\":{\"fields\":[\"\\u77f3\\u6cb9\",\"\\u77f3\\u70ad\",\"\\u5929\\u7136\\u30ac\\u30b9\",\"\\u539f\\u5b50\\u529b\",\"\\u6c34\\u529b\"]}}},\"line_color\":{\"type\":\"value\",\"value\":\"#fc8d59\"},\"fill_color\":{\"type\":\"value\",\"value\":\"#fc8d59\"},\"hatch_color\":{\"type\":\"value\",\"value\":\"#fc8d59\"}}},\"nonselection_glyph\":{\"type\":\"object\",\"name\":\"VBar\",\"id\":\"p1401\",\"attributes\":{\"x\":{\"type\":\"field\",\"field\":\"\\u5e74\\u5ea6\"},\"width\":{\"type\":\"value\",\"value\":0.6},\"bottom\":{\"type\":\"expr\",\"expr\":{\"id\":\"p1352\"}},\"top\":{\"type\":\"expr\",\"expr\":{\"id\":\"p1353\"}},\"line_color\":{\"type\":\"value\",\"value\":\"#fc8d59\"},\"line_alpha\":{\"type\":\"value\",\"value\":0.1},\"fill_color\":{\"type\":\"value\",\"value\":\"#fc8d59\"},\"fill_alpha\":{\"type\":\"value\",\"value\":0.1},\"hatch_color\":{\"type\":\"value\",\"value\":\"#fc8d59\"},\"hatch_alpha\":{\"type\":\"value\",\"value\":0.1}}},\"muted_glyph\":{\"type\":\"object\",\"name\":\"VBar\",\"id\":\"p1402\",\"attributes\":{\"x\":{\"type\":\"field\",\"field\":\"\\u5e74\\u5ea6\"},\"width\":{\"type\":\"value\",\"value\":0.6},\"bottom\":{\"type\":\"expr\",\"expr\":{\"id\":\"p1352\"}},\"top\":{\"type\":\"expr\",\"expr\":{\"id\":\"p1353\"}},\"line_color\":{\"type\":\"value\",\"value\":\"#fc8d59\"},\"line_alpha\":{\"type\":\"value\",\"value\":0.2},\"fill_color\":{\"type\":\"value\",\"value\":\"#fc8d59\"},\"fill_alpha\":{\"type\":\"value\",\"value\":0.2},\"hatch_color\":{\"type\":\"value\",\"value\":\"#fc8d59\"},\"hatch_alpha\":{\"type\":\"value\",\"value\":0.2}}}}},{\"type\":\"object\",\"name\":\"GlyphRenderer\",\"id\":\"p1413\",\"attributes\":{\"name\":\"\\u65b0\\u30a8\\u30cd\\u30eb\\u30ae\\u30fc\\u30fb\\u5730\\u71b1\\u7b49\",\"data_source\":{\"id\":\"p1308\"},\"view\":{\"type\":\"object\",\"name\":\"CDSView\",\"id\":\"p1414\",\"attributes\":{\"filter\":{\"type\":\"object\",\"name\":\"AllIndices\",\"id\":\"p1415\"}}},\"glyph\":{\"type\":\"object\",\"name\":\"VBar\",\"id\":\"p1410\",\"attributes\":{\"x\":{\"type\":\"field\",\"field\":\"\\u5e74\\u5ea6\"},\"width\":{\"type\":\"value\",\"value\":0.6},\"bottom\":{\"type\":\"expr\",\"expr\":{\"type\":\"object\",\"name\":\"Stack\",\"id\":\"p1354\",\"attributes\":{\"fields\":[\"\\u77f3\\u6cb9\",\"\\u77f3\\u70ad\",\"\\u5929\\u7136\\u30ac\\u30b9\",\"\\u539f\\u5b50\\u529b\",\"\\u6c34\\u529b\"]}}},\"top\":{\"type\":\"expr\",\"expr\":{\"type\":\"object\",\"name\":\"Stack\",\"id\":\"p1355\",\"attributes\":{\"fields\":[\"\\u77f3\\u6cb9\",\"\\u77f3\\u70ad\",\"\\u5929\\u7136\\u30ac\\u30b9\",\"\\u539f\\u5b50\\u529b\",\"\\u6c34\\u529b\",\"\\u65b0\\u30a8\\u30cd\\u30eb\\u30ae\\u30fc\\u30fb\\u5730\\u71b1\\u7b49\"]}}},\"line_color\":{\"type\":\"value\",\"value\":\"#d73027\"},\"fill_color\":{\"type\":\"value\",\"value\":\"#d73027\"},\"hatch_color\":{\"type\":\"value\",\"value\":\"#d73027\"}}},\"nonselection_glyph\":{\"type\":\"object\",\"name\":\"VBar\",\"id\":\"p1411\",\"attributes\":{\"x\":{\"type\":\"field\",\"field\":\"\\u5e74\\u5ea6\"},\"width\":{\"type\":\"value\",\"value\":0.6},\"bottom\":{\"type\":\"expr\",\"expr\":{\"id\":\"p1354\"}},\"top\":{\"type\":\"expr\",\"expr\":{\"id\":\"p1355\"}},\"line_color\":{\"type\":\"value\",\"value\":\"#d73027\"},\"line_alpha\":{\"type\":\"value\",\"value\":0.1},\"fill_color\":{\"type\":\"value\",\"value\":\"#d73027\"},\"fill_alpha\":{\"type\":\"value\",\"value\":0.1},\"hatch_color\":{\"type\":\"value\",\"value\":\"#d73027\"},\"hatch_alpha\":{\"type\":\"value\",\"value\":0.1}}},\"muted_glyph\":{\"type\":\"object\",\"name\":\"VBar\",\"id\":\"p1412\",\"attributes\":{\"x\":{\"type\":\"field\",\"field\":\"\\u5e74\\u5ea6\"},\"width\":{\"type\":\"value\",\"value\":0.6},\"bottom\":{\"type\":\"expr\",\"expr\":{\"id\":\"p1354\"}},\"top\":{\"type\":\"expr\",\"expr\":{\"id\":\"p1355\"}},\"line_color\":{\"type\":\"value\",\"value\":\"#d73027\"},\"line_alpha\":{\"type\":\"value\",\"value\":0.2},\"fill_color\":{\"type\":\"value\",\"value\":\"#d73027\"},\"fill_alpha\":{\"type\":\"value\",\"value\":0.2},\"hatch_color\":{\"type\":\"value\",\"value\":\"#d73027\"},\"hatch_alpha\":{\"type\":\"value\",\"value\":0.2}}}}}],\"toolbar\":{\"type\":\"object\",\"name\":\"Toolbar\",\"id\":\"p1320\",\"attributes\":{\"tools\":[{\"type\":\"object\",\"name\":\"PanTool\",\"id\":\"p1333\"},{\"type\":\"object\",\"name\":\"WheelZoomTool\",\"id\":\"p1334\",\"attributes\":{\"renderers\":\"auto\"}},{\"type\":\"object\",\"name\":\"BoxZoomTool\",\"id\":\"p1335\",\"attributes\":{\"overlay\":{\"type\":\"object\",\"name\":\"BoxAnnotation\",\"id\":\"p1336\",\"attributes\":{\"syncable\":false,\"level\":\"overlay\",\"visible\":false,\"left\":{\"type\":\"number\",\"value\":\"nan\"},\"right\":{\"type\":\"number\",\"value\":\"nan\"},\"top\":{\"type\":\"number\",\"value\":\"nan\"},\"bottom\":{\"type\":\"number\",\"value\":\"nan\"},\"left_units\":\"canvas\",\"right_units\":\"canvas\",\"top_units\":\"canvas\",\"bottom_units\":\"canvas\",\"line_color\":\"black\",\"line_alpha\":1.0,\"line_width\":2,\"line_dash\":[4,4],\"fill_color\":\"lightgrey\",\"fill_alpha\":0.5}}}},{\"type\":\"object\",\"name\":\"SaveTool\",\"id\":\"p1341\"},{\"type\":\"object\",\"name\":\"ResetTool\",\"id\":\"p1342\"},{\"type\":\"object\",\"name\":\"HelpTool\",\"id\":\"p1343\"}]}},\"left\":[{\"type\":\"object\",\"name\":\"LinearAxis\",\"id\":\"p1328\",\"attributes\":{\"ticker\":{\"type\":\"object\",\"name\":\"BasicTicker\",\"id\":\"p1329\",\"attributes\":{\"mantissas\":[1,2,5]}},\"formatter\":{\"type\":\"object\",\"name\":\"BasicTickFormatter\",\"id\":\"p1330\"},\"major_label_policy\":{\"type\":\"object\",\"name\":\"AllLabels\",\"id\":\"p1331\"}}}],\"right\":[{\"type\":\"object\",\"name\":\"Legend\",\"id\":\"p1365\",\"attributes\":{\"items\":[{\"type\":\"object\",\"name\":\"LegendItem\",\"id\":\"p1366\",\"attributes\":{\"label\":{\"type\":\"value\",\"value\":\"\\u77f3\\u6cb9\"},\"renderers\":[{\"id\":\"p1362\"}]}},{\"type\":\"object\",\"name\":\"LegendItem\",\"id\":\"p1376\",\"attributes\":{\"label\":{\"type\":\"value\",\"value\":\"\\u77f3\\u70ad\"},\"renderers\":[{\"id\":\"p1373\"}]}},{\"type\":\"object\",\"name\":\"LegendItem\",\"id\":\"p1386\",\"attributes\":{\"label\":{\"type\":\"value\",\"value\":\"\\u5929\\u7136\\u30ac\\u30b9\"},\"renderers\":[{\"id\":\"p1383\"}]}},{\"type\":\"object\",\"name\":\"LegendItem\",\"id\":\"p1396\",\"attributes\":{\"label\":{\"type\":\"value\",\"value\":\"\\u539f\\u5b50\\u529b\"},\"renderers\":[{\"id\":\"p1393\"}]}},{\"type\":\"object\",\"name\":\"LegendItem\",\"id\":\"p1406\",\"attributes\":{\"label\":{\"type\":\"value\",\"value\":\"\\u6c34\\u529b\"},\"renderers\":[{\"id\":\"p1403\"}]}},{\"type\":\"object\",\"name\":\"LegendItem\",\"id\":\"p1416\",\"attributes\":{\"label\":{\"type\":\"value\",\"value\":\"\\u65b0\\u30a8\\u30cd\\u30eb\\u30ae\\u30fc\\u30fb\\u5730\\u71b1\\u7b49\"},\"renderers\":[{\"id\":\"p1413\"}]}}]}}],\"below\":[{\"type\":\"object\",\"name\":\"LinearAxis\",\"id\":\"p1323\",\"attributes\":{\"ticker\":{\"type\":\"object\",\"name\":\"BasicTicker\",\"id\":\"p1324\",\"attributes\":{\"mantissas\":[1,2,5]}},\"formatter\":{\"type\":\"object\",\"name\":\"BasicTickFormatter\",\"id\":\"p1325\"},\"major_label_policy\":{\"type\":\"object\",\"name\":\"AllLabels\",\"id\":\"p1326\"}}}],\"center\":[{\"type\":\"object\",\"name\":\"Grid\",\"id\":\"p1327\",\"attributes\":{\"axis\":{\"id\":\"p1323\"},\"grid_line_color\":null}},{\"type\":\"object\",\"name\":\"Grid\",\"id\":\"p1332\",\"attributes\":{\"dimension\":1,\"axis\":{\"id\":\"p1328\"}}},{\"id\":\"p1365\"}]}}]}};\n  const render_items = [{\"docid\":\"cbed0c6d-a29b-4515-9558-4ebe2df17e24\",\"roots\":{\"p1311\":\"d0ca4828-88b6-477a-826a-8fa83d9d9c46\"},\"root_ids\":[\"p1311\"]}];\n  root.Bokeh.embed.embed_items_notebook(docs_json, render_items);\n  }\n  if (root.Bokeh !== undefined) {\n    embed_document(root);\n  } else {\n    let attempts = 0;\n    const timer = setInterval(function(root) {\n      if (root.Bokeh !== undefined) {\n        clearInterval(timer);\n        embed_document(root);\n      } else {\n        attempts++;\n        if (attempts > 100) {\n          clearInterval(timer);\n          console.log(\"Bokeh: ERROR: Unable to run BokehJS code because BokehJS library is missing\");\n        }\n      }\n    }, 10, root)\n  }\n})(window);",
      "application/vnd.bokehjs_exec.v0+json": ""
     },
     "metadata": {
      "application/vnd.bokehjs_exec.v0+json": {
       "id": "p1311"
      }
     },
     "output_type": "display_data"
    }
   ],
   "source": [
    "column_list = [column for column in df.columns[1:]]\n",
    "src = ColumnDataSource(df)\n",
    "\n",
    "p = figure(\n",
    "    width=1200,\n",
    "    height=400,\n",
    "    title=\"Domestic Energy Supplies\")\n",
    "\n",
    "p.vbar_stack(\n",
    "    stackers=column_list,\n",
    "    x=\"年度\",\n",
    "    width=0.6,\n",
    "    color=palettes.RdYlGn[len(column_list)],\n",
    "    source=src,\n",
    "    legend_label=column_list)\n",
    "p.x_range.start = df[\"年度\"].min() - 1\n",
    "p.x_range.end = df[\"年度\"].max() + 1\n",
    "p.xgrid.grid_line_color = None\n",
    "\n",
    "p.add_layout(p.legend[0], place=\"right\")\n",
    "\n",
    "\n",
    "show(p)"
   ]
  },
  {
   "attachments": {},
   "cell_type": "markdown",
   "metadata": {},
   "source": [
    "# 棒グラフ\n",
    "\n",
    "データは東京の気温情報https://smart-hint.com/tokyo-temperature/ から"
   ]
  },
  {
   "cell_type": "code",
   "execution_count": 12,
   "metadata": {},
   "outputs": [
    {
     "name": "stderr",
     "output_type": "stream",
     "text": [
      "C:\\Users\\atsu9\\AppData\\Local\\Temp\\ipykernel_21260\\2208147134.py:1: FutureWarning: The argument 'date_parser' is deprecated and will be removed in a future version. Please use 'date_format' instead, or read your data in as 'object' dtype and then call 'to_datetime'.\n",
      "  df = pd.read_csv(\n"
     ]
    },
    {
     "data": {
      "text/html": [
       "<div>\n",
       "<style scoped>\n",
       "    .dataframe tbody tr th:only-of-type {\n",
       "        vertical-align: middle;\n",
       "    }\n",
       "\n",
       "    .dataframe tbody tr th {\n",
       "        vertical-align: top;\n",
       "    }\n",
       "\n",
       "    .dataframe thead th {\n",
       "        text-align: right;\n",
       "    }\n",
       "</style>\n",
       "<table border=\"1\" class=\"dataframe\">\n",
       "  <thead>\n",
       "    <tr style=\"text-align: right;\">\n",
       "      <th></th>\n",
       "      <th>平均気温</th>\n",
       "      <th>最高気温</th>\n",
       "      <th>最低気温</th>\n",
       "      <th>月</th>\n",
       "    </tr>\n",
       "    <tr>\n",
       "      <th>日付</th>\n",
       "      <th></th>\n",
       "      <th></th>\n",
       "      <th></th>\n",
       "      <th></th>\n",
       "    </tr>\n",
       "  </thead>\n",
       "  <tbody>\n",
       "    <tr>\n",
       "      <th>2021-01-01</th>\n",
       "      <td>4.4</td>\n",
       "      <td>10.5</td>\n",
       "      <td>-1.3</td>\n",
       "      <td>1</td>\n",
       "    </tr>\n",
       "    <tr>\n",
       "      <th>2021-01-02</th>\n",
       "      <td>4.8</td>\n",
       "      <td>10.8</td>\n",
       "      <td>0.1</td>\n",
       "      <td>1</td>\n",
       "    </tr>\n",
       "    <tr>\n",
       "      <th>2021-01-03</th>\n",
       "      <td>3.7</td>\n",
       "      <td>8.4</td>\n",
       "      <td>-0.4</td>\n",
       "      <td>1</td>\n",
       "    </tr>\n",
       "    <tr>\n",
       "      <th>2021-01-04</th>\n",
       "      <td>5.8</td>\n",
       "      <td>11.4</td>\n",
       "      <td>1.3</td>\n",
       "      <td>1</td>\n",
       "    </tr>\n",
       "    <tr>\n",
       "      <th>2021-01-05</th>\n",
       "      <td>6.0</td>\n",
       "      <td>10.0</td>\n",
       "      <td>2.5</td>\n",
       "      <td>1</td>\n",
       "    </tr>\n",
       "  </tbody>\n",
       "</table>\n",
       "</div>"
      ],
      "text/plain": [
       "            平均気温  最高気温  最低気温  月\n",
       "日付                             \n",
       "2021-01-01   4.4  10.5  -1.3  1\n",
       "2021-01-02   4.8  10.8   0.1  1\n",
       "2021-01-03   3.7   8.4  -0.4  1\n",
       "2021-01-04   5.8  11.4   1.3  1\n",
       "2021-01-05   6.0  10.0   2.5  1"
      ]
     },
     "execution_count": 12,
     "metadata": {},
     "output_type": "execute_result"
    }
   ],
   "source": [
    "df = pd.read_csv(\n",
    "    '../data/bar.csv',\n",
    "    index_col=0,\n",
    "    parse_dates=True,\n",
    "    date_parser=lambda x: pd.to_datetime(x, format='%Y/%m/%d') # 文字列から時間にする\n",
    "    )\n",
    "df.head()"
   ]
  },
  {
   "cell_type": "code",
   "execution_count": 13,
   "metadata": {},
   "outputs": [],
   "source": [
    "mean_datas = [df[column].resample(\"M\").mean() for column in df.columns[:-1]]\n",
    "std_datas = [df[column].resample(\"M\").std() for column in df.columns[:-1]]\n",
    "dates = list({f\"{i.year}{i.month:02}\" for i in df.index.unique()})\n",
    "upper = [temp + e for temp, e in zip(mean_datas, std_datas)]\n",
    "lower = [temp - e for temp, e in zip(mean_datas, std_datas)]\n",
    "# dates = list(dates)"
   ]
  },
  {
   "cell_type": "code",
   "execution_count": 14,
   "metadata": {},
   "outputs": [],
   "source": [
    "data = {\n",
    "    \"年月\":dates,\n",
    "    \"平均気温\":mean_datas[0],\n",
    "    \"最高気温\":mean_datas[1],\n",
    "    \"最低気温\":mean_datas[2]}\n",
    "\n",
    "source = ColumnDataSource(data)"
   ]
  },
  {
   "cell_type": "code",
   "execution_count": 15,
   "metadata": {},
   "outputs": [
    {
     "data": {
      "text/html": [
       "\n",
       "  <div id=\"e42cb4e5-19d7-4055-9a0a-e0d9f03acd60\" data-root-id=\"p1428\" style=\"display: contents;\"></div>\n"
      ]
     },
     "metadata": {},
     "output_type": "display_data"
    },
    {
     "data": {
      "application/javascript": "(function(root) {\n  function embed_document(root) {\n  const docs_json = {\"5640153a-c514-4c51-88fe-f37f84eec2d7\":{\"version\":\"3.3.2\",\"title\":\"Bokeh Application\",\"roots\":[{\"type\":\"object\",\"name\":\"Figure\",\"id\":\"p1428\",\"attributes\":{\"width\":800,\"height\":500,\"x_range\":{\"type\":\"object\",\"name\":\"FactorRange\",\"id\":\"p1437\",\"attributes\":{\"factors\":[\"202106\",\"202104\",\"202108\",\"202109\",\"202110\",\"202102\",\"202107\",\"202111\",\"202112\",\"202105\",\"202103\",\"202101\"],\"range_padding\":0.1}},\"y_range\":{\"type\":\"object\",\"name\":\"DataRange1d\",\"id\":\"p1430\"},\"x_scale\":{\"type\":\"object\",\"name\":\"CategoricalScale\",\"id\":\"p1438\"},\"y_scale\":{\"type\":\"object\",\"name\":\"LinearScale\",\"id\":\"p1439\"},\"title\":{\"type\":\"object\",\"name\":\"Title\",\"id\":\"p1435\"},\"renderers\":[{\"type\":\"object\",\"name\":\"GlyphRenderer\",\"id\":\"p1468\",\"attributes\":{\"data_source\":{\"type\":\"object\",\"name\":\"ColumnDataSource\",\"id\":\"p1425\",\"attributes\":{\"selected\":{\"type\":\"object\",\"name\":\"Selection\",\"id\":\"p1426\",\"attributes\":{\"indices\":[],\"line_indices\":[]}},\"selection_policy\":{\"type\":\"object\",\"name\":\"UnionRenderers\",\"id\":\"p1427\"},\"data\":{\"type\":\"map\",\"entries\":[[\"\\u5e74\\u6708\",[\"202106\",\"202104\",\"202108\",\"202109\",\"202110\",\"202102\",\"202107\",\"202111\",\"202112\",\"202105\",\"202103\",\"202101\"]],[\"\\u5e73\\u5747\\u6c17\\u6e29\",{\"type\":\"ndarray\",\"array\":{\"type\":\"bytes\",\"data\":\"oyc4eoKjFUBmZmZmZuYgQIfqdqhuhylANtBpA502LkCamZmZmZkzQG2g0wY6rTZAa6211lrrOUDqdqhuh2o7QJb8YskvVjZAq0i8isQrMkBgLPnFkl8rQJe/ZPlLlh9A\"},\"shape\":[12],\"dtype\":\"float64\",\"order\":\"little\"}],[\"\\u6700\\u9ad8\\u6c17\\u6e29\",{\"type\":\"ndarray\",\"array\":{\"type\":\"bytes\",\"data\":\"jp7g6AmOJEChDuqgDuorQG0a0KYB7TFAERERERGRNECdc8455xw4QBERERERUTtATQPaNKBNPkCbBrRpQJs/QLWBThvoNDpAOHqCoye4NkDXo3A9CpcyQPIqEq8i8ShA\"},\"shape\":[12],\"dtype\":\"float64\",\"order\":\"little\"}],[\"\\u6700\\u4f4e\\u6c17\\u6e29\",{\"type\":\"ndarray\",\"array\":{\"type\":\"bytes\",\"data\":\"ViReReJV9D8lSZIkSZIKQKrbobodqiBAKVyPwvWoJEBd2MeFfVwvQOF6FK5HYTNAZmZmZmbmNkBPcPQER084QEfhehSuRzNAXdjHhX1cLUDkF0t+sWQjQKMnOHqCow9A\"},\"shape\":[12],\"dtype\":\"float64\",\"order\":\"little\"}]]}}},\"view\":{\"type\":\"object\",\"name\":\"CDSView\",\"id\":\"p1469\",\"attributes\":{\"filter\":{\"type\":\"object\",\"name\":\"AllIndices\",\"id\":\"p1470\"}}},\"glyph\":{\"type\":\"object\",\"name\":\"VBar\",\"id\":\"p1465\",\"attributes\":{\"x\":{\"type\":\"field\",\"field\":\"\\u5e74\\u6708\",\"transform\":{\"type\":\"object\",\"name\":\"Dodge\",\"id\":\"p1461\",\"attributes\":{\"value\":-0.25,\"range\":{\"id\":\"p1437\"}}}},\"width\":{\"type\":\"value\",\"value\":0.2},\"top\":{\"type\":\"field\",\"field\":\"\\u5e73\\u5747\\u6c17\\u6e29\"},\"line_color\":{\"type\":\"value\",\"value\":\"#e41a1c\"},\"fill_color\":{\"type\":\"value\",\"value\":\"#e41a1c\"},\"hatch_color\":{\"type\":\"value\",\"value\":\"#e41a1c\"}}},\"nonselection_glyph\":{\"type\":\"object\",\"name\":\"VBar\",\"id\":\"p1466\",\"attributes\":{\"x\":{\"type\":\"field\",\"field\":\"\\u5e74\\u6708\",\"transform\":{\"id\":\"p1461\"}},\"width\":{\"type\":\"value\",\"value\":0.2},\"top\":{\"type\":\"field\",\"field\":\"\\u5e73\\u5747\\u6c17\\u6e29\"},\"line_color\":{\"type\":\"value\",\"value\":\"#e41a1c\"},\"line_alpha\":{\"type\":\"value\",\"value\":0.1},\"fill_color\":{\"type\":\"value\",\"value\":\"#e41a1c\"},\"fill_alpha\":{\"type\":\"value\",\"value\":0.1},\"hatch_color\":{\"type\":\"value\",\"value\":\"#e41a1c\"},\"hatch_alpha\":{\"type\":\"value\",\"value\":0.1}}},\"muted_glyph\":{\"type\":\"object\",\"name\":\"VBar\",\"id\":\"p1467\",\"attributes\":{\"x\":{\"type\":\"field\",\"field\":\"\\u5e74\\u6708\",\"transform\":{\"id\":\"p1461\"}},\"width\":{\"type\":\"value\",\"value\":0.2},\"top\":{\"type\":\"field\",\"field\":\"\\u5e73\\u5747\\u6c17\\u6e29\"},\"line_color\":{\"type\":\"value\",\"value\":\"#e41a1c\"},\"line_alpha\":{\"type\":\"value\",\"value\":0.2},\"fill_color\":{\"type\":\"value\",\"value\":\"#e41a1c\"},\"fill_alpha\":{\"type\":\"value\",\"value\":0.2},\"hatch_color\":{\"type\":\"value\",\"value\":\"#e41a1c\"},\"hatch_alpha\":{\"type\":\"value\",\"value\":0.2}}}}},{\"type\":\"object\",\"name\":\"GlyphRenderer\",\"id\":\"p1480\",\"attributes\":{\"data_source\":{\"id\":\"p1425\"},\"view\":{\"type\":\"object\",\"name\":\"CDSView\",\"id\":\"p1481\",\"attributes\":{\"filter\":{\"type\":\"object\",\"name\":\"AllIndices\",\"id\":\"p1482\"}}},\"glyph\":{\"type\":\"object\",\"name\":\"VBar\",\"id\":\"p1477\",\"attributes\":{\"x\":{\"type\":\"field\",\"field\":\"\\u5e74\\u6708\",\"transform\":{\"type\":\"object\",\"name\":\"Dodge\",\"id\":\"p1473\",\"attributes\":{\"range\":{\"id\":\"p1437\"}}}},\"width\":{\"type\":\"value\",\"value\":0.2},\"top\":{\"type\":\"field\",\"field\":\"\\u6700\\u9ad8\\u6c17\\u6e29\"},\"line_color\":{\"type\":\"value\",\"value\":\"#377eb8\"},\"fill_color\":{\"type\":\"value\",\"value\":\"#377eb8\"},\"hatch_color\":{\"type\":\"value\",\"value\":\"#377eb8\"}}},\"nonselection_glyph\":{\"type\":\"object\",\"name\":\"VBar\",\"id\":\"p1478\",\"attributes\":{\"x\":{\"type\":\"field\",\"field\":\"\\u5e74\\u6708\",\"transform\":{\"id\":\"p1473\"}},\"width\":{\"type\":\"value\",\"value\":0.2},\"top\":{\"type\":\"field\",\"field\":\"\\u6700\\u9ad8\\u6c17\\u6e29\"},\"line_color\":{\"type\":\"value\",\"value\":\"#377eb8\"},\"line_alpha\":{\"type\":\"value\",\"value\":0.1},\"fill_color\":{\"type\":\"value\",\"value\":\"#377eb8\"},\"fill_alpha\":{\"type\":\"value\",\"value\":0.1},\"hatch_color\":{\"type\":\"value\",\"value\":\"#377eb8\"},\"hatch_alpha\":{\"type\":\"value\",\"value\":0.1}}},\"muted_glyph\":{\"type\":\"object\",\"name\":\"VBar\",\"id\":\"p1479\",\"attributes\":{\"x\":{\"type\":\"field\",\"field\":\"\\u5e74\\u6708\",\"transform\":{\"id\":\"p1473\"}},\"width\":{\"type\":\"value\",\"value\":0.2},\"top\":{\"type\":\"field\",\"field\":\"\\u6700\\u9ad8\\u6c17\\u6e29\"},\"line_color\":{\"type\":\"value\",\"value\":\"#377eb8\"},\"line_alpha\":{\"type\":\"value\",\"value\":0.2},\"fill_color\":{\"type\":\"value\",\"value\":\"#377eb8\"},\"fill_alpha\":{\"type\":\"value\",\"value\":0.2},\"hatch_color\":{\"type\":\"value\",\"value\":\"#377eb8\"},\"hatch_alpha\":{\"type\":\"value\",\"value\":0.2}}}}},{\"type\":\"object\",\"name\":\"GlyphRenderer\",\"id\":\"p1491\",\"attributes\":{\"data_source\":{\"id\":\"p1425\"},\"view\":{\"type\":\"object\",\"name\":\"CDSView\",\"id\":\"p1492\",\"attributes\":{\"filter\":{\"type\":\"object\",\"name\":\"AllIndices\",\"id\":\"p1493\"}}},\"glyph\":{\"type\":\"object\",\"name\":\"VBar\",\"id\":\"p1488\",\"attributes\":{\"x\":{\"type\":\"field\",\"field\":\"\\u5e74\\u6708\",\"transform\":{\"type\":\"object\",\"name\":\"Dodge\",\"id\":\"p1484\",\"attributes\":{\"value\":0.25,\"range\":{\"id\":\"p1437\"}}}},\"width\":{\"type\":\"value\",\"value\":0.2},\"top\":{\"type\":\"field\",\"field\":\"\\u6700\\u4f4e\\u6c17\\u6e29\"},\"line_color\":{\"type\":\"value\",\"value\":\"#4daf4a\"},\"fill_color\":{\"type\":\"value\",\"value\":\"#4daf4a\"},\"hatch_color\":{\"type\":\"value\",\"value\":\"#4daf4a\"}}},\"nonselection_glyph\":{\"type\":\"object\",\"name\":\"VBar\",\"id\":\"p1489\",\"attributes\":{\"x\":{\"type\":\"field\",\"field\":\"\\u5e74\\u6708\",\"transform\":{\"id\":\"p1484\"}},\"width\":{\"type\":\"value\",\"value\":0.2},\"top\":{\"type\":\"field\",\"field\":\"\\u6700\\u4f4e\\u6c17\\u6e29\"},\"line_color\":{\"type\":\"value\",\"value\":\"#4daf4a\"},\"line_alpha\":{\"type\":\"value\",\"value\":0.1},\"fill_color\":{\"type\":\"value\",\"value\":\"#4daf4a\"},\"fill_alpha\":{\"type\":\"value\",\"value\":0.1},\"hatch_color\":{\"type\":\"value\",\"value\":\"#4daf4a\"},\"hatch_alpha\":{\"type\":\"value\",\"value\":0.1}}},\"muted_glyph\":{\"type\":\"object\",\"name\":\"VBar\",\"id\":\"p1490\",\"attributes\":{\"x\":{\"type\":\"field\",\"field\":\"\\u5e74\\u6708\",\"transform\":{\"id\":\"p1484\"}},\"width\":{\"type\":\"value\",\"value\":0.2},\"top\":{\"type\":\"field\",\"field\":\"\\u6700\\u4f4e\\u6c17\\u6e29\"},\"line_color\":{\"type\":\"value\",\"value\":\"#4daf4a\"},\"line_alpha\":{\"type\":\"value\",\"value\":0.2},\"fill_color\":{\"type\":\"value\",\"value\":\"#4daf4a\"},\"fill_alpha\":{\"type\":\"value\",\"value\":0.2},\"hatch_color\":{\"type\":\"value\",\"value\":\"#4daf4a\"},\"hatch_alpha\":{\"type\":\"value\",\"value\":0.2}}}}}],\"toolbar\":{\"type\":\"object\",\"name\":\"Toolbar\",\"id\":\"p1436\",\"attributes\":{\"tools\":[{\"type\":\"object\",\"name\":\"PanTool\",\"id\":\"p1450\"},{\"type\":\"object\",\"name\":\"WheelZoomTool\",\"id\":\"p1451\",\"attributes\":{\"renderers\":\"auto\"}},{\"type\":\"object\",\"name\":\"BoxZoomTool\",\"id\":\"p1452\",\"attributes\":{\"overlay\":{\"type\":\"object\",\"name\":\"BoxAnnotation\",\"id\":\"p1453\",\"attributes\":{\"syncable\":false,\"level\":\"overlay\",\"visible\":false,\"left\":{\"type\":\"number\",\"value\":\"nan\"},\"right\":{\"type\":\"number\",\"value\":\"nan\"},\"top\":{\"type\":\"number\",\"value\":\"nan\"},\"bottom\":{\"type\":\"number\",\"value\":\"nan\"},\"left_units\":\"canvas\",\"right_units\":\"canvas\",\"top_units\":\"canvas\",\"bottom_units\":\"canvas\",\"line_color\":\"black\",\"line_alpha\":1.0,\"line_width\":2,\"line_dash\":[4,4],\"fill_color\":\"lightgrey\",\"fill_alpha\":0.5}}}},{\"type\":\"object\",\"name\":\"SaveTool\",\"id\":\"p1458\"},{\"type\":\"object\",\"name\":\"ResetTool\",\"id\":\"p1459\"},{\"type\":\"object\",\"name\":\"HelpTool\",\"id\":\"p1460\"}]}},\"left\":[{\"type\":\"object\",\"name\":\"LinearAxis\",\"id\":\"p1445\",\"attributes\":{\"ticker\":{\"type\":\"object\",\"name\":\"BasicTicker\",\"id\":\"p1446\",\"attributes\":{\"mantissas\":[1,2,5]}},\"formatter\":{\"type\":\"object\",\"name\":\"BasicTickFormatter\",\"id\":\"p1447\"},\"axis_label\":\"\\u6e29\\u5ea6[\\u00b0C]\",\"major_label_policy\":{\"type\":\"object\",\"name\":\"AllLabels\",\"id\":\"p1448\"}}}],\"right\":[{\"type\":\"object\",\"name\":\"Legend\",\"id\":\"p1471\",\"attributes\":{\"items\":[{\"type\":\"object\",\"name\":\"LegendItem\",\"id\":\"p1472\",\"attributes\":{\"label\":{\"type\":\"value\",\"value\":\"\\u5e73\\u5747\\u6c17\\u6e29\"},\"renderers\":[{\"id\":\"p1468\"}]}},{\"type\":\"object\",\"name\":\"LegendItem\",\"id\":\"p1483\",\"attributes\":{\"label\":{\"type\":\"value\",\"value\":\"\\u6700\\u9ad8\\u6c17\\u6e29\"},\"renderers\":[{\"id\":\"p1480\"}]}},{\"type\":\"object\",\"name\":\"LegendItem\",\"id\":\"p1494\",\"attributes\":{\"label\":{\"type\":\"value\",\"value\":\"\\u6700\\u4f4e\\u6c17\\u6e29\"},\"renderers\":[{\"id\":\"p1491\"}]}}]}}],\"below\":[{\"type\":\"object\",\"name\":\"CategoricalAxis\",\"id\":\"p1440\",\"attributes\":{\"ticker\":{\"type\":\"object\",\"name\":\"CategoricalTicker\",\"id\":\"p1441\"},\"formatter\":{\"type\":\"object\",\"name\":\"CategoricalTickFormatter\",\"id\":\"p1442\"},\"axis_label\":\"\\u5e74\\u6708\",\"major_label_orientation\":1,\"major_label_policy\":{\"type\":\"object\",\"name\":\"AllLabels\",\"id\":\"p1443\"}}}],\"center\":[{\"type\":\"object\",\"name\":\"Grid\",\"id\":\"p1444\",\"attributes\":{\"axis\":{\"id\":\"p1440\"},\"grid_line_color\":null}},{\"type\":\"object\",\"name\":\"Grid\",\"id\":\"p1449\",\"attributes\":{\"dimension\":1,\"axis\":{\"id\":\"p1445\"}}},{\"id\":\"p1471\"}]}}]}};\n  const render_items = [{\"docid\":\"5640153a-c514-4c51-88fe-f37f84eec2d7\",\"roots\":{\"p1428\":\"e42cb4e5-19d7-4055-9a0a-e0d9f03acd60\"},\"root_ids\":[\"p1428\"]}];\n  root.Bokeh.embed.embed_items_notebook(docs_json, render_items);\n  }\n  if (root.Bokeh !== undefined) {\n    embed_document(root);\n  } else {\n    let attempts = 0;\n    const timer = setInterval(function(root) {\n      if (root.Bokeh !== undefined) {\n        clearInterval(timer);\n        embed_document(root);\n      } else {\n        attempts++;\n        if (attempts > 100) {\n          clearInterval(timer);\n          console.log(\"Bokeh: ERROR: Unable to run BokehJS code because BokehJS library is missing\");\n        }\n      }\n    }, 10, root)\n  }\n})(window);",
      "application/vnd.bokehjs_exec.v0+json": ""
     },
     "metadata": {
      "application/vnd.bokehjs_exec.v0+json": {
       "id": "p1428"
      }
     },
     "output_type": "display_data"
    }
   ],
   "source": [
    "from bokeh.transform import dodge\n",
    "import datetime\n",
    "from bokeh.models import Whisker\n",
    "\n",
    "color_palette = palettes.Set1[3]\n",
    "\n",
    "p = figure(x_range=dates, width=800, height=500)\n",
    "\n",
    "for i, temp_type in enumerate([\"平均気温\", \"最高気温\", \"最低気温\"]):\n",
    "    p.vbar(\n",
    "        x=dodge(field_name=\"年月\", value=-0.25+0.25*i, range=p.x_range),\n",
    "        top=temp_type,\n",
    "        source=source,\n",
    "        width=0.2,\n",
    "        color=color_palette[i],\n",
    "        legend_label=temp_type)\n",
    "\n",
    "p.x_range.range_padding = 0.1\n",
    "p.xaxis.major_label_orientation = 1\n",
    "p.xgrid.grid_line_color = None\n",
    "p.xaxis.axis_label = \"年月\"\n",
    "p.yaxis.axis_label = \"温度[°C]\"\n",
    "# p.legend.orientation = \"horizontal\"\n",
    "p.add_layout(p.legend[0], place=\"right\")\n",
    "\n",
    "show(p)"
   ]
  },
  {
   "attachments": {},
   "cell_type": "markdown",
   "metadata": {},
   "source": [
    "# 箱ヒゲ図\n",
    "データの分散をあらわすための可視化。図中では線の両端が最小値・最大値。箱の左側が第1四分位点、赤と緑の間の線が中央値、右側が第3四分位点となる。これによってラベル毎に数値のばらつきがどの程度あるか？ということを概ね理解することができる。この箱の部分が狭いほどその範囲に数値が集中していることを意味し、箱が広いほど数値がばらついていると読み取ることができる。たまに平均値を算出して棒グラフで表現するグラフを見かけるが、それだと数値が一部に集中しているのか、それともばらけているのか、ということまで分からないため、データの性質を見るという目的なら箱ひげ図のほうが望ましい。<br>\n",
    "データはhttps://www.geeksforgeeks.org/box-plot-visualization-with-pandas-and-seaborn/を使用"
   ]
  },
  {
   "cell_type": "code",
   "execution_count": 16,
   "metadata": {},
   "outputs": [
    {
     "data": {
      "text/html": [
       "<div>\n",
       "<style scoped>\n",
       "    .dataframe tbody tr th:only-of-type {\n",
       "        vertical-align: middle;\n",
       "    }\n",
       "\n",
       "    .dataframe tbody tr th {\n",
       "        vertical-align: top;\n",
       "    }\n",
       "\n",
       "    .dataframe thead th {\n",
       "        text-align: right;\n",
       "    }\n",
       "</style>\n",
       "<table border=\"1\" class=\"dataframe\">\n",
       "  <thead>\n",
       "    <tr style=\"text-align: right;\">\n",
       "      <th></th>\n",
       "      <th>total_bill</th>\n",
       "      <th>tip</th>\n",
       "      <th>sex</th>\n",
       "      <th>smoker</th>\n",
       "      <th>day</th>\n",
       "      <th>time</th>\n",
       "      <th>size</th>\n",
       "    </tr>\n",
       "  </thead>\n",
       "  <tbody>\n",
       "    <tr>\n",
       "      <th>0</th>\n",
       "      <td>16.99</td>\n",
       "      <td>1.01</td>\n",
       "      <td>Female</td>\n",
       "      <td>No</td>\n",
       "      <td>Sun</td>\n",
       "      <td>Dinner</td>\n",
       "      <td>2</td>\n",
       "    </tr>\n",
       "    <tr>\n",
       "      <th>1</th>\n",
       "      <td>10.34</td>\n",
       "      <td>1.66</td>\n",
       "      <td>Male</td>\n",
       "      <td>No</td>\n",
       "      <td>Sun</td>\n",
       "      <td>Dinner</td>\n",
       "      <td>3</td>\n",
       "    </tr>\n",
       "    <tr>\n",
       "      <th>2</th>\n",
       "      <td>21.01</td>\n",
       "      <td>3.50</td>\n",
       "      <td>Male</td>\n",
       "      <td>No</td>\n",
       "      <td>Sun</td>\n",
       "      <td>Dinner</td>\n",
       "      <td>3</td>\n",
       "    </tr>\n",
       "  </tbody>\n",
       "</table>\n",
       "</div>"
      ],
      "text/plain": [
       "   total_bill   tip     sex smoker  day    time  size\n",
       "0       16.99  1.01  Female     No  Sun  Dinner     2\n",
       "1       10.34  1.66    Male     No  Sun  Dinner     3\n",
       "2       21.01  3.50    Male     No  Sun  Dinner     3"
      ]
     },
     "metadata": {},
     "output_type": "display_data"
    },
    {
     "data": {
      "text/plain": [
       "day       \n",
       "Fri   0.25    12.0950\n",
       "      0.50    15.3800\n",
       "      0.75    21.7500\n",
       "Sat   0.25    13.9050\n",
       "      0.50    18.2400\n",
       "      0.75    24.7400\n",
       "Sun   0.25    14.9875\n",
       "      0.50    19.6300\n",
       "      0.75    25.5975\n",
       "Thur  0.25    12.4425\n",
       "      0.50    16.2000\n",
       "      0.75    20.1550\n",
       "Name: total_bill, dtype: float64"
      ]
     },
     "metadata": {},
     "output_type": "display_data"
    },
    {
     "data": {
      "text/html": [
       "<div>\n",
       "<style scoped>\n",
       "    .dataframe tbody tr th:only-of-type {\n",
       "        vertical-align: middle;\n",
       "    }\n",
       "\n",
       "    .dataframe tbody tr th {\n",
       "        vertical-align: top;\n",
       "    }\n",
       "\n",
       "    .dataframe thead th {\n",
       "        text-align: right;\n",
       "    }\n",
       "</style>\n",
       "<table border=\"1\" class=\"dataframe\">\n",
       "  <thead>\n",
       "    <tr style=\"text-align: right;\">\n",
       "      <th></th>\n",
       "      <th>day</th>\n",
       "      <th>q1</th>\n",
       "      <th>q2</th>\n",
       "      <th>q3</th>\n",
       "    </tr>\n",
       "  </thead>\n",
       "  <tbody>\n",
       "    <tr>\n",
       "      <th>0</th>\n",
       "      <td>Fri</td>\n",
       "      <td>12.0950</td>\n",
       "      <td>15.38</td>\n",
       "      <td>21.7500</td>\n",
       "    </tr>\n",
       "    <tr>\n",
       "      <th>1</th>\n",
       "      <td>Sat</td>\n",
       "      <td>13.9050</td>\n",
       "      <td>18.24</td>\n",
       "      <td>24.7400</td>\n",
       "    </tr>\n",
       "    <tr>\n",
       "      <th>2</th>\n",
       "      <td>Sun</td>\n",
       "      <td>14.9875</td>\n",
       "      <td>19.63</td>\n",
       "      <td>25.5975</td>\n",
       "    </tr>\n",
       "    <tr>\n",
       "      <th>3</th>\n",
       "      <td>Thur</td>\n",
       "      <td>12.4425</td>\n",
       "      <td>16.20</td>\n",
       "      <td>20.1550</td>\n",
       "    </tr>\n",
       "  </tbody>\n",
       "</table>\n",
       "</div>"
      ],
      "text/plain": [
       "    day       q1     q2       q3\n",
       "0   Fri  12.0950  15.38  21.7500\n",
       "1   Sat  13.9050  18.24  24.7400\n",
       "2   Sun  14.9875  19.63  25.5975\n",
       "3  Thur  12.4425  16.20  20.1550"
      ]
     },
     "metadata": {},
     "output_type": "display_data"
    },
    {
     "data": {
      "text/html": [
       "<div>\n",
       "<style scoped>\n",
       "    .dataframe tbody tr th:only-of-type {\n",
       "        vertical-align: middle;\n",
       "    }\n",
       "\n",
       "    .dataframe tbody tr th {\n",
       "        vertical-align: top;\n",
       "    }\n",
       "\n",
       "    .dataframe thead th {\n",
       "        text-align: right;\n",
       "    }\n",
       "</style>\n",
       "<table border=\"1\" class=\"dataframe\">\n",
       "  <thead>\n",
       "    <tr style=\"text-align: right;\">\n",
       "      <th></th>\n",
       "      <th>total_bill</th>\n",
       "      <th>tip</th>\n",
       "      <th>sex</th>\n",
       "      <th>smoker</th>\n",
       "      <th>day</th>\n",
       "      <th>time</th>\n",
       "      <th>size</th>\n",
       "      <th>q1</th>\n",
       "      <th>q2</th>\n",
       "      <th>q3</th>\n",
       "      <th>upper</th>\n",
       "      <th>lower</th>\n",
       "    </tr>\n",
       "  </thead>\n",
       "  <tbody>\n",
       "    <tr>\n",
       "      <th>0</th>\n",
       "      <td>16.99</td>\n",
       "      <td>1.01</td>\n",
       "      <td>Female</td>\n",
       "      <td>No</td>\n",
       "      <td>Sun</td>\n",
       "      <td>Dinner</td>\n",
       "      <td>2</td>\n",
       "      <td>14.9875</td>\n",
       "      <td>19.63</td>\n",
       "      <td>25.5975</td>\n",
       "      <td>41.5125</td>\n",
       "      <td>7.25</td>\n",
       "    </tr>\n",
       "    <tr>\n",
       "      <th>1</th>\n",
       "      <td>10.34</td>\n",
       "      <td>1.66</td>\n",
       "      <td>Male</td>\n",
       "      <td>No</td>\n",
       "      <td>Sun</td>\n",
       "      <td>Dinner</td>\n",
       "      <td>3</td>\n",
       "      <td>14.9875</td>\n",
       "      <td>19.63</td>\n",
       "      <td>25.5975</td>\n",
       "      <td>41.5125</td>\n",
       "      <td>7.25</td>\n",
       "    </tr>\n",
       "    <tr>\n",
       "      <th>2</th>\n",
       "      <td>21.01</td>\n",
       "      <td>3.50</td>\n",
       "      <td>Male</td>\n",
       "      <td>No</td>\n",
       "      <td>Sun</td>\n",
       "      <td>Dinner</td>\n",
       "      <td>3</td>\n",
       "      <td>14.9875</td>\n",
       "      <td>19.63</td>\n",
       "      <td>25.5975</td>\n",
       "      <td>41.5125</td>\n",
       "      <td>7.25</td>\n",
       "    </tr>\n",
       "  </tbody>\n",
       "</table>\n",
       "</div>"
      ],
      "text/plain": [
       "   total_bill   tip     sex smoker  day    time  size       q1     q2  \\\n",
       "0       16.99  1.01  Female     No  Sun  Dinner     2  14.9875  19.63   \n",
       "1       10.34  1.66    Male     No  Sun  Dinner     3  14.9875  19.63   \n",
       "2       21.01  3.50    Male     No  Sun  Dinner     3  14.9875  19.63   \n",
       "\n",
       "        q3    upper  lower  \n",
       "0  25.5975  41.5125   7.25  \n",
       "1  25.5975  41.5125   7.25  \n",
       "2  25.5975  41.5125   7.25  "
      ]
     },
     "metadata": {},
     "output_type": "display_data"
    }
   ],
   "source": [
    "df = pd.read_csv('../data/box_plot.csv')\n",
    "display(df.head(3))\n",
    "qs = df.groupby([\"day\"])[\"total_bill\"].quantile([0.25, 0.5, 0.75])\n",
    "display(qs)\n",
    "qs = qs.unstack().reset_index()\n",
    "qs.columns = [\"day\", \"q1\", \"q2\", \"q3\"]\n",
    "display(qs.head())\n",
    "df = pd.merge(df, qs, on=\"day\", how=\"left\")\n",
    "iqr = df[\"q3\"] - df[\"q1\"]\n",
    "\n",
    "df[\"upper\"] = df[\"q3\"] + 1.5*iqr\n",
    "df[\"lower\"] = df[\"q1\"] - 1.5*iqr\n",
    "days = df[\"day\"].unique()\n",
    "for day in days:\n",
    "    idx = df[df[\"day\"]==day].index\n",
    "    if df.loc[idx, \"total_bill\"].max() < df.loc[idx, \"upper\"].max():\n",
    "        df.loc[idx, \"upper\"] = df.loc[idx, \"total_bill\"].max()\n",
    "    if df.loc[idx, \"total_bill\"].min() > df.loc[idx, \"lower\"].min():\n",
    "        df.loc[idx, \"lower\"] = df.loc[idx, \"total_bill\"].min()\n",
    "\n",
    "display(df.head(3))\n"
   ]
  },
  {
   "cell_type": "code",
   "execution_count": 17,
   "metadata": {},
   "outputs": [
    {
     "data": {
      "text/html": [
       "\n",
       "  <div id=\"a7ba8730-6a95-47a8-a2af-46020360eea2\" data-root-id=\"p1501\" style=\"display: contents;\"></div>\n"
      ]
     },
     "metadata": {},
     "output_type": "display_data"
    },
    {
     "data": {
      "application/javascript": "(function(root) {\n  function embed_document(root) {\n  const docs_json = {\"11bee6f3-52a4-4545-97a9-4a1d827f4e62\":{\"version\":\"3.3.2\",\"title\":\"Bokeh Application\",\"roots\":[{\"type\":\"object\",\"name\":\"Figure\",\"id\":\"p1501\",\"attributes\":{\"x_range\":{\"type\":\"object\",\"name\":\"FactorRange\",\"id\":\"p1511\",\"attributes\":{\"factors\":[\"Sun\",\"Sat\",\"Thur\",\"Fri\"]}},\"y_range\":{\"type\":\"object\",\"name\":\"Range1d\",\"id\":\"p1512\",\"attributes\":{\"end\":60}},\"x_scale\":{\"type\":\"object\",\"name\":\"CategoricalScale\",\"id\":\"p1513\"},\"y_scale\":{\"type\":\"object\",\"name\":\"LinearScale\",\"id\":\"p1514\"},\"title\":{\"type\":\"object\",\"name\":\"Title\",\"id\":\"p1504\",\"attributes\":{\"text\":\"bill and sex\"}},\"renderers\":[{\"type\":\"object\",\"name\":\"GlyphRenderer\",\"id\":\"p1548\",\"attributes\":{\"data_source\":{\"type\":\"object\",\"name\":\"ColumnDataSource\",\"id\":\"p1498\",\"attributes\":{\"selected\":{\"type\":\"object\",\"name\":\"Selection\",\"id\":\"p1499\",\"attributes\":{\"indices\":[],\"line_indices\":[]}},\"selection_policy\":{\"type\":\"object\",\"name\":\"UnionRenderers\",\"id\":\"p1500\"},\"data\":{\"type\":\"map\",\"entries\":[[\"index\",{\"type\":\"ndarray\",\"array\":{\"type\":\"bytes\",\"data\":\"AAAAAAEAAAACAAAAAwAAAAQAAAAFAAAABgAAAAcAAAAIAAAACQAAAAoAAAALAAAADAAAAA0AAAAOAAAADwAAABAAAAARAAAAEgAAABMAAAAUAAAAFQAAABYAAAAXAAAAGAAAABkAAAAaAAAAGwAAABwAAAAdAAAAHgAAAB8AAAAgAAAAIQAAACIAAAAjAAAAJAAAACUAAAAmAAAAJwAAACgAAAApAAAAKgAAACsAAAAsAAAALQAAAC4AAAAvAAAAMAAAADEAAAAyAAAAMwAAADQAAAA1AAAANgAAADcAAAA4AAAAOQAAADoAAAA7AAAAPAAAAD0AAAA+AAAAPwAAAEAAAABBAAAAQgAAAEMAAABEAAAARQAAAEYAAABHAAAASAAAAEkAAABKAAAASwAAAEwAAABNAAAATgAAAE8AAABQAAAAUQAAAFIAAABTAAAAVAAAAFUAAABWAAAAVwAAAFgAAABZAAAAWgAAAFsAAABcAAAAXQAAAF4AAABfAAAAYAAAAGEAAABiAAAAYwAAAGQAAABlAAAAZgAAAGcAAABoAAAAaQAAAGoAAABrAAAAbAAAAG0AAABuAAAAbwAAAHAAAABxAAAAcgAAAHMAAAB0AAAAdQAAAHYAAAB3AAAAeAAAAHkAAAB6AAAAewAAAHwAAAB9AAAAfgAAAH8AAACAAAAAgQAAAIIAAACDAAAAhAAAAIUAAACGAAAAhwAAAIgAAACJAAAAigAAAIsAAACMAAAAjQAAAI4AAACPAAAAkAAAAJEAAACSAAAAkwAAAJQAAACVAAAAlgAAAJcAAACYAAAAmQAAAJoAAACbAAAAnAAAAJ0AAACeAAAAnwAAAKAAAAChAAAAogAAAKMAAACkAAAApQAAAKYAAACnAAAAqAAAAKkAAACqAAAAqwAAAKwAAACtAAAArgAAAK8AAACwAAAAsQAAALIAAACzAAAAtAAAALUAAAC2AAAAtwAAALgAAAC5AAAAugAAALsAAAC8AAAAvQAAAL4AAAC/AAAAwAAAAMEAAADCAAAAwwAAAMQAAADFAAAAxgAAAMcAAADIAAAAyQAAAMoAAADLAAAAzAAAAM0AAADOAAAAzwAAANAAAADRAAAA0gAAANMAAADUAAAA1QAAANYAAADXAAAA2AAAANkAAADaAAAA2wAAANwAAADdAAAA3gAAAN8AAADgAAAA4QAAAOIAAADjAAAA5AAAAOUAAADmAAAA5wAAAOgAAADpAAAA6gAAAOsAAADsAAAA7QAAAO4AAADvAAAA8AAAAPEAAADyAAAA8wAAAA==\"},\"shape\":[244],\"dtype\":\"int32\",\"order\":\"little\"}],[\"total_bill\",{\"type\":\"ndarray\",\"array\":{\"type\":\"bytes\",\"data\":\"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\"},\"shape\":[244],\"dtype\":\"float64\",\"order\":\"little\"}],[\"tip\",{\"type\":\"ndarray\",\"array\":{\"type\":\"bytes\",\"data\":\"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\"},\"shape\":[244],\"dtype\":\"float64\",\"order\":\"little\"}],[\"sex\",{\"type\":\"ndarray\",\"array\":[\"Female\",\"Male\",\"Male\",\"Male\",\"Female\",\"Male\",\"Male\",\"Male\",\"Male\",\"Male\",\"Male\",\"Female\",\"Male\",\"Male\",\"Female\",\"Male\",\"Female\",\"Male\",\"Female\",\"Male\",\"Male\",\"Female\",\"Female\",\"Male\",\"Male\",\"Male\",\"Male\",\"Male\",\"Male\",\"Female\",\"Male\",\"Male\",\"Female\",\"Female\",\"Male\",\"Male\",\"Male\",\"Female\",\"Male\",\"Male\",\"Male\",\"Male\",\"Male\",\"Male\",\"Male\",\"Male\",\"Male\",\"Male\",\"Male\",\"Male\",\"Male\",\"Female\",\"Female\",\"Male\",\"Male\",\"Male\",\"Male\",\"Female\",\"Male\",\"Male\",\"Male\",\"Male\",\"Male\",\"Male\",\"Male\",\"Male\",\"Female\",\"Female\",\"Male\",\"Male\",\"Male\",\"Female\",\"Female\",\"Female\",\"Female\",\"Male\",\"Male\",\"Male\",\"Male\",\"Male\",\"Male\",\"Male\",\"Female\",\"Male\",\"Male\",\"Female\",\"Male\",\"Male\",\"Male\",\"Male\",\"Male\",\"Male\",\"Female\",\"Female\",\"Female\",\"Male\",\"Male\",\"Male\",\"Male\",\"Male\",\"Female\",\"Female\",\"Female\",\"Female\",\"Female\",\"Male\",\"Male\",\"Male\",\"Male\",\"Female\",\"Male\",\"Female\",\"Male\",\"Male\",\"Female\",\"Female\",\"Male\",\"Female\",\"Female\",\"Female\",\"Male\",\"Female\",\"Male\",\"Male\",\"Female\",\"Female\",\"Male\",\"Female\",\"Female\",\"Male\",\"Male\",\"Female\",\"Female\",\"Female\",\"Female\",\"Female\",\"Female\",\"Female\",\"Male\",\"Female\",\"Female\",\"Male\",\"Male\",\"Female\",\"Female\",\"Female\",\"Female\",\"Female\",\"Male\",\"Male\",\"Male\",\"Male\",\"Male\",\"Male\",\"Male\",\"Female\",\"Male\",\"Female\",\"Female\",\"Male\",\"Male\",\"Male\",\"Female\",\"Male\",\"Female\",\"Male\",\"Male\",\"Male\",\"Female\",\"Female\",\"Male\",\"Male\",\"Male\",\"Male\",\"Male\",\"Male\",\"Male\",\"Male\",\"Female\",\"Male\",\"Male\",\"Male\",\"Male\",\"Male\",\"Male\",\"Male\",\"Female\",\"Male\",\"Female\",\"Male\",\"Male\",\"Female\",\"Male\",\"Male\",\"Male\",\"Male\",\"Male\",\"Female\",\"Female\",\"Male\",\"Male\",\"Female\",\"Female\",\"Female\",\"Male\",\"Female\",\"Male\",\"Male\",\"Male\",\"Female\",\"Male\",\"Male\",\"Male\",\"Female\",\"Female\",\"Female\",\"Male\",\"Male\",\"Male\",\"Female\",\"Male\",\"Female\",\"Male\",\"Female\",\"Male\",\"Female\",\"Female\",\"Male\",\"Male\",\"Female\",\"Male\",\"Male\",\"Male\",\"Male\",\"Male\",\"Male\",\"Male\",\"Male\",\"Female\",\"Male\",\"Female\",\"Male\",\"Male\",\"Female\"],\"shape\":[244],\"dtype\":\"object\",\"order\":\"little\"}],[\"smoker\",{\"type\":\"ndarray\",\"array\":[\"No\",\"No\",\"No\",\"No\",\"No\",\"No\",\"No\",\"No\",\"No\",\"No\",\"No\",\"No\",\"No\",\"No\",\"No\",\"No\",\"No\",\"No\",\"No\",\"No\",\"No\",\"No\",\"No\",\"No\",\"No\",\"No\",\"No\",\"No\",\"No\",\"No\",\"No\",\"No\",\"No\",\"No\",\"No\",\"No\",\"No\",\"No\",\"No\",\"No\",\"No\",\"No\",\"No\",\"No\",\"No\",\"No\",\"No\",\"No\",\"No\",\"No\",\"No\",\"No\",\"No\",\"No\",\"No\",\"No\",\"Yes\",\"No\",\"Yes\",\"No\",\"Yes\",\"Yes\",\"Yes\",\"Yes\",\"No\",\"No\",\"No\",\"Yes\",\"No\",\"Yes\",\"No\",\"No\",\"Yes\",\"Yes\",\"No\",\"No\",\"Yes\",\"No\",\"No\",\"No\",\"Yes\",\"No\",\"No\",\"Yes\",\"No\",\"No\",\"No\",\"No\",\"No\",\"No\",\"Yes\",\"No\",\"Yes\",\"Yes\",\"No\",\"Yes\",\"Yes\",\"Yes\",\"Yes\",\"No\",\"Yes\",\"Yes\",\"Yes\",\"Yes\",\"No\",\"Yes\",\"Yes\",\"Yes\",\"No\",\"Yes\",\"No\",\"No\",\"No\",\"No\",\"No\",\"No\",\"No\",\"No\",\"No\",\"No\",\"No\",\"No\",\"No\",\"No\",\"No\",\"No\",\"No\",\"No\",\"No\",\"No\",\"No\",\"No\",\"No\",\"No\",\"No\",\"No\",\"No\",\"No\",\"Yes\",\"No\",\"No\",\"No\",\"No\",\"No\",\"No\",\"No\",\"No\",\"No\",\"No\",\"No\",\"No\",\"No\",\"No\",\"No\",\"No\",\"No\",\"No\",\"No\",\"No\",\"No\",\"No\",\"No\",\"No\",\"No\",\"Yes\",\"No\",\"No\",\"No\",\"Yes\",\"Yes\",\"Yes\",\"Yes\",\"Yes\",\"Yes\",\"Yes\",\"Yes\",\"Yes\",\"Yes\",\"Yes\",\"Yes\",\"Yes\",\"Yes\",\"Yes\",\"Yes\",\"Yes\",\"No\",\"Yes\",\"Yes\",\"Yes\",\"Yes\",\"Yes\",\"Yes\",\"Yes\",\"Yes\",\"Yes\",\"No\",\"Yes\",\"Yes\",\"Yes\",\"Yes\",\"Yes\",\"Yes\",\"Yes\",\"Yes\",\"Yes\",\"Yes\",\"Yes\",\"Yes\",\"Yes\",\"Yes\",\"Yes\",\"Yes\",\"No\",\"Yes\",\"Yes\",\"Yes\",\"Yes\",\"Yes\",\"Yes\",\"Yes\",\"Yes\",\"Yes\",\"Yes\",\"No\",\"Yes\",\"Yes\",\"Yes\",\"No\",\"No\",\"Yes\",\"Yes\",\"Yes\",\"No\",\"No\",\"Yes\",\"No\",\"Yes\",\"Yes\",\"No\",\"No\",\"Yes\",\"Yes\",\"No\",\"No\"],\"shape\":[244],\"dtype\":\"object\",\"order\":\"little\"}],[\"day\",{\"type\":\"ndarray\",\"array\":[\"Sun\",\"Sun\",\"Sun\",\"Sun\",\"Sun\",\"Sun\",\"Sun\",\"Sun\",\"Sun\",\"Sun\",\"Sun\",\"Sun\",\"Sun\",\"Sun\",\"Sun\",\"Sun\",\"Sun\",\"Sun\",\"Sun\",\"Sat\",\"Sat\",\"Sat\",\"Sat\",\"Sat\",\"Sat\",\"Sat\",\"Sat\",\"Sat\",\"Sat\",\"Sat\",\"Sat\",\"Sat\",\"Sat\",\"Sat\",\"Sat\",\"Sat\",\"Sat\",\"Sat\",\"Sat\",\"Sat\",\"Sat\",\"Sun\",\"Sun\",\"Sun\",\"Sun\",\"Sun\",\"Sun\",\"Sun\",\"Sun\",\"Sun\",\"Sun\",\"Sun\",\"Sun\",\"Sun\",\"Sun\",\"Sun\",\"Sat\",\"Sat\",\"Sat\",\"Sat\",\"Sat\",\"Sat\",\"Sat\",\"Sat\",\"Sat\",\"Sat\",\"Sat\",\"Sat\",\"Sat\",\"Sat\",\"Sat\",\"Sat\",\"Sat\",\"Sat\",\"Sat\",\"Sat\",\"Sat\",\"Thur\",\"Thur\",\"Thur\",\"Thur\",\"Thur\",\"Thur\",\"Thur\",\"Thur\",\"Thur\",\"Thur\",\"Thur\",\"Thur\",\"Thur\",\"Fri\",\"Fri\",\"Fri\",\"Fri\",\"Fri\",\"Fri\",\"Fri\",\"Fri\",\"Fri\",\"Fri\",\"Fri\",\"Fri\",\"Sat\",\"Sat\",\"Sat\",\"Sat\",\"Sat\",\"Sat\",\"Sat\",\"Sat\",\"Sat\",\"Sat\",\"Sun\",\"Sun\",\"Sun\",\"Sun\",\"Sun\",\"Thur\",\"Thur\",\"Thur\",\"Thur\",\"Thur\",\"Thur\",\"Thur\",\"Thur\",\"Thur\",\"Thur\",\"Thur\",\"Thur\",\"Thur\",\"Thur\",\"Thur\",\"Thur\",\"Thur\",\"Thur\",\"Thur\",\"Thur\",\"Thur\",\"Thur\",\"Thur\",\"Thur\",\"Thur\",\"Thur\",\"Thur\",\"Thur\",\"Thur\",\"Thur\",\"Thur\",\"Thur\",\"Thur\",\"Sun\",\"Sun\",\"Sun\",\"Sun\",\"Sun\",\"Sun\",\"Sun\",\"Sun\",\"Sun\",\"Sun\",\"Sun\",\"Sun\",\"Sun\",\"Sun\",\"Sun\",\"Sun\",\"Sun\",\"Sun\",\"Sat\",\"Sat\",\"Sat\",\"Sat\",\"Sun\",\"Sun\",\"Sun\",\"Sun\",\"Sun\",\"Sun\",\"Sun\",\"Sun\",\"Sun\",\"Sun\",\"Sun\",\"Sun\",\"Sun\",\"Sun\",\"Sun\",\"Sun\",\"Sun\",\"Sun\",\"Sun\",\"Thur\",\"Thur\",\"Thur\",\"Thur\",\"Thur\",\"Thur\",\"Thur\",\"Thur\",\"Thur\",\"Thur\",\"Thur\",\"Thur\",\"Thur\",\"Thur\",\"Thur\",\"Sat\",\"Sat\",\"Sat\",\"Sat\",\"Sat\",\"Sat\",\"Sat\",\"Sat\",\"Sat\",\"Sat\",\"Sat\",\"Sat\",\"Sat\",\"Sat\",\"Fri\",\"Fri\",\"Fri\",\"Fri\",\"Fri\",\"Fri\",\"Fri\",\"Sat\",\"Sat\",\"Sat\",\"Sat\",\"Sat\",\"Sat\",\"Sat\",\"Sat\",\"Sat\",\"Sat\",\"Sat\",\"Sat\",\"Sat\",\"Sat\",\"Sat\",\"Sat\",\"Thur\"],\"shape\":[244],\"dtype\":\"object\",\"order\":\"little\"}],[\"time\",{\"type\":\"ndarray\",\"array\":[\"Dinner\",\"Dinner\",\"Dinner\",\"Dinner\",\"Dinner\",\"Dinner\",\"Dinner\",\"Dinner\",\"Dinner\",\"Dinner\",\"Dinner\",\"Dinner\",\"Dinner\",\"Dinner\",\"Dinner\",\"Dinner\",\"Dinner\",\"Dinner\",\"Dinner\",\"Dinner\",\"Dinner\",\"Dinner\",\"Dinner\",\"Dinner\",\"Dinner\",\"Dinner\",\"Dinner\",\"Dinner\",\"Dinner\",\"Dinner\",\"Dinner\",\"Dinner\",\"Dinner\",\"Dinner\",\"Dinner\",\"Dinner\",\"Dinner\",\"Dinner\",\"Dinner\",\"Dinner\",\"Dinner\",\"Dinner\",\"Dinner\",\"Dinner\",\"Dinner\",\"Dinner\",\"Dinner\",\"Dinner\",\"Dinner\",\"Dinner\",\"Dinner\",\"Dinner\",\"Dinner\",\"Dinner\",\"Dinner\",\"Dinner\",\"Dinner\",\"Dinner\",\"Dinner\",\"Dinner\",\"Dinner\",\"Dinner\",\"Dinner\",\"Dinner\",\"Dinner\",\"Dinner\",\"Dinner\",\"Dinner\",\"Dinner\",\"Dinner\",\"Dinner\",\"Dinner\",\"Dinner\",\"Dinner\",\"Dinner\",\"Dinner\",\"Dinner\",\"Lunch\",\"Lunch\",\"Lunch\",\"Lunch\",\"Lunch\",\"Lunch\",\"Lunch\",\"Lunch\",\"Lunch\",\"Lunch\",\"Lunch\",\"Lunch\",\"Lunch\",\"Dinner\",\"Dinner\",\"Dinner\",\"Dinner\",\"Dinner\",\"Dinner\",\"Dinner\",\"Dinner\",\"Dinner\",\"Dinner\",\"Dinner\",\"Dinner\",\"Dinner\",\"Dinner\",\"Dinner\",\"Dinner\",\"Dinner\",\"Dinner\",\"Dinner\",\"Dinner\",\"Dinner\",\"Dinner\",\"Dinner\",\"Dinner\",\"Dinner\",\"Dinner\",\"Dinner\",\"Lunch\",\"Lunch\",\"Lunch\",\"Lunch\",\"Lunch\",\"Lunch\",\"Lunch\",\"Lunch\",\"Lunch\",\"Lunch\",\"Lunch\",\"Lunch\",\"Lunch\",\"Lunch\",\"Lunch\",\"Lunch\",\"Lunch\",\"Lunch\",\"Lunch\",\"Lunch\",\"Lunch\",\"Lunch\",\"Lunch\",\"Lunch\",\"Lunch\",\"Lunch\",\"Lunch\",\"Lunch\",\"Lunch\",\"Lunch\",\"Lunch\",\"Lunch\",\"Lunch\",\"Dinner\",\"Dinner\",\"Dinner\",\"Dinner\",\"Dinner\",\"Dinner\",\"Dinner\",\"Dinner\",\"Dinner\",\"Dinner\",\"Dinner\",\"Dinner\",\"Dinner\",\"Dinner\",\"Dinner\",\"Dinner\",\"Dinner\",\"Dinner\",\"Dinner\",\"Dinner\",\"Dinner\",\"Dinner\",\"Dinner\",\"Dinner\",\"Dinner\",\"Dinner\",\"Dinner\",\"Dinner\",\"Dinner\",\"Dinner\",\"Dinner\",\"Dinner\",\"Dinner\",\"Dinner\",\"Dinner\",\"Dinner\",\"Dinner\",\"Dinner\",\"Dinner\",\"Dinner\",\"Dinner\",\"Lunch\",\"Lunch\",\"Lunch\",\"Lunch\",\"Lunch\",\"Lunch\",\"Lunch\",\"Lunch\",\"Lunch\",\"Lunch\",\"Lunch\",\"Lunch\",\"Lunch\",\"Lunch\",\"Lunch\",\"Dinner\",\"Dinner\",\"Dinner\",\"Dinner\",\"Dinner\",\"Dinner\",\"Dinner\",\"Dinner\",\"Dinner\",\"Dinner\",\"Dinner\",\"Dinner\",\"Dinner\",\"Dinner\",\"Lunch\",\"Lunch\",\"Lunch\",\"Lunch\",\"Lunch\",\"Lunch\",\"Lunch\",\"Dinner\",\"Dinner\",\"Dinner\",\"Dinner\",\"Dinner\",\"Dinner\",\"Dinner\",\"Dinner\",\"Dinner\",\"Dinner\",\"Dinner\",\"Dinner\",\"Dinner\",\"Dinner\",\"Dinner\",\"Dinner\",\"Dinner\"],\"shape\":[244],\"dtype\":\"object\",\"order\":\"little\"}],[\"size\",{\"type\":\"ndarray\",\"array\":{\"type\":\"bytes\",\"data\":\"AgAAAAMAAAADAAAAAgAAAAQAAAAEAAAAAgAAAAQAAAACAAAAAgAAAAIAAAAEAAAAAgAAAAQAAAACAAAAAgAAAAMAAAADAAAAAwAAAAMAAAACAAAAAgAAAAIAAAAEAAAAAgAAAAQAAAACAAAAAgAAAAIAAAACAAAAAgAAAAQAAAACAAAABAAAAAIAAAADAAAAAwAAAAMAAAADAAAAAwAAAAMAAAACAAAAAgAAAAIAAAAEAAAAAgAAAAIAAAAEAAAAAwAAAAIAAAACAAAAAgAAAAQAAAACAAAABAAAAAIAAAAEAAAAAgAAAAIAAAAEAAAAAgAAAAIAAAACAAAABAAAAAMAAAADAAAAAgAAAAEAAAACAAAAAgAAAAIAAAADAAAAAgAAAAIAAAACAAAAAgAAAAIAAAAEAAAAAgAAAAIAAAACAAAAAgAAAAEAAAACAAAAAgAAAAQAAAACAAAAAgAAAAIAAAACAAAAAgAAAAIAAAACAAAAAgAAAAIAAAAEAAAAAgAAAAIAAAACAAAAAgAAAAIAAAACAAAAAwAAAAIAAAACAAAAAgAAAAIAAAACAAAAAgAAAAIAAAACAAAAAQAAAAMAAAACAAAAAwAAAAIAAAAEAAAAAgAAAAIAAAAEAAAAAgAAAAIAAAACAAAAAgAAAAIAAAAGAAAAAgAAAAIAAAACAAAAAwAAAAIAAAACAAAAAgAAAAIAAAACAAAAAgAAAAIAAAACAAAAAgAAAAIAAAACAAAABgAAAAUAAAAGAAAAAgAAAAIAAAADAAAAAgAAAAIAAAACAAAAAgAAAAIAAAADAAAABAAAAAQAAAAFAAAABgAAAAQAAAACAAAABAAAAAQAAAACAAAAAwAAAAIAAAACAAAAAwAAAAIAAAAEAAAAAgAAAAIAAAADAAAAAgAAAAIAAAACAAAAAgAAAAIAAAACAAAAAgAAAAIAAAACAAAABAAAAAIAAAADAAAABAAAAAIAAAAFAAAAAwAAAAUAAAADAAAAAwAAAAIAAAACAAAAAgAAAAIAAAACAAAAAgAAAAIAAAAEAAAAAgAAAAIAAAADAAAAAgAAAAIAAAACAAAABAAAAAMAAAADAAAABAAAAAIAAAACAAAAAwAAAAQAAAAEAAAAAgAAAAMAAAACAAAABQAAAAIAAAACAAAABAAAAAIAAAACAAAAAQAAAAMAAAACAAAAAgAAAAIAAAAEAAAAAgAAAAIAAAAEAAAAAwAAAAIAAAACAAAAAgAAAAIAAAACAAAAAgAAAAMAAAADAAAAAgAAAAIAAAACAAAAAgAAAA==\"},\"shape\":[244],\"dtype\":\"int32\",\"order\":\"little\"}],[\"q1\",{\"type\":\"ndarray\",\"array\":{\"type\":\"bytes\",\"data\":\"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\"},\"shape\":[244],\"dtype\":\"float64\",\"order\":\"little\"}],[\"q2\",{\"type\":\"ndarray\",\"array\":{\"type\":\"bytes\",\"data\":\"4XoUrkehM0DhehSuR6EzQOF6FK5HoTNA4XoUrkehM0DhehSuR6EzQOF6FK5HoTNA4XoUrkehM0DhehSuR6EzQOF6FK5HoTNA4XoUrkehM0DhehSuR6EzQOF6FK5HoTNA4XoUrkehM0DhehSuR6EzQOF6FK5HoTNA4XoUrkehM0DhehSuR6EzQOF6FK5HoTNA4XoUrkehM0A9CtejcD0yQD0K16NwPTJAPQrXo3A9MkA9CtejcD0yQD0K16NwPTJAPQrXo3A9MkA9CtejcD0yQD0K16NwPTJAPQrXo3A9MkA9CtejcD0yQD0K16NwPTJAPQrXo3A9MkA9CtejcD0yQD0K16NwPTJAPQrXo3A9MkA9CtejcD0yQD0K16NwPTJAPQrXo3A9MkA9CtejcD0yQD0K16NwPTJAPQrXo3A9MkA9CtejcD0yQOF6FK5HoTNA4XoUrkehM0DhehSuR6EzQOF6FK5HoTNA4XoUrkehM0DhehSuR6EzQOF6FK5HoTNA4XoUrkehM0DhehSuR6EzQOF6FK5HoTNA4XoUrkehM0DhehSuR6EzQOF6FK5HoTNA4XoUrkehM0DhehSuR6EzQD0K16NwPTJAPQrXo3A9MkA9CtejcD0yQD0K16NwPTJAPQrXo3A9MkA9CtejcD0yQD0K16NwPTJAPQrXo3A9MkA9CtejcD0yQD0K16NwPTJAPQrXo3A9MkA9CtejcD0yQD0K16NwPTJAPQrXo3A9MkA9CtejcD0yQD0K16NwPTJAPQrXo3A9MkA9CtejcD0yQD0K16NwPTJAPQrXo3A9MkA9CtejcD0yQDMzMzMzMzBAMzMzMzMzMEAzMzMzMzMwQDMzMzMzMzBAMzMzMzMzMEAzMzMzMzMwQDMzMzMzMzBAMzMzMzMzMEAzMzMzMzMwQDMzMzMzMzBAMzMzMzMzMEAzMzMzMzMwQDMzMzMzMzBAw/UoXI/CLkDD9Shcj8IuQMP1KFyPwi5Aw/UoXI/CLkDD9Shcj8IuQMP1KFyPwi5Aw/UoXI/CLkDD9Shcj8IuQMP1KFyPwi5Aw/UoXI/CLkDD9Shcj8IuQMP1KFyPwi5APQrXo3A9MkA9CtejcD0yQD0K16NwPTJAPQrXo3A9MkA9CtejcD0yQD0K16NwPTJAPQrXo3A9MkA9CtejcD0yQD0K16NwPTJAPQrXo3A9MkDhehSuR6EzQOF6FK5HoTNA4XoUrkehM0DhehSuR6EzQOF6FK5HoTNAMzMzMzMzMEAzMzMzMzMwQDMzMzMzMzBAMzMzMzMzMEAzMzMzMzMwQDMzMzMzMzBAMzMzMzMzMEAzMzMzMzMwQDMzMzMzMzBAMzMzMzMzMEAzMzMzMzMwQDMzMzMzMzBAMzMzMzMzMEAzMzMzMzMwQDMzMzMzMzBAMzMzMzMzMEAzMzMzMzMwQDMzMzMzMzBAMzMzMzMzMEAzMzMzMzMwQDMzMzMzMzBAMzMzMzMzMEAzMzMzMzMwQDMzMzMzMzBAMzMzMzMzMEAzMzMzMzMwQDMzMzMzMzBAMzMzMzMzMEAzMzMzMzMwQDMzMzMzMzBAMzMzMzMzMEAzMzMzMzMwQDMzMzMzMzBA4XoUrkehM0DhehSuR6EzQOF6FK5HoTNA4XoUrkehM0DhehSuR6EzQOF6FK5HoTNA4XoUrkehM0DhehSuR6EzQOF6FK5HoTNA4XoUrkehM0DhehSuR6EzQOF6FK5HoTNA4XoUrkehM0DhehSuR6EzQOF6FK5HoTNA4XoUrkehM0DhehSuR6EzQOF6FK5HoTNAPQrXo3A9MkA9CtejcD0yQD0K16NwPTJAPQrXo3A9MkDhehSuR6EzQOF6FK5HoTNA4XoUrkehM0DhehSuR6EzQOF6FK5HoTNA4XoUrkehM0DhehSuR6EzQOF6FK5HoTNA4XoUrkehM0DhehSuR6EzQOF6FK5HoTNA4XoUrkehM0DhehSuR6EzQOF6FK5HoTNA4XoUrkehM0DhehSuR6EzQOF6FK5HoTNA4XoUrkehM0DhehSuR6EzQDMzMzMzMzBAMzMzMzMzMEAzMzMzMzMwQDMzMzMzMzBAMzMzMzMzMEAzMzMzMzMwQDMzMzMzMzBAMzMzMzMzMEAzMzMzMzMwQDMzMzMzMzBAMzMzMzMzMEAzMzMzMzMwQDMzMzMzMzBAMzMzMzMzMEAzMzMzMzMwQD0K16NwPTJAPQrXo3A9MkA9CtejcD0yQD0K16NwPTJAPQrXo3A9MkA9CtejcD0yQD0K16NwPTJAPQrXo3A9MkA9CtejcD0yQD0K16NwPTJAPQrXo3A9MkA9CtejcD0yQD0K16NwPTJAPQrXo3A9MkDD9Shcj8IuQMP1KFyPwi5Aw/UoXI/CLkDD9Shcj8IuQMP1KFyPwi5Aw/UoXI/CLkDD9Shcj8IuQD0K16NwPTJAPQrXo3A9MkA9CtejcD0yQD0K16NwPTJAPQrXo3A9MkA9CtejcD0yQD0K16NwPTJAPQrXo3A9MkA9CtejcD0yQD0K16NwPTJAPQrXo3A9MkA9CtejcD0yQD0K16NwPTJAPQrXo3A9MkA9CtejcD0yQD0K16NwPTJAMzMzMzMzMEA=\"},\"shape\":[244],\"dtype\":\"float64\",\"order\":\"little\"}],[\"q3\",{\"type\":\"ndarray\",\"array\":{\"type\":\"bytes\",\"data\":\"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\"},\"shape\":[244],\"dtype\":\"float64\",\"order\":\"little\"}],[\"upper\",{\"type\":\"ndarray\",\"array\":{\"type\":\"bytes\",\"data\":\"mpmZmZnBRECamZmZmcFEQJqZmZmZwURAmpmZmZnBRECamZmZmcFEQJqZmZmZwURAmpmZmZnBRECamZmZmcFEQJqZmZmZwURAmpmZmZnBRECamZmZmcFEQJqZmZmZwURAmpmZmZnBRECamZmZmcFEQJqZmZmZwURAmpmZmZnBRECamZmZmcFEQJqZmZmZwURAmpmZmZnBREDYo3A9Cn9EQNijcD0Kf0RA2KNwPQp/REDYo3A9Cn9EQNijcD0Kf0RA2KNwPQp/REDYo3A9Cn9EQNijcD0Kf0RA2KNwPQp/REDYo3A9Cn9EQNijcD0Kf0RA2KNwPQp/REDYo3A9Cn9EQNijcD0Kf0RA2KNwPQp/REDYo3A9Cn9EQNijcD0Kf0RA2KNwPQp/REDYo3A9Cn9EQNijcD0Kf0RA2KNwPQp/REDYo3A9Cn9EQJqZmZmZwURAmpmZmZnBRECamZmZmcFEQJqZmZmZwURAmpmZmZnBRECamZmZmcFEQJqZmZmZwURAmpmZmZnBRECamZmZmcFEQJqZmZmZwURAmpmZmZnBRECamZmZmcFEQJqZmZmZwURAmpmZmZnBRECamZmZmcFEQNijcD0Kf0RA2KNwPQp/REDYo3A9Cn9EQNijcD0Kf0RA2KNwPQp/REDYo3A9Cn9EQNijcD0Kf0RA2KNwPQp/REDYo3A9Cn9EQNijcD0Kf0RA2KNwPQp/REDYo3A9Cn9EQNijcD0Kf0RA2KNwPQp/REDYo3A9Cn9EQNijcD0Kf0RA2KNwPQp/REDYo3A9Cn9EQNijcD0Kf0RA2KNwPQp/REDYo3A9Cn9EQOJ6FK5HuT9A4noUrke5P0DiehSuR7k/QOJ6FK5HuT9A4noUrke5P0DiehSuR7k/QOJ6FK5HuT9A4noUrke5P0DiehSuR7k/QOJ6FK5HuT9A4noUrke5P0DiehSuR7k/QOJ6FK5HuT9A9ihcj8IdQkD2KFyPwh1CQPYoXI/CHUJA9ihcj8IdQkD2KFyPwh1CQPYoXI/CHUJA9ihcj8IdQkD2KFyPwh1CQPYoXI/CHUJA9ihcj8IdQkD2KFyPwh1CQPYoXI/CHUJA2KNwPQp/REDYo3A9Cn9EQNijcD0Kf0RA2KNwPQp/REDYo3A9Cn9EQNijcD0Kf0RA2KNwPQp/REDYo3A9Cn9EQNijcD0Kf0RA2KNwPQp/RECamZmZmcFEQJqZmZmZwURAmpmZmZnBRECamZmZmcFEQJqZmZmZwURA4noUrke5P0DiehSuR7k/QOJ6FK5HuT9A4noUrke5P0DiehSuR7k/QOJ6FK5HuT9A4noUrke5P0DiehSuR7k/QOJ6FK5HuT9A4noUrke5P0DiehSuR7k/QOJ6FK5HuT9A4noUrke5P0DiehSuR7k/QOJ6FK5HuT9A4noUrke5P0DiehSuR7k/QOJ6FK5HuT9A4noUrke5P0DiehSuR7k/QOJ6FK5HuT9A4noUrke5P0DiehSuR7k/QOJ6FK5HuT9A4noUrke5P0DiehSuR7k/QOJ6FK5HuT9A4noUrke5P0DiehSuR7k/QOJ6FK5HuT9A4noUrke5P0DiehSuR7k/QOJ6FK5HuT9AmpmZmZnBRECamZmZmcFEQJqZmZmZwURAmpmZmZnBRECamZmZmcFEQJqZmZmZwURAmpmZmZnBRECamZmZmcFEQJqZmZmZwURAmpmZmZnBRECamZmZmcFEQJqZmZmZwURAmpmZmZnBRECamZmZmcFEQJqZmZmZwURAmpmZmZnBRECamZmZmcFEQJqZmZmZwURA2KNwPQp/REDYo3A9Cn9EQNijcD0Kf0RA2KNwPQp/RECamZmZmcFEQJqZmZmZwURAmpmZmZnBRECamZmZmcFEQJqZmZmZwURAmpmZmZnBRECamZmZmcFEQJqZmZmZwURAmpmZmZnBRECamZmZmcFEQJqZmZmZwURAmpmZmZnBRECamZmZmcFEQJqZmZmZwURAmpmZmZnBRECamZmZmcFEQJqZmZmZwURAmpmZmZnBRECamZmZmcFEQOJ6FK5HuT9A4noUrke5P0DiehSuR7k/QOJ6FK5HuT9A4noUrke5P0DiehSuR7k/QOJ6FK5HuT9A4noUrke5P0DiehSuR7k/QOJ6FK5HuT9A4noUrke5P0DiehSuR7k/QOJ6FK5HuT9A4noUrke5P0DiehSuR7k/QNijcD0Kf0RA2KNwPQp/REDYo3A9Cn9EQNijcD0Kf0RA2KNwPQp/REDYo3A9Cn9EQNijcD0Kf0RA2KNwPQp/REDYo3A9Cn9EQNijcD0Kf0RA2KNwPQp/REDYo3A9Cn9EQNijcD0Kf0RA2KNwPQp/RED2KFyPwh1CQPYoXI/CHUJA9ihcj8IdQkD2KFyPwh1CQPYoXI/CHUJA9ihcj8IdQkD2KFyPwh1CQNijcD0Kf0RA2KNwPQp/REDYo3A9Cn9EQNijcD0Kf0RA2KNwPQp/REDYo3A9Cn9EQNijcD0Kf0RA2KNwPQp/REDYo3A9Cn9EQNijcD0Kf0RA2KNwPQp/REDYo3A9Cn9EQNijcD0Kf0RA2KNwPQp/REDYo3A9Cn9EQNijcD0Kf0RA4noUrke5P0A=\"},\"shape\":[244],\"dtype\":\"float64\",\"order\":\"little\"}],[\"lower\",{\"type\":\"ndarray\",\"array\":{\"type\":\"bytes\",\"data\":\"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\"},\"shape\":[244],\"dtype\":\"float64\",\"order\":\"little\"}]]}}},\"view\":{\"type\":\"object\",\"name\":\"CDSView\",\"id\":\"p1549\",\"attributes\":{\"filter\":{\"type\":\"object\",\"name\":\"AllIndices\",\"id\":\"p1550\"}}},\"glyph\":{\"type\":\"object\",\"name\":\"VBar\",\"id\":\"p1545\",\"attributes\":{\"x\":{\"type\":\"field\",\"field\":\"day\"},\"width\":{\"type\":\"value\",\"value\":0.7},\"bottom\":{\"type\":\"field\",\"field\":\"q3\"},\"top\":{\"type\":\"field\",\"field\":\"q2\"},\"line_color\":{\"type\":\"value\",\"value\":\"#1f77b4\"},\"fill_color\":{\"type\":\"value\",\"value\":\"#1f77b4\"}}},\"nonselection_glyph\":{\"type\":\"object\",\"name\":\"VBar\",\"id\":\"p1546\",\"attributes\":{\"x\":{\"type\":\"field\",\"field\":\"day\"},\"width\":{\"type\":\"value\",\"value\":0.7},\"bottom\":{\"type\":\"field\",\"field\":\"q3\"},\"top\":{\"type\":\"field\",\"field\":\"q2\"},\"line_color\":{\"type\":\"value\",\"value\":\"#1f77b4\"},\"line_alpha\":{\"type\":\"value\",\"value\":0.1},\"fill_color\":{\"type\":\"value\",\"value\":\"#1f77b4\"},\"fill_alpha\":{\"type\":\"value\",\"value\":0.1},\"hatch_alpha\":{\"type\":\"value\",\"value\":0.1}}},\"muted_glyph\":{\"type\":\"object\",\"name\":\"VBar\",\"id\":\"p1547\",\"attributes\":{\"x\":{\"type\":\"field\",\"field\":\"day\"},\"width\":{\"type\":\"value\",\"value\":0.7},\"bottom\":{\"type\":\"field\",\"field\":\"q3\"},\"top\":{\"type\":\"field\",\"field\":\"q2\"},\"line_color\":{\"type\":\"value\",\"value\":\"#1f77b4\"},\"line_alpha\":{\"type\":\"value\",\"value\":0.2},\"fill_color\":{\"type\":\"value\",\"value\":\"#1f77b4\"},\"fill_alpha\":{\"type\":\"value\",\"value\":0.2},\"hatch_alpha\":{\"type\":\"value\",\"value\":0.2}}}}},{\"type\":\"object\",\"name\":\"GlyphRenderer\",\"id\":\"p1557\",\"attributes\":{\"data_source\":{\"id\":\"p1498\"},\"view\":{\"type\":\"object\",\"name\":\"CDSView\",\"id\":\"p1558\",\"attributes\":{\"filter\":{\"type\":\"object\",\"name\":\"AllIndices\",\"id\":\"p1559\"}}},\"glyph\":{\"type\":\"object\",\"name\":\"VBar\",\"id\":\"p1554\",\"attributes\":{\"x\":{\"type\":\"field\",\"field\":\"day\"},\"width\":{\"type\":\"value\",\"value\":0.7},\"bottom\":{\"type\":\"field\",\"field\":\"q2\"},\"top\":{\"type\":\"field\",\"field\":\"q1\"},\"line_color\":{\"type\":\"value\",\"value\":\"#1f77b4\"},\"fill_color\":{\"type\":\"value\",\"value\":\"#1f77b4\"}}},\"nonselection_glyph\":{\"type\":\"object\",\"name\":\"VBar\",\"id\":\"p1555\",\"attributes\":{\"x\":{\"type\":\"field\",\"field\":\"day\"},\"width\":{\"type\":\"value\",\"value\":0.7},\"bottom\":{\"type\":\"field\",\"field\":\"q2\"},\"top\":{\"type\":\"field\",\"field\":\"q1\"},\"line_color\":{\"type\":\"value\",\"value\":\"#1f77b4\"},\"line_alpha\":{\"type\":\"value\",\"value\":0.1},\"fill_color\":{\"type\":\"value\",\"value\":\"#1f77b4\"},\"fill_alpha\":{\"type\":\"value\",\"value\":0.1},\"hatch_alpha\":{\"type\":\"value\",\"value\":0.1}}},\"muted_glyph\":{\"type\":\"object\",\"name\":\"VBar\",\"id\":\"p1556\",\"attributes\":{\"x\":{\"type\":\"field\",\"field\":\"day\"},\"width\":{\"type\":\"value\",\"value\":0.7},\"bottom\":{\"type\":\"field\",\"field\":\"q2\"},\"top\":{\"type\":\"field\",\"field\":\"q1\"},\"line_color\":{\"type\":\"value\",\"value\":\"#1f77b4\"},\"line_alpha\":{\"type\":\"value\",\"value\":0.2},\"fill_color\":{\"type\":\"value\",\"value\":\"#1f77b4\"},\"fill_alpha\":{\"type\":\"value\",\"value\":0.2},\"hatch_alpha\":{\"type\":\"value\",\"value\":0.2}}}}}],\"toolbar\":{\"type\":\"object\",\"name\":\"Toolbar\",\"id\":\"p1510\",\"attributes\":{\"tools\":[{\"type\":\"object\",\"name\":\"PanTool\",\"id\":\"p1525\"},{\"type\":\"object\",\"name\":\"WheelZoomTool\",\"id\":\"p1526\",\"attributes\":{\"renderers\":\"auto\"}},{\"type\":\"object\",\"name\":\"BoxZoomTool\",\"id\":\"p1527\",\"attributes\":{\"overlay\":{\"type\":\"object\",\"name\":\"BoxAnnotation\",\"id\":\"p1528\",\"attributes\":{\"syncable\":false,\"level\":\"overlay\",\"visible\":false,\"left\":{\"type\":\"number\",\"value\":\"nan\"},\"right\":{\"type\":\"number\",\"value\":\"nan\"},\"top\":{\"type\":\"number\",\"value\":\"nan\"},\"bottom\":{\"type\":\"number\",\"value\":\"nan\"},\"left_units\":\"canvas\",\"right_units\":\"canvas\",\"top_units\":\"canvas\",\"bottom_units\":\"canvas\",\"line_color\":\"black\",\"line_alpha\":1.0,\"line_width\":2,\"line_dash\":[4,4],\"fill_color\":\"lightgrey\",\"fill_alpha\":0.5}}}},{\"type\":\"object\",\"name\":\"SaveTool\",\"id\":\"p1533\"},{\"type\":\"object\",\"name\":\"ResetTool\",\"id\":\"p1534\"},{\"type\":\"object\",\"name\":\"HelpTool\",\"id\":\"p1535\"}]}},\"left\":[{\"type\":\"object\",\"name\":\"LinearAxis\",\"id\":\"p1520\",\"attributes\":{\"ticker\":{\"type\":\"object\",\"name\":\"BasicTicker\",\"id\":\"p1521\",\"attributes\":{\"mantissas\":[1,2,5]}},\"formatter\":{\"type\":\"object\",\"name\":\"BasicTickFormatter\",\"id\":\"p1522\"},\"major_label_policy\":{\"type\":\"object\",\"name\":\"AllLabels\",\"id\":\"p1523\"}}}],\"below\":[{\"type\":\"object\",\"name\":\"CategoricalAxis\",\"id\":\"p1515\",\"attributes\":{\"ticker\":{\"type\":\"object\",\"name\":\"CategoricalTicker\",\"id\":\"p1516\"},\"formatter\":{\"type\":\"object\",\"name\":\"CategoricalTickFormatter\",\"id\":\"p1517\"},\"major_label_policy\":{\"type\":\"object\",\"name\":\"AllLabels\",\"id\":\"p1518\"}}}],\"center\":[{\"type\":\"object\",\"name\":\"Grid\",\"id\":\"p1519\",\"attributes\":{\"axis\":{\"id\":\"p1515\"}}},{\"type\":\"object\",\"name\":\"Grid\",\"id\":\"p1524\",\"attributes\":{\"dimension\":1,\"axis\":{\"id\":\"p1520\"}}},{\"type\":\"object\",\"name\":\"Whisker\",\"id\":\"p1536\",\"attributes\":{\"source\":{\"id\":\"p1498\"},\"lower\":{\"type\":\"field\",\"field\":\"lower\"},\"lower_head\":{\"type\":\"object\",\"name\":\"TeeHead\",\"id\":\"p1540\",\"attributes\":{\"size\":{\"type\":\"value\",\"value\":10}}},\"upper\":{\"type\":\"field\",\"field\":\"upper\"},\"upper_head\":{\"type\":\"object\",\"name\":\"TeeHead\",\"id\":\"p1541\",\"attributes\":{\"size\":{\"type\":\"value\",\"value\":10}}},\"base\":{\"type\":\"field\",\"field\":\"day\"}}}],\"background_fill_color\":\"white\"}}]}};\n  const render_items = [{\"docid\":\"11bee6f3-52a4-4545-97a9-4a1d827f4e62\",\"roots\":{\"p1501\":\"a7ba8730-6a95-47a8-a2af-46020360eea2\"},\"root_ids\":[\"p1501\"]}];\n  root.Bokeh.embed.embed_items_notebook(docs_json, render_items);\n  }\n  if (root.Bokeh !== undefined) {\n    embed_document(root);\n  } else {\n    let attempts = 0;\n    const timer = setInterval(function(root) {\n      if (root.Bokeh !== undefined) {\n        clearInterval(timer);\n        embed_document(root);\n      } else {\n        attempts++;\n        if (attempts > 100) {\n          clearInterval(timer);\n          console.log(\"Bokeh: ERROR: Unable to run BokehJS code because BokehJS library is missing\");\n        }\n      }\n    }, 10, root)\n  }\n})(window);",
      "application/vnd.bokehjs_exec.v0+json": ""
     },
     "metadata": {
      "application/vnd.bokehjs_exec.v0+json": {
       "id": "p1501"
      }
     },
     "output_type": "display_data"
    }
   ],
   "source": [
    "source = ColumnDataSource(df)\n",
    "\n",
    "p = figure(\n",
    "    x_range=df[\"day\"].unique(),\n",
    "    y_range=[0, 60],\n",
    "    title=\"bill and sex\",\n",
    "    background_fill_color=\"white\")\n",
    "\n",
    "whisker = Whisker(\n",
    "    base=\"day\",\n",
    "    upper=\"upper\",\n",
    "    lower=\"lower\",\n",
    "    source=source)\n",
    "\n",
    "p.add_layout(whisker)\n",
    "\n",
    "p.vbar(\"day\", 0.7, \"q2\", \"q3\", source=source)\n",
    "p.vbar(\"day\", 0.7, \"q1\", \"q2\", source=source)\n",
    "\n",
    "show(p)"
   ]
  },
  {
   "attachments": {},
   "cell_type": "markdown",
   "metadata": {},
   "source": [
    "# ヒストグラム\n",
    "箱ひげ図と同じく、どのようにデータが分散しているかを表現する可視化手法。箱ひげ図では中央値や四分位点がどこにあるかを示すだけだったが、どのヒストグラムではどの数値帯にデータが何件（または全体データ数の何%）が出現したかを表現するため、データのばらつきが克明にわかる。基本的に1系列の数値データのみしか扱えないので複数のラベルについて調べたいという場合はラベル毎に別々にグラフを作成する必要があるが、数値データの性質を調べるためには強力な可視化手法。各数値帯を棒グラフ状に表す方法の他に折れ線グラフを使う方法、または累積度数分布として表現する方法などもある。\n",
    "(ラベル, 数値)のようなデータ形式に対して、複数のラベルのヒストグラムを同じグラフに描画することもできるが、粒度の粗いデータだと線の重なりが起きたときなどに調整が必要なため、素直に1系列でグラフ化するのがお勧めである。\n",
    "データはhttps://raw.githubusercontent.com/selva86/datasets/master/diamonds.csv"
   ]
  },
  {
   "cell_type": "code",
   "execution_count": 18,
   "metadata": {},
   "outputs": [
    {
     "data": {
      "text/html": [
       "<div>\n",
       "<style scoped>\n",
       "    .dataframe tbody tr th:only-of-type {\n",
       "        vertical-align: middle;\n",
       "    }\n",
       "\n",
       "    .dataframe tbody tr th {\n",
       "        vertical-align: top;\n",
       "    }\n",
       "\n",
       "    .dataframe thead th {\n",
       "        text-align: right;\n",
       "    }\n",
       "</style>\n",
       "<table border=\"1\" class=\"dataframe\">\n",
       "  <thead>\n",
       "    <tr style=\"text-align: right;\">\n",
       "      <th></th>\n",
       "      <th>carat</th>\n",
       "      <th>cut</th>\n",
       "      <th>color</th>\n",
       "      <th>clarity</th>\n",
       "      <th>depth</th>\n",
       "      <th>table</th>\n",
       "      <th>price</th>\n",
       "      <th>x</th>\n",
       "      <th>y</th>\n",
       "      <th>z</th>\n",
       "    </tr>\n",
       "  </thead>\n",
       "  <tbody>\n",
       "    <tr>\n",
       "      <th>0</th>\n",
       "      <td>0.23</td>\n",
       "      <td>Ideal</td>\n",
       "      <td>E</td>\n",
       "      <td>SI2</td>\n",
       "      <td>61.5</td>\n",
       "      <td>55.0</td>\n",
       "      <td>326</td>\n",
       "      <td>3.95</td>\n",
       "      <td>3.98</td>\n",
       "      <td>2.43</td>\n",
       "    </tr>\n",
       "    <tr>\n",
       "      <th>1</th>\n",
       "      <td>0.21</td>\n",
       "      <td>Premium</td>\n",
       "      <td>E</td>\n",
       "      <td>SI1</td>\n",
       "      <td>59.8</td>\n",
       "      <td>61.0</td>\n",
       "      <td>326</td>\n",
       "      <td>3.89</td>\n",
       "      <td>3.84</td>\n",
       "      <td>2.31</td>\n",
       "    </tr>\n",
       "    <tr>\n",
       "      <th>2</th>\n",
       "      <td>0.23</td>\n",
       "      <td>Good</td>\n",
       "      <td>E</td>\n",
       "      <td>VS1</td>\n",
       "      <td>56.9</td>\n",
       "      <td>65.0</td>\n",
       "      <td>327</td>\n",
       "      <td>4.05</td>\n",
       "      <td>4.07</td>\n",
       "      <td>2.31</td>\n",
       "    </tr>\n",
       "    <tr>\n",
       "      <th>3</th>\n",
       "      <td>0.29</td>\n",
       "      <td>Premium</td>\n",
       "      <td>I</td>\n",
       "      <td>VS2</td>\n",
       "      <td>62.4</td>\n",
       "      <td>58.0</td>\n",
       "      <td>334</td>\n",
       "      <td>4.20</td>\n",
       "      <td>4.23</td>\n",
       "      <td>2.63</td>\n",
       "    </tr>\n",
       "    <tr>\n",
       "      <th>4</th>\n",
       "      <td>0.31</td>\n",
       "      <td>Good</td>\n",
       "      <td>J</td>\n",
       "      <td>SI2</td>\n",
       "      <td>63.3</td>\n",
       "      <td>58.0</td>\n",
       "      <td>335</td>\n",
       "      <td>4.34</td>\n",
       "      <td>4.35</td>\n",
       "      <td>2.75</td>\n",
       "    </tr>\n",
       "  </tbody>\n",
       "</table>\n",
       "</div>"
      ],
      "text/plain": [
       "   carat      cut color clarity  depth  table  price     x     y     z\n",
       "0   0.23    Ideal     E     SI2   61.5   55.0    326  3.95  3.98  2.43\n",
       "1   0.21  Premium     E     SI1   59.8   61.0    326  3.89  3.84  2.31\n",
       "2   0.23     Good     E     VS1   56.9   65.0    327  4.05  4.07  2.31\n",
       "3   0.29  Premium     I     VS2   62.4   58.0    334  4.20  4.23  2.63\n",
       "4   0.31     Good     J     SI2   63.3   58.0    335  4.34  4.35  2.75"
      ]
     },
     "execution_count": 18,
     "metadata": {},
     "output_type": "execute_result"
    }
   ],
   "source": [
    "df = pd.read_csv('../data/histgram.csv')\n",
    "df.head()"
   ]
  }
 ],
 "metadata": {
  "kernelspec": {
   "display_name": ".venv",
   "language": "python",
   "name": "python3"
  },
  "language_info": {
   "codemirror_mode": {
    "name": "ipython",
    "version": 3
   },
   "file_extension": ".py",
   "mimetype": "text/x-python",
   "name": "python",
   "nbconvert_exporter": "python",
   "pygments_lexer": "ipython3",
   "version": "3.11.6"
  },
  "orig_nbformat": 4,
  "vscode": {
   "interpreter": {
    "hash": "58314e3a336e1110d0d6397f03fe5a21efb25abcc96e59e43bc2b8df913db276"
   }
  }
 },
 "nbformat": 4,
 "nbformat_minor": 2
}
