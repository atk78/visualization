{
 "cells": [
  {
   "cell_type": "markdown",
   "metadata": {},
   "source": [
    "# Bokeh\n",
    "\n",
    "Plotlyと同様にインタラクティブなグラフを作成できる。Plotlyより多くのコードが必要かつ煩雑で入力補完が効かない欠点があるが、非常に汎用性が高い。\n",
    "\n",
    "## グラフの種類\n",
    "\n",
    "- 散布図\n",
    "- バブルチャート\n",
    "- 棒グラフ\n",
    "- 積み上げ棒グラフ\n",
    "- 折れ線グラフ\n",
    "- 面グラフ\n",
    "- ツリーマップ\n",
    "- 100%積み上げグラフ\n",
    "- 円グラフ\n",
    "- ヒストグラム\n",
    "- 箱ひげ図\n",
    "- バイオリンプロット\n",
    "- ヒートマップ\n",
    "\n",
    "ライブラリのインポート"
   ]
  },
  {
   "cell_type": "code",
   "execution_count": 1,
   "metadata": {},
   "outputs": [
    {
     "data": {
      "text/html": [
       "    <style>\n",
       "        .bk-notebook-logo {\n",
       "            display: block;\n",
       "            width: 20px;\n",
       "            height: 20px;\n",
       "            background-image: url(data:image/png;base64,iVBORw0KGgoAAAANSUhEUgAAABQAAAAUCAYAAACNiR0NAAAABHNCSVQICAgIfAhkiAAAAAlwSFlzAAALEgAACxIB0t1+/AAAABx0RVh0U29mdHdhcmUAQWRvYmUgRmlyZXdvcmtzIENTNui8sowAAAOkSURBVDiNjZRtaJVlGMd/1/08zzln5zjP1LWcU9N0NkN8m2CYjpgQYQXqSs0I84OLIC0hkEKoPtiH3gmKoiJDU7QpLgoLjLIQCpEsNJ1vqUOdO7ppbuec5+V+rj4ctwzd8IIbbi6u+8f1539dt3A78eXC7QizUF7gyV1fD1Yqg4JWz84yffhm0qkFqBogB9rM8tZdtwVsPUhWhGcFJngGeWrPzHm5oaMmkfEg1usvLFyc8jLRqDOMru7AyC8saQr7GG7f5fvDeH7Ej8CM66nIF+8yngt6HWaKh7k49Soy9nXurCi1o3qUbS3zWfrYeQDTB/Qj6kX6Ybhw4B+bOYoLKCC9H3Nu/leUTZ1JdRWkkn2ldcCamzrcf47KKXdAJllSlxAOkRgyHsGC/zRday5Qld9DyoM4/q/rUoy/CXh3jzOu3bHUVZeU+DEn8FInkPBFlu3+nW3Nw0mk6vCDiWg8CeJaxEwuHS3+z5RgY+YBR6V1Z1nxSOfoaPa4LASWxxdNp+VWTk7+4vzaou8v8PN+xo+KY2xsw6une2frhw05CTYOmQvsEhjhWjn0bmXPjpE1+kplmmkP3suftwTubK9Vq22qKmrBhpY4jvd5afdRA3wGjFAgcnTK2s4hY0/GPNIb0nErGMCRxWOOX64Z8RAC4oCXdklmEvcL8o0BfkNK4lUg9HTl+oPlQxdNo3Mg4Nv175e/1LDGzZen30MEjRUtmXSfiTVu1kK8W4txyV6BMKlbgk3lMwYCiusNy9fVfvvwMxv8Ynl6vxoByANLTWplvuj/nF9m2+PDtt1eiHPBr1oIfhCChQMBw6Aw0UulqTKZdfVvfG7VcfIqLG9bcldL/+pdWTLxLUy8Qq38heUIjh4XlzZxzQm19lLFlr8vdQ97rjZVOLf8nclzckbcD4wxXMidpX30sFd37Fv/GtwwhzhxGVAprjbg0gCAEeIgwCZyTV2Z1REEW8O4py0wsjeloKoMr6iCY6dP92H6Vw/oTyICIthibxjm/DfN9lVz8IqtqKYLUXfoKVMVQVVJOElGjrnnUt9T9wbgp8AyYKaGlqingHZU/uG2NTZSVqwHQTWkx9hxjkpWDaCg6Ckj5qebgBVbT3V3NNXMSiWSDdGV3hrtzla7J+duwPOToIg42ChPQOQjspnSlp1V+Gjdged7+8UN5CRAV7a5EdFNwCjEaBR27b3W890TE7g24NAP/mMDXRWrGoFPQI9ls/MWO2dWFAar/xcOIImbbpA3zgAAAABJRU5ErkJggg==);\n",
       "        }\n",
       "    </style>\n",
       "    <div>\n",
       "        <a href=\"https://bokeh.org\" target=\"_blank\" class=\"bk-notebook-logo\"></a>\n",
       "        <span id=\"f482515c-411c-4ea3-b54d-54cae4172a74\">Loading BokehJS ...</span>\n",
       "    </div>\n"
      ]
     },
     "metadata": {},
     "output_type": "display_data"
    },
    {
     "data": {
      "application/javascript": "'use strict';\n(function(root) {\n  function now() {\n    return new Date();\n  }\n\n  const force = true;\n\n  if (typeof root._bokeh_onload_callbacks === \"undefined\" || force === true) {\n    root._bokeh_onload_callbacks = [];\n    root._bokeh_is_loading = undefined;\n  }\n\nconst JS_MIME_TYPE = 'application/javascript';\n  const HTML_MIME_TYPE = 'text/html';\n  const EXEC_MIME_TYPE = 'application/vnd.bokehjs_exec.v0+json';\n  const CLASS_NAME = 'output_bokeh rendered_html';\n\n  /**\n   * Render data to the DOM node\n   */\n  function render(props, node) {\n    const script = document.createElement(\"script\");\n    node.appendChild(script);\n  }\n\n  /**\n   * Handle when an output is cleared or removed\n   */\n  function handleClearOutput(event, handle) {\n    function drop(id) {\n      const view = Bokeh.index.get_by_id(id)\n      if (view != null) {\n        view.model.document.clear()\n        Bokeh.index.delete(view)\n      }\n    }\n\n    const cell = handle.cell;\n\n    const id = cell.output_area._bokeh_element_id;\n    const server_id = cell.output_area._bokeh_server_id;\n\n    // Clean up Bokeh references\n    if (id != null) {\n      drop(id)\n    }\n\n    if (server_id !== undefined) {\n      // Clean up Bokeh references\n      const cmd_clean = \"from bokeh.io.state import curstate; print(curstate().uuid_to_server['\" + server_id + \"'].get_sessions()[0].document.roots[0]._id)\";\n      cell.notebook.kernel.execute(cmd_clean, {\n        iopub: {\n          output: function(msg) {\n            const id = msg.content.text.trim()\n            drop(id)\n          }\n        }\n      });\n      // Destroy server and session\n      const cmd_destroy = \"import bokeh.io.notebook as ion; ion.destroy_server('\" + server_id + \"')\";\n      cell.notebook.kernel.execute(cmd_destroy);\n    }\n  }\n\n  /**\n   * Handle when a new output is added\n   */\n  function handleAddOutput(event, handle) {\n    const output_area = handle.output_area;\n    const output = handle.output;\n\n    // limit handleAddOutput to display_data with EXEC_MIME_TYPE content only\n    if ((output.output_type != \"display_data\") || (!Object.prototype.hasOwnProperty.call(output.data, EXEC_MIME_TYPE))) {\n      return\n    }\n\n    const toinsert = output_area.element.find(\".\" + CLASS_NAME.split(' ')[0]);\n\n    if (output.metadata[EXEC_MIME_TYPE][\"id\"] !== undefined) {\n      toinsert[toinsert.length - 1].firstChild.textContent = output.data[JS_MIME_TYPE];\n      // store reference to embed id on output_area\n      output_area._bokeh_element_id = output.metadata[EXEC_MIME_TYPE][\"id\"];\n    }\n    if (output.metadata[EXEC_MIME_TYPE][\"server_id\"] !== undefined) {\n      const bk_div = document.createElement(\"div\");\n      bk_div.innerHTML = output.data[HTML_MIME_TYPE];\n      const script_attrs = bk_div.children[0].attributes;\n      for (let i = 0; i < script_attrs.length; i++) {\n        toinsert[toinsert.length - 1].firstChild.setAttribute(script_attrs[i].name, script_attrs[i].value);\n        toinsert[toinsert.length - 1].firstChild.textContent = bk_div.children[0].textContent\n      }\n      // store reference to server id on output_area\n      output_area._bokeh_server_id = output.metadata[EXEC_MIME_TYPE][\"server_id\"];\n    }\n  }\n\n  function register_renderer(events, OutputArea) {\n\n    function append_mime(data, metadata, element) {\n      // create a DOM node to render to\n      const toinsert = this.create_output_subarea(\n        metadata,\n        CLASS_NAME,\n        EXEC_MIME_TYPE\n      );\n      this.keyboard_manager.register_events(toinsert);\n      // Render to node\n      const props = {data: data, metadata: metadata[EXEC_MIME_TYPE]};\n      render(props, toinsert[toinsert.length - 1]);\n      element.append(toinsert);\n      return toinsert\n    }\n\n    /* Handle when an output is cleared or removed */\n    events.on('clear_output.CodeCell', handleClearOutput);\n    events.on('delete.Cell', handleClearOutput);\n\n    /* Handle when a new output is added */\n    events.on('output_added.OutputArea', handleAddOutput);\n\n    /**\n     * Register the mime type and append_mime function with output_area\n     */\n    OutputArea.prototype.register_mime_type(EXEC_MIME_TYPE, append_mime, {\n      /* Is output safe? */\n      safe: true,\n      /* Index of renderer in `output_area.display_order` */\n      index: 0\n    });\n  }\n\n  // register the mime type if in Jupyter Notebook environment and previously unregistered\n  if (root.Jupyter !== undefined) {\n    const events = require('base/js/events');\n    const OutputArea = require('notebook/js/outputarea').OutputArea;\n\n    if (OutputArea.prototype.mime_types().indexOf(EXEC_MIME_TYPE) == -1) {\n      register_renderer(events, OutputArea);\n    }\n  }\n  if (typeof (root._bokeh_timeout) === \"undefined\" || force === true) {\n    root._bokeh_timeout = Date.now() + 5000;\n    root._bokeh_failed_load = false;\n  }\n\n  const NB_LOAD_WARNING = {'data': {'text/html':\n     \"<div style='background-color: #fdd'>\\n\"+\n     \"<p>\\n\"+\n     \"BokehJS does not appear to have successfully loaded. If loading BokehJS from CDN, this \\n\"+\n     \"may be due to a slow or bad network connection. Possible fixes:\\n\"+\n     \"</p>\\n\"+\n     \"<ul>\\n\"+\n     \"<li>re-rerun `output_notebook()` to attempt to load from CDN again, or</li>\\n\"+\n     \"<li>use INLINE resources instead, as so:</li>\\n\"+\n     \"</ul>\\n\"+\n     \"<code>\\n\"+\n     \"from bokeh.resources import INLINE\\n\"+\n     \"output_notebook(resources=INLINE)\\n\"+\n     \"</code>\\n\"+\n     \"</div>\"}};\n\n  function display_loaded(error = null) {\n    const el = document.getElementById(\"f482515c-411c-4ea3-b54d-54cae4172a74\");\n    if (el != null) {\n      const html = (() => {\n        if (typeof root.Bokeh === \"undefined\") {\n          if (error == null) {\n            return \"BokehJS is loading ...\";\n          } else {\n            return \"BokehJS failed to load.\";\n          }\n        } else {\n          const prefix = `BokehJS ${root.Bokeh.version}`;\n          if (error == null) {\n            return `${prefix} successfully loaded.`;\n          } else {\n            return `${prefix} <b>encountered errors</b> while loading and may not function as expected.`;\n          }\n        }\n      })();\n      el.innerHTML = html;\n\n      if (error != null) {\n        const wrapper = document.createElement(\"div\");\n        wrapper.style.overflow = \"auto\";\n        wrapper.style.height = \"5em\";\n        wrapper.style.resize = \"vertical\";\n        const content = document.createElement(\"div\");\n        content.style.fontFamily = \"monospace\";\n        content.style.whiteSpace = \"pre-wrap\";\n        content.style.backgroundColor = \"rgb(255, 221, 221)\";\n        content.textContent = error.stack ?? error.toString();\n        wrapper.append(content);\n        el.append(wrapper);\n      }\n    } else if (Date.now() < root._bokeh_timeout) {\n      setTimeout(() => display_loaded(error), 100);\n    }\n  }\n\n  function run_callbacks() {\n    try {\n      root._bokeh_onload_callbacks.forEach(function(callback) {\n        if (callback != null)\n          callback();\n      });\n    } finally {\n      delete root._bokeh_onload_callbacks\n    }\n    console.debug(\"Bokeh: all callbacks have finished\");\n  }\n\n  function load_libs(css_urls, js_urls, callback) {\n    if (css_urls == null) css_urls = [];\n    if (js_urls == null) js_urls = [];\n\n    root._bokeh_onload_callbacks.push(callback);\n    if (root._bokeh_is_loading > 0) {\n      console.debug(\"Bokeh: BokehJS is being loaded, scheduling callback at\", now());\n      return null;\n    }\n    if (js_urls == null || js_urls.length === 0) {\n      run_callbacks();\n      return null;\n    }\n    console.debug(\"Bokeh: BokehJS not loaded, scheduling load and callback at\", now());\n    root._bokeh_is_loading = css_urls.length + js_urls.length;\n\n    function on_load() {\n      root._bokeh_is_loading--;\n      if (root._bokeh_is_loading === 0) {\n        console.debug(\"Bokeh: all BokehJS libraries/stylesheets loaded\");\n        run_callbacks()\n      }\n    }\n\n    function on_error(url) {\n      console.error(\"failed to load \" + url);\n    }\n\n    for (let i = 0; i < css_urls.length; i++) {\n      const url = css_urls[i];\n      const element = document.createElement(\"link\");\n      element.onload = on_load;\n      element.onerror = on_error.bind(null, url);\n      element.rel = \"stylesheet\";\n      element.type = \"text/css\";\n      element.href = url;\n      console.debug(\"Bokeh: injecting link tag for BokehJS stylesheet: \", url);\n      document.body.appendChild(element);\n    }\n\n    for (let i = 0; i < js_urls.length; i++) {\n      const url = js_urls[i];\n      const element = document.createElement('script');\n      element.onload = on_load;\n      element.onerror = on_error.bind(null, url);\n      element.async = false;\n      element.src = url;\n      console.debug(\"Bokeh: injecting script tag for BokehJS library: \", url);\n      document.head.appendChild(element);\n    }\n  };\n\n  function inject_raw_css(css) {\n    const element = document.createElement(\"style\");\n    element.appendChild(document.createTextNode(css));\n    document.body.appendChild(element);\n  }\n\n  const js_urls = [\"https://cdn.bokeh.org/bokeh/release/bokeh-3.4.1.min.js\", \"https://cdn.bokeh.org/bokeh/release/bokeh-gl-3.4.1.min.js\", \"https://cdn.bokeh.org/bokeh/release/bokeh-widgets-3.4.1.min.js\", \"https://cdn.bokeh.org/bokeh/release/bokeh-tables-3.4.1.min.js\", \"https://cdn.bokeh.org/bokeh/release/bokeh-mathjax-3.4.1.min.js\"];\n  const css_urls = [];\n\n  const inline_js = [    function(Bokeh) {\n      Bokeh.set_log_level(\"info\");\n    },\nfunction(Bokeh) {\n    }\n  ];\n\n  function run_inline_js() {\n    if (root.Bokeh !== undefined || force === true) {\n      try {\n            for (let i = 0; i < inline_js.length; i++) {\n      inline_js[i].call(root, root.Bokeh);\n    }\n\n      } catch (error) {display_loaded(error);throw error;\n      }if (force === true) {\n        display_loaded();\n      }} else if (Date.now() < root._bokeh_timeout) {\n      setTimeout(run_inline_js, 100);\n    } else if (!root._bokeh_failed_load) {\n      console.log(\"Bokeh: BokehJS failed to load within specified timeout.\");\n      root._bokeh_failed_load = true;\n    } else if (force !== true) {\n      const cell = $(document.getElementById(\"f482515c-411c-4ea3-b54d-54cae4172a74\")).parents('.cell').data().cell;\n      cell.output_area.append_execute_result(NB_LOAD_WARNING)\n    }\n  }\n\n  if (root._bokeh_is_loading === 0) {\n    console.debug(\"Bokeh: BokehJS loaded, going straight to plotting\");\n    run_inline_js();\n  } else {\n    load_libs(css_urls, js_urls, function() {\n      console.debug(\"Bokeh: BokehJS plotting callback run at\", now());\n      run_inline_js();\n    });\n  }\n}(window));",
      "application/vnd.bokehjs_load.v0+json": ""
     },
     "metadata": {},
     "output_type": "display_data"
    }
   ],
   "source": [
    "# ライブラリのインポート\n",
    "from bokeh import palettes\n",
    "from bokeh.transform import transform\n",
    "from bokeh.layouts import column\n",
    "from bokeh.plotting import figure, show\n",
    "from bokeh.io import output_notebook\n",
    "from bokeh.models import (\n",
    "    DatetimeTickFormatter,\n",
    "    ColorBar,\n",
    "    LinearColorMapper,\n",
    "    ColumnDataSource,\n",
    ")\n",
    "import pandas as pd\n",
    "import numpy as np\n",
    "\n",
    "output_notebook()"
   ]
  },
  {
   "cell_type": "markdown",
   "metadata": {},
   "source": [
    "## 散布図（`plot.scatter()`）\n",
    "\n",
    "### 主な引数とその説明\n",
    "\n",
    "[ScatterのAPI](https://plotly.com/python/reference/scatter/#scatter)\n",
    "\n",
    "|引数|説明|\n",
    "|---|---|\n",
    "|x|配列、もしくは`ColumnDataSource`のキーを渡す。X軸の値。|\n",
    "|y|配列、もしくは`ColumnDataSource`のキーを渡す。Y軸の値。|\n",
    "|color|`str`型でマーカー全体の色を変換。`LineColorMapper`を渡すと、それに応じた色に変換|\n",
    "|size|`int`型でマーカー全体のサイズを変換。`ColumnDataSource`のキーを渡すとマーカーを値に応じた大きさに変換する。|\n",
    "|marker|[MarkerType](https://docs.bokeh.org/en/latest/docs/reference/core/enums.html#bokeh.core.enums.MarkerType)に応じたシンボルを与えるとマーカーの形状が変化する。'circle'または'o'で通常のプロット|\n",
    "|line_color|マーカーの縁の色|\n",
    "|line_width|マーカーの縁の幅|\n",
    "|fill_alpha|マーカーの透明度|\n",
    "|source|データソースオブジェクト`ColumnDataSource`|"
   ]
  },
  {
   "cell_type": "code",
   "execution_count": 2,
   "metadata": {},
   "outputs": [
    {
     "data": {
      "text/html": [
       "<div>\n",
       "<style scoped>\n",
       "    .dataframe tbody tr th:only-of-type {\n",
       "        vertical-align: middle;\n",
       "    }\n",
       "\n",
       "    .dataframe tbody tr th {\n",
       "        vertical-align: top;\n",
       "    }\n",
       "\n",
       "    .dataframe thead th {\n",
       "        text-align: right;\n",
       "    }\n",
       "</style>\n",
       "<table border=\"1\" class=\"dataframe\">\n",
       "  <thead>\n",
       "    <tr style=\"text-align: right;\">\n",
       "      <th></th>\n",
       "      <th>age</th>\n",
       "      <th>sex</th>\n",
       "      <th>bmi</th>\n",
       "      <th>bp</th>\n",
       "      <th>s1</th>\n",
       "      <th>s2</th>\n",
       "      <th>s3</th>\n",
       "      <th>s4</th>\n",
       "      <th>s5</th>\n",
       "      <th>s6</th>\n",
       "      <th>y</th>\n",
       "    </tr>\n",
       "  </thead>\n",
       "  <tbody>\n",
       "    <tr>\n",
       "      <th>0</th>\n",
       "      <td>59</td>\n",
       "      <td>2</td>\n",
       "      <td>32.1</td>\n",
       "      <td>101.0</td>\n",
       "      <td>157</td>\n",
       "      <td>93.2</td>\n",
       "      <td>38.0</td>\n",
       "      <td>4.0</td>\n",
       "      <td>4.8598</td>\n",
       "      <td>87</td>\n",
       "      <td>151</td>\n",
       "    </tr>\n",
       "    <tr>\n",
       "      <th>1</th>\n",
       "      <td>48</td>\n",
       "      <td>1</td>\n",
       "      <td>21.6</td>\n",
       "      <td>87.0</td>\n",
       "      <td>183</td>\n",
       "      <td>103.2</td>\n",
       "      <td>70.0</td>\n",
       "      <td>3.0</td>\n",
       "      <td>3.8918</td>\n",
       "      <td>69</td>\n",
       "      <td>75</td>\n",
       "    </tr>\n",
       "    <tr>\n",
       "      <th>2</th>\n",
       "      <td>72</td>\n",
       "      <td>2</td>\n",
       "      <td>30.5</td>\n",
       "      <td>93.0</td>\n",
       "      <td>156</td>\n",
       "      <td>93.6</td>\n",
       "      <td>41.0</td>\n",
       "      <td>4.0</td>\n",
       "      <td>4.6728</td>\n",
       "      <td>85</td>\n",
       "      <td>141</td>\n",
       "    </tr>\n",
       "    <tr>\n",
       "      <th>3</th>\n",
       "      <td>24</td>\n",
       "      <td>1</td>\n",
       "      <td>25.3</td>\n",
       "      <td>84.0</td>\n",
       "      <td>198</td>\n",
       "      <td>131.4</td>\n",
       "      <td>40.0</td>\n",
       "      <td>5.0</td>\n",
       "      <td>4.8903</td>\n",
       "      <td>89</td>\n",
       "      <td>206</td>\n",
       "    </tr>\n",
       "    <tr>\n",
       "      <th>4</th>\n",
       "      <td>50</td>\n",
       "      <td>1</td>\n",
       "      <td>23.0</td>\n",
       "      <td>101.0</td>\n",
       "      <td>192</td>\n",
       "      <td>125.4</td>\n",
       "      <td>52.0</td>\n",
       "      <td>4.0</td>\n",
       "      <td>4.2905</td>\n",
       "      <td>80</td>\n",
       "      <td>135</td>\n",
       "    </tr>\n",
       "  </tbody>\n",
       "</table>\n",
       "</div>"
      ],
      "text/plain": [
       "   age  sex   bmi     bp   s1     s2    s3   s4      s5  s6    y\n",
       "0   59    2  32.1  101.0  157   93.2  38.0  4.0  4.8598  87  151\n",
       "1   48    1  21.6   87.0  183  103.2  70.0  3.0  3.8918  69   75\n",
       "2   72    2  30.5   93.0  156   93.6  41.0  4.0  4.6728  85  141\n",
       "3   24    1  25.3   84.0  198  131.4  40.0  5.0  4.8903  89  206\n",
       "4   50    1  23.0  101.0  192  125.4  52.0  4.0  4.2905  80  135"
      ]
     },
     "execution_count": 2,
     "metadata": {},
     "output_type": "execute_result"
    }
   ],
   "source": [
    "# データの読み込み\n",
    "\n",
    "scatter_df = pd.read_csv(\"../data/diabetes.csv\")\n",
    "scatter_df.head()"
   ]
  },
  {
   "cell_type": "code",
   "execution_count": 3,
   "metadata": {},
   "outputs": [
    {
     "data": {
      "text/html": [
       "\n",
       "  <div id=\"ad0c386f-d07f-4c23-974c-e6dbb36e0a42\" data-root-id=\"p1004\" style=\"display: contents;\"></div>\n"
      ]
     },
     "metadata": {},
     "output_type": "display_data"
    },
    {
     "data": {
      "application/javascript": "(function(root) {\n  function embed_document(root) {\n  const docs_json = {\"1b1e09bc-ffac-4e81-bede-38fa3e6a1e71\":{\"version\":\"3.4.1\",\"title\":\"Bokeh Application\",\"roots\":[{\"type\":\"object\",\"name\":\"Figure\",\"id\":\"p1004\",\"attributes\":{\"width\":700,\"height\":500,\"x_range\":{\"type\":\"object\",\"name\":\"DataRange1d\",\"id\":\"p1005\"},\"y_range\":{\"type\":\"object\",\"name\":\"DataRange1d\",\"id\":\"p1006\"},\"x_scale\":{\"type\":\"object\",\"name\":\"LinearScale\",\"id\":\"p1014\"},\"y_scale\":{\"type\":\"object\",\"name\":\"LinearScale\",\"id\":\"p1015\"},\"title\":{\"type\":\"object\",\"name\":\"Title\",\"id\":\"p1007\",\"attributes\":{\"text\":\"BMI\\u3068\\u8840\\u5727\\u306e\\u95a2\\u4fc2\",\"text_font_size\":\"24px\"}},\"outline_line_color\":\"black\",\"outline_line_width\":2,\"renderers\":[{\"type\":\"object\",\"name\":\"GlyphRenderer\",\"id\":\"p1043\",\"attributes\":{\"data_source\":{\"type\":\"object\",\"name\":\"ColumnDataSource\",\"id\":\"p1001\",\"attributes\":{\"selected\":{\"type\":\"object\",\"name\":\"Selection\",\"id\":\"p1002\",\"attributes\":{\"indices\":[],\"line_indices\":[]}},\"selection_policy\":{\"type\":\"object\",\"name\":\"UnionRenderers\",\"id\":\"p1003\"},\"data\":{\"type\":\"map\",\"entries\":[[\"bmi\",{\"type\":\"ndarray\",\"array\":{\"type\":\"bytes\",\"data\":\"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\"},\"shape\":[442],\"dtype\":\"float64\",\"order\":\"little\"}],[\"bp\",{\"type\":\"ndarray\",\"array\":{\"type\":\"bytes\",\"data\":\"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\"},\"shape\":[442],\"dtype\":\"float64\",\"order\":\"little\"}]]}}},\"view\":{\"type\":\"object\",\"name\":\"CDSView\",\"id\":\"p1044\",\"attributes\":{\"filter\":{\"type\":\"object\",\"name\":\"AllIndices\",\"id\":\"p1045\"}}},\"glyph\":{\"type\":\"object\",\"name\":\"Scatter\",\"id\":\"p1040\",\"attributes\":{\"x\":{\"type\":\"field\",\"field\":\"bmi\"},\"y\":{\"type\":\"field\",\"field\":\"bp\"},\"size\":{\"type\":\"value\",\"value\":8},\"fill_color\":{\"type\":\"value\",\"value\":\"blue\"},\"fill_alpha\":{\"type\":\"value\",\"value\":0.5},\"hatch_color\":{\"type\":\"value\",\"value\":\"blue\"}}},\"nonselection_glyph\":{\"type\":\"object\",\"name\":\"Scatter\",\"id\":\"p1041\",\"attributes\":{\"x\":{\"type\":\"field\",\"field\":\"bmi\"},\"y\":{\"type\":\"field\",\"field\":\"bp\"},\"size\":{\"type\":\"value\",\"value\":8},\"line_alpha\":{\"type\":\"value\",\"value\":0.1},\"fill_color\":{\"type\":\"value\",\"value\":\"blue\"},\"fill_alpha\":{\"type\":\"value\",\"value\":0.1},\"hatch_color\":{\"type\":\"value\",\"value\":\"blue\"},\"hatch_alpha\":{\"type\":\"value\",\"value\":0.1}}},\"muted_glyph\":{\"type\":\"object\",\"name\":\"Scatter\",\"id\":\"p1042\",\"attributes\":{\"x\":{\"type\":\"field\",\"field\":\"bmi\"},\"y\":{\"type\":\"field\",\"field\":\"bp\"},\"size\":{\"type\":\"value\",\"value\":8},\"line_alpha\":{\"type\":\"value\",\"value\":0.2},\"fill_color\":{\"type\":\"value\",\"value\":\"blue\"},\"fill_alpha\":{\"type\":\"value\",\"value\":0.2},\"hatch_color\":{\"type\":\"value\",\"value\":\"blue\"},\"hatch_alpha\":{\"type\":\"value\",\"value\":0.2}}}}}],\"toolbar\":{\"type\":\"object\",\"name\":\"Toolbar\",\"id\":\"p1013\",\"attributes\":{\"tools\":[{\"type\":\"object\",\"name\":\"PanTool\",\"id\":\"p1026\"},{\"type\":\"object\",\"name\":\"WheelZoomTool\",\"id\":\"p1027\",\"attributes\":{\"renderers\":\"auto\"}},{\"type\":\"object\",\"name\":\"BoxZoomTool\",\"id\":\"p1028\",\"attributes\":{\"overlay\":{\"type\":\"object\",\"name\":\"BoxAnnotation\",\"id\":\"p1029\",\"attributes\":{\"syncable\":false,\"level\":\"overlay\",\"visible\":false,\"left\":{\"type\":\"number\",\"value\":\"nan\"},\"right\":{\"type\":\"number\",\"value\":\"nan\"},\"top\":{\"type\":\"number\",\"value\":\"nan\"},\"bottom\":{\"type\":\"number\",\"value\":\"nan\"},\"left_units\":\"canvas\",\"right_units\":\"canvas\",\"top_units\":\"canvas\",\"bottom_units\":\"canvas\",\"line_color\":\"black\",\"line_alpha\":1.0,\"line_width\":2,\"line_dash\":[4,4],\"fill_color\":\"lightgrey\",\"fill_alpha\":0.5}}}},{\"type\":\"object\",\"name\":\"SaveTool\",\"id\":\"p1034\"},{\"type\":\"object\",\"name\":\"ResetTool\",\"id\":\"p1035\"},{\"type\":\"object\",\"name\":\"HelpTool\",\"id\":\"p1036\"}]}},\"left\":[{\"type\":\"object\",\"name\":\"LinearAxis\",\"id\":\"p1021\",\"attributes\":{\"ticker\":{\"type\":\"object\",\"name\":\"BasicTicker\",\"id\":\"p1022\",\"attributes\":{\"num_minor_ticks\":2,\"mantissas\":[1,2,5]}},\"formatter\":{\"type\":\"object\",\"name\":\"BasicTickFormatter\",\"id\":\"p1023\"},\"axis_label\":\"\\u8840\\u5727 [mmHg]\",\"axis_label_text_font_size\":\"18px\",\"major_label_policy\":{\"type\":\"object\",\"name\":\"AllLabels\",\"id\":\"p1024\"},\"major_label_text_font_size\":\"14px\"}}],\"below\":[{\"type\":\"object\",\"name\":\"LinearAxis\",\"id\":\"p1016\",\"attributes\":{\"ticker\":{\"type\":\"object\",\"name\":\"BasicTicker\",\"id\":\"p1017\",\"attributes\":{\"mantissas\":[1,2,5]}},\"formatter\":{\"type\":\"object\",\"name\":\"BasicTickFormatter\",\"id\":\"p1018\"},\"axis_label\":\"BMI\",\"axis_label_text_font_size\":\"18px\",\"major_label_policy\":{\"type\":\"object\",\"name\":\"AllLabels\",\"id\":\"p1019\"},\"major_label_text_font_size\":\"14px\"}}],\"center\":[{\"type\":\"object\",\"name\":\"Grid\",\"id\":\"p1020\",\"attributes\":{\"visible\":false,\"axis\":{\"id\":\"p1016\"}}},{\"type\":\"object\",\"name\":\"Grid\",\"id\":\"p1025\",\"attributes\":{\"visible\":false,\"dimension\":1,\"axis\":{\"id\":\"p1021\"}}}]}}]}};\n  const render_items = [{\"docid\":\"1b1e09bc-ffac-4e81-bede-38fa3e6a1e71\",\"roots\":{\"p1004\":\"ad0c386f-d07f-4c23-974c-e6dbb36e0a42\"},\"root_ids\":[\"p1004\"]}];\n  void root.Bokeh.embed.embed_items_notebook(docs_json, render_items);\n  }\n  if (root.Bokeh !== undefined) {\n    embed_document(root);\n  } else {\n    let attempts = 0;\n    const timer = setInterval(function(root) {\n      if (root.Bokeh !== undefined) {\n        clearInterval(timer);\n        embed_document(root);\n      } else {\n        attempts++;\n        if (attempts > 100) {\n          clearInterval(timer);\n          console.log(\"Bokeh: ERROR: Unable to run BokehJS code because BokehJS library is missing\");\n        }\n      }\n    }, 10, root)\n  }\n})(window);",
      "application/vnd.bokehjs_exec.v0+json": ""
     },
     "metadata": {
      "application/vnd.bokehjs_exec.v0+json": {
       "id": "p1004"
      }
     },
     "output_type": "display_data"
    }
   ],
   "source": [
    "src = ColumnDataSource(\n",
    "    dict(\n",
    "        bmi=scatter_df[\"bmi\"],\n",
    "        bp=scatter_df[\"bp\"],\n",
    "    )\n",
    ")\n",
    "\n",
    "plot = figure(\n",
    "    width=700,\n",
    "    height=500,\n",
    "    x_axis_label=\"BMI\",\n",
    "    y_axis_label=\"血圧 [mmHg]\",\n",
    "    title=\"BMIと血圧の関係\",\n",
    "    outline_line_color=\"black\",\n",
    "    outline_line_width=2,\n",
    "    x_minor_ticks=5,\n",
    "    y_minor_ticks=2,\n",
    ")\n",
    "\n",
    "plot.scatter(\n",
    "    source=src,\n",
    "    x=\"bmi\",\n",
    "    y=\"bp\",\n",
    "    color=\"blue\",\n",
    "    line_color=\"black\",\n",
    "    fill_alpha=0.5,\n",
    "    size=8,\n",
    "    marker=\"o\",\n",
    ")\n",
    "plot.title.text_font_size = \"24px\"\n",
    "plot.xaxis.axis_label_text_font_size= \"18px\"\n",
    "plot.xaxis.major_label_text_font_size= \"14px\"\n",
    "plot.yaxis.axis_label_text_font_size= \"18px\"\n",
    "plot.yaxis.major_label_text_font_size= \"14px\"\n",
    "plot.grid.visible = False\n",
    "\n",
    "show(plot)"
   ]
  },
  {
   "cell_type": "markdown",
   "metadata": {},
   "source": [
    "## バブルチャート（`plot.scatter()`）"
   ]
  },
  {
   "cell_type": "code",
   "execution_count": 4,
   "metadata": {},
   "outputs": [
    {
     "data": {
      "text/html": [
       "\n",
       "  <div id=\"cbb75bf8-194e-497c-aa0a-372873a9c145\" data-root-id=\"p1054\" style=\"display: contents;\"></div>\n"
      ]
     },
     "metadata": {},
     "output_type": "display_data"
    },
    {
     "data": {
      "application/javascript": "(function(root) {\n  function embed_document(root) {\n  const docs_json = {\"f7197611-6710-46c3-944a-f9ccd7991da2\":{\"version\":\"3.4.1\",\"title\":\"Bokeh Application\",\"roots\":[{\"type\":\"object\",\"name\":\"Figure\",\"id\":\"p1054\",\"attributes\":{\"width\":700,\"height\":500,\"x_range\":{\"type\":\"object\",\"name\":\"DataRange1d\",\"id\":\"p1055\"},\"y_range\":{\"type\":\"object\",\"name\":\"DataRange1d\",\"id\":\"p1056\"},\"x_scale\":{\"type\":\"object\",\"name\":\"LinearScale\",\"id\":\"p1064\"},\"y_scale\":{\"type\":\"object\",\"name\":\"LinearScale\",\"id\":\"p1065\"},\"title\":{\"type\":\"object\",\"name\":\"Title\",\"id\":\"p1057\",\"attributes\":{\"text\":\"BMI\\u3068\\u8840\\u5727\\u306e\\u95a2\\u4fc2\",\"text_font_size\":\"24px\"}},\"outline_line_color\":\"black\",\"outline_line_width\":2,\"renderers\":[{\"type\":\"object\",\"name\":\"GlyphRenderer\",\"id\":\"p1093\",\"attributes\":{\"data_source\":{\"type\":\"object\",\"name\":\"ColumnDataSource\",\"id\":\"p1048\",\"attributes\":{\"selected\":{\"type\":\"object\",\"name\":\"Selection\",\"id\":\"p1049\",\"attributes\":{\"indices\":[],\"line_indices\":[]}},\"selection_policy\":{\"type\":\"object\",\"name\":\"UnionRenderers\",\"id\":\"p1050\"},\"data\":{\"type\":\"map\",\"entries\":[[\"x\",{\"type\":\"ndarray\",\"array\":{\"type\":\"bytes\",\"data\":\"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\"},\"shape\":[442],\"dtype\":\"float64\",\"order\":\"little\"}],[\"y\",{\"type\":\"ndarray\",\"array\":{\"type\":\"bytes\",\"data\":\"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\"},\"shape\":[442],\"dtype\":\"float64\",\"order\":\"little\"}],[\"c\",{\"type\":\"ndarray\",\"array\":{\"type\":\"bytes\",\"data\":\"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\"},\"shape\":[442],\"dtype\":\"int32\",\"order\":\"little\"}],[\"s\",{\"type\":\"ndarray\",\"array\":{\"type\":\"bytes\",\"data\":\"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\"},\"shape\":[442],\"dtype\":\"float64\",\"order\":\"little\"}]]}}},\"view\":{\"type\":\"object\",\"name\":\"CDSView\",\"id\":\"p1094\",\"attributes\":{\"filter\":{\"type\":\"object\",\"name\":\"AllIndices\",\"id\":\"p1095\"}}},\"glyph\":{\"type\":\"object\",\"name\":\"Scatter\",\"id\":\"p1090\",\"attributes\":{\"x\":{\"type\":\"field\",\"field\":\"x\"},\"y\":{\"type\":\"field\",\"field\":\"y\"},\"size\":{\"type\":\"field\",\"field\":\"s\"},\"fill_color\":{\"type\":\"field\",\"field\":\"c\",\"transform\":{\"type\":\"object\",\"name\":\"LinearColorMapper\",\"id\":\"p1051\",\"attributes\":{\"palette\":[\"#fff5f0\",\"#fff4ef\",\"#fff4ee\",\"#fff3ed\",\"#fff2ec\",\"#fff2eb\",\"#fff1ea\",\"#fff0e9\",\"#fff0e8\",\"#ffefe8\",\"#ffeee7\",\"#ffeee6\",\"#ffede5\",\"#ffece4\",\"#ffece3\",\"#ffebe2\",\"#feeae1\",\"#feeae0\",\"#fee9df\",\"#fee8de\",\"#fee8dd\",\"#fee7dc\",\"#fee7db\",\"#fee6da\",\"#fee5d9\",\"#fee5d8\",\"#fee4d8\",\"#fee3d7\",\"#fee3d6\",\"#fee2d5\",\"#fee1d4\",\"#fee1d3\",\"#fee0d2\",\"#fedfd0\",\"#fedecf\",\"#fedccd\",\"#fedbcc\",\"#fedaca\",\"#fed9c9\",\"#fed8c7\",\"#fdd7c6\",\"#fdd5c4\",\"#fdd4c2\",\"#fdd3c1\",\"#fdd2bf\",\"#fdd1be\",\"#fdd0bc\",\"#fdcebb\",\"#fdcdb9\",\"#fdccb8\",\"#fdcbb6\",\"#fdcab5\",\"#fdc9b3\",\"#fdc7b2\",\"#fdc6b0\",\"#fdc5ae\",\"#fcc4ad\",\"#fcc3ab\",\"#fcc2aa\",\"#fcc1a8\",\"#fcbfa7\",\"#fcbea5\",\"#fcbda4\",\"#fcbca2\",\"#fcbba1\",\"#fcb99f\",\"#fcb89e\",\"#fcb79c\",\"#fcb69b\",\"#fcb499\",\"#fcb398\",\"#fcb296\",\"#fcb095\",\"#fcaf93\",\"#fcae92\",\"#fcad90\",\"#fcab8f\",\"#fcaa8d\",\"#fca98c\",\"#fca78b\",\"#fca689\",\"#fca588\",\"#fca486\",\"#fca285\",\"#fca183\",\"#fca082\",\"#fc9e80\",\"#fc9d7f\",\"#fc9c7d\",\"#fc9b7c\",\"#fc997a\",\"#fc9879\",\"#fc9777\",\"#fc9576\",\"#fc9474\",\"#fc9373\",\"#fc9272\",\"#fc9070\",\"#fc8f6f\",\"#fc8e6e\",\"#fc8d6d\",\"#fc8b6b\",\"#fc8a6a\",\"#fc8969\",\"#fc8767\",\"#fc8666\",\"#fc8565\",\"#fc8464\",\"#fc8262\",\"#fc8161\",\"#fc8060\",\"#fc7f5f\",\"#fb7d5d\",\"#fb7c5c\",\"#fb7b5b\",\"#fb7a5a\",\"#fb7858\",\"#fb7757\",\"#fb7656\",\"#fb7555\",\"#fb7353\",\"#fb7252\",\"#fb7151\",\"#fb7050\",\"#fb6e4e\",\"#fb6d4d\",\"#fb6c4c\",\"#fb6b4b\",\"#fb694a\",\"#fa6849\",\"#fa6648\",\"#fa6547\",\"#f96346\",\"#f96245\",\"#f96044\",\"#f85f43\",\"#f85d42\",\"#f75c41\",\"#f75b40\",\"#f7593f\",\"#f6583e\",\"#f6563d\",\"#f6553c\",\"#f5533b\",\"#f5523a\",\"#f4503a\",\"#f44f39\",\"#f44d38\",\"#f34c37\",\"#f34a36\",\"#f34935\",\"#f24734\",\"#f24633\",\"#f14432\",\"#f14331\",\"#f14130\",\"#f0402f\",\"#f03f2e\",\"#f03d2d\",\"#ef3c2c\",\"#ee3a2c\",\"#ed392b\",\"#ec382b\",\"#eb372a\",\"#ea362a\",\"#e93529\",\"#e83429\",\"#e63328\",\"#e53228\",\"#e43027\",\"#e32f27\",\"#e22e27\",\"#e12d26\",\"#e02c26\",\"#de2b25\",\"#dd2a25\",\"#dc2924\",\"#db2824\",\"#da2723\",\"#d92523\",\"#d82422\",\"#d72322\",\"#d52221\",\"#d42121\",\"#d32020\",\"#d21f20\",\"#d11e1f\",\"#d01d1f\",\"#cf1c1f\",\"#ce1a1e\",\"#cc191e\",\"#cb181d\",\"#ca181d\",\"#c9181d\",\"#c8171c\",\"#c7171c\",\"#c5171c\",\"#c4161c\",\"#c3161b\",\"#c2161b\",\"#c1161b\",\"#bf151b\",\"#be151a\",\"#bd151a\",\"#bc141a\",\"#bb141a\",\"#b91419\",\"#b81419\",\"#b71319\",\"#b61319\",\"#b51318\",\"#b31218\",\"#b21218\",\"#b11218\",\"#b01217\",\"#af1117\",\"#ad1117\",\"#ac1117\",\"#ab1016\",\"#aa1016\",\"#a91016\",\"#a81016\",\"#a60f15\",\"#a50f15\",\"#a30f15\",\"#a10e15\",\"#9f0e14\",\"#9d0d14\",\"#9c0d14\",\"#9a0c14\",\"#980c13\",\"#960b13\",\"#940b13\",\"#920a13\",\"#900a12\",\"#8e0912\",\"#8c0912\",\"#8a0812\",\"#880811\",\"#860811\",\"#840711\",\"#820711\",\"#800610\",\"#7e0610\",\"#7c0510\",\"#7a0510\",\"#79040f\",\"#77040f\",\"#75030f\",\"#73030f\",\"#71020e\",\"#6f020e\",\"#6d010e\",\"#6b010e\",\"#69000d\",\"#67000d\"],\"low\":25,\"high\":346}}},\"hatch_color\":{\"type\":\"field\",\"field\":\"c\",\"transform\":{\"id\":\"p1051\"}}}},\"nonselection_glyph\":{\"type\":\"object\",\"name\":\"Scatter\",\"id\":\"p1091\",\"attributes\":{\"x\":{\"type\":\"field\",\"field\":\"x\"},\"y\":{\"type\":\"field\",\"field\":\"y\"},\"size\":{\"type\":\"field\",\"field\":\"s\"},\"line_alpha\":{\"type\":\"value\",\"value\":0.1},\"fill_color\":{\"type\":\"field\",\"field\":\"c\",\"transform\":{\"id\":\"p1051\"}},\"fill_alpha\":{\"type\":\"value\",\"value\":0.1},\"hatch_color\":{\"type\":\"field\",\"field\":\"c\",\"transform\":{\"id\":\"p1051\"}},\"hatch_alpha\":{\"type\":\"value\",\"value\":0.1}}},\"muted_glyph\":{\"type\":\"object\",\"name\":\"Scatter\",\"id\":\"p1092\",\"attributes\":{\"x\":{\"type\":\"field\",\"field\":\"x\"},\"y\":{\"type\":\"field\",\"field\":\"y\"},\"size\":{\"type\":\"field\",\"field\":\"s\"},\"line_alpha\":{\"type\":\"value\",\"value\":0.2},\"fill_color\":{\"type\":\"field\",\"field\":\"c\",\"transform\":{\"id\":\"p1051\"}},\"fill_alpha\":{\"type\":\"value\",\"value\":0.2},\"hatch_color\":{\"type\":\"field\",\"field\":\"c\",\"transform\":{\"id\":\"p1051\"}},\"hatch_alpha\":{\"type\":\"value\",\"value\":0.2}}}}}],\"toolbar\":{\"type\":\"object\",\"name\":\"Toolbar\",\"id\":\"p1063\",\"attributes\":{\"tools\":[{\"type\":\"object\",\"name\":\"PanTool\",\"id\":\"p1076\"},{\"type\":\"object\",\"name\":\"WheelZoomTool\",\"id\":\"p1077\",\"attributes\":{\"renderers\":\"auto\"}},{\"type\":\"object\",\"name\":\"BoxZoomTool\",\"id\":\"p1078\",\"attributes\":{\"overlay\":{\"type\":\"object\",\"name\":\"BoxAnnotation\",\"id\":\"p1079\",\"attributes\":{\"syncable\":false,\"level\":\"overlay\",\"visible\":false,\"left\":{\"type\":\"number\",\"value\":\"nan\"},\"right\":{\"type\":\"number\",\"value\":\"nan\"},\"top\":{\"type\":\"number\",\"value\":\"nan\"},\"bottom\":{\"type\":\"number\",\"value\":\"nan\"},\"left_units\":\"canvas\",\"right_units\":\"canvas\",\"top_units\":\"canvas\",\"bottom_units\":\"canvas\",\"line_color\":\"black\",\"line_alpha\":1.0,\"line_width\":2,\"line_dash\":[4,4],\"fill_color\":\"lightgrey\",\"fill_alpha\":0.5}}}},{\"type\":\"object\",\"name\":\"SaveTool\",\"id\":\"p1084\"},{\"type\":\"object\",\"name\":\"ResetTool\",\"id\":\"p1085\"},{\"type\":\"object\",\"name\":\"HelpTool\",\"id\":\"p1086\"}]}},\"left\":[{\"type\":\"object\",\"name\":\"LinearAxis\",\"id\":\"p1071\",\"attributes\":{\"ticker\":{\"type\":\"object\",\"name\":\"BasicTicker\",\"id\":\"p1072\",\"attributes\":{\"num_minor_ticks\":2,\"mantissas\":[1,2,5]}},\"formatter\":{\"type\":\"object\",\"name\":\"BasicTickFormatter\",\"id\":\"p1073\"},\"axis_label\":\"\\u8840\\u5727 [mmHg]\",\"axis_label_text_font_size\":\"18px\",\"major_label_policy\":{\"type\":\"object\",\"name\":\"AllLabels\",\"id\":\"p1074\"},\"major_label_text_font_size\":\"14px\"}}],\"right\":[{\"type\":\"object\",\"name\":\"ColorBar\",\"id\":\"p1052\",\"attributes\":{\"major_label_policy\":{\"type\":\"object\",\"name\":\"NoOverlap\",\"id\":\"p1053\"},\"color_mapper\":{\"id\":\"p1051\"}}}],\"below\":[{\"type\":\"object\",\"name\":\"LinearAxis\",\"id\":\"p1066\",\"attributes\":{\"ticker\":{\"type\":\"object\",\"name\":\"BasicTicker\",\"id\":\"p1067\",\"attributes\":{\"mantissas\":[1,2,5]}},\"formatter\":{\"type\":\"object\",\"name\":\"BasicTickFormatter\",\"id\":\"p1068\"},\"axis_label\":\"BMI\",\"axis_label_text_font_size\":\"18px\",\"major_label_policy\":{\"type\":\"object\",\"name\":\"AllLabels\",\"id\":\"p1069\"},\"major_label_text_font_size\":\"14px\"}}],\"center\":[{\"type\":\"object\",\"name\":\"Grid\",\"id\":\"p1070\",\"attributes\":{\"visible\":false,\"axis\":{\"id\":\"p1066\"}}},{\"type\":\"object\",\"name\":\"Grid\",\"id\":\"p1075\",\"attributes\":{\"visible\":false,\"dimension\":1,\"axis\":{\"id\":\"p1071\"}}}]}}]}};\n  const render_items = [{\"docid\":\"f7197611-6710-46c3-944a-f9ccd7991da2\",\"roots\":{\"p1054\":\"cbb75bf8-194e-497c-aa0a-372873a9c145\"},\"root_ids\":[\"p1054\"]}];\n  void root.Bokeh.embed.embed_items_notebook(docs_json, render_items);\n  }\n  if (root.Bokeh !== undefined) {\n    embed_document(root);\n  } else {\n    let attempts = 0;\n    const timer = setInterval(function(root) {\n      if (root.Bokeh !== undefined) {\n        clearInterval(timer);\n        embed_document(root);\n      } else {\n        attempts++;\n        if (attempts > 100) {\n          clearInterval(timer);\n          console.log(\"Bokeh: ERROR: Unable to run BokehJS code because BokehJS library is missing\");\n        }\n      }\n    }, 10, root)\n  }\n})(window);",
      "application/vnd.bokehjs_exec.v0+json": ""
     },
     "metadata": {
      "application/vnd.bokehjs_exec.v0+json": {
       "id": "p1054"
      }
     },
     "output_type": "display_data"
    }
   ],
   "source": [
    "src = ColumnDataSource(\n",
    "    dict(\n",
    "        x=scatter_df[\"bmi\"],\n",
    "        y=scatter_df[\"bp\"],\n",
    "        c=scatter_df[\"y\"],\n",
    "        s=scatter_df[\"y\"] / 20\n",
    "    )\n",
    ")\n",
    "\n",
    "color_mapper = LinearColorMapper(\n",
    "    palette=palettes.Reds256[::-1],  # カラーマップは\"Reds\"(256段階)\n",
    "    low=scatter_df[\"y\"].min(),       # カラーマップの最小値\n",
    "    high=scatter_df[\"y\"].max()       # カラーマップの最大値\n",
    ")\n",
    "\n",
    "color_bar = ColorBar(color_mapper=color_mapper, )  # カラーバー\n",
    "\n",
    "plot = figure(\n",
    "    width=700,\n",
    "    height=500,\n",
    "    x_axis_label=\"BMI\",\n",
    "    y_axis_label=\"血圧 [mmHg]\",\n",
    "    title=\"BMIと血圧の関係\",\n",
    "    x_minor_ticks=5,\n",
    "    y_minor_ticks=2,\n",
    "    outline_line_color=\"black\",\n",
    "    outline_line_width=2,\n",
    ")\n",
    "\n",
    "plot.scatter(\n",
    "    source=src,\n",
    "    x=\"x\",\n",
    "    y=\"y\",\n",
    "    size=\"s\",\n",
    "    color=transform(\"c\", color_mapper),  # マーカーの色を\"c\"の値に応じ、Redsのカラーマップにより変更\n",
    "    marker=\"circle\",\n",
    "    line_color=\"black\",\n",
    ")\n",
    "\n",
    "plot.grid.visible = False\n",
    "plot.add_layout(color_bar, place=\"right\")    # カラーバーをグラフに追加\n",
    "\n",
    "plot.title.text_font_size = \"24px\"\n",
    "plot.xaxis.axis_label_text_font_size= \"18px\"\n",
    "plot.xaxis.major_label_text_font_size= \"14px\"\n",
    "plot.yaxis.axis_label_text_font_size= \"18px\"\n",
    "plot.yaxis.major_label_text_font_size= \"14px\"\n",
    "\n",
    "show(plot)"
   ]
  },
  {
   "cell_type": "markdown",
   "metadata": {},
   "source": [
    "## 棒グラフ（`plot.vbar()`, `plot.hbar()`）"
   ]
  },
  {
   "cell_type": "code",
   "execution_count": 5,
   "metadata": {},
   "outputs": [],
   "source": [
    "bar_df = pd.read_csv(\n",
    "    \"../data/city_temperature.csv\",\n",
    "    sep=\"\\t\",  # タブ区切りのデータを取得\n",
    "    index_col=None,\n",
    "    parse_dates=[\"date\"],  # 文字列から日付データに変換したい列名\n",
    "    date_format=\"%Y%m%d\",  # 日付データのフォーマット 例) 20111001 -> 2011-10-01\n",
    ")\n",
    "\n",
    "bar_df = bar_df.set_index(\"date\")\n",
    "\n",
    "ny_temp = bar_df[\"New York\"].resample(\"ME\").mean()\n",
    "ny_temp_std = bar_df[\"New York\"].resample(\"ME\").std()\n",
    "sf_temp = bar_df[\"San Francisco\"].resample(\"ME\").mean()\n",
    "sf_temp_std = bar_df[\"San Francisco\"].resample(\"ME\").std()\n",
    "austin_temp = bar_df[\"Austin\"].resample(\"ME\").mean()\n",
    "austin_temp_std = bar_df[\"Austin\"].resample(\"ME\").std()\n",
    "month = [f\"{m}月\" for m in bar_df.index.month.unique()]\n",
    "\n",
    "src = ColumnDataSource(\n",
    "    {\n",
    "        \"month\": month,\n",
    "        \"NY_mean\": ny_temp,\n",
    "        \"NY_std\": ny_temp_std,\n",
    "        \"SF_mean\": sf_temp,\n",
    "        \"SF_std\": sf_temp_std,\n",
    "        \"Austin_mean\": austin_temp,\n",
    "        \"Austin_std\": austin_temp_std,\n",
    "    }\n",
    ")"
   ]
  },
  {
   "cell_type": "code",
   "execution_count": 6,
   "metadata": {},
   "outputs": [
    {
     "data": {
      "text/html": [
       "\n",
       "  <div id=\"cbf692e1-e4f8-433f-8702-2929244eec45\" data-root-id=\"p1103\" style=\"display: contents;\"></div>\n"
      ]
     },
     "metadata": {},
     "output_type": "display_data"
    },
    {
     "data": {
      "application/javascript": "(function(root) {\n  function embed_document(root) {\n  const docs_json = {\"f9ab8f74-30cc-45c9-b0f5-58d2e6ce4f68\":{\"version\":\"3.4.1\",\"title\":\"Bokeh Application\",\"roots\":[{\"type\":\"object\",\"name\":\"Figure\",\"id\":\"p1103\",\"attributes\":{\"width\":700,\"height\":500,\"x_range\":{\"type\":\"object\",\"name\":\"FactorRange\",\"id\":\"p1113\",\"attributes\":{\"factors\":[\"10\\u6708\",\"11\\u6708\",\"12\\u6708\",\"1\\u6708\",\"2\\u6708\",\"3\\u6708\",\"4\\u6708\",\"5\\u6708\",\"6\\u6708\",\"7\\u6708\",\"8\\u6708\",\"9\\u6708\"]}},\"y_range\":{\"type\":\"object\",\"name\":\"Range1d\",\"id\":\"p1114\",\"attributes\":{\"end\":85}},\"x_scale\":{\"type\":\"object\",\"name\":\"CategoricalScale\",\"id\":\"p1115\"},\"y_scale\":{\"type\":\"object\",\"name\":\"LinearScale\",\"id\":\"p1116\"},\"title\":{\"type\":\"object\",\"name\":\"Title\",\"id\":\"p1106\",\"attributes\":{\"text\":\"NY\\u306e\\u6c17\\u6e29\\uff08\\u6708\\u5225\\u5e73\\u5747\\uff09\",\"text_font_size\":\"24px\"}},\"outline_line_color\":\"black\",\"outline_line_width\":2,\"renderers\":[{\"type\":\"object\",\"name\":\"GlyphRenderer\",\"id\":\"p1144\",\"attributes\":{\"data_source\":{\"type\":\"object\",\"name\":\"ColumnDataSource\",\"id\":\"p1100\",\"attributes\":{\"selected\":{\"type\":\"object\",\"name\":\"Selection\",\"id\":\"p1101\",\"attributes\":{\"indices\":[],\"line_indices\":[]}},\"selection_policy\":{\"type\":\"object\",\"name\":\"UnionRenderers\",\"id\":\"p1102\"},\"data\":{\"type\":\"map\",\"entries\":[[\"month\",[\"10\\u6708\",\"11\\u6708\",\"12\\u6708\",\"1\\u6708\",\"2\\u6708\",\"3\\u6708\",\"4\\u6708\",\"5\\u6708\",\"6\\u6708\",\"7\\u6708\",\"8\\u6708\",\"9\\u6708\"]],[\"NY_mean\",{\"type\":\"ndarray\",\"array\":{\"type\":\"bytes\",\"data\":\"isSrSLwKTUCMJb9Y8mtJQJe/ZPlLlkVAMsYYY4yxQkCh1ZcKWj1EQEi8isSrCEhAFK5H4Xr0SkDh6AmOnqBPQGPJL5b8olFAux2q26F6U0C8isSrSBxTQGPJL5b8QlFA\"},\"shape\":[12],\"dtype\":\"float64\",\"order\":\"little\"}],[\"NY_std\",{\"type\":\"ndarray\",\"array\":{\"type\":\"bytes\",\"data\":\"v4GzvSgSIEB4jm8+PWUTQFh110Hy1xpAEZtuxuKIIEB+D0VWBrkSQNPsphZyQh1AvDnKDnYVFUDE3kLA1DsYQGxkhmotVxxA93Rv/O9oEUDDb0stXzAFQPMrCzXRwBRA\"},\"shape\":[12],\"dtype\":\"float64\",\"order\":\"little\"}],[\"SF_mean\",{\"type\":\"ndarray\",\"array\":{\"type\":\"bytes\",\"data\":\"NDMzMzOzTUApXI/C9YhKQFtrrbXWGklA+kuWv2R5SUA8/nDA449JQO+99957b0lAagOdNtBpSkA/Luzjwn5KQN7d3d3dnUtAwdETHD3BS0A1oE0D2rRLQDbQaQOdVktA\"},\"shape\":[12],\"dtype\":\"float64\",\"order\":\"little\"}],[\"SF_std\",{\"type\":\"ndarray\",\"array\":{\"type\":\"bytes\",\"data\":\"OCMIxZK/CECZdjbDEhMIQE5ybip0KQ9A/04txQstB0BkBrfaCm8EQNZye6423AdAombWR5KLBUCi175e7A/5P+2UZyZxHf0/wXlSHcr7+z/gjk24rz/8PyDqan7tGvY/\"},\"shape\":[12],\"dtype\":\"float64\",\"order\":\"little\"}],[\"Austin_mean\",{\"type\":\"ndarray\",\"array\":{\"type\":\"bytes\",\"data\":\"NDMzMzMzUUD6xZJfLLlOQKhuh+p2aElAisSrSLyKSkDIHw54/OFLQE0D2jSgLVBAbaDTBjrtUUCEEEIIISRTQHE9CtejwFRAEUIIIYSwVEA8VLdDdRtVQK5H4XoUXlNA\"},\"shape\":[12],\"dtype\":\"float64\",\"order\":\"little\"}],[\"Austin_std\",{\"type\":\"ndarray\",\"array\":{\"type\":\"bytes\",\"data\":\"DcMSDBicHECasmZ2Q2olQJ/umDuGkCBAi30W0GoDHEBApcb+t5IiQKdgJMLhnR5A4sr1dVPqEUDpD2/poawSQLAYyAYksQhAWUp7JrrRBEBLb68SIksIQKBwtPv/xhVA\"},\"shape\":[12],\"dtype\":\"float64\",\"order\":\"little\"}]]}}},\"view\":{\"type\":\"object\",\"name\":\"CDSView\",\"id\":\"p1145\",\"attributes\":{\"filter\":{\"type\":\"object\",\"name\":\"AllIndices\",\"id\":\"p1146\"}}},\"glyph\":{\"type\":\"object\",\"name\":\"VBar\",\"id\":\"p1141\",\"attributes\":{\"x\":{\"type\":\"field\",\"field\":\"month\"},\"width\":{\"type\":\"value\",\"value\":0.8},\"top\":{\"type\":\"field\",\"field\":\"NY_mean\"},\"line_color\":{\"type\":\"value\",\"value\":\"#1f77b4\"},\"fill_color\":{\"type\":\"value\",\"value\":\"#1f77b4\"}}},\"nonselection_glyph\":{\"type\":\"object\",\"name\":\"VBar\",\"id\":\"p1142\",\"attributes\":{\"x\":{\"type\":\"field\",\"field\":\"month\"},\"width\":{\"type\":\"value\",\"value\":0.8},\"top\":{\"type\":\"field\",\"field\":\"NY_mean\"},\"line_color\":{\"type\":\"value\",\"value\":\"#1f77b4\"},\"line_alpha\":{\"type\":\"value\",\"value\":0.1},\"fill_color\":{\"type\":\"value\",\"value\":\"#1f77b4\"},\"fill_alpha\":{\"type\":\"value\",\"value\":0.1},\"hatch_alpha\":{\"type\":\"value\",\"value\":0.1}}},\"muted_glyph\":{\"type\":\"object\",\"name\":\"VBar\",\"id\":\"p1143\",\"attributes\":{\"x\":{\"type\":\"field\",\"field\":\"month\"},\"width\":{\"type\":\"value\",\"value\":0.8},\"top\":{\"type\":\"field\",\"field\":\"NY_mean\"},\"line_color\":{\"type\":\"value\",\"value\":\"#1f77b4\"},\"line_alpha\":{\"type\":\"value\",\"value\":0.2},\"fill_color\":{\"type\":\"value\",\"value\":\"#1f77b4\"},\"fill_alpha\":{\"type\":\"value\",\"value\":0.2},\"hatch_alpha\":{\"type\":\"value\",\"value\":0.2}}}}},{\"type\":\"object\",\"name\":\"GlyphRenderer\",\"id\":\"p1153\",\"attributes\":{\"data_source\":{\"type\":\"object\",\"name\":\"ColumnDataSource\",\"id\":\"p1147\",\"attributes\":{\"selected\":{\"type\":\"object\",\"name\":\"Selection\",\"id\":\"p1148\",\"attributes\":{\"indices\":[],\"line_indices\":[]}},\"selection_policy\":{\"type\":\"object\",\"name\":\"UnionRenderers\",\"id\":\"p1149\"},\"data\":{\"type\":\"map\",\"entries\":[[\"x0\",[\"10\\u6708\",\"11\\u6708\",\"12\\u6708\",\"1\\u6708\",\"2\\u6708\",\"3\\u6708\",\"4\\u6708\",\"5\\u6708\",\"6\\u6708\",\"7\\u6708\",\"8\\u6708\",\"9\\u6708\"]],[\"y0\",{\"type\":\"ndarray\",\"array\":{\"type\":\"bytes\",\"data\":\"GuQ+GTIGSUC9M/GwSv9GQOzQKbFNO0JA3D76YqcePUCxM88/OeZBQK7etYFdYERA3GZuH8xRSEAIjQH2I5lMQDjGDn8Tu09AbCbj2xJkUkA+L1qyxXJSQEgtvgXf7U9A\"},\"shape\":[12],\"dtype\":\"float64\",\"order\":\"little\"}],[\"x1\",[\"10\\u6708\",\"11\\u6708\",\"12\\u6708\",\"1\\u6708\",\"2\\u6708\",\"3\\u6708\",\"4\\u6708\",\"5\\u6708\",\"6\\u6708\",\"7\\u6708\",\"8\\u6708\",\"9\\u6708\"]],[\"y1\",{\"type\":\"ndarray\",\"array\":{\"type\":\"bytes\",\"data\":\"fVIMPKOHUEBbF40AmthLQEKun0FK8UhA9my0FMXTRkCRd2DVepRGQOKZXwf6sEtATPUgoymXTUBdIgmTDFRRQKov2GxvaFNAChVx2zCRVEA65i6ly8VTQCJ8gKkJj1JA\"},\"shape\":[12],\"dtype\":\"float64\",\"order\":\"little\"}]]}}},\"view\":{\"type\":\"object\",\"name\":\"CDSView\",\"id\":\"p1154\",\"attributes\":{\"filter\":{\"type\":\"object\",\"name\":\"AllIndices\",\"id\":\"p1155\"}}},\"glyph\":{\"type\":\"object\",\"name\":\"Segment\",\"id\":\"p1150\",\"attributes\":{\"x0\":{\"type\":\"field\",\"field\":\"x0\"},\"y0\":{\"type\":\"field\",\"field\":\"y0\"},\"x1\":{\"type\":\"field\",\"field\":\"x1\"},\"y1\":{\"type\":\"field\",\"field\":\"y1\"},\"line_width\":{\"type\":\"value\",\"value\":2}}},\"nonselection_glyph\":{\"type\":\"object\",\"name\":\"Segment\",\"id\":\"p1151\",\"attributes\":{\"x0\":{\"type\":\"field\",\"field\":\"x0\"},\"y0\":{\"type\":\"field\",\"field\":\"y0\"},\"x1\":{\"type\":\"field\",\"field\":\"x1\"},\"y1\":{\"type\":\"field\",\"field\":\"y1\"},\"line_alpha\":{\"type\":\"value\",\"value\":0.1},\"line_width\":{\"type\":\"value\",\"value\":2}}},\"muted_glyph\":{\"type\":\"object\",\"name\":\"Segment\",\"id\":\"p1152\",\"attributes\":{\"x0\":{\"type\":\"field\",\"field\":\"x0\"},\"y0\":{\"type\":\"field\",\"field\":\"y0\"},\"x1\":{\"type\":\"field\",\"field\":\"x1\"},\"y1\":{\"type\":\"field\",\"field\":\"y1\"},\"line_alpha\":{\"type\":\"value\",\"value\":0.2},\"line_width\":{\"type\":\"value\",\"value\":2}}}}}],\"toolbar\":{\"type\":\"object\",\"name\":\"Toolbar\",\"id\":\"p1112\",\"attributes\":{\"tools\":[{\"type\":\"object\",\"name\":\"PanTool\",\"id\":\"p1127\"},{\"type\":\"object\",\"name\":\"WheelZoomTool\",\"id\":\"p1128\",\"attributes\":{\"renderers\":\"auto\"}},{\"type\":\"object\",\"name\":\"BoxZoomTool\",\"id\":\"p1129\",\"attributes\":{\"overlay\":{\"type\":\"object\",\"name\":\"BoxAnnotation\",\"id\":\"p1130\",\"attributes\":{\"syncable\":false,\"level\":\"overlay\",\"visible\":false,\"left\":{\"type\":\"number\",\"value\":\"nan\"},\"right\":{\"type\":\"number\",\"value\":\"nan\"},\"top\":{\"type\":\"number\",\"value\":\"nan\"},\"bottom\":{\"type\":\"number\",\"value\":\"nan\"},\"left_units\":\"canvas\",\"right_units\":\"canvas\",\"top_units\":\"canvas\",\"bottom_units\":\"canvas\",\"line_color\":\"black\",\"line_alpha\":1.0,\"line_width\":2,\"line_dash\":[4,4],\"fill_color\":\"lightgrey\",\"fill_alpha\":0.5}}}},{\"type\":\"object\",\"name\":\"SaveTool\",\"id\":\"p1135\"},{\"type\":\"object\",\"name\":\"ResetTool\",\"id\":\"p1136\"},{\"type\":\"object\",\"name\":\"HelpTool\",\"id\":\"p1137\"}]}},\"left\":[{\"type\":\"object\",\"name\":\"LinearAxis\",\"id\":\"p1122\",\"attributes\":{\"ticker\":{\"type\":\"object\",\"name\":\"BasicTicker\",\"id\":\"p1123\",\"attributes\":{\"mantissas\":[1,2,5]}},\"formatter\":{\"type\":\"object\",\"name\":\"BasicTickFormatter\",\"id\":\"p1124\"},\"axis_label\":\"Temperature [F]\",\"axis_label_text_font_size\":\"18px\",\"major_label_policy\":{\"type\":\"object\",\"name\":\"AllLabels\",\"id\":\"p1125\"},\"major_label_text_font_size\":\"14px\"}}],\"below\":[{\"type\":\"object\",\"name\":\"CategoricalAxis\",\"id\":\"p1117\",\"attributes\":{\"ticker\":{\"type\":\"object\",\"name\":\"CategoricalTicker\",\"id\":\"p1118\"},\"formatter\":{\"type\":\"object\",\"name\":\"CategoricalTickFormatter\",\"id\":\"p1119\"},\"axis_label\":\"Month\",\"axis_label_text_font_size\":\"18px\",\"major_label_policy\":{\"type\":\"object\",\"name\":\"AllLabels\",\"id\":\"p1120\"},\"major_label_text_font_size\":\"14px\"}}],\"center\":[{\"type\":\"object\",\"name\":\"Grid\",\"id\":\"p1121\",\"attributes\":{\"axis\":{\"id\":\"p1117\"},\"grid_line_color\":null}},{\"type\":\"object\",\"name\":\"Grid\",\"id\":\"p1126\",\"attributes\":{\"dimension\":1,\"axis\":{\"id\":\"p1122\"},\"grid_line_color\":\"black\",\"grid_line_dash\":[2,4]}}]}}]}};\n  const render_items = [{\"docid\":\"f9ab8f74-30cc-45c9-b0f5-58d2e6ce4f68\",\"roots\":{\"p1103\":\"cbf692e1-e4f8-433f-8702-2929244eec45\"},\"root_ids\":[\"p1103\"]}];\n  void root.Bokeh.embed.embed_items_notebook(docs_json, render_items);\n  }\n  if (root.Bokeh !== undefined) {\n    embed_document(root);\n  } else {\n    let attempts = 0;\n    const timer = setInterval(function(root) {\n      if (root.Bokeh !== undefined) {\n        clearInterval(timer);\n        embed_document(root);\n      } else {\n        attempts++;\n        if (attempts > 100) {\n          clearInterval(timer);\n          console.log(\"Bokeh: ERROR: Unable to run BokehJS code because BokehJS library is missing\");\n        }\n      }\n    }, 10, root)\n  }\n})(window);",
      "application/vnd.bokehjs_exec.v0+json": ""
     },
     "metadata": {
      "application/vnd.bokehjs_exec.v0+json": {
       "id": "p1103"
      }
     },
     "output_type": "display_data"
    }
   ],
   "source": [
    "plot = figure(\n",
    "    title=\"NYの気温（月別平均）\",\n",
    "    x_range=month,\n",
    "    y_range=[0, 85],\n",
    "    x_axis_label=\"Month\",\n",
    "    y_axis_label=\"Temperature [F]\",\n",
    "    width=700,\n",
    "    height=500,\n",
    "    x_minor_ticks=5,\n",
    "    y_minor_ticks=5,\n",
    "    outline_line_color=\"black\",\n",
    "    outline_line_width=2,\n",
    ")\n",
    "\n",
    "plot.vbar(\n",
    "    source=src,\n",
    "    x=\"month\",\n",
    "    top=\"NY_mean\",\n",
    "    width=0.8,\n",
    ")\n",
    "\n",
    "plot.segment(\n",
    "    x0=month, y0=ny_temp - ny_temp_std,\n",
    "    x1=month, y1=ny_temp + ny_temp_std,\n",
    "    line_color=\"black\",\n",
    "    line_width=2\n",
    ")\n",
    "\n",
    "plot.xgrid.grid_line_color = None\n",
    "plot.ygrid.grid_line_color = \"black\"\n",
    "plot.ygrid.grid_line_dash = \"dotted\"\n",
    "plot.title.text_font_size = \"24px\"\n",
    "plot.xaxis.axis_label_text_font_size= \"18px\"\n",
    "plot.xaxis.major_label_text_font_size= \"14px\"\n",
    "plot.yaxis.axis_label_text_font_size= \"18px\"\n",
    "plot.yaxis.major_label_text_font_size= \"14px\"\n",
    "\n",
    "show(plot)"
   ]
  },
  {
   "cell_type": "code",
   "execution_count": 7,
   "metadata": {},
   "outputs": [
    {
     "data": {
      "text/html": [
       "\n",
       "  <div id=\"b077e98f-49e1-448f-a5e7-f691cd989d89\" data-root-id=\"p1164\" style=\"display: contents;\"></div>\n"
      ]
     },
     "metadata": {},
     "output_type": "display_data"
    },
    {
     "data": {
      "application/javascript": "(function(root) {\n  function embed_document(root) {\n  const docs_json = {\"c006035a-41cd-4420-9073-c421c0586c71\":{\"version\":\"3.4.1\",\"title\":\"Bokeh Application\",\"roots\":[{\"type\":\"object\",\"name\":\"Figure\",\"id\":\"p1164\",\"attributes\":{\"width\":700,\"height\":500,\"x_range\":{\"type\":\"object\",\"name\":\"Range1d\",\"id\":\"p1174\",\"attributes\":{\"end\":85}},\"y_range\":{\"type\":\"object\",\"name\":\"FactorRange\",\"id\":\"p1175\",\"attributes\":{\"factors\":[\"10\\u6708\",\"11\\u6708\",\"12\\u6708\",\"1\\u6708\",\"2\\u6708\",\"3\\u6708\",\"4\\u6708\",\"5\\u6708\",\"6\\u6708\",\"7\\u6708\",\"8\\u6708\",\"9\\u6708\"]}},\"x_scale\":{\"type\":\"object\",\"name\":\"LinearScale\",\"id\":\"p1176\"},\"y_scale\":{\"type\":\"object\",\"name\":\"CategoricalScale\",\"id\":\"p1177\"},\"title\":{\"type\":\"object\",\"name\":\"Title\",\"id\":\"p1167\",\"attributes\":{\"text\":\"NY\\u306e\\u6c17\\u6e29\\uff08\\u6708\\u5225\\u5e73\\u5747\\uff09\",\"text_font_size\":\"24px\"}},\"outline_line_color\":\"black\",\"outline_line_width\":2,\"renderers\":[{\"type\":\"object\",\"name\":\"GlyphRenderer\",\"id\":\"p1205\",\"attributes\":{\"data_source\":{\"type\":\"object\",\"name\":\"ColumnDataSource\",\"id\":\"p1100\",\"attributes\":{\"selected\":{\"type\":\"object\",\"name\":\"Selection\",\"id\":\"p1101\",\"attributes\":{\"indices\":[],\"line_indices\":[]}},\"selection_policy\":{\"type\":\"object\",\"name\":\"UnionRenderers\",\"id\":\"p1102\"},\"data\":{\"type\":\"map\",\"entries\":[[\"month\",[\"10\\u6708\",\"11\\u6708\",\"12\\u6708\",\"1\\u6708\",\"2\\u6708\",\"3\\u6708\",\"4\\u6708\",\"5\\u6708\",\"6\\u6708\",\"7\\u6708\",\"8\\u6708\",\"9\\u6708\"]],[\"NY_mean\",{\"type\":\"ndarray\",\"array\":{\"type\":\"bytes\",\"data\":\"isSrSLwKTUCMJb9Y8mtJQJe/ZPlLlkVAMsYYY4yxQkCh1ZcKWj1EQEi8isSrCEhAFK5H4Xr0SkDh6AmOnqBPQGPJL5b8olFAux2q26F6U0C8isSrSBxTQGPJL5b8QlFA\"},\"shape\":[12],\"dtype\":\"float64\",\"order\":\"little\"}],[\"NY_std\",{\"type\":\"ndarray\",\"array\":{\"type\":\"bytes\",\"data\":\"v4GzvSgSIEB4jm8+PWUTQFh110Hy1xpAEZtuxuKIIEB+D0VWBrkSQNPsphZyQh1AvDnKDnYVFUDE3kLA1DsYQGxkhmotVxxA93Rv/O9oEUDDb0stXzAFQPMrCzXRwBRA\"},\"shape\":[12],\"dtype\":\"float64\",\"order\":\"little\"}],[\"SF_mean\",{\"type\":\"ndarray\",\"array\":{\"type\":\"bytes\",\"data\":\"NDMzMzOzTUApXI/C9YhKQFtrrbXWGklA+kuWv2R5SUA8/nDA449JQO+99957b0lAagOdNtBpSkA/Luzjwn5KQN7d3d3dnUtAwdETHD3BS0A1oE0D2rRLQDbQaQOdVktA\"},\"shape\":[12],\"dtype\":\"float64\",\"order\":\"little\"}],[\"SF_std\",{\"type\":\"ndarray\",\"array\":{\"type\":\"bytes\",\"data\":\"OCMIxZK/CECZdjbDEhMIQE5ybip0KQ9A/04txQstB0BkBrfaCm8EQNZye6423AdAombWR5KLBUCi175e7A/5P+2UZyZxHf0/wXlSHcr7+z/gjk24rz/8PyDqan7tGvY/\"},\"shape\":[12],\"dtype\":\"float64\",\"order\":\"little\"}],[\"Austin_mean\",{\"type\":\"ndarray\",\"array\":{\"type\":\"bytes\",\"data\":\"NDMzMzMzUUD6xZJfLLlOQKhuh+p2aElAisSrSLyKSkDIHw54/OFLQE0D2jSgLVBAbaDTBjrtUUCEEEIIISRTQHE9CtejwFRAEUIIIYSwVEA8VLdDdRtVQK5H4XoUXlNA\"},\"shape\":[12],\"dtype\":\"float64\",\"order\":\"little\"}],[\"Austin_std\",{\"type\":\"ndarray\",\"array\":{\"type\":\"bytes\",\"data\":\"DcMSDBicHECasmZ2Q2olQJ/umDuGkCBAi30W0GoDHEBApcb+t5IiQKdgJMLhnR5A4sr1dVPqEUDpD2/poawSQLAYyAYksQhAWUp7JrrRBEBLb68SIksIQKBwtPv/xhVA\"},\"shape\":[12],\"dtype\":\"float64\",\"order\":\"little\"}]]}}},\"view\":{\"type\":\"object\",\"name\":\"CDSView\",\"id\":\"p1206\",\"attributes\":{\"filter\":{\"type\":\"object\",\"name\":\"AllIndices\",\"id\":\"p1207\"}}},\"glyph\":{\"type\":\"object\",\"name\":\"HBar\",\"id\":\"p1202\",\"attributes\":{\"y\":{\"type\":\"field\",\"field\":\"month\"},\"height\":{\"type\":\"value\",\"value\":0.8},\"right\":{\"type\":\"field\",\"field\":\"NY_mean\"},\"line_color\":{\"type\":\"value\",\"value\":\"#1f77b4\"},\"fill_color\":{\"type\":\"value\",\"value\":\"#1f77b4\"}}},\"nonselection_glyph\":{\"type\":\"object\",\"name\":\"HBar\",\"id\":\"p1203\",\"attributes\":{\"y\":{\"type\":\"field\",\"field\":\"month\"},\"height\":{\"type\":\"value\",\"value\":0.8},\"right\":{\"type\":\"field\",\"field\":\"NY_mean\"},\"line_color\":{\"type\":\"value\",\"value\":\"#1f77b4\"},\"line_alpha\":{\"type\":\"value\",\"value\":0.1},\"fill_color\":{\"type\":\"value\",\"value\":\"#1f77b4\"},\"fill_alpha\":{\"type\":\"value\",\"value\":0.1},\"hatch_alpha\":{\"type\":\"value\",\"value\":0.1}}},\"muted_glyph\":{\"type\":\"object\",\"name\":\"HBar\",\"id\":\"p1204\",\"attributes\":{\"y\":{\"type\":\"field\",\"field\":\"month\"},\"height\":{\"type\":\"value\",\"value\":0.8},\"right\":{\"type\":\"field\",\"field\":\"NY_mean\"},\"line_color\":{\"type\":\"value\",\"value\":\"#1f77b4\"},\"line_alpha\":{\"type\":\"value\",\"value\":0.2},\"fill_color\":{\"type\":\"value\",\"value\":\"#1f77b4\"},\"fill_alpha\":{\"type\":\"value\",\"value\":0.2},\"hatch_alpha\":{\"type\":\"value\",\"value\":0.2}}}}},{\"type\":\"object\",\"name\":\"GlyphRenderer\",\"id\":\"p1214\",\"attributes\":{\"data_source\":{\"type\":\"object\",\"name\":\"ColumnDataSource\",\"id\":\"p1208\",\"attributes\":{\"selected\":{\"type\":\"object\",\"name\":\"Selection\",\"id\":\"p1209\",\"attributes\":{\"indices\":[],\"line_indices\":[]}},\"selection_policy\":{\"type\":\"object\",\"name\":\"UnionRenderers\",\"id\":\"p1210\"},\"data\":{\"type\":\"map\",\"entries\":[[\"y0\",[\"10\\u6708\",\"11\\u6708\",\"12\\u6708\",\"1\\u6708\",\"2\\u6708\",\"3\\u6708\",\"4\\u6708\",\"5\\u6708\",\"6\\u6708\",\"7\\u6708\",\"8\\u6708\",\"9\\u6708\"]],[\"x0\",{\"type\":\"ndarray\",\"array\":{\"type\":\"bytes\",\"data\":\"GuQ+GTIGSUC9M/GwSv9GQOzQKbFNO0JA3D76YqcePUCxM88/OeZBQK7etYFdYERA3GZuH8xRSEAIjQH2I5lMQDjGDn8Tu09AbCbj2xJkUkA+L1qyxXJSQEgtvgXf7U9A\"},\"shape\":[12],\"dtype\":\"float64\",\"order\":\"little\"}],[\"y1\",[\"10\\u6708\",\"11\\u6708\",\"12\\u6708\",\"1\\u6708\",\"2\\u6708\",\"3\\u6708\",\"4\\u6708\",\"5\\u6708\",\"6\\u6708\",\"7\\u6708\",\"8\\u6708\",\"9\\u6708\"]],[\"x1\",{\"type\":\"ndarray\",\"array\":{\"type\":\"bytes\",\"data\":\"fVIMPKOHUEBbF40AmthLQEKun0FK8UhA9my0FMXTRkCRd2DVepRGQOKZXwf6sEtATPUgoymXTUBdIgmTDFRRQKov2GxvaFNAChVx2zCRVEA65i6ly8VTQCJ8gKkJj1JA\"},\"shape\":[12],\"dtype\":\"float64\",\"order\":\"little\"}]]}}},\"view\":{\"type\":\"object\",\"name\":\"CDSView\",\"id\":\"p1215\",\"attributes\":{\"filter\":{\"type\":\"object\",\"name\":\"AllIndices\",\"id\":\"p1216\"}}},\"glyph\":{\"type\":\"object\",\"name\":\"Segment\",\"id\":\"p1211\",\"attributes\":{\"x0\":{\"type\":\"field\",\"field\":\"x0\"},\"y0\":{\"type\":\"field\",\"field\":\"y0\"},\"x1\":{\"type\":\"field\",\"field\":\"x1\"},\"y1\":{\"type\":\"field\",\"field\":\"y1\"},\"line_width\":{\"type\":\"value\",\"value\":2}}},\"nonselection_glyph\":{\"type\":\"object\",\"name\":\"Segment\",\"id\":\"p1212\",\"attributes\":{\"x0\":{\"type\":\"field\",\"field\":\"x0\"},\"y0\":{\"type\":\"field\",\"field\":\"y0\"},\"x1\":{\"type\":\"field\",\"field\":\"x1\"},\"y1\":{\"type\":\"field\",\"field\":\"y1\"},\"line_alpha\":{\"type\":\"value\",\"value\":0.1},\"line_width\":{\"type\":\"value\",\"value\":2}}},\"muted_glyph\":{\"type\":\"object\",\"name\":\"Segment\",\"id\":\"p1213\",\"attributes\":{\"x0\":{\"type\":\"field\",\"field\":\"x0\"},\"y0\":{\"type\":\"field\",\"field\":\"y0\"},\"x1\":{\"type\":\"field\",\"field\":\"x1\"},\"y1\":{\"type\":\"field\",\"field\":\"y1\"},\"line_alpha\":{\"type\":\"value\",\"value\":0.2},\"line_width\":{\"type\":\"value\",\"value\":2}}}}}],\"toolbar\":{\"type\":\"object\",\"name\":\"Toolbar\",\"id\":\"p1173\",\"attributes\":{\"tools\":[{\"type\":\"object\",\"name\":\"PanTool\",\"id\":\"p1188\"},{\"type\":\"object\",\"name\":\"WheelZoomTool\",\"id\":\"p1189\",\"attributes\":{\"renderers\":\"auto\"}},{\"type\":\"object\",\"name\":\"BoxZoomTool\",\"id\":\"p1190\",\"attributes\":{\"overlay\":{\"type\":\"object\",\"name\":\"BoxAnnotation\",\"id\":\"p1191\",\"attributes\":{\"syncable\":false,\"level\":\"overlay\",\"visible\":false,\"left\":{\"type\":\"number\",\"value\":\"nan\"},\"right\":{\"type\":\"number\",\"value\":\"nan\"},\"top\":{\"type\":\"number\",\"value\":\"nan\"},\"bottom\":{\"type\":\"number\",\"value\":\"nan\"},\"left_units\":\"canvas\",\"right_units\":\"canvas\",\"top_units\":\"canvas\",\"bottom_units\":\"canvas\",\"line_color\":\"black\",\"line_alpha\":1.0,\"line_width\":2,\"line_dash\":[4,4],\"fill_color\":\"lightgrey\",\"fill_alpha\":0.5}}}},{\"type\":\"object\",\"name\":\"SaveTool\",\"id\":\"p1196\"},{\"type\":\"object\",\"name\":\"ResetTool\",\"id\":\"p1197\"},{\"type\":\"object\",\"name\":\"HelpTool\",\"id\":\"p1198\"}]}},\"left\":[{\"type\":\"object\",\"name\":\"CategoricalAxis\",\"id\":\"p1183\",\"attributes\":{\"ticker\":{\"type\":\"object\",\"name\":\"CategoricalTicker\",\"id\":\"p1184\"},\"formatter\":{\"type\":\"object\",\"name\":\"CategoricalTickFormatter\",\"id\":\"p1185\"},\"axis_label\":\"Month\",\"axis_label_text_font_size\":\"18px\",\"major_label_policy\":{\"type\":\"object\",\"name\":\"AllLabels\",\"id\":\"p1186\"},\"major_label_text_font_size\":\"14px\"}}],\"below\":[{\"type\":\"object\",\"name\":\"LinearAxis\",\"id\":\"p1178\",\"attributes\":{\"ticker\":{\"type\":\"object\",\"name\":\"BasicTicker\",\"id\":\"p1179\",\"attributes\":{\"mantissas\":[1,2,5]}},\"formatter\":{\"type\":\"object\",\"name\":\"BasicTickFormatter\",\"id\":\"p1180\"},\"axis_label\":\"Temperature [F]\",\"axis_label_text_font_size\":\"18px\",\"major_label_policy\":{\"type\":\"object\",\"name\":\"AllLabels\",\"id\":\"p1181\"},\"major_label_text_font_size\":\"14px\"}}],\"center\":[{\"type\":\"object\",\"name\":\"Grid\",\"id\":\"p1182\",\"attributes\":{\"axis\":{\"id\":\"p1178\"},\"grid_line_color\":\"black\",\"grid_line_dash\":[2,4]}},{\"type\":\"object\",\"name\":\"Grid\",\"id\":\"p1187\",\"attributes\":{\"dimension\":1,\"axis\":{\"id\":\"p1183\"},\"grid_line_color\":null}}]}}]}};\n  const render_items = [{\"docid\":\"c006035a-41cd-4420-9073-c421c0586c71\",\"roots\":{\"p1164\":\"b077e98f-49e1-448f-a5e7-f691cd989d89\"},\"root_ids\":[\"p1164\"]}];\n  void root.Bokeh.embed.embed_items_notebook(docs_json, render_items);\n  }\n  if (root.Bokeh !== undefined) {\n    embed_document(root);\n  } else {\n    let attempts = 0;\n    const timer = setInterval(function(root) {\n      if (root.Bokeh !== undefined) {\n        clearInterval(timer);\n        embed_document(root);\n      } else {\n        attempts++;\n        if (attempts > 100) {\n          clearInterval(timer);\n          console.log(\"Bokeh: ERROR: Unable to run BokehJS code because BokehJS library is missing\");\n        }\n      }\n    }, 10, root)\n  }\n})(window);",
      "application/vnd.bokehjs_exec.v0+json": ""
     },
     "metadata": {
      "application/vnd.bokehjs_exec.v0+json": {
       "id": "p1164"
      }
     },
     "output_type": "display_data"
    }
   ],
   "source": [
    "plot = figure(\n",
    "    title=\"NYの気温（月別平均）\",\n",
    "    y_range=month,\n",
    "    x_range=[0, 85],\n",
    "    y_axis_label=\"Month\",\n",
    "    x_axis_label=\"Temperature [F]\",\n",
    "    width=700,\n",
    "    height=500,\n",
    "    outline_line_color=\"black\",\n",
    "    outline_line_width=2,\n",
    ")\n",
    "\n",
    "plot.hbar(\n",
    "    source=src,\n",
    "    y=\"month\",\n",
    "    right=\"NY_mean\",\n",
    "    height=0.8,\n",
    ")\n",
    "\n",
    "plot.segment(\n",
    "    y0=month, x0=ny_temp - ny_temp_std,\n",
    "    y1=month, x1=ny_temp + ny_temp_std,\n",
    "    line_color=\"black\",\n",
    "    line_width=2\n",
    ")\n",
    "\n",
    "plot.ygrid.grid_line_color = None\n",
    "plot.xgrid.grid_line_color = \"black\"\n",
    "plot.xgrid.grid_line_dash = \"dotted\"\n",
    "plot.title.text_font_size = \"24px\"\n",
    "plot.xaxis.axis_label_text_font_size= \"18px\"\n",
    "plot.xaxis.major_label_text_font_size= \"14px\"\n",
    "plot.yaxis.axis_label_text_font_size= \"18px\"\n",
    "plot.yaxis.major_label_text_font_size= \"14px\"\n",
    "\n",
    "show(plot)"
   ]
  },
  {
   "cell_type": "code",
   "execution_count": 8,
   "metadata": {},
   "outputs": [
    {
     "data": {
      "text/html": [
       "\n",
       "  <div id=\"cb5aa73b-42a1-4fc3-981b-2312a5c3fe76\" data-root-id=\"p1225\" style=\"display: contents;\"></div>\n"
      ]
     },
     "metadata": {},
     "output_type": "display_data"
    },
    {
     "data": {
      "application/javascript": "(function(root) {\n  function embed_document(root) {\n  const docs_json = {\"ade9ee53-97f4-4d2d-954d-1255556b3c46\":{\"version\":\"3.4.1\",\"title\":\"Bokeh Application\",\"roots\":[{\"type\":\"object\",\"name\":\"Figure\",\"id\":\"p1225\",\"attributes\":{\"width\":700,\"height\":500,\"x_range\":{\"type\":\"object\",\"name\":\"FactorRange\",\"id\":\"p1235\",\"attributes\":{\"factors\":[\"10\\u6708\",\"11\\u6708\",\"12\\u6708\",\"1\\u6708\",\"2\\u6708\",\"3\\u6708\",\"4\\u6708\",\"5\\u6708\",\"6\\u6708\",\"7\\u6708\",\"8\\u6708\",\"9\\u6708\"]}},\"y_range\":{\"type\":\"object\",\"name\":\"Range1d\",\"id\":\"p1236\",\"attributes\":{\"end\":100}},\"x_scale\":{\"type\":\"object\",\"name\":\"CategoricalScale\",\"id\":\"p1237\"},\"y_scale\":{\"type\":\"object\",\"name\":\"LinearScale\",\"id\":\"p1238\"},\"title\":{\"type\":\"object\",\"name\":\"Title\",\"id\":\"p1228\",\"attributes\":{\"text\":\"NY\\u306e\\u6c17\\u6e29\\uff08\\u6708\\u5225\\u5e73\\u5747\\uff09\",\"text_font_size\":\"24px\"}},\"outline_line_color\":\"black\",\"outline_line_width\":2,\"renderers\":[{\"type\":\"object\",\"name\":\"GlyphRenderer\",\"id\":\"p1267\",\"attributes\":{\"data_source\":{\"type\":\"object\",\"name\":\"ColumnDataSource\",\"id\":\"p1100\",\"attributes\":{\"selected\":{\"type\":\"object\",\"name\":\"Selection\",\"id\":\"p1101\",\"attributes\":{\"indices\":[],\"line_indices\":[]}},\"selection_policy\":{\"type\":\"object\",\"name\":\"UnionRenderers\",\"id\":\"p1102\"},\"data\":{\"type\":\"map\",\"entries\":[[\"month\",[\"10\\u6708\",\"11\\u6708\",\"12\\u6708\",\"1\\u6708\",\"2\\u6708\",\"3\\u6708\",\"4\\u6708\",\"5\\u6708\",\"6\\u6708\",\"7\\u6708\",\"8\\u6708\",\"9\\u6708\"]],[\"NY_mean\",{\"type\":\"ndarray\",\"array\":{\"type\":\"bytes\",\"data\":\"isSrSLwKTUCMJb9Y8mtJQJe/ZPlLlkVAMsYYY4yxQkCh1ZcKWj1EQEi8isSrCEhAFK5H4Xr0SkDh6AmOnqBPQGPJL5b8olFAux2q26F6U0C8isSrSBxTQGPJL5b8QlFA\"},\"shape\":[12],\"dtype\":\"float64\",\"order\":\"little\"}],[\"NY_std\",{\"type\":\"ndarray\",\"array\":{\"type\":\"bytes\",\"data\":\"v4GzvSgSIEB4jm8+PWUTQFh110Hy1xpAEZtuxuKIIEB+D0VWBrkSQNPsphZyQh1AvDnKDnYVFUDE3kLA1DsYQGxkhmotVxxA93Rv/O9oEUDDb0stXzAFQPMrCzXRwBRA\"},\"shape\":[12],\"dtype\":\"float64\",\"order\":\"little\"}],[\"SF_mean\",{\"type\":\"ndarray\",\"array\":{\"type\":\"bytes\",\"data\":\"NDMzMzOzTUApXI/C9YhKQFtrrbXWGklA+kuWv2R5SUA8/nDA449JQO+99957b0lAagOdNtBpSkA/Luzjwn5KQN7d3d3dnUtAwdETHD3BS0A1oE0D2rRLQDbQaQOdVktA\"},\"shape\":[12],\"dtype\":\"float64\",\"order\":\"little\"}],[\"SF_std\",{\"type\":\"ndarray\",\"array\":{\"type\":\"bytes\",\"data\":\"OCMIxZK/CECZdjbDEhMIQE5ybip0KQ9A/04txQstB0BkBrfaCm8EQNZye6423AdAombWR5KLBUCi175e7A/5P+2UZyZxHf0/wXlSHcr7+z/gjk24rz/8PyDqan7tGvY/\"},\"shape\":[12],\"dtype\":\"float64\",\"order\":\"little\"}],[\"Austin_mean\",{\"type\":\"ndarray\",\"array\":{\"type\":\"bytes\",\"data\":\"NDMzMzMzUUD6xZJfLLlOQKhuh+p2aElAisSrSLyKSkDIHw54/OFLQE0D2jSgLVBAbaDTBjrtUUCEEEIIISRTQHE9CtejwFRAEUIIIYSwVEA8VLdDdRtVQK5H4XoUXlNA\"},\"shape\":[12],\"dtype\":\"float64\",\"order\":\"little\"}],[\"Austin_std\",{\"type\":\"ndarray\",\"array\":{\"type\":\"bytes\",\"data\":\"DcMSDBicHECasmZ2Q2olQJ/umDuGkCBAi30W0GoDHEBApcb+t5IiQKdgJMLhnR5A4sr1dVPqEUDpD2/poawSQLAYyAYksQhAWUp7JrrRBEBLb68SIksIQKBwtPv/xhVA\"},\"shape\":[12],\"dtype\":\"float64\",\"order\":\"little\"}]]}}},\"view\":{\"type\":\"object\",\"name\":\"CDSView\",\"id\":\"p1268\",\"attributes\":{\"filter\":{\"type\":\"object\",\"name\":\"AllIndices\",\"id\":\"p1269\"}}},\"glyph\":{\"type\":\"object\",\"name\":\"VBar\",\"id\":\"p1264\",\"attributes\":{\"x\":{\"type\":\"field\",\"field\":\"month\",\"transform\":{\"type\":\"object\",\"name\":\"Dodge\",\"id\":\"p1260\",\"attributes\":{\"value\":-0.25,\"range\":{\"id\":\"p1235\"}}}},\"width\":{\"type\":\"value\",\"value\":0.2},\"top\":{\"type\":\"field\",\"field\":\"NY_mean\"},\"line_color\":{\"type\":\"value\",\"value\":\"#e41a1c\"},\"fill_color\":{\"type\":\"value\",\"value\":\"#e41a1c\"},\"hatch_color\":{\"type\":\"value\",\"value\":\"#e41a1c\"}}},\"nonselection_glyph\":{\"type\":\"object\",\"name\":\"VBar\",\"id\":\"p1265\",\"attributes\":{\"x\":{\"type\":\"field\",\"field\":\"month\",\"transform\":{\"id\":\"p1260\"}},\"width\":{\"type\":\"value\",\"value\":0.2},\"top\":{\"type\":\"field\",\"field\":\"NY_mean\"},\"line_color\":{\"type\":\"value\",\"value\":\"#e41a1c\"},\"line_alpha\":{\"type\":\"value\",\"value\":0.1},\"fill_color\":{\"type\":\"value\",\"value\":\"#e41a1c\"},\"fill_alpha\":{\"type\":\"value\",\"value\":0.1},\"hatch_color\":{\"type\":\"value\",\"value\":\"#e41a1c\"},\"hatch_alpha\":{\"type\":\"value\",\"value\":0.1}}},\"muted_glyph\":{\"type\":\"object\",\"name\":\"VBar\",\"id\":\"p1266\",\"attributes\":{\"x\":{\"type\":\"field\",\"field\":\"month\",\"transform\":{\"id\":\"p1260\"}},\"width\":{\"type\":\"value\",\"value\":0.2},\"top\":{\"type\":\"field\",\"field\":\"NY_mean\"},\"line_color\":{\"type\":\"value\",\"value\":\"#e41a1c\"},\"line_alpha\":{\"type\":\"value\",\"value\":0.2},\"fill_color\":{\"type\":\"value\",\"value\":\"#e41a1c\"},\"fill_alpha\":{\"type\":\"value\",\"value\":0.2},\"hatch_color\":{\"type\":\"value\",\"value\":\"#e41a1c\"},\"hatch_alpha\":{\"type\":\"value\",\"value\":0.2}}}}},{\"type\":\"object\",\"name\":\"GlyphRenderer\",\"id\":\"p1279\",\"attributes\":{\"data_source\":{\"id\":\"p1100\"},\"view\":{\"type\":\"object\",\"name\":\"CDSView\",\"id\":\"p1280\",\"attributes\":{\"filter\":{\"type\":\"object\",\"name\":\"AllIndices\",\"id\":\"p1281\"}}},\"glyph\":{\"type\":\"object\",\"name\":\"VBar\",\"id\":\"p1276\",\"attributes\":{\"x\":{\"type\":\"field\",\"field\":\"month\",\"transform\":{\"type\":\"object\",\"name\":\"Dodge\",\"id\":\"p1272\",\"attributes\":{\"range\":{\"id\":\"p1235\"}}}},\"width\":{\"type\":\"value\",\"value\":0.2},\"top\":{\"type\":\"field\",\"field\":\"SF_mean\"},\"line_color\":{\"type\":\"value\",\"value\":\"#377eb8\"},\"fill_color\":{\"type\":\"value\",\"value\":\"#377eb8\"},\"hatch_color\":{\"type\":\"value\",\"value\":\"#377eb8\"}}},\"nonselection_glyph\":{\"type\":\"object\",\"name\":\"VBar\",\"id\":\"p1277\",\"attributes\":{\"x\":{\"type\":\"field\",\"field\":\"month\",\"transform\":{\"id\":\"p1272\"}},\"width\":{\"type\":\"value\",\"value\":0.2},\"top\":{\"type\":\"field\",\"field\":\"SF_mean\"},\"line_color\":{\"type\":\"value\",\"value\":\"#377eb8\"},\"line_alpha\":{\"type\":\"value\",\"value\":0.1},\"fill_color\":{\"type\":\"value\",\"value\":\"#377eb8\"},\"fill_alpha\":{\"type\":\"value\",\"value\":0.1},\"hatch_color\":{\"type\":\"value\",\"value\":\"#377eb8\"},\"hatch_alpha\":{\"type\":\"value\",\"value\":0.1}}},\"muted_glyph\":{\"type\":\"object\",\"name\":\"VBar\",\"id\":\"p1278\",\"attributes\":{\"x\":{\"type\":\"field\",\"field\":\"month\",\"transform\":{\"id\":\"p1272\"}},\"width\":{\"type\":\"value\",\"value\":0.2},\"top\":{\"type\":\"field\",\"field\":\"SF_mean\"},\"line_color\":{\"type\":\"value\",\"value\":\"#377eb8\"},\"line_alpha\":{\"type\":\"value\",\"value\":0.2},\"fill_color\":{\"type\":\"value\",\"value\":\"#377eb8\"},\"fill_alpha\":{\"type\":\"value\",\"value\":0.2},\"hatch_color\":{\"type\":\"value\",\"value\":\"#377eb8\"},\"hatch_alpha\":{\"type\":\"value\",\"value\":0.2}}}}},{\"type\":\"object\",\"name\":\"GlyphRenderer\",\"id\":\"p1290\",\"attributes\":{\"data_source\":{\"id\":\"p1100\"},\"view\":{\"type\":\"object\",\"name\":\"CDSView\",\"id\":\"p1291\",\"attributes\":{\"filter\":{\"type\":\"object\",\"name\":\"AllIndices\",\"id\":\"p1292\"}}},\"glyph\":{\"type\":\"object\",\"name\":\"VBar\",\"id\":\"p1287\",\"attributes\":{\"x\":{\"type\":\"field\",\"field\":\"month\",\"transform\":{\"type\":\"object\",\"name\":\"Dodge\",\"id\":\"p1283\",\"attributes\":{\"value\":0.25,\"range\":{\"id\":\"p1235\"}}}},\"width\":{\"type\":\"value\",\"value\":0.2},\"top\":{\"type\":\"field\",\"field\":\"Austin_mean\"},\"line_color\":{\"type\":\"value\",\"value\":\"#4daf4a\"},\"fill_color\":{\"type\":\"value\",\"value\":\"#4daf4a\"},\"hatch_color\":{\"type\":\"value\",\"value\":\"#4daf4a\"}}},\"nonselection_glyph\":{\"type\":\"object\",\"name\":\"VBar\",\"id\":\"p1288\",\"attributes\":{\"x\":{\"type\":\"field\",\"field\":\"month\",\"transform\":{\"id\":\"p1283\"}},\"width\":{\"type\":\"value\",\"value\":0.2},\"top\":{\"type\":\"field\",\"field\":\"Austin_mean\"},\"line_color\":{\"type\":\"value\",\"value\":\"#4daf4a\"},\"line_alpha\":{\"type\":\"value\",\"value\":0.1},\"fill_color\":{\"type\":\"value\",\"value\":\"#4daf4a\"},\"fill_alpha\":{\"type\":\"value\",\"value\":0.1},\"hatch_color\":{\"type\":\"value\",\"value\":\"#4daf4a\"},\"hatch_alpha\":{\"type\":\"value\",\"value\":0.1}}},\"muted_glyph\":{\"type\":\"object\",\"name\":\"VBar\",\"id\":\"p1289\",\"attributes\":{\"x\":{\"type\":\"field\",\"field\":\"month\",\"transform\":{\"id\":\"p1283\"}},\"width\":{\"type\":\"value\",\"value\":0.2},\"top\":{\"type\":\"field\",\"field\":\"Austin_mean\"},\"line_color\":{\"type\":\"value\",\"value\":\"#4daf4a\"},\"line_alpha\":{\"type\":\"value\",\"value\":0.2},\"fill_color\":{\"type\":\"value\",\"value\":\"#4daf4a\"},\"fill_alpha\":{\"type\":\"value\",\"value\":0.2},\"hatch_color\":{\"type\":\"value\",\"value\":\"#4daf4a\"},\"hatch_alpha\":{\"type\":\"value\",\"value\":0.2}}}}}],\"toolbar\":{\"type\":\"object\",\"name\":\"Toolbar\",\"id\":\"p1234\",\"attributes\":{\"tools\":[{\"type\":\"object\",\"name\":\"PanTool\",\"id\":\"p1249\"},{\"type\":\"object\",\"name\":\"WheelZoomTool\",\"id\":\"p1250\",\"attributes\":{\"renderers\":\"auto\"}},{\"type\":\"object\",\"name\":\"BoxZoomTool\",\"id\":\"p1251\",\"attributes\":{\"overlay\":{\"type\":\"object\",\"name\":\"BoxAnnotation\",\"id\":\"p1252\",\"attributes\":{\"syncable\":false,\"level\":\"overlay\",\"visible\":false,\"left\":{\"type\":\"number\",\"value\":\"nan\"},\"right\":{\"type\":\"number\",\"value\":\"nan\"},\"top\":{\"type\":\"number\",\"value\":\"nan\"},\"bottom\":{\"type\":\"number\",\"value\":\"nan\"},\"left_units\":\"canvas\",\"right_units\":\"canvas\",\"top_units\":\"canvas\",\"bottom_units\":\"canvas\",\"line_color\":\"black\",\"line_alpha\":1.0,\"line_width\":2,\"line_dash\":[4,4],\"fill_color\":\"lightgrey\",\"fill_alpha\":0.5}}}},{\"type\":\"object\",\"name\":\"SaveTool\",\"id\":\"p1257\"},{\"type\":\"object\",\"name\":\"ResetTool\",\"id\":\"p1258\"},{\"type\":\"object\",\"name\":\"HelpTool\",\"id\":\"p1259\"}]}},\"left\":[{\"type\":\"object\",\"name\":\"LinearAxis\",\"id\":\"p1244\",\"attributes\":{\"ticker\":{\"type\":\"object\",\"name\":\"BasicTicker\",\"id\":\"p1245\",\"attributes\":{\"mantissas\":[1,2,5]}},\"formatter\":{\"type\":\"object\",\"name\":\"BasicTickFormatter\",\"id\":\"p1246\"},\"axis_label\":\"Temperature [F]\",\"axis_label_text_font_size\":\"18px\",\"major_label_policy\":{\"type\":\"object\",\"name\":\"AllLabels\",\"id\":\"p1247\"},\"major_label_text_font_size\":\"14px\"}}],\"right\":[{\"type\":\"object\",\"name\":\"Legend\",\"id\":\"p1270\",\"attributes\":{\"border_line_color\":\"black\",\"border_line_width\":2,\"items\":[{\"type\":\"object\",\"name\":\"LegendItem\",\"id\":\"p1271\",\"attributes\":{\"label\":{\"type\":\"value\",\"value\":\"NY\"},\"renderers\":[{\"id\":\"p1267\"}]}},{\"type\":\"object\",\"name\":\"LegendItem\",\"id\":\"p1282\",\"attributes\":{\"label\":{\"type\":\"value\",\"value\":\"SF\"},\"renderers\":[{\"id\":\"p1279\"}]}},{\"type\":\"object\",\"name\":\"LegendItem\",\"id\":\"p1293\",\"attributes\":{\"label\":{\"type\":\"value\",\"value\":\"Austin\"},\"renderers\":[{\"id\":\"p1290\"}]}}]}}],\"below\":[{\"type\":\"object\",\"name\":\"CategoricalAxis\",\"id\":\"p1239\",\"attributes\":{\"ticker\":{\"type\":\"object\",\"name\":\"CategoricalTicker\",\"id\":\"p1240\"},\"formatter\":{\"type\":\"object\",\"name\":\"CategoricalTickFormatter\",\"id\":\"p1241\"},\"axis_label\":\"Month\",\"axis_label_text_font_size\":\"18px\",\"major_label_policy\":{\"type\":\"object\",\"name\":\"AllLabels\",\"id\":\"p1242\"},\"major_label_text_font_size\":\"14px\"}}],\"center\":[{\"type\":\"object\",\"name\":\"Grid\",\"id\":\"p1243\",\"attributes\":{\"axis\":{\"id\":\"p1239\"},\"grid_line_color\":null}},{\"type\":\"object\",\"name\":\"Grid\",\"id\":\"p1248\",\"attributes\":{\"dimension\":1,\"axis\":{\"id\":\"p1244\"},\"grid_line_color\":\"black\",\"grid_line_dash\":[2,4]}},{\"id\":\"p1270\"}]}}]}};\n  const render_items = [{\"docid\":\"ade9ee53-97f4-4d2d-954d-1255556b3c46\",\"roots\":{\"p1225\":\"cb5aa73b-42a1-4fc3-981b-2312a5c3fe76\"},\"root_ids\":[\"p1225\"]}];\n  void root.Bokeh.embed.embed_items_notebook(docs_json, render_items);\n  }\n  if (root.Bokeh !== undefined) {\n    embed_document(root);\n  } else {\n    let attempts = 0;\n    const timer = setInterval(function(root) {\n      if (root.Bokeh !== undefined) {\n        clearInterval(timer);\n        embed_document(root);\n      } else {\n        attempts++;\n        if (attempts > 100) {\n          clearInterval(timer);\n          console.log(\"Bokeh: ERROR: Unable to run BokehJS code because BokehJS library is missing\");\n        }\n      }\n    }, 10, root)\n  }\n})(window);",
      "application/vnd.bokehjs_exec.v0+json": ""
     },
     "metadata": {
      "application/vnd.bokehjs_exec.v0+json": {
       "id": "p1225"
      }
     },
     "output_type": "display_data"
    }
   ],
   "source": [
    "from bokeh.transform import dodge\n",
    "\n",
    "plot = figure(\n",
    "    title=\"NYの気温（月別平均）\",\n",
    "    x_range=month,\n",
    "    y_range=[0, 100],\n",
    "    x_axis_label=\"Month\",\n",
    "    y_axis_label=\"Temperature [F]\",\n",
    "    width=700,\n",
    "    height=500,\n",
    "    outline_line_color=\"black\",\n",
    "    outline_line_width=2,\n",
    ")\n",
    "\n",
    "color_palette = palettes.Set1[3]\n",
    "\n",
    "for i, city in enumerate([\"NY\", \"SF\", \"Austin\"]):\n",
    "    plot.vbar(\n",
    "        source=src,\n",
    "        x=dodge(field_name=\"month\", value=-0.25+0.25*i, range=plot.x_range),\n",
    "        top=f\"{city}_mean\",\n",
    "        width=0.2,\n",
    "        color=color_palette[i],\n",
    "        legend_label=city\n",
    "    )\n",
    "\n",
    "plot.xgrid.grid_line_color = None\n",
    "plot.ygrid.grid_line_color = \"black\"\n",
    "plot.ygrid.grid_line_dash = \"dotted\"\n",
    "plot.title.text_font_size = \"24px\"\n",
    "plot.xaxis.axis_label_text_font_size= \"18px\"\n",
    "plot.xaxis.major_label_text_font_size= \"14px\"\n",
    "plot.yaxis.axis_label_text_font_size= \"18px\"\n",
    "plot.yaxis.major_label_text_font_size= \"14px\"\n",
    "plot.legend.border_line_width = 2\n",
    "plot.legend.border_line_color = \"black\"\n",
    "plot.add_layout(plot.legend[0], place=\"right\")\n",
    "\n",
    "\n",
    "show(plot)"
   ]
  },
  {
   "cell_type": "markdown",
   "metadata": {},
   "source": [
    "## 積み重ね棒グラフ"
   ]
  },
  {
   "cell_type": "code",
   "execution_count": 9,
   "metadata": {},
   "outputs": [
    {
     "data": {
      "text/html": [
       "<div>\n",
       "<style scoped>\n",
       "    .dataframe tbody tr th:only-of-type {\n",
       "        vertical-align: middle;\n",
       "    }\n",
       "\n",
       "    .dataframe tbody tr th {\n",
       "        vertical-align: top;\n",
       "    }\n",
       "\n",
       "    .dataframe thead th {\n",
       "        text-align: right;\n",
       "    }\n",
       "</style>\n",
       "<table border=\"1\" class=\"dataframe\">\n",
       "  <thead>\n",
       "    <tr style=\"text-align: right;\">\n",
       "      <th></th>\n",
       "      <th>年度</th>\n",
       "      <th>石油</th>\n",
       "      <th>石炭</th>\n",
       "      <th>天然ガス</th>\n",
       "      <th>原子力</th>\n",
       "      <th>水力</th>\n",
       "      <th>新エネルギー・地熱等</th>\n",
       "    </tr>\n",
       "  </thead>\n",
       "  <tbody>\n",
       "    <tr>\n",
       "      <th>0</th>\n",
       "      <td>1965</td>\n",
       "      <td>3.56</td>\n",
       "      <td>1.87</td>\n",
       "      <td>0.08</td>\n",
       "      <td>0.00</td>\n",
       "      <td>0.75</td>\n",
       "      <td>0.11</td>\n",
       "    </tr>\n",
       "    <tr>\n",
       "      <th>1</th>\n",
       "      <td>1966</td>\n",
       "      <td>4.13</td>\n",
       "      <td>1.92</td>\n",
       "      <td>0.09</td>\n",
       "      <td>0.01</td>\n",
       "      <td>0.77</td>\n",
       "      <td>0.11</td>\n",
       "    </tr>\n",
       "    <tr>\n",
       "      <th>2</th>\n",
       "      <td>1967</td>\n",
       "      <td>5.11</td>\n",
       "      <td>2.29</td>\n",
       "      <td>0.09</td>\n",
       "      <td>0.01</td>\n",
       "      <td>0.67</td>\n",
       "      <td>0.11</td>\n",
       "    </tr>\n",
       "    <tr>\n",
       "      <th>3</th>\n",
       "      <td>1968</td>\n",
       "      <td>5.95</td>\n",
       "      <td>2.42</td>\n",
       "      <td>0.10</td>\n",
       "      <td>0.01</td>\n",
       "      <td>0.72</td>\n",
       "      <td>0.12</td>\n",
       "    </tr>\n",
       "    <tr>\n",
       "      <th>4</th>\n",
       "      <td>1969</td>\n",
       "      <td>7.19</td>\n",
       "      <td>2.59</td>\n",
       "      <td>0.12</td>\n",
       "      <td>0.01</td>\n",
       "      <td>0.73</td>\n",
       "      <td>0.13</td>\n",
       "    </tr>\n",
       "  </tbody>\n",
       "</table>\n",
       "</div>"
      ],
      "text/plain": [
       "     年度    石油    石炭  天然ガス   原子力    水力  新エネルギー・地熱等\n",
       "0  1965  3.56  1.87  0.08  0.00  0.75        0.11\n",
       "1  1966  4.13  1.92  0.09  0.01  0.77        0.11\n",
       "2  1967  5.11  2.29  0.09  0.01  0.67        0.11\n",
       "3  1968  5.95  2.42  0.10  0.01  0.72        0.12\n",
       "4  1969  7.19  2.59  0.12  0.01  0.73        0.13"
      ]
     },
     "execution_count": 9,
     "metadata": {},
     "output_type": "execute_result"
    }
   ],
   "source": [
    "stacked_bar_df = pd.read_csv(\"../data/japan_energy.csv\")\n",
    "stacked_bar_df.head()"
   ]
  },
  {
   "cell_type": "code",
   "execution_count": 10,
   "metadata": {},
   "outputs": [
    {
     "data": {
      "text/html": [
       "\n",
       "  <div id=\"ecd14bd0-78a3-4f2d-b53f-39e971055c59\" data-root-id=\"p1303\" style=\"display: contents;\"></div>\n"
      ]
     },
     "metadata": {},
     "output_type": "display_data"
    },
    {
     "data": {
      "application/javascript": "(function(root) {\n  function embed_document(root) {\n  const docs_json = {\"da28973e-e659-4ea0-b858-2b9202538dc6\":{\"version\":\"3.4.1\",\"title\":\"Bokeh Application\",\"roots\":[{\"type\":\"object\",\"name\":\"Figure\",\"id\":\"p1303\",\"attributes\":{\"width\":800,\"height\":500,\"x_range\":{\"type\":\"object\",\"name\":\"Range1d\",\"id\":\"p1313\",\"attributes\":{\"start\":1964.5,\"end\":2012.5}},\"y_range\":{\"type\":\"object\",\"name\":\"Range1d\",\"id\":\"p1314\",\"attributes\":{\"end\":30}},\"x_scale\":{\"type\":\"object\",\"name\":\"LinearScale\",\"id\":\"p1315\"},\"y_scale\":{\"type\":\"object\",\"name\":\"LinearScale\",\"id\":\"p1316\"},\"title\":{\"type\":\"object\",\"name\":\"Title\",\"id\":\"p1306\",\"attributes\":{\"text\":\"\\u65e5\\u672c\\u56fd\\u5185\\u306e\\u30a8\\u30cd\\u30eb\\u30ae\\u30fc\\u4f9b\\u7d66\\u91cf\\u306e\\u63a8\\u79fb(1973\\u5e74\\uff5e2012\\u5e74)\",\"text_font_size\":\"24px\"}},\"outline_line_color\":\"black\",\"outline_line_width\":2,\"renderers\":[{\"type\":\"object\",\"name\":\"GlyphRenderer\",\"id\":\"p1356\",\"attributes\":{\"name\":\"\\u77f3\\u6cb9\",\"data_source\":{\"type\":\"object\",\"name\":\"ColumnDataSource\",\"id\":\"p1300\",\"attributes\":{\"selected\":{\"type\":\"object\",\"name\":\"Selection\",\"id\":\"p1301\",\"attributes\":{\"indices\":[],\"line_indices\":[]}},\"selection_policy\":{\"type\":\"object\",\"name\":\"UnionRenderers\",\"id\":\"p1302\"},\"data\":{\"type\":\"map\",\"entries\":[[\"index\",{\"type\":\"ndarray\",\"array\":{\"type\":\"bytes\",\"data\":\"AAAAAAEAAAACAAAAAwAAAAQAAAAFAAAABgAAAAcAAAAIAAAACQAAAAoAAAALAAAADAAAAA0AAAAOAAAADwAAABAAAAARAAAAEgAAABMAAAAUAAAAFQAAABYAAAAXAAAAGAAAABkAAAAaAAAAGwAAABwAAAAdAAAAHgAAAB8AAAAgAAAAIQAAACIAAAAjAAAAJAAAACUAAAAmAAAAJwAAACgAAAApAAAAKgAAACsAAAAsAAAALQAAAC4AAAAvAAAA\"},\"shape\":[48],\"dtype\":\"int32\",\"order\":\"little\"}],[\"\\u5e74\\u5ea6\",{\"type\":\"ndarray\",\"array\":{\"type\":\"bytes\",\"data\":\"rQcAAK4HAACvBwAAsAcAALEHAACyBwAAswcAALQHAAC1BwAAtgcAALcHAAC4BwAAuQcAALoHAAC7BwAAvAcAAL0HAAC+BwAAvwcAAMAHAADBBwAAwgcAAMMHAADEBwAAxQcAAMYHAADHBwAAyAcAAMkHAADKBwAAywcAAMwHAADNBwAAzgcAAM8HAADQBwAA0QcAANIHAADTBwAA1AcAANUHAADWBwAA1wcAANgHAADZBwAA2gcAANsHAADcBwAA\"},\"shape\":[48],\"dtype\":\"int32\",\"order\":\"little\"}],[\"\\u77f3\\u6cb9\",{\"type\":\"ndarray\",\"array\":{\"type\":\"bytes\",\"data\":\"exSuR+F6DECF61G4HoUQQHE9CtejcBRAzczMzMzMF0DD9Shcj8IcQFyPwvUoXCFAPQrXo3A9IkCamZmZmRkkQKRwPQrXoyZAZmZmZmZmJUCamZmZmZkkQAAAAAAAACZAexSuR+F6JkDD9Shcj8ImQK5H4XoUriZAmpmZmZmZJEDD9Shcj0IjQClcj8L1qCJAPQrXo3A9I0AzMzMzM7MiQD0K16NwPSJAUrgehetRIkDD9Shcj0IjQGZmZmZmZiRAzczMzMxMJUAAAAAAAAAmQM3MzMzMTCZASOF6FK7HJkC4HoXrUTgmQPYoXI/CdSdAmpmZmZmZJ0CF61G4HoUnQPYoXI/C9SZAzczMzMxMJkApXI/C9agmQFK4HoXrUSZApHA9CtejJUBI4XoUrsclQK5H4XoUriVArkfhehQuJUCkcD0K1yMlQFyPwvUoXCRA7FG4HoVrJEApXI/C9agiQJqZmZmZmSFAKVyPwvWoIUA9CtejcD0iQHE9CtejcCJA\"},\"shape\":[48],\"dtype\":\"float64\",\"order\":\"little\"}],[\"\\u77f3\\u70ad\",{\"type\":\"ndarray\",\"array\":{\"type\":\"bytes\",\"data\":\"7FG4HoXr/T+4HoXrUbj+P1K4HoXrUQJAXI/C9ShcA0C4HoXrUbgEQB+F61G4HgVAexSuR+F6AkBmZmZmZmYCQD0K16NwPQRAXI/C9ShcBUAAAAAAAAAEQJqZmZmZmQNAPQrXo3A9AkCPwvUoXI8AQGZmZmZmZgJAZmZmZmZmBkBI4XoUrkcHQD0K16NwPQZApHA9CtejBkC4HoXrUbgIQMP1KFyPwglAcT0K16NwB0CPwvUoXI8IQGZmZmZmZgpAUrgehetRCkB7FK5H4XoKQB+F61G4HgtAZmZmZmZmCkB7FK5H4XoKQClcj8L1KAxAH4XrUbgeDUDXo3A9CtcNQM3MzMzMzA5A9ihcj8L1DEDNzMzMzMwOQM3MzMzMzBBAKVyPwvUoEUDD9Shcj8IRQEjhehSuRxJAAAAAAAAAFEAK16NwPQoTQEjhehSuRxNAKVyPwvUoFECuR+F6FK4TQIXrUbgehRFA7FG4HoXrE0CamZmZmZkSQHE9CtejcBNA\"},\"shape\":[48],\"dtype\":\"float64\",\"order\":\"little\"}],[\"\\u5929\\u7136\\u30ac\\u30b9\",{\"type\":\"ndarray\",\"array\":{\"type\":\"bytes\",\"data\":\"exSuR+F6tD8K16NwPQq3PwrXo3A9Crc/mpmZmZmZuT+4HoXrUbi+P8P1KFyPwsU/w/UoXI/CxT/D9Shcj8LFP7gehetRuM4/exSuR+F61D/2KFyPwvXYPylcj8L1KNw/j8L1KFyP4j8AAAAAAADoP83MzMzMzOw/KVyPwvUo8D9SuB6F61HwP/YoXI/C9fA/XI/C9Shc8z/NzMzMzMz4P5qZmZmZmfk/j8L1KFyP+j9cj8L1KFz7P3sUrkfhevw/4XoUrkfh/j/NzMzMzMwAQAAAAAAAAAJAPQrXo3A9AkCkcD0K16MCQK5H4XoUrgNAUrgehetRBEBxPQrXo3AFQFK4HoXrUQZAzczMzMzMBkAUrkfhehQIQArXo3A9CglACtejcD0KCUDD9Shcj8IJQPYoXI/C9QpA4XoUrkfhCkAfhetRuB4LQAAAAAAAAA5AXI/C9ShcEEAUrkfhehQQQNejcD0K1w9A7FG4HoXrEEC4HoXrUbgTQGZmZmZmZhRA\"},\"shape\":[48],\"dtype\":\"float64\",\"order\":\"little\"}],[\"\\u539f\\u5b50\\u529b\",{\"type\":\"ndarray\",\"array\":{\"type\":\"bytes\",\"data\":\"AAAAAAAAAAB7FK5H4XqEP3sUrkfheoQ/exSuR+F6hD97FK5H4XqEP3sUrkfheqQ/exSuR+F6tD8K16NwPQq3PwrXo3A9Crc/UrgehetRyD+4HoXrUbjOP3sUrkfhetQ/MzMzMzMz0z/sUbgehevhPx+F61G4HuU/9ihcj8L16D+PwvUoXI/qP7gehetRuO4/SOF6FK5H8T8pXI/C9Sj0PwAAAAAAAPg/cT0K16Nw+T9SuB6F61H8P+F6FK5H4fo/hetRuB6F+z89CtejcD3+P9ejcD0K1/8/pHA9CtejAECPwvUoXI8CQAAAAAAAAARAmpmZmZmZBUA9CtejcD0GQEjhehSuRwdAFK5H4XoUCEC4HoXrUbgGQPYoXI/C9QZAuB6F61G4BkC4HoXrUbgEQOF6FK5H4QBA7FG4HoXrA0BxPQrXo3AFQEjhehSuRwVAj8L1KFyPAkAAAAAAAAACQEjhehSuRwNA7FG4HoXrA0B7FK5H4XrsP+xRuB6F68E/\"},\"shape\":[48],\"dtype\":\"float64\",\"order\":\"little\"}],[\"\\u6c34\\u529b\",{\"type\":\"ndarray\",\"array\":{\"type\":\"bytes\",\"data\":\"AAAAAAAA6D+kcD0K16PoP3E9CtejcOU/CtejcD0K5z9cj8L1KFznPwAAAAAAAOg/mpmZmZmZ6T89CtejcD3qPx+F61G4HuU/SOF6FK5H6T/sUbgehevpPz0K16NwPeo/uB6F61G45j8UrkfhehTmP0jhehSuR+k/hetRuB6F6z/hehSuR+HqP/YoXI/C9eg/7FG4HoXr6T8UrkfhehTmP5qZmZmZmek/9ihcj8L16D8K16NwPQrnP9ejcD0K1+s/KVyPwvUo7D+PwvUoXI/qPx+F61G4Hu0/pHA9Ctej6D97FK5H4XrsP9ejcD0K1+M/UrgehetR6D+uR+F6FK7nPz0K16NwPeo/4XoUrkfh6j+kcD0K16PoP/YoXI/C9eg/AAAAAAAA6D8K16NwPQrnP4/C9Shcj+o/j8L1KFyP6j9xPQrXo3DlP6RwPQrXo+g/zczMzMzM5D9xPQrXo3DlPx+F61G4HuU/uB6F61G45j8K16NwPQrnPx+F61G4HuU/\"},\"shape\":[48],\"dtype\":\"float64\",\"order\":\"little\"}],[\"\\u65b0\\u30a8\\u30cd\\u30eb\\u30ae\\u30fc\\u30fb\\u5730\\u71b1\\u7b49\",{\"type\":\"ndarray\",\"array\":{\"type\":\"bytes\",\"data\":\"KVyPwvUovD8pXI/C9Si8Pylcj8L1KLw/uB6F61G4vj+kcD0K16PAP+xRuB6F68E/7FG4HoXrwT8zMzMzMzPDP3sUrkfhesQ/MzMzMzMzwz8zMzMzMzPDP3sUrkfhesQ/exSuR+F6xD97FK5H4XrEPwrXo3A9Csc/CtejcD0Kxz8K16NwPQrHP1K4HoXrUcg/mpmZmZmZyT8pXI/C9SjMPylcj8L1KMw/cT0K16NwzT+4HoXrUbjOPwAAAAAAANA/pHA9Ctej0D+kcD0K16PgP/YoXI/C9eA/9ihcj8L14D+kcD0K16PgP/YoXI/C9eA/7FG4HoXr4T+PwvUoXI/iPzMzMzMzM+M/4XoUrkfh4j+F61G4HoXjP9ejcD0K1+M/MzMzMzMz4z+F61G4HoXjPylcj8L1KOQ/16NwPQrX4z/D9Shcj8LlP2ZmZmZmZuY/CtejcD0K5z9xPQrXo3DlP83MzMzMzOQ/SOF6FK5H6T/hehSuR+HqP+F6FK5H4eo/\"},\"shape\":[48],\"dtype\":\"float64\",\"order\":\"little\"}]]}}},\"view\":{\"type\":\"object\",\"name\":\"CDSView\",\"id\":\"p1357\",\"attributes\":{\"filter\":{\"type\":\"object\",\"name\":\"AllIndices\",\"id\":\"p1358\"}}},\"glyph\":{\"type\":\"object\",\"name\":\"VBar\",\"id\":\"p1353\",\"attributes\":{\"x\":{\"type\":\"field\",\"field\":\"\\u5e74\\u5ea6\"},\"width\":{\"type\":\"value\",\"value\":0.6},\"bottom\":{\"type\":\"expr\",\"expr\":{\"type\":\"object\",\"name\":\"Stack\",\"id\":\"p1338\",\"attributes\":{\"fields\":[]}}},\"top\":{\"type\":\"expr\",\"expr\":{\"type\":\"object\",\"name\":\"Stack\",\"id\":\"p1339\",\"attributes\":{\"fields\":[\"\\u77f3\\u6cb9\"]}}},\"line_color\":{\"type\":\"value\",\"value\":\"#1a9850\"},\"fill_color\":{\"type\":\"value\",\"value\":\"#1a9850\"},\"hatch_color\":{\"type\":\"value\",\"value\":\"#1a9850\"}}},\"nonselection_glyph\":{\"type\":\"object\",\"name\":\"VBar\",\"id\":\"p1354\",\"attributes\":{\"x\":{\"type\":\"field\",\"field\":\"\\u5e74\\u5ea6\"},\"width\":{\"type\":\"value\",\"value\":0.6},\"bottom\":{\"type\":\"expr\",\"expr\":{\"id\":\"p1338\"}},\"top\":{\"type\":\"expr\",\"expr\":{\"id\":\"p1339\"}},\"line_color\":{\"type\":\"value\",\"value\":\"#1a9850\"},\"line_alpha\":{\"type\":\"value\",\"value\":0.1},\"fill_color\":{\"type\":\"value\",\"value\":\"#1a9850\"},\"fill_alpha\":{\"type\":\"value\",\"value\":0.1},\"hatch_color\":{\"type\":\"value\",\"value\":\"#1a9850\"},\"hatch_alpha\":{\"type\":\"value\",\"value\":0.1}}},\"muted_glyph\":{\"type\":\"object\",\"name\":\"VBar\",\"id\":\"p1355\",\"attributes\":{\"x\":{\"type\":\"field\",\"field\":\"\\u5e74\\u5ea6\"},\"width\":{\"type\":\"value\",\"value\":0.6},\"bottom\":{\"type\":\"expr\",\"expr\":{\"id\":\"p1338\"}},\"top\":{\"type\":\"expr\",\"expr\":{\"id\":\"p1339\"}},\"line_color\":{\"type\":\"value\",\"value\":\"#1a9850\"},\"line_alpha\":{\"type\":\"value\",\"value\":0.2},\"fill_color\":{\"type\":\"value\",\"value\":\"#1a9850\"},\"fill_alpha\":{\"type\":\"value\",\"value\":0.2},\"hatch_color\":{\"type\":\"value\",\"value\":\"#1a9850\"},\"hatch_alpha\":{\"type\":\"value\",\"value\":0.2}}}}},{\"type\":\"object\",\"name\":\"GlyphRenderer\",\"id\":\"p1367\",\"attributes\":{\"name\":\"\\u77f3\\u70ad\",\"data_source\":{\"id\":\"p1300\"},\"view\":{\"type\":\"object\",\"name\":\"CDSView\",\"id\":\"p1368\",\"attributes\":{\"filter\":{\"type\":\"object\",\"name\":\"AllIndices\",\"id\":\"p1369\"}}},\"glyph\":{\"type\":\"object\",\"name\":\"VBar\",\"id\":\"p1364\",\"attributes\":{\"x\":{\"type\":\"field\",\"field\":\"\\u5e74\\u5ea6\"},\"width\":{\"type\":\"value\",\"value\":0.6},\"bottom\":{\"type\":\"expr\",\"expr\":{\"type\":\"object\",\"name\":\"Stack\",\"id\":\"p1340\",\"attributes\":{\"fields\":[\"\\u77f3\\u6cb9\"]}}},\"top\":{\"type\":\"expr\",\"expr\":{\"type\":\"object\",\"name\":\"Stack\",\"id\":\"p1341\",\"attributes\":{\"fields\":[\"\\u77f3\\u6cb9\",\"\\u77f3\\u70ad\"]}}},\"line_color\":{\"type\":\"value\",\"value\":\"#91cf60\"},\"fill_color\":{\"type\":\"value\",\"value\":\"#91cf60\"},\"hatch_color\":{\"type\":\"value\",\"value\":\"#91cf60\"}}},\"nonselection_glyph\":{\"type\":\"object\",\"name\":\"VBar\",\"id\":\"p1365\",\"attributes\":{\"x\":{\"type\":\"field\",\"field\":\"\\u5e74\\u5ea6\"},\"width\":{\"type\":\"value\",\"value\":0.6},\"bottom\":{\"type\":\"expr\",\"expr\":{\"id\":\"p1340\"}},\"top\":{\"type\":\"expr\",\"expr\":{\"id\":\"p1341\"}},\"line_color\":{\"type\":\"value\",\"value\":\"#91cf60\"},\"line_alpha\":{\"type\":\"value\",\"value\":0.1},\"fill_color\":{\"type\":\"value\",\"value\":\"#91cf60\"},\"fill_alpha\":{\"type\":\"value\",\"value\":0.1},\"hatch_color\":{\"type\":\"value\",\"value\":\"#91cf60\"},\"hatch_alpha\":{\"type\":\"value\",\"value\":0.1}}},\"muted_glyph\":{\"type\":\"object\",\"name\":\"VBar\",\"id\":\"p1366\",\"attributes\":{\"x\":{\"type\":\"field\",\"field\":\"\\u5e74\\u5ea6\"},\"width\":{\"type\":\"value\",\"value\":0.6},\"bottom\":{\"type\":\"expr\",\"expr\":{\"id\":\"p1340\"}},\"top\":{\"type\":\"expr\",\"expr\":{\"id\":\"p1341\"}},\"line_color\":{\"type\":\"value\",\"value\":\"#91cf60\"},\"line_alpha\":{\"type\":\"value\",\"value\":0.2},\"fill_color\":{\"type\":\"value\",\"value\":\"#91cf60\"},\"fill_alpha\":{\"type\":\"value\",\"value\":0.2},\"hatch_color\":{\"type\":\"value\",\"value\":\"#91cf60\"},\"hatch_alpha\":{\"type\":\"value\",\"value\":0.2}}}}},{\"type\":\"object\",\"name\":\"GlyphRenderer\",\"id\":\"p1377\",\"attributes\":{\"name\":\"\\u5929\\u7136\\u30ac\\u30b9\",\"data_source\":{\"id\":\"p1300\"},\"view\":{\"type\":\"object\",\"name\":\"CDSView\",\"id\":\"p1378\",\"attributes\":{\"filter\":{\"type\":\"object\",\"name\":\"AllIndices\",\"id\":\"p1379\"}}},\"glyph\":{\"type\":\"object\",\"name\":\"VBar\",\"id\":\"p1374\",\"attributes\":{\"x\":{\"type\":\"field\",\"field\":\"\\u5e74\\u5ea6\"},\"width\":{\"type\":\"value\",\"value\":0.6},\"bottom\":{\"type\":\"expr\",\"expr\":{\"type\":\"object\",\"name\":\"Stack\",\"id\":\"p1342\",\"attributes\":{\"fields\":[\"\\u77f3\\u6cb9\",\"\\u77f3\\u70ad\"]}}},\"top\":{\"type\":\"expr\",\"expr\":{\"type\":\"object\",\"name\":\"Stack\",\"id\":\"p1343\",\"attributes\":{\"fields\":[\"\\u77f3\\u6cb9\",\"\\u77f3\\u70ad\",\"\\u5929\\u7136\\u30ac\\u30b9\"]}}},\"line_color\":{\"type\":\"value\",\"value\":\"#d9ef8b\"},\"fill_color\":{\"type\":\"value\",\"value\":\"#d9ef8b\"},\"hatch_color\":{\"type\":\"value\",\"value\":\"#d9ef8b\"}}},\"nonselection_glyph\":{\"type\":\"object\",\"name\":\"VBar\",\"id\":\"p1375\",\"attributes\":{\"x\":{\"type\":\"field\",\"field\":\"\\u5e74\\u5ea6\"},\"width\":{\"type\":\"value\",\"value\":0.6},\"bottom\":{\"type\":\"expr\",\"expr\":{\"id\":\"p1342\"}},\"top\":{\"type\":\"expr\",\"expr\":{\"id\":\"p1343\"}},\"line_color\":{\"type\":\"value\",\"value\":\"#d9ef8b\"},\"line_alpha\":{\"type\":\"value\",\"value\":0.1},\"fill_color\":{\"type\":\"value\",\"value\":\"#d9ef8b\"},\"fill_alpha\":{\"type\":\"value\",\"value\":0.1},\"hatch_color\":{\"type\":\"value\",\"value\":\"#d9ef8b\"},\"hatch_alpha\":{\"type\":\"value\",\"value\":0.1}}},\"muted_glyph\":{\"type\":\"object\",\"name\":\"VBar\",\"id\":\"p1376\",\"attributes\":{\"x\":{\"type\":\"field\",\"field\":\"\\u5e74\\u5ea6\"},\"width\":{\"type\":\"value\",\"value\":0.6},\"bottom\":{\"type\":\"expr\",\"expr\":{\"id\":\"p1342\"}},\"top\":{\"type\":\"expr\",\"expr\":{\"id\":\"p1343\"}},\"line_color\":{\"type\":\"value\",\"value\":\"#d9ef8b\"},\"line_alpha\":{\"type\":\"value\",\"value\":0.2},\"fill_color\":{\"type\":\"value\",\"value\":\"#d9ef8b\"},\"fill_alpha\":{\"type\":\"value\",\"value\":0.2},\"hatch_color\":{\"type\":\"value\",\"value\":\"#d9ef8b\"},\"hatch_alpha\":{\"type\":\"value\",\"value\":0.2}}}}},{\"type\":\"object\",\"name\":\"GlyphRenderer\",\"id\":\"p1387\",\"attributes\":{\"name\":\"\\u539f\\u5b50\\u529b\",\"data_source\":{\"id\":\"p1300\"},\"view\":{\"type\":\"object\",\"name\":\"CDSView\",\"id\":\"p1388\",\"attributes\":{\"filter\":{\"type\":\"object\",\"name\":\"AllIndices\",\"id\":\"p1389\"}}},\"glyph\":{\"type\":\"object\",\"name\":\"VBar\",\"id\":\"p1384\",\"attributes\":{\"x\":{\"type\":\"field\",\"field\":\"\\u5e74\\u5ea6\"},\"width\":{\"type\":\"value\",\"value\":0.6},\"bottom\":{\"type\":\"expr\",\"expr\":{\"type\":\"object\",\"name\":\"Stack\",\"id\":\"p1344\",\"attributes\":{\"fields\":[\"\\u77f3\\u6cb9\",\"\\u77f3\\u70ad\",\"\\u5929\\u7136\\u30ac\\u30b9\"]}}},\"top\":{\"type\":\"expr\",\"expr\":{\"type\":\"object\",\"name\":\"Stack\",\"id\":\"p1345\",\"attributes\":{\"fields\":[\"\\u77f3\\u6cb9\",\"\\u77f3\\u70ad\",\"\\u5929\\u7136\\u30ac\\u30b9\",\"\\u539f\\u5b50\\u529b\"]}}},\"line_color\":{\"type\":\"value\",\"value\":\"#fee08b\"},\"fill_color\":{\"type\":\"value\",\"value\":\"#fee08b\"},\"hatch_color\":{\"type\":\"value\",\"value\":\"#fee08b\"}}},\"nonselection_glyph\":{\"type\":\"object\",\"name\":\"VBar\",\"id\":\"p1385\",\"attributes\":{\"x\":{\"type\":\"field\",\"field\":\"\\u5e74\\u5ea6\"},\"width\":{\"type\":\"value\",\"value\":0.6},\"bottom\":{\"type\":\"expr\",\"expr\":{\"id\":\"p1344\"}},\"top\":{\"type\":\"expr\",\"expr\":{\"id\":\"p1345\"}},\"line_color\":{\"type\":\"value\",\"value\":\"#fee08b\"},\"line_alpha\":{\"type\":\"value\",\"value\":0.1},\"fill_color\":{\"type\":\"value\",\"value\":\"#fee08b\"},\"fill_alpha\":{\"type\":\"value\",\"value\":0.1},\"hatch_color\":{\"type\":\"value\",\"value\":\"#fee08b\"},\"hatch_alpha\":{\"type\":\"value\",\"value\":0.1}}},\"muted_glyph\":{\"type\":\"object\",\"name\":\"VBar\",\"id\":\"p1386\",\"attributes\":{\"x\":{\"type\":\"field\",\"field\":\"\\u5e74\\u5ea6\"},\"width\":{\"type\":\"value\",\"value\":0.6},\"bottom\":{\"type\":\"expr\",\"expr\":{\"id\":\"p1344\"}},\"top\":{\"type\":\"expr\",\"expr\":{\"id\":\"p1345\"}},\"line_color\":{\"type\":\"value\",\"value\":\"#fee08b\"},\"line_alpha\":{\"type\":\"value\",\"value\":0.2},\"fill_color\":{\"type\":\"value\",\"value\":\"#fee08b\"},\"fill_alpha\":{\"type\":\"value\",\"value\":0.2},\"hatch_color\":{\"type\":\"value\",\"value\":\"#fee08b\"},\"hatch_alpha\":{\"type\":\"value\",\"value\":0.2}}}}},{\"type\":\"object\",\"name\":\"GlyphRenderer\",\"id\":\"p1397\",\"attributes\":{\"name\":\"\\u6c34\\u529b\",\"data_source\":{\"id\":\"p1300\"},\"view\":{\"type\":\"object\",\"name\":\"CDSView\",\"id\":\"p1398\",\"attributes\":{\"filter\":{\"type\":\"object\",\"name\":\"AllIndices\",\"id\":\"p1399\"}}},\"glyph\":{\"type\":\"object\",\"name\":\"VBar\",\"id\":\"p1394\",\"attributes\":{\"x\":{\"type\":\"field\",\"field\":\"\\u5e74\\u5ea6\"},\"width\":{\"type\":\"value\",\"value\":0.6},\"bottom\":{\"type\":\"expr\",\"expr\":{\"type\":\"object\",\"name\":\"Stack\",\"id\":\"p1346\",\"attributes\":{\"fields\":[\"\\u77f3\\u6cb9\",\"\\u77f3\\u70ad\",\"\\u5929\\u7136\\u30ac\\u30b9\",\"\\u539f\\u5b50\\u529b\"]}}},\"top\":{\"type\":\"expr\",\"expr\":{\"type\":\"object\",\"name\":\"Stack\",\"id\":\"p1347\",\"attributes\":{\"fields\":[\"\\u77f3\\u6cb9\",\"\\u77f3\\u70ad\",\"\\u5929\\u7136\\u30ac\\u30b9\",\"\\u539f\\u5b50\\u529b\",\"\\u6c34\\u529b\"]}}},\"line_color\":{\"type\":\"value\",\"value\":\"#fc8d59\"},\"fill_color\":{\"type\":\"value\",\"value\":\"#fc8d59\"},\"hatch_color\":{\"type\":\"value\",\"value\":\"#fc8d59\"}}},\"nonselection_glyph\":{\"type\":\"object\",\"name\":\"VBar\",\"id\":\"p1395\",\"attributes\":{\"x\":{\"type\":\"field\",\"field\":\"\\u5e74\\u5ea6\"},\"width\":{\"type\":\"value\",\"value\":0.6},\"bottom\":{\"type\":\"expr\",\"expr\":{\"id\":\"p1346\"}},\"top\":{\"type\":\"expr\",\"expr\":{\"id\":\"p1347\"}},\"line_color\":{\"type\":\"value\",\"value\":\"#fc8d59\"},\"line_alpha\":{\"type\":\"value\",\"value\":0.1},\"fill_color\":{\"type\":\"value\",\"value\":\"#fc8d59\"},\"fill_alpha\":{\"type\":\"value\",\"value\":0.1},\"hatch_color\":{\"type\":\"value\",\"value\":\"#fc8d59\"},\"hatch_alpha\":{\"type\":\"value\",\"value\":0.1}}},\"muted_glyph\":{\"type\":\"object\",\"name\":\"VBar\",\"id\":\"p1396\",\"attributes\":{\"x\":{\"type\":\"field\",\"field\":\"\\u5e74\\u5ea6\"},\"width\":{\"type\":\"value\",\"value\":0.6},\"bottom\":{\"type\":\"expr\",\"expr\":{\"id\":\"p1346\"}},\"top\":{\"type\":\"expr\",\"expr\":{\"id\":\"p1347\"}},\"line_color\":{\"type\":\"value\",\"value\":\"#fc8d59\"},\"line_alpha\":{\"type\":\"value\",\"value\":0.2},\"fill_color\":{\"type\":\"value\",\"value\":\"#fc8d59\"},\"fill_alpha\":{\"type\":\"value\",\"value\":0.2},\"hatch_color\":{\"type\":\"value\",\"value\":\"#fc8d59\"},\"hatch_alpha\":{\"type\":\"value\",\"value\":0.2}}}}},{\"type\":\"object\",\"name\":\"GlyphRenderer\",\"id\":\"p1407\",\"attributes\":{\"name\":\"\\u65b0\\u30a8\\u30cd\\u30eb\\u30ae\\u30fc\\u30fb\\u5730\\u71b1\\u7b49\",\"data_source\":{\"id\":\"p1300\"},\"view\":{\"type\":\"object\",\"name\":\"CDSView\",\"id\":\"p1408\",\"attributes\":{\"filter\":{\"type\":\"object\",\"name\":\"AllIndices\",\"id\":\"p1409\"}}},\"glyph\":{\"type\":\"object\",\"name\":\"VBar\",\"id\":\"p1404\",\"attributes\":{\"x\":{\"type\":\"field\",\"field\":\"\\u5e74\\u5ea6\"},\"width\":{\"type\":\"value\",\"value\":0.6},\"bottom\":{\"type\":\"expr\",\"expr\":{\"type\":\"object\",\"name\":\"Stack\",\"id\":\"p1348\",\"attributes\":{\"fields\":[\"\\u77f3\\u6cb9\",\"\\u77f3\\u70ad\",\"\\u5929\\u7136\\u30ac\\u30b9\",\"\\u539f\\u5b50\\u529b\",\"\\u6c34\\u529b\"]}}},\"top\":{\"type\":\"expr\",\"expr\":{\"type\":\"object\",\"name\":\"Stack\",\"id\":\"p1349\",\"attributes\":{\"fields\":[\"\\u77f3\\u6cb9\",\"\\u77f3\\u70ad\",\"\\u5929\\u7136\\u30ac\\u30b9\",\"\\u539f\\u5b50\\u529b\",\"\\u6c34\\u529b\",\"\\u65b0\\u30a8\\u30cd\\u30eb\\u30ae\\u30fc\\u30fb\\u5730\\u71b1\\u7b49\"]}}},\"line_color\":{\"type\":\"value\",\"value\":\"#d73027\"},\"fill_color\":{\"type\":\"value\",\"value\":\"#d73027\"},\"hatch_color\":{\"type\":\"value\",\"value\":\"#d73027\"}}},\"nonselection_glyph\":{\"type\":\"object\",\"name\":\"VBar\",\"id\":\"p1405\",\"attributes\":{\"x\":{\"type\":\"field\",\"field\":\"\\u5e74\\u5ea6\"},\"width\":{\"type\":\"value\",\"value\":0.6},\"bottom\":{\"type\":\"expr\",\"expr\":{\"id\":\"p1348\"}},\"top\":{\"type\":\"expr\",\"expr\":{\"id\":\"p1349\"}},\"line_color\":{\"type\":\"value\",\"value\":\"#d73027\"},\"line_alpha\":{\"type\":\"value\",\"value\":0.1},\"fill_color\":{\"type\":\"value\",\"value\":\"#d73027\"},\"fill_alpha\":{\"type\":\"value\",\"value\":0.1},\"hatch_color\":{\"type\":\"value\",\"value\":\"#d73027\"},\"hatch_alpha\":{\"type\":\"value\",\"value\":0.1}}},\"muted_glyph\":{\"type\":\"object\",\"name\":\"VBar\",\"id\":\"p1406\",\"attributes\":{\"x\":{\"type\":\"field\",\"field\":\"\\u5e74\\u5ea6\"},\"width\":{\"type\":\"value\",\"value\":0.6},\"bottom\":{\"type\":\"expr\",\"expr\":{\"id\":\"p1348\"}},\"top\":{\"type\":\"expr\",\"expr\":{\"id\":\"p1349\"}},\"line_color\":{\"type\":\"value\",\"value\":\"#d73027\"},\"line_alpha\":{\"type\":\"value\",\"value\":0.2},\"fill_color\":{\"type\":\"value\",\"value\":\"#d73027\"},\"fill_alpha\":{\"type\":\"value\",\"value\":0.2},\"hatch_color\":{\"type\":\"value\",\"value\":\"#d73027\"},\"hatch_alpha\":{\"type\":\"value\",\"value\":0.2}}}}}],\"toolbar\":{\"type\":\"object\",\"name\":\"Toolbar\",\"id\":\"p1312\",\"attributes\":{\"tools\":[{\"type\":\"object\",\"name\":\"PanTool\",\"id\":\"p1327\"},{\"type\":\"object\",\"name\":\"WheelZoomTool\",\"id\":\"p1328\",\"attributes\":{\"renderers\":\"auto\"}},{\"type\":\"object\",\"name\":\"BoxZoomTool\",\"id\":\"p1329\",\"attributes\":{\"overlay\":{\"type\":\"object\",\"name\":\"BoxAnnotation\",\"id\":\"p1330\",\"attributes\":{\"syncable\":false,\"level\":\"overlay\",\"visible\":false,\"left\":{\"type\":\"number\",\"value\":\"nan\"},\"right\":{\"type\":\"number\",\"value\":\"nan\"},\"top\":{\"type\":\"number\",\"value\":\"nan\"},\"bottom\":{\"type\":\"number\",\"value\":\"nan\"},\"left_units\":\"canvas\",\"right_units\":\"canvas\",\"top_units\":\"canvas\",\"bottom_units\":\"canvas\",\"line_color\":\"black\",\"line_alpha\":1.0,\"line_width\":2,\"line_dash\":[4,4],\"fill_color\":\"lightgrey\",\"fill_alpha\":0.5}}}},{\"type\":\"object\",\"name\":\"SaveTool\",\"id\":\"p1335\"},{\"type\":\"object\",\"name\":\"ResetTool\",\"id\":\"p1336\"},{\"type\":\"object\",\"name\":\"HelpTool\",\"id\":\"p1337\"}]}},\"left\":[{\"type\":\"object\",\"name\":\"LinearAxis\",\"id\":\"p1322\",\"attributes\":{\"ticker\":{\"type\":\"object\",\"name\":\"BasicTicker\",\"id\":\"p1323\",\"attributes\":{\"mantissas\":[1,2,5]}},\"formatter\":{\"type\":\"object\",\"name\":\"BasicTickFormatter\",\"id\":\"p1324\"},\"axis_label\":\"\\u56fd\\u5185\\u4f9b\\u7d66\\u91cf[10^18 J]\",\"axis_label_text_font_size\":\"18px\",\"major_label_policy\":{\"type\":\"object\",\"name\":\"AllLabels\",\"id\":\"p1325\"},\"major_label_text_font_size\":\"14px\"}}],\"right\":[{\"type\":\"object\",\"name\":\"Legend\",\"id\":\"p1359\",\"attributes\":{\"border_line_color\":\"black\",\"border_line_width\":2,\"items\":[{\"type\":\"object\",\"name\":\"LegendItem\",\"id\":\"p1360\",\"attributes\":{\"label\":{\"type\":\"value\",\"value\":\"\\u77f3\\u6cb9\"},\"renderers\":[{\"id\":\"p1356\"}]}},{\"type\":\"object\",\"name\":\"LegendItem\",\"id\":\"p1370\",\"attributes\":{\"label\":{\"type\":\"value\",\"value\":\"\\u77f3\\u70ad\"},\"renderers\":[{\"id\":\"p1367\"}]}},{\"type\":\"object\",\"name\":\"LegendItem\",\"id\":\"p1380\",\"attributes\":{\"label\":{\"type\":\"value\",\"value\":\"\\u5929\\u7136\\u30ac\\u30b9\"},\"renderers\":[{\"id\":\"p1377\"}]}},{\"type\":\"object\",\"name\":\"LegendItem\",\"id\":\"p1390\",\"attributes\":{\"label\":{\"type\":\"value\",\"value\":\"\\u539f\\u5b50\\u529b\"},\"renderers\":[{\"id\":\"p1387\"}]}},{\"type\":\"object\",\"name\":\"LegendItem\",\"id\":\"p1400\",\"attributes\":{\"label\":{\"type\":\"value\",\"value\":\"\\u6c34\\u529b\"},\"renderers\":[{\"id\":\"p1397\"}]}},{\"type\":\"object\",\"name\":\"LegendItem\",\"id\":\"p1410\",\"attributes\":{\"label\":{\"type\":\"value\",\"value\":\"\\u65b0\\u30a8\\u30cd\\u30eb\\u30ae\\u30fc\\u30fb\\u5730\\u71b1\\u7b49\"},\"renderers\":[{\"id\":\"p1407\"}]}}]}}],\"below\":[{\"type\":\"object\",\"name\":\"LinearAxis\",\"id\":\"p1317\",\"attributes\":{\"ticker\":{\"type\":\"object\",\"name\":\"BasicTicker\",\"id\":\"p1318\",\"attributes\":{\"mantissas\":[1,2,5]}},\"formatter\":{\"type\":\"object\",\"name\":\"BasicTickFormatter\",\"id\":\"p1319\"},\"axis_label\":\"\\u5e74\\u5ea6\",\"axis_label_text_font_size\":\"18px\",\"major_label_policy\":{\"type\":\"object\",\"name\":\"AllLabels\",\"id\":\"p1320\"},\"major_label_text_font_size\":\"14px\"}}],\"center\":[{\"type\":\"object\",\"name\":\"Grid\",\"id\":\"p1321\",\"attributes\":{\"axis\":{\"id\":\"p1317\"},\"grid_line_color\":null}},{\"type\":\"object\",\"name\":\"Grid\",\"id\":\"p1326\",\"attributes\":{\"dimension\":1,\"axis\":{\"id\":\"p1322\"},\"grid_line_color\":\"black\",\"grid_line_dash\":[2,4]}},{\"id\":\"p1359\"}]}}]}};\n  const render_items = [{\"docid\":\"da28973e-e659-4ea0-b858-2b9202538dc6\",\"roots\":{\"p1303\":\"ecd14bd0-78a3-4f2d-b53f-39e971055c59\"},\"root_ids\":[\"p1303\"]}];\n  void root.Bokeh.embed.embed_items_notebook(docs_json, render_items);\n  }\n  if (root.Bokeh !== undefined) {\n    embed_document(root);\n  } else {\n    let attempts = 0;\n    const timer = setInterval(function(root) {\n      if (root.Bokeh !== undefined) {\n        clearInterval(timer);\n        embed_document(root);\n      } else {\n        attempts++;\n        if (attempts > 100) {\n          clearInterval(timer);\n          console.log(\"Bokeh: ERROR: Unable to run BokehJS code because BokehJS library is missing\");\n        }\n      }\n    }, 10, root)\n  }\n})(window);",
      "application/vnd.bokehjs_exec.v0+json": ""
     },
     "metadata": {
      "application/vnd.bokehjs_exec.v0+json": {
       "id": "p1303"
      }
     },
     "output_type": "display_data"
    }
   ],
   "source": [
    "src = ColumnDataSource(\n",
    "    stacked_bar_df\n",
    ")\n",
    "\n",
    "# http://ja.dochub.org/bokeh/docs/user_guide/styling.html\n",
    "hatch_patterns = [\".\", \"`\", \"-\", \",\", \"v\", \">\"]\n",
    "\n",
    "plot = figure(\n",
    "    title=\"日本国内のエネルギー供給量の推移(1973年～2012年)\",\n",
    "    y_range=[0, 30],\n",
    "    x_range=[1965 - 0.5, 2012 + 0.5],\n",
    "    y_axis_label=\"国内供給量[10^18 J]\",\n",
    "    x_axis_label=\"年度\",\n",
    "    width=800,\n",
    "    height=500,\n",
    "    outline_line_color=\"black\",\n",
    "    outline_line_width=2\n",
    ")\n",
    "\n",
    "column_list = [col for col in stacked_bar_df.columns[1:]]\n",
    "color_palette = palettes.RdYlGn[len(stacked_bar_df.columns[1:])]\n",
    "\n",
    "plot.vbar_stack(\n",
    "    source=src,\n",
    "    stackers=column_list,\n",
    "    x=\"年度\",\n",
    "    width=0.6,\n",
    "    color=color_palette,\n",
    "    legend_label=column_list,\n",
    ")\n",
    "\n",
    "plot.xgrid.grid_line_color = None\n",
    "plot.ygrid.grid_line_color = \"black\"\n",
    "plot.ygrid.grid_line_dash = \"dotted\"  # \"solid\", \"dashed\", \"dotted\", \"dotdash\", \"dashdot\"\n",
    "plot.title.text_font_size = \"24px\"\n",
    "plot.xaxis.axis_label_text_font_size= \"18px\"\n",
    "plot.xaxis.major_label_text_font_size= \"14px\"\n",
    "plot.yaxis.axis_label_text_font_size= \"18px\"\n",
    "plot.yaxis.major_label_text_font_size= \"14px\"\n",
    "plot.legend.border_line_width = 2\n",
    "plot.legend.border_line_color = \"black\"\n",
    "\n",
    "plot.add_layout(plot.legend[0], place=\"right\")\n",
    "\n",
    "show(plot)"
   ]
  },
  {
   "cell_type": "markdown",
   "metadata": {},
   "source": [
    "## 折れ線グラフ"
   ]
  },
  {
   "cell_type": "code",
   "execution_count": 11,
   "metadata": {},
   "outputs": [
    {
     "data": {
      "text/html": [
       "<div>\n",
       "<style scoped>\n",
       "    .dataframe tbody tr th:only-of-type {\n",
       "        vertical-align: middle;\n",
       "    }\n",
       "\n",
       "    .dataframe tbody tr th {\n",
       "        vertical-align: top;\n",
       "    }\n",
       "\n",
       "    .dataframe thead th {\n",
       "        text-align: right;\n",
       "    }\n",
       "</style>\n",
       "<table border=\"1\" class=\"dataframe\">\n",
       "  <thead>\n",
       "    <tr style=\"text-align: right;\">\n",
       "      <th></th>\n",
       "      <th>date</th>\n",
       "      <th>New York</th>\n",
       "      <th>San Francisco</th>\n",
       "      <th>Austin</th>\n",
       "    </tr>\n",
       "  </thead>\n",
       "  <tbody>\n",
       "    <tr>\n",
       "      <th>0</th>\n",
       "      <td>2011-10-01</td>\n",
       "      <td>63.4</td>\n",
       "      <td>62.7</td>\n",
       "      <td>72.2</td>\n",
       "    </tr>\n",
       "    <tr>\n",
       "      <th>1</th>\n",
       "      <td>2011-10-02</td>\n",
       "      <td>58.0</td>\n",
       "      <td>59.9</td>\n",
       "      <td>67.7</td>\n",
       "    </tr>\n",
       "    <tr>\n",
       "      <th>2</th>\n",
       "      <td>2011-10-03</td>\n",
       "      <td>53.3</td>\n",
       "      <td>59.1</td>\n",
       "      <td>69.4</td>\n",
       "    </tr>\n",
       "    <tr>\n",
       "      <th>3</th>\n",
       "      <td>2011-10-04</td>\n",
       "      <td>55.7</td>\n",
       "      <td>58.8</td>\n",
       "      <td>68.0</td>\n",
       "    </tr>\n",
       "    <tr>\n",
       "      <th>4</th>\n",
       "      <td>2011-10-05</td>\n",
       "      <td>64.2</td>\n",
       "      <td>58.7</td>\n",
       "      <td>72.4</td>\n",
       "    </tr>\n",
       "  </tbody>\n",
       "</table>\n",
       "</div>"
      ],
      "text/plain": [
       "        date  New York  San Francisco  Austin\n",
       "0 2011-10-01      63.4           62.7    72.2\n",
       "1 2011-10-02      58.0           59.9    67.7\n",
       "2 2011-10-03      53.3           59.1    69.4\n",
       "3 2011-10-04      55.7           58.8    68.0\n",
       "4 2011-10-05      64.2           58.7    72.4"
      ]
     },
     "execution_count": 11,
     "metadata": {},
     "output_type": "execute_result"
    }
   ],
   "source": [
    "# プロット用のデータ取得\n",
    "\n",
    "plot_df = pd.read_csv(\n",
    "    \"../data/city_temperature.csv\",\n",
    "    sep=\"\\t\",  # タブ区切りのデータを取得\n",
    "    index_col=None,\n",
    "    parse_dates=[\"date\"],  # 文字列から日付データに変換したい列名\n",
    "    date_format=\"%Y%m%d\",  # 日付データのフォーマット 例) 20111001 -> 2011-10-01\n",
    ")\n",
    "\n",
    "# データの確認\n",
    "plot_df.head()"
   ]
  },
  {
   "cell_type": "code",
   "execution_count": 12,
   "metadata": {},
   "outputs": [
    {
     "data": {
      "text/html": [
       "\n",
       "  <div id=\"c20aff3c-6633-4fed-b383-de4bcbccd01c\" data-root-id=\"p1419\" style=\"display: contents;\"></div>\n"
      ]
     },
     "metadata": {},
     "output_type": "display_data"
    },
    {
     "data": {
      "application/javascript": "(function(root) {\n  function embed_document(root) {\n  const docs_json = {\"9bda579f-e1b7-4f16-8ebe-763a0f66572e\":{\"version\":\"3.4.1\",\"title\":\"Bokeh Application\",\"roots\":[{\"type\":\"object\",\"name\":\"Figure\",\"id\":\"p1419\",\"attributes\":{\"width\":700,\"height\":500,\"x_range\":{\"type\":\"object\",\"name\":\"DataRange1d\",\"id\":\"p1420\"},\"y_range\":{\"type\":\"object\",\"name\":\"DataRange1d\",\"id\":\"p1421\"},\"x_scale\":{\"type\":\"object\",\"name\":\"LinearScale\",\"id\":\"p1429\"},\"y_scale\":{\"type\":\"object\",\"name\":\"LinearScale\",\"id\":\"p1430\"},\"title\":{\"type\":\"object\",\"name\":\"Title\",\"id\":\"p1422\",\"attributes\":{\"text\":\"\\u30a2\\u30e1\\u30ea\\u30ab3\\u5dde\\u306e\\u6c17\\u6e29\\u306e\\u5909\\u5316\",\"text_font_size\":\"24px\"}},\"outline_line_color\":\"black\",\"outline_line_width\":2,\"renderers\":[{\"type\":\"object\",\"name\":\"GlyphRenderer\",\"id\":\"p1473\",\"attributes\":{\"data_source\":{\"type\":\"object\",\"name\":\"ColumnDataSource\",\"id\":\"p1464\",\"attributes\":{\"selected\":{\"type\":\"object\",\"name\":\"Selection\",\"id\":\"p1465\",\"attributes\":{\"indices\":[],\"line_indices\":[]}},\"selection_policy\":{\"type\":\"object\",\"name\":\"UnionRenderers\",\"id\":\"p1466\"},\"data\":{\"type\":\"map\",\"entries\":[[\"index\",{\"type\":\"ndarray\",\"array\":{\"type\":\"bytes\",\"data\":\"AAAAAAEAAAACAAAAAwAAAAQAAAAFAAAABgAAAAcAAAAIAAAACQAAAAoAAAALAAAADAAAAA0AAAAOAAAADwAAABAAAAARAAAAEgAAABMAAAAUAAAAFQAAABYAAAAXAAAAGAAAABkAAAAaAAAAGwAAABwAAAAdAAAAHgAAAB8AAAAgAAAAIQAAACIAAAAjAAAAJAAAACUAAAAmAAAAJwAAACgAAAApAAAAKgAAACsAAAAsAAAALQAAAC4AAAAvAAAAMAAAADEAAAAyAAAAMwAAADQAAAA1AAAANgAAADcAAAA4AAAAOQAAADoAAAA7AAAAPAAAAD0AAAA+AAAAPwAAAEAAAABBAAAAQgAAAEMAAABEAAAARQAAAEYAAABHAAAASAAAAEkAAABKAAAASwAAAEwAAABNAAAATgAAAE8AAABQAAAAUQAAAFIAAABTAAAAVAAAAFUAAABWAAAAVwAAAFgAAABZAAAAWgAAAFsAAABcAAAAXQAAAF4AAABfAAAAYAAAAGEAAABiAAAAYwAAAGQAAABlAAAAZgAAAGcAAABoAAAAaQAAAGoAAABrAAAAbAAAAG0AAABuAAAAbwAAAHAAAABxAAAAcgAAAHMAAAB0AAAAdQAAAHYAAAB3AAAAeAAAAHkAAAB6AAAAewAAAHwAAAB9AAAAfgAAAH8AAACAAAAAgQAAAIIAAACDAAAAhAAAAIUAAACGAAAAhwAAAIgAAACJAAAAigAAAIsAAACMAAAAjQAAAI4AAACPAAAAkAAAAJEAAACSAAAAkwAAAJQAAACVAAAAlgAAAJcAAACYAAAAmQAAAJoAAACbAAAAnAAAAJ0AAACeAAAAnwAAAKAAAAChAAAAogAAAKMAAACkAAAApQAAAKYAAACnAAAAqAAAAKkAAACqAAAAqwAAAKwAAACtAAAArgAAAK8AAACwAAAAsQAAALIAAACzAAAAtAAAALUAAAC2AAAAtwAAALgAAAC5AAAAugAAALsAAAC8AAAAvQAAAL4AAAC/AAAAwAAAAMEAAADCAAAAwwAAAMQAAADFAAAAxgAAAMcAAADIAAAAyQAAAMoAAADLAAAAzAAAAM0AAADOAAAAzwAAANAAAADRAAAA0gAAANMAAADUAAAA1QAAANYAAADXAAAA2AAAANkAAADaAAAA2wAAANwAAADdAAAA3gAAAN8AAADgAAAA4QAAAOIAAADjAAAA5AAAAOUAAADmAAAA5wAAAOgAAADpAAAA6gAAAOsAAADsAAAA7QAAAO4AAADvAAAA8AAAAPEAAADyAAAA8wAAAPQAAAD1AAAA9gAAAPcAAAD4AAAA+QAAAPoAAAD7AAAA/AAAAP0AAAD+AAAA/wAAAAABAAABAQAAAgEAAAMBAAAEAQAABQEAAAYBAAAHAQAACAEAAAkBAAAKAQAACwEAAAwBAAANAQAADgEAAA8BAAAQAQAAEQEAABIBAAATAQAAFAEAABUBAAAWAQAAFwEAABgBAAAZAQAAGgEAABsBAAAcAQAAHQEAAB4BAAAfAQAAIAEAACEBAAAiAQAAIwEAACQBAAAlAQAAJgEAACcBAAAoAQAAKQEAACoBAAArAQAALAEAAC0BAAAuAQAALwEAADABAAAxAQAAMgEAADMBAAA0AQAANQEAADYBAAA3AQAAOAEAADkBAAA6AQAAOwEAADwBAAA9AQAAPgEAAD8BAABAAQAAQQEAAEIBAABDAQAARAEAAEUBAABGAQAARwEAAEgBAABJAQAASgEAAEsBAABMAQAATQEAAE4BAABPAQAAUAEAAFEBAABSAQAAUwEAAFQBAABVAQAAVgEAAFcBAABYAQAAWQEAAFoBAABbAQAAXAEAAF0BAABeAQAAXwEAAGABAABhAQAAYgEAAGMBAABkAQAAZQEAAGYBAABnAQAAaAEAAGkBAABqAQAAawEAAGwBAABtAQAA\"},\"shape\":[366],\"dtype\":\"int32\",\"order\":\"little\"}],[\"date\",{\"type\":\"ndarray\",\"array\":{\"type\":\"bytes\",\"data\":\"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\"},\"shape\":[366],\"dtype\":\"float64\",\"order\":\"little\"}],[\"New York\",{\"type\":\"ndarray\",\"array\":{\"type\":\"bytes\",\"data\":\"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\"},\"shape\":[366],\"dtype\":\"float64\",\"order\":\"little\"}],[\"San Francisco\",{\"type\":\"ndarray\",\"array\":{\"type\":\"bytes\",\"data\":\"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\"},\"shape\":[366],\"dtype\":\"float64\",\"order\":\"little\"}],[\"Austin\",{\"type\":\"ndarray\",\"array\":{\"type\":\"bytes\",\"data\":\"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\"},\"shape\":[366],\"dtype\":\"float64\",\"order\":\"little\"}]]}}},\"view\":{\"type\":\"object\",\"name\":\"CDSView\",\"id\":\"p1474\",\"attributes\":{\"filter\":{\"type\":\"object\",\"name\":\"AllIndices\",\"id\":\"p1475\"}}},\"glyph\":{\"type\":\"object\",\"name\":\"Line\",\"id\":\"p1470\",\"attributes\":{\"x\":{\"type\":\"field\",\"field\":\"date\"},\"y\":{\"type\":\"field\",\"field\":\"New York\"},\"line_color\":\"#1f77b4\"}},\"nonselection_glyph\":{\"type\":\"object\",\"name\":\"Line\",\"id\":\"p1471\",\"attributes\":{\"x\":{\"type\":\"field\",\"field\":\"date\"},\"y\":{\"type\":\"field\",\"field\":\"New York\"},\"line_color\":\"#1f77b4\",\"line_alpha\":0.1}},\"muted_glyph\":{\"type\":\"object\",\"name\":\"Line\",\"id\":\"p1472\",\"attributes\":{\"x\":{\"type\":\"field\",\"field\":\"date\"},\"y\":{\"type\":\"field\",\"field\":\"New York\"},\"line_color\":\"#1f77b4\",\"line_alpha\":0.2}}}},{\"type\":\"object\",\"name\":\"GlyphRenderer\",\"id\":\"p1484\",\"attributes\":{\"data_source\":{\"id\":\"p1464\"},\"view\":{\"type\":\"object\",\"name\":\"CDSView\",\"id\":\"p1485\",\"attributes\":{\"filter\":{\"type\":\"object\",\"name\":\"AllIndices\",\"id\":\"p1486\"}}},\"glyph\":{\"type\":\"object\",\"name\":\"Line\",\"id\":\"p1481\",\"attributes\":{\"x\":{\"type\":\"field\",\"field\":\"date\"},\"y\":{\"type\":\"field\",\"field\":\"San Francisco\"},\"line_color\":\"#ff7f0e\"}},\"nonselection_glyph\":{\"type\":\"object\",\"name\":\"Line\",\"id\":\"p1482\",\"attributes\":{\"x\":{\"type\":\"field\",\"field\":\"date\"},\"y\":{\"type\":\"field\",\"field\":\"San Francisco\"},\"line_color\":\"#ff7f0e\",\"line_alpha\":0.1}},\"muted_glyph\":{\"type\":\"object\",\"name\":\"Line\",\"id\":\"p1483\",\"attributes\":{\"x\":{\"type\":\"field\",\"field\":\"date\"},\"y\":{\"type\":\"field\",\"field\":\"San Francisco\"},\"line_color\":\"#ff7f0e\",\"line_alpha\":0.2}}}},{\"type\":\"object\",\"name\":\"GlyphRenderer\",\"id\":\"p1494\",\"attributes\":{\"data_source\":{\"id\":\"p1464\"},\"view\":{\"type\":\"object\",\"name\":\"CDSView\",\"id\":\"p1495\",\"attributes\":{\"filter\":{\"type\":\"object\",\"name\":\"AllIndices\",\"id\":\"p1496\"}}},\"glyph\":{\"type\":\"object\",\"name\":\"Line\",\"id\":\"p1491\",\"attributes\":{\"x\":{\"type\":\"field\",\"field\":\"date\"},\"y\":{\"type\":\"field\",\"field\":\"Austin\"},\"line_color\":\"#2ca02c\"}},\"nonselection_glyph\":{\"type\":\"object\",\"name\":\"Line\",\"id\":\"p1492\",\"attributes\":{\"x\":{\"type\":\"field\",\"field\":\"date\"},\"y\":{\"type\":\"field\",\"field\":\"Austin\"},\"line_color\":\"#2ca02c\",\"line_alpha\":0.1}},\"muted_glyph\":{\"type\":\"object\",\"name\":\"Line\",\"id\":\"p1493\",\"attributes\":{\"x\":{\"type\":\"field\",\"field\":\"date\"},\"y\":{\"type\":\"field\",\"field\":\"Austin\"},\"line_color\":\"#2ca02c\",\"line_alpha\":0.2}}}}],\"toolbar\":{\"type\":\"object\",\"name\":\"Toolbar\",\"id\":\"p1428\",\"attributes\":{\"tools\":[{\"type\":\"object\",\"name\":\"PanTool\",\"id\":\"p1453\"},{\"type\":\"object\",\"name\":\"WheelZoomTool\",\"id\":\"p1454\",\"attributes\":{\"renderers\":\"auto\"}},{\"type\":\"object\",\"name\":\"BoxZoomTool\",\"id\":\"p1455\",\"attributes\":{\"overlay\":{\"type\":\"object\",\"name\":\"BoxAnnotation\",\"id\":\"p1456\",\"attributes\":{\"syncable\":false,\"level\":\"overlay\",\"visible\":false,\"left\":{\"type\":\"number\",\"value\":\"nan\"},\"right\":{\"type\":\"number\",\"value\":\"nan\"},\"top\":{\"type\":\"number\",\"value\":\"nan\"},\"bottom\":{\"type\":\"number\",\"value\":\"nan\"},\"left_units\":\"canvas\",\"right_units\":\"canvas\",\"top_units\":\"canvas\",\"bottom_units\":\"canvas\",\"line_color\":\"black\",\"line_alpha\":1.0,\"line_width\":2,\"line_dash\":[4,4],\"fill_color\":\"lightgrey\",\"fill_alpha\":0.5}}}},{\"type\":\"object\",\"name\":\"SaveTool\",\"id\":\"p1461\"},{\"type\":\"object\",\"name\":\"ResetTool\",\"id\":\"p1462\"},{\"type\":\"object\",\"name\":\"HelpTool\",\"id\":\"p1463\"}]}},\"left\":[{\"type\":\"object\",\"name\":\"LinearAxis\",\"id\":\"p1448\",\"attributes\":{\"ticker\":{\"type\":\"object\",\"name\":\"BasicTicker\",\"id\":\"p1449\",\"attributes\":{\"num_minor_ticks\":2,\"mantissas\":[1,2,5]}},\"formatter\":{\"type\":\"object\",\"name\":\"BasicTickFormatter\",\"id\":\"p1450\"},\"axis_label\":\"Temperature [F]\",\"axis_label_text_font_size\":\"18px\",\"major_label_policy\":{\"type\":\"object\",\"name\":\"AllLabels\",\"id\":\"p1451\"},\"major_label_text_font_size\":\"14px\"}}],\"right\":[{\"type\":\"object\",\"name\":\"Legend\",\"id\":\"p1476\",\"attributes\":{\"border_line_color\":\"black\",\"border_line_width\":2,\"items\":[{\"type\":\"object\",\"name\":\"LegendItem\",\"id\":\"p1477\",\"attributes\":{\"label\":{\"type\":\"value\",\"value\":\"New York\"},\"renderers\":[{\"id\":\"p1473\"}]}},{\"type\":\"object\",\"name\":\"LegendItem\",\"id\":\"p1487\",\"attributes\":{\"label\":{\"type\":\"value\",\"value\":\"San Francisco\"},\"renderers\":[{\"id\":\"p1484\"}]}},{\"type\":\"object\",\"name\":\"LegendItem\",\"id\":\"p1497\",\"attributes\":{\"label\":{\"type\":\"value\",\"value\":\"Austin\"},\"renderers\":[{\"id\":\"p1494\"}]}}]}}],\"below\":[{\"type\":\"object\",\"name\":\"DatetimeAxis\",\"id\":\"p1431\",\"attributes\":{\"ticker\":{\"type\":\"object\",\"name\":\"DatetimeTicker\",\"id\":\"p1432\",\"attributes\":{\"num_minor_ticks\":5,\"tickers\":[{\"type\":\"object\",\"name\":\"AdaptiveTicker\",\"id\":\"p1433\",\"attributes\":{\"num_minor_ticks\":0,\"mantissas\":[1,2,5],\"max_interval\":500.0}},{\"type\":\"object\",\"name\":\"AdaptiveTicker\",\"id\":\"p1434\",\"attributes\":{\"num_minor_ticks\":0,\"base\":60,\"mantissas\":[1,2,5,10,15,20,30],\"min_interval\":1000.0,\"max_interval\":1800000.0}},{\"type\":\"object\",\"name\":\"AdaptiveTicker\",\"id\":\"p1435\",\"attributes\":{\"num_minor_ticks\":0,\"base\":24,\"mantissas\":[1,2,4,6,8,12],\"min_interval\":3600000.0,\"max_interval\":43200000.0}},{\"type\":\"object\",\"name\":\"DaysTicker\",\"id\":\"p1436\",\"attributes\":{\"days\":[1,2,3,4,5,6,7,8,9,10,11,12,13,14,15,16,17,18,19,20,21,22,23,24,25,26,27,28,29,30,31]}},{\"type\":\"object\",\"name\":\"DaysTicker\",\"id\":\"p1437\",\"attributes\":{\"days\":[1,4,7,10,13,16,19,22,25,28]}},{\"type\":\"object\",\"name\":\"DaysTicker\",\"id\":\"p1438\",\"attributes\":{\"days\":[1,8,15,22]}},{\"type\":\"object\",\"name\":\"DaysTicker\",\"id\":\"p1439\",\"attributes\":{\"days\":[1,15]}},{\"type\":\"object\",\"name\":\"MonthsTicker\",\"id\":\"p1440\",\"attributes\":{\"months\":[0,1,2,3,4,5,6,7,8,9,10,11]}},{\"type\":\"object\",\"name\":\"MonthsTicker\",\"id\":\"p1441\",\"attributes\":{\"months\":[0,2,4,6,8,10]}},{\"type\":\"object\",\"name\":\"MonthsTicker\",\"id\":\"p1442\",\"attributes\":{\"months\":[0,4,8]}},{\"type\":\"object\",\"name\":\"MonthsTicker\",\"id\":\"p1443\",\"attributes\":{\"months\":[0,6]}},{\"type\":\"object\",\"name\":\"YearsTicker\",\"id\":\"p1444\"}]}},\"formatter\":{\"type\":\"object\",\"name\":\"DatetimeTickFormatter\",\"id\":\"p1498\",\"attributes\":{\"months\":\"%b, %Y\"}},\"axis_label\":\"Date\",\"axis_label_text_font_size\":\"18px\",\"major_label_policy\":{\"type\":\"object\",\"name\":\"AllLabels\",\"id\":\"p1446\"},\"major_label_text_font_size\":\"14px\"}}],\"center\":[{\"type\":\"object\",\"name\":\"Grid\",\"id\":\"p1447\",\"attributes\":{\"axis\":{\"id\":\"p1431\"},\"grid_line_color\":null}},{\"type\":\"object\",\"name\":\"Grid\",\"id\":\"p1452\",\"attributes\":{\"dimension\":1,\"axis\":{\"id\":\"p1448\"},\"grid_line_color\":null}},{\"id\":\"p1476\"}]}}]}};\n  const render_items = [{\"docid\":\"9bda579f-e1b7-4f16-8ebe-763a0f66572e\",\"roots\":{\"p1419\":\"c20aff3c-6633-4fed-b383-de4bcbccd01c\"},\"root_ids\":[\"p1419\"]}];\n  void root.Bokeh.embed.embed_items_notebook(docs_json, render_items);\n  }\n  if (root.Bokeh !== undefined) {\n    embed_document(root);\n  } else {\n    let attempts = 0;\n    const timer = setInterval(function(root) {\n      if (root.Bokeh !== undefined) {\n        clearInterval(timer);\n        embed_document(root);\n      } else {\n        attempts++;\n        if (attempts > 100) {\n          clearInterval(timer);\n          console.log(\"Bokeh: ERROR: Unable to run BokehJS code because BokehJS library is missing\");\n        }\n      }\n    }, 10, root)\n  }\n})(window);",
      "application/vnd.bokehjs_exec.v0+json": ""
     },
     "metadata": {
      "application/vnd.bokehjs_exec.v0+json": {
       "id": "p1419"
      }
     },
     "output_type": "display_data"
    }
   ],
   "source": [
    "plot = figure(\n",
    "    width=700,\n",
    "    height=500,\n",
    "    title=\"アメリカ3州の気温の変化\",\n",
    "    x_axis_label=\"Date\",\n",
    "    x_axis_type=\"datetime\",\n",
    "    y_axis_label=\"Temperature [F]\",\n",
    "    y_minor_ticks=2,\n",
    "    outline_line_color=\"black\",\n",
    "    outline_line_width=2\n",
    ")\n",
    "\n",
    "color_palette = palettes.Category10[3]\n",
    "src = ColumnDataSource(\n",
    "    plot_df\n",
    ")\n",
    "\n",
    "for i, city in enumerate(plot_df.columns[1:]):\n",
    "    plot.line(\n",
    "        source=src,\n",
    "        x=\"date\",\n",
    "        y=city,\n",
    "        width=1,\n",
    "        color=color_palette[i],\n",
    "        legend_label=city\n",
    "    )\n",
    "\n",
    "plot.xaxis.formatter = DatetimeTickFormatter(months=\"%b, %Y\")\n",
    "plot.xgrid.grid_line_color = None\n",
    "plot.ygrid.grid_line_color = None\n",
    "plot.title.text_font_size = \"24px\"\n",
    "plot.xaxis.axis_label_text_font_size= \"18px\"\n",
    "plot.xaxis.major_label_text_font_size= \"14px\"\n",
    "plot.yaxis.axis_label_text_font_size= \"18px\"\n",
    "plot.yaxis.major_label_text_font_size= \"14px\"\n",
    "plot.legend.border_line_width = 2\n",
    "plot.legend.border_line_color = \"black\"\n",
    "plot.add_layout(plot.legend[0], place=\"right\")\n",
    "show(plot)"
   ]
  },
  {
   "cell_type": "code",
   "execution_count": 13,
   "metadata": {},
   "outputs": [
    {
     "data": {
      "text/html": [
       "\n",
       "  <div id=\"b1641f27-8f46-4153-b385-fb4062ab8197\" data-root-id=\"p1669\" style=\"display: contents;\"></div>\n"
      ]
     },
     "metadata": {},
     "output_type": "display_data"
    },
    {
     "data": {
      "application/javascript": "(function(root) {\n  function embed_document(root) {\n  const docs_json = {\"35435d6b-df67-483c-a25d-786da2b4dcf1\":{\"version\":\"3.4.1\",\"title\":\"Bokeh Application\",\"roots\":[{\"type\":\"object\",\"name\":\"Column\",\"id\":\"p1669\",\"attributes\":{\"children\":[{\"type\":\"object\",\"name\":\"Figure\",\"id\":\"p1504\",\"attributes\":{\"width\":700,\"height\":300,\"x_range\":{\"type\":\"object\",\"name\":\"DataRange1d\",\"id\":\"p1505\"},\"y_range\":{\"type\":\"object\",\"name\":\"DataRange1d\",\"id\":\"p1506\"},\"x_scale\":{\"type\":\"object\",\"name\":\"LinearScale\",\"id\":\"p1514\"},\"y_scale\":{\"type\":\"object\",\"name\":\"LinearScale\",\"id\":\"p1515\"},\"title\":{\"type\":\"object\",\"name\":\"Title\",\"id\":\"p1507\",\"attributes\":{\"text\":\"New York\",\"text_font_size\":\"24px\"}},\"outline_line_color\":\"black\",\"outline_line_width\":2,\"renderers\":[{\"type\":\"object\",\"name\":\"GlyphRenderer\",\"id\":\"p1555\",\"attributes\":{\"data_source\":{\"type\":\"object\",\"name\":\"ColumnDataSource\",\"id\":\"p1464\",\"attributes\":{\"selected\":{\"type\":\"object\",\"name\":\"Selection\",\"id\":\"p1465\",\"attributes\":{\"indices\":[],\"line_indices\":[]}},\"selection_policy\":{\"type\":\"object\",\"name\":\"UnionRenderers\",\"id\":\"p1466\"},\"data\":{\"type\":\"map\",\"entries\":[[\"index\",{\"type\":\"ndarray\",\"array\":{\"type\":\"bytes\",\"data\":\"AAAAAAEAAAACAAAAAwAAAAQAAAAFAAAABgAAAAcAAAAIAAAACQAAAAoAAAALAAAADAAAAA0AAAAOAAAADwAAABAAAAARAAAAEgAAABMAAAAUAAAAFQAAABYAAAAXAAAAGAAAABkAAAAaAAAAGwAAABwAAAAdAAAAHgAAAB8AAAAgAAAAIQAAACIAAAAjAAAAJAAAACUAAAAmAAAAJwAAACgAAAApAAAAKgAAACsAAAAsAAAALQAAAC4AAAAvAAAAMAAAADEAAAAyAAAAMwAAADQAAAA1AAAANgAAADcAAAA4AAAAOQAAADoAAAA7AAAAPAAAAD0AAAA+AAAAPwAAAEAAAABBAAAAQgAAAEMAAABEAAAARQAAAEYAAABHAAAASAAAAEkAAABKAAAASwAAAEwAAABNAAAATgAAAE8AAABQAAAAUQAAAFIAAABTAAAAVAAAAFUAAABWAAAAVwAAAFgAAABZAAAAWgAAAFsAAABcAAAAXQAAAF4AAABfAAAAYAAAAGEAAABiAAAAYwAAAGQAAABlAAAAZgAAAGcAAABoAAAAaQAAAGoAAABrAAAAbAAAAG0AAABuAAAAbwAAAHAAAABxAAAAcgAAAHMAAAB0AAAAdQAAAHYAAAB3AAAAeAAAAHkAAAB6AAAAewAAAHwAAAB9AAAAfgAAAH8AAACAAAAAgQAAAIIAAACDAAAAhAAAAIUAAACGAAAAhwAAAIgAAACJAAAAigAAAIsAAACMAAAAjQAAAI4AAACPAAAAkAAAAJEAAACSAAAAkwAAAJQAAACVAAAAlgAAAJcAAACYAAAAmQAAAJoAAACbAAAAnAAAAJ0AAACeAAAAnwAAAKAAAAChAAAAogAAAKMAAACkAAAApQAAAKYAAACnAAAAqAAAAKkAAACqAAAAqwAAAKwAAACtAAAArgAAAK8AAACwAAAAsQAAALIAAACzAAAAtAAAALUAAAC2AAAAtwAAALgAAAC5AAAAugAAALsAAAC8AAAAvQAAAL4AAAC/AAAAwAAAAMEAAADCAAAAwwAAAMQAAADFAAAAxgAAAMcAAADIAAAAyQAAAMoAAADLAAAAzAAAAM0AAADOAAAAzwAAANAAAADRAAAA0gAAANMAAADUAAAA1QAAANYAAADXAAAA2AAAANkAAADaAAAA2wAAANwAAADdAAAA3gAAAN8AAADgAAAA4QAAAOIAAADjAAAA5AAAAOUAAADmAAAA5wAAAOgAAADpAAAA6gAAAOsAAADsAAAA7QAAAO4AAADvAAAA8AAAAPEAAADyAAAA8wAAAPQAAAD1AAAA9gAAAPcAAAD4AAAA+QAAAPoAAAD7AAAA/AAAAP0AAAD+AAAA/wAAAAABAAABAQAAAgEAAAMBAAAEAQAABQEAAAYBAAAHAQAACAEAAAkBAAAKAQAACwEAAAwBAAANAQAADgEAAA8BAAAQAQAAEQEAABIBAAATAQAAFAEAABUBAAAWAQAAFwEAABgBAAAZAQAAGgEAABsBAAAcAQAAHQEAAB4BAAAfAQAAIAEAACEBAAAiAQAAIwEAACQBAAAlAQAAJgEAACcBAAAoAQAAKQEAACoBAAArAQAALAEAAC0BAAAuAQAALwEAADABAAAxAQAAMgEAADMBAAA0AQAANQEAADYBAAA3AQAAOAEAADkBAAA6AQAAOwEAADwBAAA9AQAAPgEAAD8BAABAAQAAQQEAAEIBAABDAQAARAEAAEUBAABGAQAARwEAAEgBAABJAQAASgEAAEsBAABMAQAATQEAAE4BAABPAQAAUAEAAFEBAABSAQAAUwEAAFQBAABVAQAAVgEAAFcBAABYAQAAWQEAAFoBAABbAQAAXAEAAF0BAABeAQAAXwEAAGABAABhAQAAYgEAAGMBAABkAQAAZQEAAGYBAABnAQAAaAEAAGkBAABqAQAAawEAAGwBAABtAQAA\"},\"shape\":[366],\"dtype\":\"int32\",\"order\":\"little\"}],[\"date\",{\"type\":\"ndarray\",\"array\":{\"type\":\"bytes\",\"data\":\"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\"},\"shape\":[366],\"dtype\":\"float64\",\"order\":\"little\"}],[\"New York\",{\"type\":\"ndarray\",\"array\":{\"type\":\"bytes\",\"data\":\"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\"},\"shape\":[366],\"dtype\":\"float64\",\"order\":\"little\"}],[\"San Francisco\",{\"type\":\"ndarray\",\"array\":{\"type\":\"bytes\",\"data\":\"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\"},\"shape\":[366],\"dtype\":\"float64\",\"order\":\"little\"}],[\"Austin\",{\"type\":\"ndarray\",\"array\":{\"type\":\"bytes\",\"data\":\"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\"},\"shape\":[366],\"dtype\":\"float64\",\"order\":\"little\"}]]}}},\"view\":{\"type\":\"object\",\"name\":\"CDSView\",\"id\":\"p1556\",\"attributes\":{\"filter\":{\"type\":\"object\",\"name\":\"AllIndices\",\"id\":\"p1557\"}}},\"glyph\":{\"type\":\"object\",\"name\":\"Line\",\"id\":\"p1552\",\"attributes\":{\"x\":{\"type\":\"field\",\"field\":\"date\"},\"y\":{\"type\":\"field\",\"field\":\"New York\"},\"line_color\":\"#1f77b4\"}},\"nonselection_glyph\":{\"type\":\"object\",\"name\":\"Line\",\"id\":\"p1553\",\"attributes\":{\"x\":{\"type\":\"field\",\"field\":\"date\"},\"y\":{\"type\":\"field\",\"field\":\"New York\"},\"line_color\":\"#1f77b4\",\"line_alpha\":0.1}},\"muted_glyph\":{\"type\":\"object\",\"name\":\"Line\",\"id\":\"p1554\",\"attributes\":{\"x\":{\"type\":\"field\",\"field\":\"date\"},\"y\":{\"type\":\"field\",\"field\":\"New York\"},\"line_color\":\"#1f77b4\",\"line_alpha\":0.2}}}}],\"toolbar\":{\"type\":\"object\",\"name\":\"Toolbar\",\"id\":\"p1513\",\"attributes\":{\"tools\":[{\"type\":\"object\",\"name\":\"PanTool\",\"id\":\"p1538\"},{\"type\":\"object\",\"name\":\"WheelZoomTool\",\"id\":\"p1539\",\"attributes\":{\"renderers\":\"auto\"}},{\"type\":\"object\",\"name\":\"BoxZoomTool\",\"id\":\"p1540\",\"attributes\":{\"overlay\":{\"type\":\"object\",\"name\":\"BoxAnnotation\",\"id\":\"p1541\",\"attributes\":{\"syncable\":false,\"level\":\"overlay\",\"visible\":false,\"left\":{\"type\":\"number\",\"value\":\"nan\"},\"right\":{\"type\":\"number\",\"value\":\"nan\"},\"top\":{\"type\":\"number\",\"value\":\"nan\"},\"bottom\":{\"type\":\"number\",\"value\":\"nan\"},\"left_units\":\"canvas\",\"right_units\":\"canvas\",\"top_units\":\"canvas\",\"bottom_units\":\"canvas\",\"line_color\":\"black\",\"line_alpha\":1.0,\"line_width\":2,\"line_dash\":[4,4],\"fill_color\":\"lightgrey\",\"fill_alpha\":0.5}}}},{\"type\":\"object\",\"name\":\"SaveTool\",\"id\":\"p1546\"},{\"type\":\"object\",\"name\":\"ResetTool\",\"id\":\"p1547\"},{\"type\":\"object\",\"name\":\"HelpTool\",\"id\":\"p1548\"}]}},\"left\":[{\"type\":\"object\",\"name\":\"LinearAxis\",\"id\":\"p1533\",\"attributes\":{\"ticker\":{\"type\":\"object\",\"name\":\"BasicTicker\",\"id\":\"p1534\",\"attributes\":{\"num_minor_ticks\":2,\"mantissas\":[1,2,5]}},\"formatter\":{\"type\":\"object\",\"name\":\"BasicTickFormatter\",\"id\":\"p1535\"},\"axis_label\":\"Temperature [F]\",\"axis_label_text_font_size\":\"18px\",\"major_label_policy\":{\"type\":\"object\",\"name\":\"AllLabels\",\"id\":\"p1536\"},\"major_label_text_font_size\":\"14px\"}}],\"below\":[{\"type\":\"object\",\"name\":\"DatetimeAxis\",\"id\":\"p1516\",\"attributes\":{\"ticker\":{\"type\":\"object\",\"name\":\"DatetimeTicker\",\"id\":\"p1517\",\"attributes\":{\"num_minor_ticks\":5,\"tickers\":[{\"type\":\"object\",\"name\":\"AdaptiveTicker\",\"id\":\"p1518\",\"attributes\":{\"num_minor_ticks\":0,\"mantissas\":[1,2,5],\"max_interval\":500.0}},{\"type\":\"object\",\"name\":\"AdaptiveTicker\",\"id\":\"p1519\",\"attributes\":{\"num_minor_ticks\":0,\"base\":60,\"mantissas\":[1,2,5,10,15,20,30],\"min_interval\":1000.0,\"max_interval\":1800000.0}},{\"type\":\"object\",\"name\":\"AdaptiveTicker\",\"id\":\"p1520\",\"attributes\":{\"num_minor_ticks\":0,\"base\":24,\"mantissas\":[1,2,4,6,8,12],\"min_interval\":3600000.0,\"max_interval\":43200000.0}},{\"type\":\"object\",\"name\":\"DaysTicker\",\"id\":\"p1521\",\"attributes\":{\"days\":[1,2,3,4,5,6,7,8,9,10,11,12,13,14,15,16,17,18,19,20,21,22,23,24,25,26,27,28,29,30,31]}},{\"type\":\"object\",\"name\":\"DaysTicker\",\"id\":\"p1522\",\"attributes\":{\"days\":[1,4,7,10,13,16,19,22,25,28]}},{\"type\":\"object\",\"name\":\"DaysTicker\",\"id\":\"p1523\",\"attributes\":{\"days\":[1,8,15,22]}},{\"type\":\"object\",\"name\":\"DaysTicker\",\"id\":\"p1524\",\"attributes\":{\"days\":[1,15]}},{\"type\":\"object\",\"name\":\"MonthsTicker\",\"id\":\"p1525\",\"attributes\":{\"months\":[0,1,2,3,4,5,6,7,8,9,10,11]}},{\"type\":\"object\",\"name\":\"MonthsTicker\",\"id\":\"p1526\",\"attributes\":{\"months\":[0,2,4,6,8,10]}},{\"type\":\"object\",\"name\":\"MonthsTicker\",\"id\":\"p1527\",\"attributes\":{\"months\":[0,4,8]}},{\"type\":\"object\",\"name\":\"MonthsTicker\",\"id\":\"p1528\",\"attributes\":{\"months\":[0,6]}},{\"type\":\"object\",\"name\":\"YearsTicker\",\"id\":\"p1529\"}]}},\"formatter\":{\"type\":\"object\",\"name\":\"DatetimeTickFormatter\",\"id\":\"p1558\",\"attributes\":{\"months\":\"%b, %Y\"}},\"axis_label\":\"Date\",\"axis_label_text_font_size\":\"18px\",\"major_label_policy\":{\"type\":\"object\",\"name\":\"AllLabels\",\"id\":\"p1531\"},\"major_label_text_font_size\":\"14px\"}}],\"center\":[{\"type\":\"object\",\"name\":\"Grid\",\"id\":\"p1532\",\"attributes\":{\"axis\":{\"id\":\"p1516\"},\"grid_line_color\":null}},{\"type\":\"object\",\"name\":\"Grid\",\"id\":\"p1537\",\"attributes\":{\"dimension\":1,\"axis\":{\"id\":\"p1533\"},\"grid_line_color\":null}}]}},{\"type\":\"object\",\"name\":\"Figure\",\"id\":\"p1559\",\"attributes\":{\"width\":700,\"height\":300,\"x_range\":{\"type\":\"object\",\"name\":\"DataRange1d\",\"id\":\"p1560\"},\"y_range\":{\"type\":\"object\",\"name\":\"DataRange1d\",\"id\":\"p1561\"},\"x_scale\":{\"type\":\"object\",\"name\":\"LinearScale\",\"id\":\"p1569\"},\"y_scale\":{\"type\":\"object\",\"name\":\"LinearScale\",\"id\":\"p1570\"},\"title\":{\"type\":\"object\",\"name\":\"Title\",\"id\":\"p1562\",\"attributes\":{\"text\":\"San Francisco\",\"text_font_size\":\"24px\"}},\"outline_line_color\":\"black\",\"outline_line_width\":2,\"renderers\":[{\"type\":\"object\",\"name\":\"GlyphRenderer\",\"id\":\"p1610\",\"attributes\":{\"data_source\":{\"id\":\"p1464\"},\"view\":{\"type\":\"object\",\"name\":\"CDSView\",\"id\":\"p1611\",\"attributes\":{\"filter\":{\"type\":\"object\",\"name\":\"AllIndices\",\"id\":\"p1612\"}}},\"glyph\":{\"type\":\"object\",\"name\":\"Line\",\"id\":\"p1607\",\"attributes\":{\"x\":{\"type\":\"field\",\"field\":\"date\"},\"y\":{\"type\":\"field\",\"field\":\"San Francisco\"},\"line_color\":\"#ff7f0e\"}},\"nonselection_glyph\":{\"type\":\"object\",\"name\":\"Line\",\"id\":\"p1608\",\"attributes\":{\"x\":{\"type\":\"field\",\"field\":\"date\"},\"y\":{\"type\":\"field\",\"field\":\"San Francisco\"},\"line_color\":\"#ff7f0e\",\"line_alpha\":0.1}},\"muted_glyph\":{\"type\":\"object\",\"name\":\"Line\",\"id\":\"p1609\",\"attributes\":{\"x\":{\"type\":\"field\",\"field\":\"date\"},\"y\":{\"type\":\"field\",\"field\":\"San Francisco\"},\"line_color\":\"#ff7f0e\",\"line_alpha\":0.2}}}}],\"toolbar\":{\"type\":\"object\",\"name\":\"Toolbar\",\"id\":\"p1568\",\"attributes\":{\"tools\":[{\"type\":\"object\",\"name\":\"PanTool\",\"id\":\"p1593\"},{\"type\":\"object\",\"name\":\"WheelZoomTool\",\"id\":\"p1594\",\"attributes\":{\"renderers\":\"auto\"}},{\"type\":\"object\",\"name\":\"BoxZoomTool\",\"id\":\"p1595\",\"attributes\":{\"overlay\":{\"type\":\"object\",\"name\":\"BoxAnnotation\",\"id\":\"p1596\",\"attributes\":{\"syncable\":false,\"level\":\"overlay\",\"visible\":false,\"left\":{\"type\":\"number\",\"value\":\"nan\"},\"right\":{\"type\":\"number\",\"value\":\"nan\"},\"top\":{\"type\":\"number\",\"value\":\"nan\"},\"bottom\":{\"type\":\"number\",\"value\":\"nan\"},\"left_units\":\"canvas\",\"right_units\":\"canvas\",\"top_units\":\"canvas\",\"bottom_units\":\"canvas\",\"line_color\":\"black\",\"line_alpha\":1.0,\"line_width\":2,\"line_dash\":[4,4],\"fill_color\":\"lightgrey\",\"fill_alpha\":0.5}}}},{\"type\":\"object\",\"name\":\"SaveTool\",\"id\":\"p1601\"},{\"type\":\"object\",\"name\":\"ResetTool\",\"id\":\"p1602\"},{\"type\":\"object\",\"name\":\"HelpTool\",\"id\":\"p1603\"}]}},\"left\":[{\"type\":\"object\",\"name\":\"LinearAxis\",\"id\":\"p1588\",\"attributes\":{\"ticker\":{\"type\":\"object\",\"name\":\"BasicTicker\",\"id\":\"p1589\",\"attributes\":{\"num_minor_ticks\":2,\"mantissas\":[1,2,5]}},\"formatter\":{\"type\":\"object\",\"name\":\"BasicTickFormatter\",\"id\":\"p1590\"},\"axis_label\":\"Temperature [F]\",\"axis_label_text_font_size\":\"18px\",\"major_label_policy\":{\"type\":\"object\",\"name\":\"AllLabels\",\"id\":\"p1591\"},\"major_label_text_font_size\":\"14px\"}}],\"below\":[{\"type\":\"object\",\"name\":\"DatetimeAxis\",\"id\":\"p1571\",\"attributes\":{\"ticker\":{\"type\":\"object\",\"name\":\"DatetimeTicker\",\"id\":\"p1572\",\"attributes\":{\"num_minor_ticks\":5,\"tickers\":[{\"type\":\"object\",\"name\":\"AdaptiveTicker\",\"id\":\"p1573\",\"attributes\":{\"num_minor_ticks\":0,\"mantissas\":[1,2,5],\"max_interval\":500.0}},{\"type\":\"object\",\"name\":\"AdaptiveTicker\",\"id\":\"p1574\",\"attributes\":{\"num_minor_ticks\":0,\"base\":60,\"mantissas\":[1,2,5,10,15,20,30],\"min_interval\":1000.0,\"max_interval\":1800000.0}},{\"type\":\"object\",\"name\":\"AdaptiveTicker\",\"id\":\"p1575\",\"attributes\":{\"num_minor_ticks\":0,\"base\":24,\"mantissas\":[1,2,4,6,8,12],\"min_interval\":3600000.0,\"max_interval\":43200000.0}},{\"type\":\"object\",\"name\":\"DaysTicker\",\"id\":\"p1576\",\"attributes\":{\"days\":[1,2,3,4,5,6,7,8,9,10,11,12,13,14,15,16,17,18,19,20,21,22,23,24,25,26,27,28,29,30,31]}},{\"type\":\"object\",\"name\":\"DaysTicker\",\"id\":\"p1577\",\"attributes\":{\"days\":[1,4,7,10,13,16,19,22,25,28]}},{\"type\":\"object\",\"name\":\"DaysTicker\",\"id\":\"p1578\",\"attributes\":{\"days\":[1,8,15,22]}},{\"type\":\"object\",\"name\":\"DaysTicker\",\"id\":\"p1579\",\"attributes\":{\"days\":[1,15]}},{\"type\":\"object\",\"name\":\"MonthsTicker\",\"id\":\"p1580\",\"attributes\":{\"months\":[0,1,2,3,4,5,6,7,8,9,10,11]}},{\"type\":\"object\",\"name\":\"MonthsTicker\",\"id\":\"p1581\",\"attributes\":{\"months\":[0,2,4,6,8,10]}},{\"type\":\"object\",\"name\":\"MonthsTicker\",\"id\":\"p1582\",\"attributes\":{\"months\":[0,4,8]}},{\"type\":\"object\",\"name\":\"MonthsTicker\",\"id\":\"p1583\",\"attributes\":{\"months\":[0,6]}},{\"type\":\"object\",\"name\":\"YearsTicker\",\"id\":\"p1584\"}]}},\"formatter\":{\"type\":\"object\",\"name\":\"DatetimeTickFormatter\",\"id\":\"p1613\",\"attributes\":{\"months\":\"%b, %Y\"}},\"axis_label\":\"Date\",\"axis_label_text_font_size\":\"18px\",\"major_label_policy\":{\"type\":\"object\",\"name\":\"AllLabels\",\"id\":\"p1586\"},\"major_label_text_font_size\":\"14px\"}}],\"center\":[{\"type\":\"object\",\"name\":\"Grid\",\"id\":\"p1587\",\"attributes\":{\"axis\":{\"id\":\"p1571\"},\"grid_line_color\":null}},{\"type\":\"object\",\"name\":\"Grid\",\"id\":\"p1592\",\"attributes\":{\"dimension\":1,\"axis\":{\"id\":\"p1588\"},\"grid_line_color\":null}}]}},{\"type\":\"object\",\"name\":\"Figure\",\"id\":\"p1614\",\"attributes\":{\"width\":700,\"height\":300,\"x_range\":{\"type\":\"object\",\"name\":\"DataRange1d\",\"id\":\"p1615\"},\"y_range\":{\"type\":\"object\",\"name\":\"DataRange1d\",\"id\":\"p1616\"},\"x_scale\":{\"type\":\"object\",\"name\":\"LinearScale\",\"id\":\"p1624\"},\"y_scale\":{\"type\":\"object\",\"name\":\"LinearScale\",\"id\":\"p1625\"},\"title\":{\"type\":\"object\",\"name\":\"Title\",\"id\":\"p1617\",\"attributes\":{\"text\":\"Austin\",\"text_font_size\":\"24px\"}},\"outline_line_color\":\"black\",\"outline_line_width\":2,\"renderers\":[{\"type\":\"object\",\"name\":\"GlyphRenderer\",\"id\":\"p1665\",\"attributes\":{\"data_source\":{\"id\":\"p1464\"},\"view\":{\"type\":\"object\",\"name\":\"CDSView\",\"id\":\"p1666\",\"attributes\":{\"filter\":{\"type\":\"object\",\"name\":\"AllIndices\",\"id\":\"p1667\"}}},\"glyph\":{\"type\":\"object\",\"name\":\"Line\",\"id\":\"p1662\",\"attributes\":{\"x\":{\"type\":\"field\",\"field\":\"date\"},\"y\":{\"type\":\"field\",\"field\":\"Austin\"},\"line_color\":\"#2ca02c\"}},\"nonselection_glyph\":{\"type\":\"object\",\"name\":\"Line\",\"id\":\"p1663\",\"attributes\":{\"x\":{\"type\":\"field\",\"field\":\"date\"},\"y\":{\"type\":\"field\",\"field\":\"Austin\"},\"line_color\":\"#2ca02c\",\"line_alpha\":0.1}},\"muted_glyph\":{\"type\":\"object\",\"name\":\"Line\",\"id\":\"p1664\",\"attributes\":{\"x\":{\"type\":\"field\",\"field\":\"date\"},\"y\":{\"type\":\"field\",\"field\":\"Austin\"},\"line_color\":\"#2ca02c\",\"line_alpha\":0.2}}}}],\"toolbar\":{\"type\":\"object\",\"name\":\"Toolbar\",\"id\":\"p1623\",\"attributes\":{\"tools\":[{\"type\":\"object\",\"name\":\"PanTool\",\"id\":\"p1648\"},{\"type\":\"object\",\"name\":\"WheelZoomTool\",\"id\":\"p1649\",\"attributes\":{\"renderers\":\"auto\"}},{\"type\":\"object\",\"name\":\"BoxZoomTool\",\"id\":\"p1650\",\"attributes\":{\"overlay\":{\"type\":\"object\",\"name\":\"BoxAnnotation\",\"id\":\"p1651\",\"attributes\":{\"syncable\":false,\"level\":\"overlay\",\"visible\":false,\"left\":{\"type\":\"number\",\"value\":\"nan\"},\"right\":{\"type\":\"number\",\"value\":\"nan\"},\"top\":{\"type\":\"number\",\"value\":\"nan\"},\"bottom\":{\"type\":\"number\",\"value\":\"nan\"},\"left_units\":\"canvas\",\"right_units\":\"canvas\",\"top_units\":\"canvas\",\"bottom_units\":\"canvas\",\"line_color\":\"black\",\"line_alpha\":1.0,\"line_width\":2,\"line_dash\":[4,4],\"fill_color\":\"lightgrey\",\"fill_alpha\":0.5}}}},{\"type\":\"object\",\"name\":\"SaveTool\",\"id\":\"p1656\"},{\"type\":\"object\",\"name\":\"ResetTool\",\"id\":\"p1657\"},{\"type\":\"object\",\"name\":\"HelpTool\",\"id\":\"p1658\"}]}},\"left\":[{\"type\":\"object\",\"name\":\"LinearAxis\",\"id\":\"p1643\",\"attributes\":{\"ticker\":{\"type\":\"object\",\"name\":\"BasicTicker\",\"id\":\"p1644\",\"attributes\":{\"num_minor_ticks\":2,\"mantissas\":[1,2,5]}},\"formatter\":{\"type\":\"object\",\"name\":\"BasicTickFormatter\",\"id\":\"p1645\"},\"axis_label\":\"Temperature [F]\",\"axis_label_text_font_size\":\"18px\",\"major_label_policy\":{\"type\":\"object\",\"name\":\"AllLabels\",\"id\":\"p1646\"},\"major_label_text_font_size\":\"14px\"}}],\"below\":[{\"type\":\"object\",\"name\":\"DatetimeAxis\",\"id\":\"p1626\",\"attributes\":{\"ticker\":{\"type\":\"object\",\"name\":\"DatetimeTicker\",\"id\":\"p1627\",\"attributes\":{\"num_minor_ticks\":5,\"tickers\":[{\"type\":\"object\",\"name\":\"AdaptiveTicker\",\"id\":\"p1628\",\"attributes\":{\"num_minor_ticks\":0,\"mantissas\":[1,2,5],\"max_interval\":500.0}},{\"type\":\"object\",\"name\":\"AdaptiveTicker\",\"id\":\"p1629\",\"attributes\":{\"num_minor_ticks\":0,\"base\":60,\"mantissas\":[1,2,5,10,15,20,30],\"min_interval\":1000.0,\"max_interval\":1800000.0}},{\"type\":\"object\",\"name\":\"AdaptiveTicker\",\"id\":\"p1630\",\"attributes\":{\"num_minor_ticks\":0,\"base\":24,\"mantissas\":[1,2,4,6,8,12],\"min_interval\":3600000.0,\"max_interval\":43200000.0}},{\"type\":\"object\",\"name\":\"DaysTicker\",\"id\":\"p1631\",\"attributes\":{\"days\":[1,2,3,4,5,6,7,8,9,10,11,12,13,14,15,16,17,18,19,20,21,22,23,24,25,26,27,28,29,30,31]}},{\"type\":\"object\",\"name\":\"DaysTicker\",\"id\":\"p1632\",\"attributes\":{\"days\":[1,4,7,10,13,16,19,22,25,28]}},{\"type\":\"object\",\"name\":\"DaysTicker\",\"id\":\"p1633\",\"attributes\":{\"days\":[1,8,15,22]}},{\"type\":\"object\",\"name\":\"DaysTicker\",\"id\":\"p1634\",\"attributes\":{\"days\":[1,15]}},{\"type\":\"object\",\"name\":\"MonthsTicker\",\"id\":\"p1635\",\"attributes\":{\"months\":[0,1,2,3,4,5,6,7,8,9,10,11]}},{\"type\":\"object\",\"name\":\"MonthsTicker\",\"id\":\"p1636\",\"attributes\":{\"months\":[0,2,4,6,8,10]}},{\"type\":\"object\",\"name\":\"MonthsTicker\",\"id\":\"p1637\",\"attributes\":{\"months\":[0,4,8]}},{\"type\":\"object\",\"name\":\"MonthsTicker\",\"id\":\"p1638\",\"attributes\":{\"months\":[0,6]}},{\"type\":\"object\",\"name\":\"YearsTicker\",\"id\":\"p1639\"}]}},\"formatter\":{\"type\":\"object\",\"name\":\"DatetimeTickFormatter\",\"id\":\"p1668\",\"attributes\":{\"months\":\"%b, %Y\"}},\"axis_label\":\"Date\",\"axis_label_text_font_size\":\"18px\",\"major_label_policy\":{\"type\":\"object\",\"name\":\"AllLabels\",\"id\":\"p1641\"},\"major_label_text_font_size\":\"14px\"}}],\"center\":[{\"type\":\"object\",\"name\":\"Grid\",\"id\":\"p1642\",\"attributes\":{\"axis\":{\"id\":\"p1626\"},\"grid_line_color\":null}},{\"type\":\"object\",\"name\":\"Grid\",\"id\":\"p1647\",\"attributes\":{\"dimension\":1,\"axis\":{\"id\":\"p1643\"},\"grid_line_color\":null}}]}}]}}]}};\n  const render_items = [{\"docid\":\"35435d6b-df67-483c-a25d-786da2b4dcf1\",\"roots\":{\"p1669\":\"b1641f27-8f46-4153-b385-fb4062ab8197\"},\"root_ids\":[\"p1669\"]}];\n  void root.Bokeh.embed.embed_items_notebook(docs_json, render_items);\n  }\n  if (root.Bokeh !== undefined) {\n    embed_document(root);\n  } else {\n    let attempts = 0;\n    const timer = setInterval(function(root) {\n      if (root.Bokeh !== undefined) {\n        clearInterval(timer);\n        embed_document(root);\n      } else {\n        attempts++;\n        if (attempts > 100) {\n          clearInterval(timer);\n          console.log(\"Bokeh: ERROR: Unable to run BokehJS code because BokehJS library is missing\");\n        }\n      }\n    }, 10, root)\n  }\n})(window);",
      "application/vnd.bokehjs_exec.v0+json": ""
     },
     "metadata": {
      "application/vnd.bokehjs_exec.v0+json": {
       "id": "p1669"
      }
     },
     "output_type": "display_data"
    }
   ],
   "source": [
    "plot_list = list()\n",
    "\n",
    "for i, city in enumerate(plot_df.columns[1:]):\n",
    "    plot = figure(\n",
    "        width=700,\n",
    "        height=300,\n",
    "        title=city,\n",
    "        x_axis_label=\"Date\",\n",
    "        x_axis_type=\"datetime\",\n",
    "        y_axis_label=\"Temperature [F]\",\n",
    "        outline_line_color=\"black\",\n",
    "        outline_line_width=2,\n",
    "        y_minor_ticks=2,\n",
    "    )\n",
    "\n",
    "    plot.line(\n",
    "        source=src,\n",
    "        x=\"date\",\n",
    "        y=city,\n",
    "        line_color=color_palette[i]\n",
    "    )\n",
    "    plot.xaxis.formatter = DatetimeTickFormatter(months=\"%b, %Y\")\n",
    "    plot.xgrid.grid_line_color = None\n",
    "    plot.ygrid.grid_line_color = None\n",
    "    plot.title.text_font_size = \"24px\"\n",
    "    plot.xaxis.axis_label_text_font_size= \"18px\"\n",
    "    plot.xaxis.major_label_text_font_size= \"14px\"\n",
    "    plot.yaxis.axis_label_text_font_size= \"18px\"\n",
    "    plot.yaxis.major_label_text_font_size= \"14px\"\n",
    "    plot_list.append(plot)\n",
    "\n",
    "show(column(plot_list))"
   ]
  },
  {
   "cell_type": "markdown",
   "metadata": {},
   "source": [
    "## 面グラフ"
   ]
  },
  {
   "cell_type": "code",
   "execution_count": 14,
   "metadata": {},
   "outputs": [
    {
     "data": {
      "text/html": [
       "<div>\n",
       "<style scoped>\n",
       "    .dataframe tbody tr th:only-of-type {\n",
       "        vertical-align: middle;\n",
       "    }\n",
       "\n",
       "    .dataframe tbody tr th {\n",
       "        vertical-align: top;\n",
       "    }\n",
       "\n",
       "    .dataframe thead th {\n",
       "        text-align: right;\n",
       "    }\n",
       "</style>\n",
       "<table border=\"1\" class=\"dataframe\">\n",
       "  <thead>\n",
       "    <tr style=\"text-align: right;\">\n",
       "      <th></th>\n",
       "      <th>年度</th>\n",
       "      <th>石油</th>\n",
       "      <th>石炭</th>\n",
       "      <th>天然ガス</th>\n",
       "      <th>原子力</th>\n",
       "      <th>水力</th>\n",
       "      <th>新エネルギー・地熱等</th>\n",
       "    </tr>\n",
       "  </thead>\n",
       "  <tbody>\n",
       "    <tr>\n",
       "      <th>0</th>\n",
       "      <td>1965</td>\n",
       "      <td>3.56</td>\n",
       "      <td>1.87</td>\n",
       "      <td>0.08</td>\n",
       "      <td>0.00</td>\n",
       "      <td>0.75</td>\n",
       "      <td>0.11</td>\n",
       "    </tr>\n",
       "    <tr>\n",
       "      <th>1</th>\n",
       "      <td>1966</td>\n",
       "      <td>4.13</td>\n",
       "      <td>1.92</td>\n",
       "      <td>0.09</td>\n",
       "      <td>0.01</td>\n",
       "      <td>0.77</td>\n",
       "      <td>0.11</td>\n",
       "    </tr>\n",
       "    <tr>\n",
       "      <th>2</th>\n",
       "      <td>1967</td>\n",
       "      <td>5.11</td>\n",
       "      <td>2.29</td>\n",
       "      <td>0.09</td>\n",
       "      <td>0.01</td>\n",
       "      <td>0.67</td>\n",
       "      <td>0.11</td>\n",
       "    </tr>\n",
       "    <tr>\n",
       "      <th>3</th>\n",
       "      <td>1968</td>\n",
       "      <td>5.95</td>\n",
       "      <td>2.42</td>\n",
       "      <td>0.10</td>\n",
       "      <td>0.01</td>\n",
       "      <td>0.72</td>\n",
       "      <td>0.12</td>\n",
       "    </tr>\n",
       "    <tr>\n",
       "      <th>4</th>\n",
       "      <td>1969</td>\n",
       "      <td>7.19</td>\n",
       "      <td>2.59</td>\n",
       "      <td>0.12</td>\n",
       "      <td>0.01</td>\n",
       "      <td>0.73</td>\n",
       "      <td>0.13</td>\n",
       "    </tr>\n",
       "  </tbody>\n",
       "</table>\n",
       "</div>"
      ],
      "text/plain": [
       "     年度    石油    石炭  天然ガス   原子力    水力  新エネルギー・地熱等\n",
       "0  1965  3.56  1.87  0.08  0.00  0.75        0.11\n",
       "1  1966  4.13  1.92  0.09  0.01  0.77        0.11\n",
       "2  1967  5.11  2.29  0.09  0.01  0.67        0.11\n",
       "3  1968  5.95  2.42  0.10  0.01  0.72        0.12\n",
       "4  1969  7.19  2.59  0.12  0.01  0.73        0.13"
      ]
     },
     "execution_count": 14,
     "metadata": {},
     "output_type": "execute_result"
    }
   ],
   "source": [
    "stacked_area_df = pd.read_csv(\"../data/japan_energy.csv\")\n",
    "stacked_area_df.head()"
   ]
  },
  {
   "cell_type": "code",
   "execution_count": 15,
   "metadata": {},
   "outputs": [
    {
     "data": {
      "text/html": [
       "\n",
       "  <div id=\"f25c9c81-1620-4d30-9ef5-4c275a44c29d\" data-root-id=\"p1678\" style=\"display: contents;\"></div>\n"
      ]
     },
     "metadata": {},
     "output_type": "display_data"
    },
    {
     "data": {
      "application/javascript": "(function(root) {\n  function embed_document(root) {\n  const docs_json = {\"dbb34ee5-c8a4-4bfd-a284-00f540162d1e\":{\"version\":\"3.4.1\",\"title\":\"Bokeh Application\",\"roots\":[{\"type\":\"object\",\"name\":\"Figure\",\"id\":\"p1678\",\"attributes\":{\"width\":800,\"x_range\":{\"type\":\"object\",\"name\":\"Range1d\",\"id\":\"p1688\",\"attributes\":{\"start\":1965,\"end\":2012}},\"y_range\":{\"type\":\"object\",\"name\":\"Range1d\",\"id\":\"p1689\",\"attributes\":{\"end\":30}},\"x_scale\":{\"type\":\"object\",\"name\":\"LinearScale\",\"id\":\"p1690\"},\"y_scale\":{\"type\":\"object\",\"name\":\"LinearScale\",\"id\":\"p1691\"},\"title\":{\"type\":\"object\",\"name\":\"Title\",\"id\":\"p1681\",\"attributes\":{\"text\":\"\\u65e5\\u672c\\u56fd\\u5185\\u306e\\u30a8\\u30cd\\u30eb\\u30ae\\u30fc\\u4f9b\\u7d66\\u91cf\\u306e\\u63a8\\u79fb(1973\\u5e74\\uff5e2012\\u5e74)\",\"text_font_size\":\"24px\"}},\"outline_line_color\":\"black\",\"outline_line_width\":2,\"renderers\":[{\"type\":\"object\",\"name\":\"GlyphRenderer\",\"id\":\"p1731\",\"attributes\":{\"name\":\"\\u77f3\\u6cb9\",\"data_source\":{\"type\":\"object\",\"name\":\"ColumnDataSource\",\"id\":\"p1675\",\"attributes\":{\"selected\":{\"type\":\"object\",\"name\":\"Selection\",\"id\":\"p1676\",\"attributes\":{\"indices\":[],\"line_indices\":[]}},\"selection_policy\":{\"type\":\"object\",\"name\":\"UnionRenderers\",\"id\":\"p1677\"},\"data\":{\"type\":\"map\",\"entries\":[[\"index\",{\"type\":\"ndarray\",\"array\":{\"type\":\"bytes\",\"data\":\"AAAAAAEAAAACAAAAAwAAAAQAAAAFAAAABgAAAAcAAAAIAAAACQAAAAoAAAALAAAADAAAAA0AAAAOAAAADwAAABAAAAARAAAAEgAAABMAAAAUAAAAFQAAABYAAAAXAAAAGAAAABkAAAAaAAAAGwAAABwAAAAdAAAAHgAAAB8AAAAgAAAAIQAAACIAAAAjAAAAJAAAACUAAAAmAAAAJwAAACgAAAApAAAAKgAAACsAAAAsAAAALQAAAC4AAAAvAAAA\"},\"shape\":[48],\"dtype\":\"int32\",\"order\":\"little\"}],[\"\\u5e74\\u5ea6\",{\"type\":\"ndarray\",\"array\":{\"type\":\"bytes\",\"data\":\"rQcAAK4HAACvBwAAsAcAALEHAACyBwAAswcAALQHAAC1BwAAtgcAALcHAAC4BwAAuQcAALoHAAC7BwAAvAcAAL0HAAC+BwAAvwcAAMAHAADBBwAAwgcAAMMHAADEBwAAxQcAAMYHAADHBwAAyAcAAMkHAADKBwAAywcAAMwHAADNBwAAzgcAAM8HAADQBwAA0QcAANIHAADTBwAA1AcAANUHAADWBwAA1wcAANgHAADZBwAA2gcAANsHAADcBwAA\"},\"shape\":[48],\"dtype\":\"int32\",\"order\":\"little\"}],[\"\\u77f3\\u6cb9\",{\"type\":\"ndarray\",\"array\":{\"type\":\"bytes\",\"data\":\"exSuR+F6DECF61G4HoUQQHE9CtejcBRAzczMzMzMF0DD9Shcj8IcQFyPwvUoXCFAPQrXo3A9IkCamZmZmRkkQKRwPQrXoyZAZmZmZmZmJUCamZmZmZkkQAAAAAAAACZAexSuR+F6JkDD9Shcj8ImQK5H4XoUriZAmpmZmZmZJEDD9Shcj0IjQClcj8L1qCJAPQrXo3A9I0AzMzMzM7MiQD0K16NwPSJAUrgehetRIkDD9Shcj0IjQGZmZmZmZiRAzczMzMxMJUAAAAAAAAAmQM3MzMzMTCZASOF6FK7HJkC4HoXrUTgmQPYoXI/CdSdAmpmZmZmZJ0CF61G4HoUnQPYoXI/C9SZAzczMzMxMJkApXI/C9agmQFK4HoXrUSZApHA9CtejJUBI4XoUrsclQK5H4XoUriVArkfhehQuJUCkcD0K1yMlQFyPwvUoXCRA7FG4HoVrJEApXI/C9agiQJqZmZmZmSFAKVyPwvWoIUA9CtejcD0iQHE9CtejcCJA\"},\"shape\":[48],\"dtype\":\"float64\",\"order\":\"little\"}],[\"\\u77f3\\u70ad\",{\"type\":\"ndarray\",\"array\":{\"type\":\"bytes\",\"data\":\"7FG4HoXr/T+4HoXrUbj+P1K4HoXrUQJAXI/C9ShcA0C4HoXrUbgEQB+F61G4HgVAexSuR+F6AkBmZmZmZmYCQD0K16NwPQRAXI/C9ShcBUAAAAAAAAAEQJqZmZmZmQNAPQrXo3A9AkCPwvUoXI8AQGZmZmZmZgJAZmZmZmZmBkBI4XoUrkcHQD0K16NwPQZApHA9CtejBkC4HoXrUbgIQMP1KFyPwglAcT0K16NwB0CPwvUoXI8IQGZmZmZmZgpAUrgehetRCkB7FK5H4XoKQB+F61G4HgtAZmZmZmZmCkB7FK5H4XoKQClcj8L1KAxAH4XrUbgeDUDXo3A9CtcNQM3MzMzMzA5A9ihcj8L1DEDNzMzMzMwOQM3MzMzMzBBAKVyPwvUoEUDD9Shcj8IRQEjhehSuRxJAAAAAAAAAFEAK16NwPQoTQEjhehSuRxNAKVyPwvUoFECuR+F6FK4TQIXrUbgehRFA7FG4HoXrE0CamZmZmZkSQHE9CtejcBNA\"},\"shape\":[48],\"dtype\":\"float64\",\"order\":\"little\"}],[\"\\u5929\\u7136\\u30ac\\u30b9\",{\"type\":\"ndarray\",\"array\":{\"type\":\"bytes\",\"data\":\"exSuR+F6tD8K16NwPQq3PwrXo3A9Crc/mpmZmZmZuT+4HoXrUbi+P8P1KFyPwsU/w/UoXI/CxT/D9Shcj8LFP7gehetRuM4/exSuR+F61D/2KFyPwvXYPylcj8L1KNw/j8L1KFyP4j8AAAAAAADoP83MzMzMzOw/KVyPwvUo8D9SuB6F61HwP/YoXI/C9fA/XI/C9Shc8z/NzMzMzMz4P5qZmZmZmfk/j8L1KFyP+j9cj8L1KFz7P3sUrkfhevw/4XoUrkfh/j/NzMzMzMwAQAAAAAAAAAJAPQrXo3A9AkCkcD0K16MCQK5H4XoUrgNAUrgehetRBEBxPQrXo3AFQFK4HoXrUQZAzczMzMzMBkAUrkfhehQIQArXo3A9CglACtejcD0KCUDD9Shcj8IJQPYoXI/C9QpA4XoUrkfhCkAfhetRuB4LQAAAAAAAAA5AXI/C9ShcEEAUrkfhehQQQNejcD0K1w9A7FG4HoXrEEC4HoXrUbgTQGZmZmZmZhRA\"},\"shape\":[48],\"dtype\":\"float64\",\"order\":\"little\"}],[\"\\u539f\\u5b50\\u529b\",{\"type\":\"ndarray\",\"array\":{\"type\":\"bytes\",\"data\":\"AAAAAAAAAAB7FK5H4XqEP3sUrkfheoQ/exSuR+F6hD97FK5H4XqEP3sUrkfheqQ/exSuR+F6tD8K16NwPQq3PwrXo3A9Crc/UrgehetRyD+4HoXrUbjOP3sUrkfhetQ/MzMzMzMz0z/sUbgehevhPx+F61G4HuU/9ihcj8L16D+PwvUoXI/qP7gehetRuO4/SOF6FK5H8T8pXI/C9Sj0PwAAAAAAAPg/cT0K16Nw+T9SuB6F61H8P+F6FK5H4fo/hetRuB6F+z89CtejcD3+P9ejcD0K1/8/pHA9CtejAECPwvUoXI8CQAAAAAAAAARAmpmZmZmZBUA9CtejcD0GQEjhehSuRwdAFK5H4XoUCEC4HoXrUbgGQPYoXI/C9QZAuB6F61G4BkC4HoXrUbgEQOF6FK5H4QBA7FG4HoXrA0BxPQrXo3AFQEjhehSuRwVAj8L1KFyPAkAAAAAAAAACQEjhehSuRwNA7FG4HoXrA0B7FK5H4XrsP+xRuB6F68E/\"},\"shape\":[48],\"dtype\":\"float64\",\"order\":\"little\"}],[\"\\u6c34\\u529b\",{\"type\":\"ndarray\",\"array\":{\"type\":\"bytes\",\"data\":\"AAAAAAAA6D+kcD0K16PoP3E9CtejcOU/CtejcD0K5z9cj8L1KFznPwAAAAAAAOg/mpmZmZmZ6T89CtejcD3qPx+F61G4HuU/SOF6FK5H6T/sUbgehevpPz0K16NwPeo/uB6F61G45j8UrkfhehTmP0jhehSuR+k/hetRuB6F6z/hehSuR+HqP/YoXI/C9eg/7FG4HoXr6T8UrkfhehTmP5qZmZmZmek/9ihcj8L16D8K16NwPQrnP9ejcD0K1+s/KVyPwvUo7D+PwvUoXI/qPx+F61G4Hu0/pHA9Ctej6D97FK5H4XrsP9ejcD0K1+M/UrgehetR6D+uR+F6FK7nPz0K16NwPeo/4XoUrkfh6j+kcD0K16PoP/YoXI/C9eg/AAAAAAAA6D8K16NwPQrnP4/C9Shcj+o/j8L1KFyP6j9xPQrXo3DlP6RwPQrXo+g/zczMzMzM5D9xPQrXo3DlPx+F61G4HuU/uB6F61G45j8K16NwPQrnPx+F61G4HuU/\"},\"shape\":[48],\"dtype\":\"float64\",\"order\":\"little\"}],[\"\\u65b0\\u30a8\\u30cd\\u30eb\\u30ae\\u30fc\\u30fb\\u5730\\u71b1\\u7b49\",{\"type\":\"ndarray\",\"array\":{\"type\":\"bytes\",\"data\":\"KVyPwvUovD8pXI/C9Si8Pylcj8L1KLw/uB6F61G4vj+kcD0K16PAP+xRuB6F68E/7FG4HoXrwT8zMzMzMzPDP3sUrkfhesQ/MzMzMzMzwz8zMzMzMzPDP3sUrkfhesQ/exSuR+F6xD97FK5H4XrEPwrXo3A9Csc/CtejcD0Kxz8K16NwPQrHP1K4HoXrUcg/mpmZmZmZyT8pXI/C9SjMPylcj8L1KMw/cT0K16NwzT+4HoXrUbjOPwAAAAAAANA/pHA9Ctej0D+kcD0K16PgP/YoXI/C9eA/9ihcj8L14D+kcD0K16PgP/YoXI/C9eA/7FG4HoXr4T+PwvUoXI/iPzMzMzMzM+M/4XoUrkfh4j+F61G4HoXjP9ejcD0K1+M/MzMzMzMz4z+F61G4HoXjPylcj8L1KOQ/16NwPQrX4z/D9Shcj8LlP2ZmZmZmZuY/CtejcD0K5z9xPQrXo3DlP83MzMzMzOQ/SOF6FK5H6T/hehSuR+HqP+F6FK5H4eo/\"},\"shape\":[48],\"dtype\":\"float64\",\"order\":\"little\"}]]}}},\"view\":{\"type\":\"object\",\"name\":\"CDSView\",\"id\":\"p1732\",\"attributes\":{\"filter\":{\"type\":\"object\",\"name\":\"AllIndices\",\"id\":\"p1733\"}}},\"glyph\":{\"type\":\"object\",\"name\":\"VArea\",\"id\":\"p1728\",\"attributes\":{\"x\":{\"type\":\"field\",\"field\":\"\\u5e74\\u5ea6\"},\"y1\":{\"type\":\"expr\",\"expr\":{\"type\":\"object\",\"name\":\"Stack\",\"id\":\"p1713\",\"attributes\":{\"fields\":[]}}},\"y2\":{\"type\":\"expr\",\"expr\":{\"type\":\"object\",\"name\":\"Stack\",\"id\":\"p1714\",\"attributes\":{\"fields\":[\"\\u77f3\\u6cb9\"]}}},\"fill_color\":\"#1a9850\",\"hatch_pattern\":{\"type\":\"value\",\"value\":\".\"}}},\"nonselection_glyph\":{\"type\":\"object\",\"name\":\"VArea\",\"id\":\"p1729\",\"attributes\":{\"x\":{\"type\":\"field\",\"field\":\"\\u5e74\\u5ea6\"},\"y1\":{\"type\":\"expr\",\"expr\":{\"id\":\"p1713\"}},\"y2\":{\"type\":\"expr\",\"expr\":{\"id\":\"p1714\"}},\"fill_color\":\"#1a9850\",\"fill_alpha\":0.1,\"hatch_alpha\":{\"type\":\"value\",\"value\":0.1},\"hatch_pattern\":{\"type\":\"value\",\"value\":\".\"}}},\"muted_glyph\":{\"type\":\"object\",\"name\":\"VArea\",\"id\":\"p1730\",\"attributes\":{\"x\":{\"type\":\"field\",\"field\":\"\\u5e74\\u5ea6\"},\"y1\":{\"type\":\"expr\",\"expr\":{\"id\":\"p1713\"}},\"y2\":{\"type\":\"expr\",\"expr\":{\"id\":\"p1714\"}},\"fill_color\":\"#1a9850\",\"fill_alpha\":0.2,\"hatch_alpha\":{\"type\":\"value\",\"value\":0.2},\"hatch_pattern\":{\"type\":\"value\",\"value\":\".\"}}}}},{\"type\":\"object\",\"name\":\"GlyphRenderer\",\"id\":\"p1742\",\"attributes\":{\"name\":\"\\u77f3\\u70ad\",\"data_source\":{\"id\":\"p1675\"},\"view\":{\"type\":\"object\",\"name\":\"CDSView\",\"id\":\"p1743\",\"attributes\":{\"filter\":{\"type\":\"object\",\"name\":\"AllIndices\",\"id\":\"p1744\"}}},\"glyph\":{\"type\":\"object\",\"name\":\"VArea\",\"id\":\"p1739\",\"attributes\":{\"x\":{\"type\":\"field\",\"field\":\"\\u5e74\\u5ea6\"},\"y1\":{\"type\":\"expr\",\"expr\":{\"type\":\"object\",\"name\":\"Stack\",\"id\":\"p1715\",\"attributes\":{\"fields\":[\"\\u77f3\\u6cb9\"]}}},\"y2\":{\"type\":\"expr\",\"expr\":{\"type\":\"object\",\"name\":\"Stack\",\"id\":\"p1716\",\"attributes\":{\"fields\":[\"\\u77f3\\u6cb9\",\"\\u77f3\\u70ad\"]}}},\"fill_color\":\"#91cf60\",\"hatch_pattern\":{\"type\":\"value\",\"value\":\"o\"}}},\"nonselection_glyph\":{\"type\":\"object\",\"name\":\"VArea\",\"id\":\"p1740\",\"attributes\":{\"x\":{\"type\":\"field\",\"field\":\"\\u5e74\\u5ea6\"},\"y1\":{\"type\":\"expr\",\"expr\":{\"id\":\"p1715\"}},\"y2\":{\"type\":\"expr\",\"expr\":{\"id\":\"p1716\"}},\"fill_color\":\"#91cf60\",\"fill_alpha\":0.1,\"hatch_alpha\":{\"type\":\"value\",\"value\":0.1},\"hatch_pattern\":{\"type\":\"value\",\"value\":\"o\"}}},\"muted_glyph\":{\"type\":\"object\",\"name\":\"VArea\",\"id\":\"p1741\",\"attributes\":{\"x\":{\"type\":\"field\",\"field\":\"\\u5e74\\u5ea6\"},\"y1\":{\"type\":\"expr\",\"expr\":{\"id\":\"p1715\"}},\"y2\":{\"type\":\"expr\",\"expr\":{\"id\":\"p1716\"}},\"fill_color\":\"#91cf60\",\"fill_alpha\":0.2,\"hatch_alpha\":{\"type\":\"value\",\"value\":0.2},\"hatch_pattern\":{\"type\":\"value\",\"value\":\"o\"}}}}},{\"type\":\"object\",\"name\":\"GlyphRenderer\",\"id\":\"p1752\",\"attributes\":{\"name\":\"\\u5929\\u7136\\u30ac\\u30b9\",\"data_source\":{\"id\":\"p1675\"},\"view\":{\"type\":\"object\",\"name\":\"CDSView\",\"id\":\"p1753\",\"attributes\":{\"filter\":{\"type\":\"object\",\"name\":\"AllIndices\",\"id\":\"p1754\"}}},\"glyph\":{\"type\":\"object\",\"name\":\"VArea\",\"id\":\"p1749\",\"attributes\":{\"x\":{\"type\":\"field\",\"field\":\"\\u5e74\\u5ea6\"},\"y1\":{\"type\":\"expr\",\"expr\":{\"type\":\"object\",\"name\":\"Stack\",\"id\":\"p1717\",\"attributes\":{\"fields\":[\"\\u77f3\\u6cb9\",\"\\u77f3\\u70ad\"]}}},\"y2\":{\"type\":\"expr\",\"expr\":{\"type\":\"object\",\"name\":\"Stack\",\"id\":\"p1718\",\"attributes\":{\"fields\":[\"\\u77f3\\u6cb9\",\"\\u77f3\\u70ad\",\"\\u5929\\u7136\\u30ac\\u30b9\"]}}},\"fill_color\":\"#d9ef8b\",\"hatch_pattern\":{\"type\":\"value\",\"value\":\"-\"}}},\"nonselection_glyph\":{\"type\":\"object\",\"name\":\"VArea\",\"id\":\"p1750\",\"attributes\":{\"x\":{\"type\":\"field\",\"field\":\"\\u5e74\\u5ea6\"},\"y1\":{\"type\":\"expr\",\"expr\":{\"id\":\"p1717\"}},\"y2\":{\"type\":\"expr\",\"expr\":{\"id\":\"p1718\"}},\"fill_color\":\"#d9ef8b\",\"fill_alpha\":0.1,\"hatch_alpha\":{\"type\":\"value\",\"value\":0.1},\"hatch_pattern\":{\"type\":\"value\",\"value\":\"-\"}}},\"muted_glyph\":{\"type\":\"object\",\"name\":\"VArea\",\"id\":\"p1751\",\"attributes\":{\"x\":{\"type\":\"field\",\"field\":\"\\u5e74\\u5ea6\"},\"y1\":{\"type\":\"expr\",\"expr\":{\"id\":\"p1717\"}},\"y2\":{\"type\":\"expr\",\"expr\":{\"id\":\"p1718\"}},\"fill_color\":\"#d9ef8b\",\"fill_alpha\":0.2,\"hatch_alpha\":{\"type\":\"value\",\"value\":0.2},\"hatch_pattern\":{\"type\":\"value\",\"value\":\"-\"}}}}},{\"type\":\"object\",\"name\":\"GlyphRenderer\",\"id\":\"p1762\",\"attributes\":{\"name\":\"\\u539f\\u5b50\\u529b\",\"data_source\":{\"id\":\"p1675\"},\"view\":{\"type\":\"object\",\"name\":\"CDSView\",\"id\":\"p1763\",\"attributes\":{\"filter\":{\"type\":\"object\",\"name\":\"AllIndices\",\"id\":\"p1764\"}}},\"glyph\":{\"type\":\"object\",\"name\":\"VArea\",\"id\":\"p1759\",\"attributes\":{\"x\":{\"type\":\"field\",\"field\":\"\\u5e74\\u5ea6\"},\"y1\":{\"type\":\"expr\",\"expr\":{\"type\":\"object\",\"name\":\"Stack\",\"id\":\"p1719\",\"attributes\":{\"fields\":[\"\\u77f3\\u6cb9\",\"\\u77f3\\u70ad\",\"\\u5929\\u7136\\u30ac\\u30b9\"]}}},\"y2\":{\"type\":\"expr\",\"expr\":{\"type\":\"object\",\"name\":\"Stack\",\"id\":\"p1720\",\"attributes\":{\"fields\":[\"\\u77f3\\u6cb9\",\"\\u77f3\\u70ad\",\"\\u5929\\u7136\\u30ac\\u30b9\",\"\\u539f\\u5b50\\u529b\"]}}},\"fill_color\":\"#fee08b\",\"hatch_pattern\":{\"type\":\"value\",\"value\":\"v\"}}},\"nonselection_glyph\":{\"type\":\"object\",\"name\":\"VArea\",\"id\":\"p1760\",\"attributes\":{\"x\":{\"type\":\"field\",\"field\":\"\\u5e74\\u5ea6\"},\"y1\":{\"type\":\"expr\",\"expr\":{\"id\":\"p1719\"}},\"y2\":{\"type\":\"expr\",\"expr\":{\"id\":\"p1720\"}},\"fill_color\":\"#fee08b\",\"fill_alpha\":0.1,\"hatch_alpha\":{\"type\":\"value\",\"value\":0.1},\"hatch_pattern\":{\"type\":\"value\",\"value\":\"v\"}}},\"muted_glyph\":{\"type\":\"object\",\"name\":\"VArea\",\"id\":\"p1761\",\"attributes\":{\"x\":{\"type\":\"field\",\"field\":\"\\u5e74\\u5ea6\"},\"y1\":{\"type\":\"expr\",\"expr\":{\"id\":\"p1719\"}},\"y2\":{\"type\":\"expr\",\"expr\":{\"id\":\"p1720\"}},\"fill_color\":\"#fee08b\",\"fill_alpha\":0.2,\"hatch_alpha\":{\"type\":\"value\",\"value\":0.2},\"hatch_pattern\":{\"type\":\"value\",\"value\":\"v\"}}}}},{\"type\":\"object\",\"name\":\"GlyphRenderer\",\"id\":\"p1772\",\"attributes\":{\"name\":\"\\u6c34\\u529b\",\"data_source\":{\"id\":\"p1675\"},\"view\":{\"type\":\"object\",\"name\":\"CDSView\",\"id\":\"p1773\",\"attributes\":{\"filter\":{\"type\":\"object\",\"name\":\"AllIndices\",\"id\":\"p1774\"}}},\"glyph\":{\"type\":\"object\",\"name\":\"VArea\",\"id\":\"p1769\",\"attributes\":{\"x\":{\"type\":\"field\",\"field\":\"\\u5e74\\u5ea6\"},\"y1\":{\"type\":\"expr\",\"expr\":{\"type\":\"object\",\"name\":\"Stack\",\"id\":\"p1721\",\"attributes\":{\"fields\":[\"\\u77f3\\u6cb9\",\"\\u77f3\\u70ad\",\"\\u5929\\u7136\\u30ac\\u30b9\",\"\\u539f\\u5b50\\u529b\"]}}},\"y2\":{\"type\":\"expr\",\"expr\":{\"type\":\"object\",\"name\":\"Stack\",\"id\":\"p1722\",\"attributes\":{\"fields\":[\"\\u77f3\\u6cb9\",\"\\u77f3\\u70ad\",\"\\u5929\\u7136\\u30ac\\u30b9\",\"\\u539f\\u5b50\\u529b\",\"\\u6c34\\u529b\"]}}},\"fill_color\":\"#fc8d59\",\"hatch_pattern\":{\"type\":\"value\",\"value\":\">\"}}},\"nonselection_glyph\":{\"type\":\"object\",\"name\":\"VArea\",\"id\":\"p1770\",\"attributes\":{\"x\":{\"type\":\"field\",\"field\":\"\\u5e74\\u5ea6\"},\"y1\":{\"type\":\"expr\",\"expr\":{\"id\":\"p1721\"}},\"y2\":{\"type\":\"expr\",\"expr\":{\"id\":\"p1722\"}},\"fill_color\":\"#fc8d59\",\"fill_alpha\":0.1,\"hatch_alpha\":{\"type\":\"value\",\"value\":0.1},\"hatch_pattern\":{\"type\":\"value\",\"value\":\">\"}}},\"muted_glyph\":{\"type\":\"object\",\"name\":\"VArea\",\"id\":\"p1771\",\"attributes\":{\"x\":{\"type\":\"field\",\"field\":\"\\u5e74\\u5ea6\"},\"y1\":{\"type\":\"expr\",\"expr\":{\"id\":\"p1721\"}},\"y2\":{\"type\":\"expr\",\"expr\":{\"id\":\"p1722\"}},\"fill_color\":\"#fc8d59\",\"fill_alpha\":0.2,\"hatch_alpha\":{\"type\":\"value\",\"value\":0.2},\"hatch_pattern\":{\"type\":\"value\",\"value\":\">\"}}}}},{\"type\":\"object\",\"name\":\"GlyphRenderer\",\"id\":\"p1782\",\"attributes\":{\"name\":\"\\u65b0\\u30a8\\u30cd\\u30eb\\u30ae\\u30fc\\u30fb\\u5730\\u71b1\\u7b49\",\"data_source\":{\"id\":\"p1675\"},\"view\":{\"type\":\"object\",\"name\":\"CDSView\",\"id\":\"p1783\",\"attributes\":{\"filter\":{\"type\":\"object\",\"name\":\"AllIndices\",\"id\":\"p1784\"}}},\"glyph\":{\"type\":\"object\",\"name\":\"VArea\",\"id\":\"p1779\",\"attributes\":{\"x\":{\"type\":\"field\",\"field\":\"\\u5e74\\u5ea6\"},\"y1\":{\"type\":\"expr\",\"expr\":{\"type\":\"object\",\"name\":\"Stack\",\"id\":\"p1723\",\"attributes\":{\"fields\":[\"\\u77f3\\u6cb9\",\"\\u77f3\\u70ad\",\"\\u5929\\u7136\\u30ac\\u30b9\",\"\\u539f\\u5b50\\u529b\",\"\\u6c34\\u529b\"]}}},\"y2\":{\"type\":\"expr\",\"expr\":{\"type\":\"object\",\"name\":\"Stack\",\"id\":\"p1724\",\"attributes\":{\"fields\":[\"\\u77f3\\u6cb9\",\"\\u77f3\\u70ad\",\"\\u5929\\u7136\\u30ac\\u30b9\",\"\\u539f\\u5b50\\u529b\",\"\\u6c34\\u529b\",\"\\u65b0\\u30a8\\u30cd\\u30eb\\u30ae\\u30fc\\u30fb\\u5730\\u71b1\\u7b49\"]}}},\"fill_color\":\"#d73027\",\"hatch_pattern\":{\"type\":\"value\",\"value\":\"/\"}}},\"nonselection_glyph\":{\"type\":\"object\",\"name\":\"VArea\",\"id\":\"p1780\",\"attributes\":{\"x\":{\"type\":\"field\",\"field\":\"\\u5e74\\u5ea6\"},\"y1\":{\"type\":\"expr\",\"expr\":{\"id\":\"p1723\"}},\"y2\":{\"type\":\"expr\",\"expr\":{\"id\":\"p1724\"}},\"fill_color\":\"#d73027\",\"fill_alpha\":0.1,\"hatch_alpha\":{\"type\":\"value\",\"value\":0.1},\"hatch_pattern\":{\"type\":\"value\",\"value\":\"/\"}}},\"muted_glyph\":{\"type\":\"object\",\"name\":\"VArea\",\"id\":\"p1781\",\"attributes\":{\"x\":{\"type\":\"field\",\"field\":\"\\u5e74\\u5ea6\"},\"y1\":{\"type\":\"expr\",\"expr\":{\"id\":\"p1723\"}},\"y2\":{\"type\":\"expr\",\"expr\":{\"id\":\"p1724\"}},\"fill_color\":\"#d73027\",\"fill_alpha\":0.2,\"hatch_alpha\":{\"type\":\"value\",\"value\":0.2},\"hatch_pattern\":{\"type\":\"value\",\"value\":\"/\"}}}}}],\"toolbar\":{\"type\":\"object\",\"name\":\"Toolbar\",\"id\":\"p1687\",\"attributes\":{\"tools\":[{\"type\":\"object\",\"name\":\"PanTool\",\"id\":\"p1702\"},{\"type\":\"object\",\"name\":\"WheelZoomTool\",\"id\":\"p1703\",\"attributes\":{\"renderers\":\"auto\"}},{\"type\":\"object\",\"name\":\"BoxZoomTool\",\"id\":\"p1704\",\"attributes\":{\"overlay\":{\"type\":\"object\",\"name\":\"BoxAnnotation\",\"id\":\"p1705\",\"attributes\":{\"syncable\":false,\"level\":\"overlay\",\"visible\":false,\"left\":{\"type\":\"number\",\"value\":\"nan\"},\"right\":{\"type\":\"number\",\"value\":\"nan\"},\"top\":{\"type\":\"number\",\"value\":\"nan\"},\"bottom\":{\"type\":\"number\",\"value\":\"nan\"},\"left_units\":\"canvas\",\"right_units\":\"canvas\",\"top_units\":\"canvas\",\"bottom_units\":\"canvas\",\"line_color\":\"black\",\"line_alpha\":1.0,\"line_width\":2,\"line_dash\":[4,4],\"fill_color\":\"lightgrey\",\"fill_alpha\":0.5}}}},{\"type\":\"object\",\"name\":\"SaveTool\",\"id\":\"p1710\"},{\"type\":\"object\",\"name\":\"ResetTool\",\"id\":\"p1711\"},{\"type\":\"object\",\"name\":\"HelpTool\",\"id\":\"p1712\"}]}},\"left\":[{\"type\":\"object\",\"name\":\"LinearAxis\",\"id\":\"p1697\",\"attributes\":{\"ticker\":{\"type\":\"object\",\"name\":\"BasicTicker\",\"id\":\"p1698\",\"attributes\":{\"mantissas\":[1,2,5]}},\"formatter\":{\"type\":\"object\",\"name\":\"BasicTickFormatter\",\"id\":\"p1699\"},\"axis_label\":\"\\u56fd\\u5185\\u4f9b\\u7d66\\u91cf[10^18 J]\",\"axis_label_text_font_size\":\"18px\",\"major_label_policy\":{\"type\":\"object\",\"name\":\"AllLabels\",\"id\":\"p1700\"},\"major_label_text_font_size\":\"14px\"}}],\"below\":[{\"type\":\"object\",\"name\":\"LinearAxis\",\"id\":\"p1692\",\"attributes\":{\"ticker\":{\"type\":\"object\",\"name\":\"BasicTicker\",\"id\":\"p1693\",\"attributes\":{\"mantissas\":[1,2,5]}},\"formatter\":{\"type\":\"object\",\"name\":\"BasicTickFormatter\",\"id\":\"p1694\"},\"axis_label\":\"\\u5e74\\u5ea6\",\"axis_label_text_font_size\":\"18px\",\"major_label_policy\":{\"type\":\"object\",\"name\":\"AllLabels\",\"id\":\"p1695\"},\"major_label_text_font_size\":\"14px\"}}],\"center\":[{\"type\":\"object\",\"name\":\"Grid\",\"id\":\"p1696\",\"attributes\":{\"axis\":{\"id\":\"p1692\"},\"grid_line_color\":null}},{\"type\":\"object\",\"name\":\"Grid\",\"id\":\"p1701\",\"attributes\":{\"dimension\":1,\"axis\":{\"id\":\"p1697\"},\"grid_line_color\":\"black\",\"grid_line_dash\":[2,4]}},{\"type\":\"object\",\"name\":\"Legend\",\"id\":\"p1734\",\"attributes\":{\"location\":\"top_left\",\"border_line_color\":\"black\",\"border_line_width\":2,\"background_fill_color\":\"white\",\"background_fill_alpha\":1,\"label_text_font_size\":\"14px\",\"items\":[{\"type\":\"object\",\"name\":\"LegendItem\",\"id\":\"p1735\",\"attributes\":{\"label\":{\"type\":\"value\",\"value\":\"\\u77f3\\u6cb9\"},\"renderers\":[{\"id\":\"p1731\"}]}},{\"type\":\"object\",\"name\":\"LegendItem\",\"id\":\"p1745\",\"attributes\":{\"label\":{\"type\":\"value\",\"value\":\"\\u77f3\\u70ad\"},\"renderers\":[{\"id\":\"p1742\"}]}},{\"type\":\"object\",\"name\":\"LegendItem\",\"id\":\"p1755\",\"attributes\":{\"label\":{\"type\":\"value\",\"value\":\"\\u5929\\u7136\\u30ac\\u30b9\"},\"renderers\":[{\"id\":\"p1752\"}]}},{\"type\":\"object\",\"name\":\"LegendItem\",\"id\":\"p1765\",\"attributes\":{\"label\":{\"type\":\"value\",\"value\":\"\\u539f\\u5b50\\u529b\"},\"renderers\":[{\"id\":\"p1762\"}]}},{\"type\":\"object\",\"name\":\"LegendItem\",\"id\":\"p1775\",\"attributes\":{\"label\":{\"type\":\"value\",\"value\":\"\\u6c34\\u529b\"},\"renderers\":[{\"id\":\"p1772\"}]}},{\"type\":\"object\",\"name\":\"LegendItem\",\"id\":\"p1785\",\"attributes\":{\"label\":{\"type\":\"value\",\"value\":\"\\u65b0\\u30a8\\u30cd\\u30eb\\u30ae\\u30fc\\u30fb\\u5730\\u71b1\\u7b49\"},\"renderers\":[{\"id\":\"p1782\"}]}}]}}]}}]}};\n  const render_items = [{\"docid\":\"dbb34ee5-c8a4-4bfd-a284-00f540162d1e\",\"roots\":{\"p1678\":\"f25c9c81-1620-4d30-9ef5-4c275a44c29d\"},\"root_ids\":[\"p1678\"]}];\n  void root.Bokeh.embed.embed_items_notebook(docs_json, render_items);\n  }\n  if (root.Bokeh !== undefined) {\n    embed_document(root);\n  } else {\n    let attempts = 0;\n    const timer = setInterval(function(root) {\n      if (root.Bokeh !== undefined) {\n        clearInterval(timer);\n        embed_document(root);\n      } else {\n        attempts++;\n        if (attempts > 100) {\n          clearInterval(timer);\n          console.log(\"Bokeh: ERROR: Unable to run BokehJS code because BokehJS library is missing\");\n        }\n      }\n    }, 10, root)\n  }\n})(window);",
      "application/vnd.bokehjs_exec.v0+json": ""
     },
     "metadata": {
      "application/vnd.bokehjs_exec.v0+json": {
       "id": "p1678"
      }
     },
     "output_type": "display_data"
    }
   ],
   "source": [
    "src = ColumnDataSource(stacked_area_df)\n",
    "\n",
    "# http://ja.dochub.org/bokeh/docs/user_guide/styling.html\n",
    "hatch_patterns = [\".\", \"o\", \"-\", \"v\", \">\", \"/\"]\n",
    "\n",
    "plot = figure(\n",
    "    width=800,\n",
    "    height=600,\n",
    "    title=\"日本国内のエネルギー供給量の推移(1973年～2012年)\",\n",
    "    x_axis_label=\"年度\",\n",
    "    y_axis_label=\"国内供給量[10^18 J]\",\n",
    "    x_range=[1965, 2012],\n",
    "    y_range=[0, 30],\n",
    "    outline_line_color=\"black\",\n",
    "    outline_line_width=2,\n",
    "    x_minor_ticks=5,\n",
    "    y_minor_ticks=5,\n",
    ")\n",
    "\n",
    "column_list = [col for col in stacked_area_df.columns[1:]]\n",
    "color_palette = palettes.RdYlGn[len(stacked_area_df.columns[1:])]\n",
    "\n",
    "plot.varea_stack(\n",
    "    source=src,\n",
    "    stackers=column_list,\n",
    "    x=\"年度\",\n",
    "    color=color_palette,\n",
    "    hatch_pattern=hatch_patterns,\n",
    "    hatch_color=\"black\",\n",
    "    hatch_scale=12,\n",
    "    legend_label=column_list\n",
    ")\n",
    "\n",
    "plot.xgrid.grid_line_color = None\n",
    "plot.ygrid.grid_line_color = \"black\"\n",
    "plot.ygrid.grid_line_dash = \"dotted\"\n",
    "plot.title.text_font_size = \"24px\"\n",
    "plot.xaxis.axis_label_text_font_size= \"18px\"\n",
    "plot.xaxis.major_label_text_font_size= \"14px\"\n",
    "plot.yaxis.axis_label_text_font_size= \"18px\"\n",
    "plot.yaxis.major_label_text_font_size= \"14px\"\n",
    "plot.legend.border_line_width = 2\n",
    "plot.legend.border_line_color = \"black\"\n",
    "plot.legend.location = \"top_left\"\n",
    "plot.legend.background_fill_color = \"white\"\n",
    "plot.legend.background_fill_alpha = 1\n",
    "plot.legend.label_text_font_size = \"14px\"\n",
    "# plot.add_layout(plot.legend[0], place=\"right\")\n",
    "\n",
    "show(plot)"
   ]
  },
  {
   "cell_type": "markdown",
   "metadata": {},
   "source": [
    "## 100%積み重ね棒グラフ"
   ]
  },
  {
   "cell_type": "code",
   "execution_count": 16,
   "metadata": {},
   "outputs": [
    {
     "data": {
      "text/html": [
       "<div>\n",
       "<style scoped>\n",
       "    .dataframe tbody tr th:only-of-type {\n",
       "        vertical-align: middle;\n",
       "    }\n",
       "\n",
       "    .dataframe tbody tr th {\n",
       "        vertical-align: top;\n",
       "    }\n",
       "\n",
       "    .dataframe thead th {\n",
       "        text-align: right;\n",
       "    }\n",
       "</style>\n",
       "<table border=\"1\" class=\"dataframe\">\n",
       "  <thead>\n",
       "    <tr style=\"text-align: right;\">\n",
       "      <th></th>\n",
       "      <th>年度</th>\n",
       "      <th>石油</th>\n",
       "      <th>石炭</th>\n",
       "      <th>天然ガス</th>\n",
       "      <th>原子力</th>\n",
       "      <th>水力</th>\n",
       "      <th>新エネルギー・地熱等</th>\n",
       "    </tr>\n",
       "  </thead>\n",
       "  <tbody>\n",
       "    <tr>\n",
       "      <th>0</th>\n",
       "      <td>1965</td>\n",
       "      <td>55.886970</td>\n",
       "      <td>29.356358</td>\n",
       "      <td>1.255887</td>\n",
       "      <td>0.000000</td>\n",
       "      <td>11.773940</td>\n",
       "      <td>1.726845</td>\n",
       "    </tr>\n",
       "    <tr>\n",
       "      <th>1</th>\n",
       "      <td>1966</td>\n",
       "      <td>58.748222</td>\n",
       "      <td>27.311522</td>\n",
       "      <td>1.280228</td>\n",
       "      <td>0.142248</td>\n",
       "      <td>10.953058</td>\n",
       "      <td>1.564723</td>\n",
       "    </tr>\n",
       "    <tr>\n",
       "      <th>2</th>\n",
       "      <td>1967</td>\n",
       "      <td>61.714976</td>\n",
       "      <td>27.657005</td>\n",
       "      <td>1.086957</td>\n",
       "      <td>0.120773</td>\n",
       "      <td>8.091787</td>\n",
       "      <td>1.328502</td>\n",
       "    </tr>\n",
       "    <tr>\n",
       "      <th>3</th>\n",
       "      <td>1968</td>\n",
       "      <td>63.841202</td>\n",
       "      <td>25.965665</td>\n",
       "      <td>1.072961</td>\n",
       "      <td>0.107296</td>\n",
       "      <td>7.725322</td>\n",
       "      <td>1.287554</td>\n",
       "    </tr>\n",
       "    <tr>\n",
       "      <th>4</th>\n",
       "      <td>1969</td>\n",
       "      <td>66.759517</td>\n",
       "      <td>24.048282</td>\n",
       "      <td>1.114206</td>\n",
       "      <td>0.092851</td>\n",
       "      <td>6.778087</td>\n",
       "      <td>1.207057</td>\n",
       "    </tr>\n",
       "  </tbody>\n",
       "</table>\n",
       "</div>"
      ],
      "text/plain": [
       "     年度         石油         石炭      天然ガス       原子力         水力  新エネルギー・地熱等\n",
       "0  1965  55.886970  29.356358  1.255887  0.000000  11.773940    1.726845\n",
       "1  1966  58.748222  27.311522  1.280228  0.142248  10.953058    1.564723\n",
       "2  1967  61.714976  27.657005  1.086957  0.120773   8.091787    1.328502\n",
       "3  1968  63.841202  25.965665  1.072961  0.107296   7.725322    1.287554\n",
       "4  1969  66.759517  24.048282  1.114206  0.092851   6.778087    1.207057"
      ]
     },
     "execution_count": 16,
     "metadata": {},
     "output_type": "execute_result"
    }
   ],
   "source": [
    "stacked_bar_100_df = pd.read_csv(\"../data/japan_energy.csv\", index_col=0)\n",
    "# %に変換\n",
    "stacked_bar_100_df = (\n",
    "    stacked_bar_100_df.div(stacked_bar_100_df.sum(axis=1), axis=0) * 100\n",
    ")\n",
    "stacked_bar_100_df.reset_index(inplace=True)\n",
    "stacked_bar_100_df.head()"
   ]
  },
  {
   "cell_type": "code",
   "execution_count": 17,
   "metadata": {},
   "outputs": [
    {
     "data": {
      "text/html": [
       "\n",
       "  <div id=\"b8bb1c5f-dcc1-481b-ab1a-4cdfed4b24ba\" data-root-id=\"p1797\" style=\"display: contents;\"></div>\n"
      ]
     },
     "metadata": {},
     "output_type": "display_data"
    },
    {
     "data": {
      "application/javascript": "(function(root) {\n  function embed_document(root) {\n  const docs_json = {\"602d3bfa-3c07-4c1c-8670-2117a0a65145\":{\"version\":\"3.4.1\",\"title\":\"Bokeh Application\",\"roots\":[{\"type\":\"object\",\"name\":\"Figure\",\"id\":\"p1797\",\"attributes\":{\"width\":1000,\"height\":500,\"x_range\":{\"type\":\"object\",\"name\":\"Range1d\",\"id\":\"p1807\",\"attributes\":{\"start\":1964.5,\"end\":2012.5}},\"y_range\":{\"type\":\"object\",\"name\":\"Range1d\",\"id\":\"p1808\",\"attributes\":{\"end\":100}},\"x_scale\":{\"type\":\"object\",\"name\":\"LinearScale\",\"id\":\"p1809\"},\"y_scale\":{\"type\":\"object\",\"name\":\"LinearScale\",\"id\":\"p1810\"},\"title\":{\"type\":\"object\",\"name\":\"Title\",\"id\":\"p1800\",\"attributes\":{\"text\":\"\\u65e5\\u672c\\u56fd\\u5185\\u306e\\u30a8\\u30cd\\u30eb\\u30ae\\u30fc\\u4f9b\\u7d66\\u91cf\\u306e\\u63a8\\u79fb(1973\\u5e74\\uff5e2012\\u5e74)\",\"text_font_size\":\"24px\"}},\"outline_line_color\":\"black\",\"outline_line_width\":2,\"renderers\":[{\"type\":\"object\",\"name\":\"GlyphRenderer\",\"id\":\"p1850\",\"attributes\":{\"name\":\"\\u77f3\\u6cb9\",\"data_source\":{\"type\":\"object\",\"name\":\"ColumnDataSource\",\"id\":\"p1794\",\"attributes\":{\"selected\":{\"type\":\"object\",\"name\":\"Selection\",\"id\":\"p1795\",\"attributes\":{\"indices\":[],\"line_indices\":[]}},\"selection_policy\":{\"type\":\"object\",\"name\":\"UnionRenderers\",\"id\":\"p1796\"},\"data\":{\"type\":\"map\",\"entries\":[[\"index\",{\"type\":\"ndarray\",\"array\":{\"type\":\"bytes\",\"data\":\"AAAAAAEAAAACAAAAAwAAAAQAAAAFAAAABgAAAAcAAAAIAAAACQAAAAoAAAALAAAADAAAAA0AAAAOAAAADwAAABAAAAARAAAAEgAAABMAAAAUAAAAFQAAABYAAAAXAAAAGAAAABkAAAAaAAAAGwAAABwAAAAdAAAAHgAAAB8AAAAgAAAAIQAAACIAAAAjAAAAJAAAACUAAAAmAAAAJwAAACgAAAApAAAAKgAAACsAAAAsAAAALQAAAC4AAAAvAAAA\"},\"shape\":[48],\"dtype\":\"int32\",\"order\":\"little\"}],[\"\\u5e74\\u5ea6\",{\"type\":\"ndarray\",\"array\":{\"type\":\"bytes\",\"data\":\"rQcAAK4HAACvBwAAsAcAALEHAACyBwAAswcAALQHAAC1BwAAtgcAALcHAAC4BwAAuQcAALoHAAC7BwAAvAcAAL0HAAC+BwAAvwcAAMAHAADBBwAAwgcAAMMHAADEBwAAxQcAAMYHAADHBwAAyAcAAMkHAADKBwAAywcAAMwHAADNBwAAzgcAAM8HAADQBwAA0QcAANIHAADTBwAA1AcAANUHAADWBwAA1wcAANgHAADZBwAA2gcAANsHAADcBwAA\"},\"shape\":[48],\"dtype\":\"int32\",\"order\":\"little\"}],[\"\\u77f3\\u6cb9\",{\"type\":\"ndarray\",\"array\":{\"type\":\"bytes\",\"data\":\"hhoWPYjxS0D8dUS8xV9NQPy7GFSE205AZF1zf6zrT0B3XO/tm7BQQD8IHCzJeFFA0HKDJAoRUkDoeraEYIBSQN7d3d3d3VJAzfC7YMgMUkAtfPqA9eRRQKizisegGlJAc77wvO9mUkCFbxgjujlSQD4hzspPiFFAD+g8rRoqUEBOo9Uy9j5PQIGTv8nf5E5AoiiKoiiKTkD2s8XK8O1MQIDY+CAatEtAMkDiqSEDTEARldU9mRdMQNJTCys9NUxA+1jl0iluTEB7JIj3ZP1LQKYy6KlbkktATc4I3jn8S0AAAAAAwB9LQJva1KY2dUtA0kUXXXTRSkBY4vVHOmdKQEcC/MZjkUlABi1i16BFSUCXZv6NZUdJQMLQsC9GhEhA6dpWbZYeSEDQBcumeDtIQCP9OqckQEhAHxI+JeMhR0CyEzuxEztHQAnVZ9oaP0ZAFsLSaK8qRkC/6VIGIVdFQIN/5tGiEkVAd44CXnUKREDWMnTAbo9FQEQOZlFlJEZA\"},\"shape\":[48],\"dtype\":\"float64\",\"order\":\"little\"}],[\"\\u77f3\\u70ad\",{\"type\":\"ndarray\",\"array\":{\"type\":\"bytes\",\"data\":\"bIPtRTpbPUD7tLHov087QDUb9ncxqDtArrk/1jX3OUBLhv85XAw4QKnZsL+LQTVAAlY0OeVNMkDcWlm1ye8wQN7d3d3d3TBAQ0DOTyUEMkC4sUdziF8xQCKEEEIIITBAxC3JMMvcLUDigShxfoUqQDM4jUSfcixAZpsBpq+TMUAL83VyQ+IyQHSkOdIcaTJAft/3fd/3MUBeP1usDB8zQKwEF/oEkDNAul7BL6XrMUDbxDUsTOkxQA8JvP2QQDJASxzhQb6QMUBMLNy+Q9gwQLHnH/b8wzBAdIMp8lk3MEAAAAAAgCkwQAfo6gG6ejBAjC666KKLMEBEKYPJvb8wQPFYZFAzJjFAQEcjGOhoMEBN4gNeCS4xQNRoz8sTdDJAW/iAskwgM0CUdUhcesIzQC0NV5iKcjRAgF18KPbXNUDFTuzETuw0QFYwS8oBETVAjwEOfm7iNUDWSLWywYE2QNeh32wd+jRAYEUxiASbNkApEk5pXvw1QKaNwOHKVzdA\"},\"shape\":[48],\"dtype\":\"float64\",\"order\":\"little\"}],[\"\\u5929\\u7136\\u30ac\\u30b9\",{\"type\":\"ndarray\",\"array\":{\"type\":\"bytes\",\"data\":\"y9OF7xwY9D+9R4Xuz3v0PxaykIUsZPE/zFaJi9kq8T+LZBXOydPxP+2KC/Rw5vU/rSH7U5eN9T80mkFeigf0P5qZmZmZmfk/YxRh2yFGAUDKsg1tha4FQHD67upSLAdAFSrjs+liDkAIrP9R7DcTQDTpj4NxQxZA4OMmfmdcGUAqzju473kaQGNRsChYFBxAr+u6ruu6HkCYdGoe5C4jQEzbOerpcCNA5EQYl0lOJEDS+70kDfQjQFMLKz21sCNA7biHb9CbJEBswzR3wV8lQJGiClJUQSZAbQm3q2loJkAAAAAAAMEmQE+EIhShCCdAGF100UUXJ0CPOJwLeREoQIMYFZvw2ihAfrVu7a/WKUAFo60Q7twqQOFRmvEfgStAIQmQhrfoK0DA0blXEqksQDfehOgWKC5AutUZqZhbLUDXXM3VXM0tQJq2xt/NYzBA/u9v72rCMUDOj9LZxmMyQG5QVoixDzNAv4+xmHozM0CYc9cESE83QHTzArTkfjhA\"},\"shape\":[48],\"dtype\":\"float64\",\"order\":\"little\"}],[\"\\u539f\\u5b50\\u529b\",{\"type\":\"ndarray\",\"array\":{\"type\":\"bytes\",\"data\":\"AAAAAAAAAABTIyGbKjXCP5o8AdH56r4/FL7beMJ3uz+6MMcSDcW3P2YoVoumnNQ/ohCh5QZJ5D9UsoEYKTXlPzMzMzMzM+M/NUiDNEiD9D8eF8Ijaa/6P/X7Z9lq2gBAtCIXuiZv/z+Z5cjPFbMMQBW8nIKXUxBA2aW4m++VE0AXfQMvYYsVQMu4ZdwybhlA3LZt27ZtG0DGyvCNKDAfQJg9lkvbOSJAMbc6IxVzI0CNOpz9R6ckQFpY6amFlSJACjiGCsNdIkDhr+KElDwjQOxvIqj4riNAtdL3+jdxJED//////6cmQJUJomWCaCdAjC666KKLKEDwtL7nYPcoQCl371yd7ClATVB6vwlKK0DixvMqiFgpQDT+IzA9OClAPI/zDr9SKUDWM//Ajg0nQBJfJoOl4SJAG9xQ/ZfBJUD4eI/3eI8nQHwVzJJyQCdA2Zt6T8slJEAonW085pUkQJiudhuUFSdAYEUxiASbJkDZ1hveB9UQQMnBLKqMhOU/\"},\"shape\":[48],\"dtype\":\"float64\",\"order\":\"little\"}],[\"\\u6c34\\u529b\",{\"type\":\"ndarray\",\"array\":{\"type\":\"bytes\",\"data\":\"MtSw6EGMJ0B/3qNC9+clQLmlZsP+LiBA1TX3x7rmHkCTM2vpwhwbQFj3SCuTJxhAy1QJn0hbGUCn7iHqNScYQJqZmZmZmRFAKtXLypFSFUCDwyu2AIQWQNE6jebYlxVAEX0aLjuZEkCWVnBLVK4RQIV0IEPYihNAS7BvkS+YFUDIqZp51M0VQCemElOJqRRAJUmSJEmSFEDaYmX4RhQRQEzbOerpcBNAUjG3OiMVE0CJ4dVUhM0QQO/2QwJvPxNA+GgA7RrLEkDodTPpSuUQQIBiWaWBABJAUOSzbjBFDkAAAAAAAGIRQPJG4ryROAdAo4suuuiiC0AEyPxzNZUKQFFw+wdyOA1A8LLzOl52DkB80J/J23wLQDPsixGhagtAHBkMsvi/CkBKrXmMWaIJQArRLVCMtQ1AI9Br/B8CDUD4eI/3eI8HQMZO7MRO7ApAPyp8XUmUBkAUFW4iCYUIQASZFC+QSQlAS1WGNHTICUBt1Hc26jsLQNG/tBE4XAlA\"},\"shape\":[48],\"dtype\":\"float64\",\"order\":\"little\"}],[\"\\u65b0\\u30a8\\u30cd\\u30eb\\u30ae\\u30fc\\u30fb\\u5730\\u71b1\\u7b49\",{\"type\":\"ndarray\",\"array\":{\"type\":\"bytes\",\"data\":\"NgNYySeh+z+RkE2VGgn5P6rZsL+LQfU/j86k2tGZ9D+X10GfGlDzP1pj67kRCfI/ju7sCOa/8T/xacHpTKzxPxEREREREfE/HAOrvb8x8D9zTlm2oa3wP/X7Z9lq2vA/+ok/Y9DD8D8OOk6bVWbwP1yH2QKOz/E/A15voz8U8j+HkYT6bLDyP6KH0EPoIfQ/FEVRFEVR9D8pMOnUPMj1PzpxDOiaYvU/H2gtCvWB9j9h18cbW2f2P3j7IYG3H/Y/a/DRANo19j/+nNfNpCsFQD+JFn0m+ARAdKq3hNvVBEAAAAAAAFAEQH2XZt+l2QNAXXTRRRddBEBkEiDzz9UEQOpkDyV/YQVAZisr2mxlBUA6DNV3p8YFQKyA8g3pygVAFhRwjmBmBUDQMq7BxLcFQEn+vMrijAZAtFol0jmrBUCZfumXfukHQD7T1vi7eQhApLh9a8cCCUAUFW4iCYUIQFUi+Zp65whAxAR1wyqwDECAIuGU5sUPQFaRoX9pIxBA\"},\"shape\":[48],\"dtype\":\"float64\",\"order\":\"little\"}]]}}},\"view\":{\"type\":\"object\",\"name\":\"CDSView\",\"id\":\"p1851\",\"attributes\":{\"filter\":{\"type\":\"object\",\"name\":\"AllIndices\",\"id\":\"p1852\"}}},\"glyph\":{\"type\":\"object\",\"name\":\"VBar\",\"id\":\"p1847\",\"attributes\":{\"x\":{\"type\":\"field\",\"field\":\"\\u5e74\\u5ea6\"},\"width\":{\"type\":\"value\",\"value\":0.8},\"bottom\":{\"type\":\"expr\",\"expr\":{\"type\":\"object\",\"name\":\"Stack\",\"id\":\"p1832\",\"attributes\":{\"fields\":[]}}},\"top\":{\"type\":\"expr\",\"expr\":{\"type\":\"object\",\"name\":\"Stack\",\"id\":\"p1833\",\"attributes\":{\"fields\":[\"\\u77f3\\u6cb9\"]}}},\"line_color\":{\"type\":\"value\",\"value\":\"#1a9850\"},\"fill_color\":{\"type\":\"value\",\"value\":\"#1a9850\"},\"hatch_color\":{\"type\":\"value\",\"value\":\"#1a9850\"}}},\"nonselection_glyph\":{\"type\":\"object\",\"name\":\"VBar\",\"id\":\"p1848\",\"attributes\":{\"x\":{\"type\":\"field\",\"field\":\"\\u5e74\\u5ea6\"},\"width\":{\"type\":\"value\",\"value\":0.8},\"bottom\":{\"type\":\"expr\",\"expr\":{\"id\":\"p1832\"}},\"top\":{\"type\":\"expr\",\"expr\":{\"id\":\"p1833\"}},\"line_color\":{\"type\":\"value\",\"value\":\"#1a9850\"},\"line_alpha\":{\"type\":\"value\",\"value\":0.1},\"fill_color\":{\"type\":\"value\",\"value\":\"#1a9850\"},\"fill_alpha\":{\"type\":\"value\",\"value\":0.1},\"hatch_color\":{\"type\":\"value\",\"value\":\"#1a9850\"},\"hatch_alpha\":{\"type\":\"value\",\"value\":0.1}}},\"muted_glyph\":{\"type\":\"object\",\"name\":\"VBar\",\"id\":\"p1849\",\"attributes\":{\"x\":{\"type\":\"field\",\"field\":\"\\u5e74\\u5ea6\"},\"width\":{\"type\":\"value\",\"value\":0.8},\"bottom\":{\"type\":\"expr\",\"expr\":{\"id\":\"p1832\"}},\"top\":{\"type\":\"expr\",\"expr\":{\"id\":\"p1833\"}},\"line_color\":{\"type\":\"value\",\"value\":\"#1a9850\"},\"line_alpha\":{\"type\":\"value\",\"value\":0.2},\"fill_color\":{\"type\":\"value\",\"value\":\"#1a9850\"},\"fill_alpha\":{\"type\":\"value\",\"value\":0.2},\"hatch_color\":{\"type\":\"value\",\"value\":\"#1a9850\"},\"hatch_alpha\":{\"type\":\"value\",\"value\":0.2}}}}},{\"type\":\"object\",\"name\":\"GlyphRenderer\",\"id\":\"p1861\",\"attributes\":{\"name\":\"\\u77f3\\u70ad\",\"data_source\":{\"id\":\"p1794\"},\"view\":{\"type\":\"object\",\"name\":\"CDSView\",\"id\":\"p1862\",\"attributes\":{\"filter\":{\"type\":\"object\",\"name\":\"AllIndices\",\"id\":\"p1863\"}}},\"glyph\":{\"type\":\"object\",\"name\":\"VBar\",\"id\":\"p1858\",\"attributes\":{\"x\":{\"type\":\"field\",\"field\":\"\\u5e74\\u5ea6\"},\"width\":{\"type\":\"value\",\"value\":0.8},\"bottom\":{\"type\":\"expr\",\"expr\":{\"type\":\"object\",\"name\":\"Stack\",\"id\":\"p1834\",\"attributes\":{\"fields\":[\"\\u77f3\\u6cb9\"]}}},\"top\":{\"type\":\"expr\",\"expr\":{\"type\":\"object\",\"name\":\"Stack\",\"id\":\"p1835\",\"attributes\":{\"fields\":[\"\\u77f3\\u6cb9\",\"\\u77f3\\u70ad\"]}}},\"line_color\":{\"type\":\"value\",\"value\":\"#91cf60\"},\"fill_color\":{\"type\":\"value\",\"value\":\"#91cf60\"},\"hatch_color\":{\"type\":\"value\",\"value\":\"#91cf60\"}}},\"nonselection_glyph\":{\"type\":\"object\",\"name\":\"VBar\",\"id\":\"p1859\",\"attributes\":{\"x\":{\"type\":\"field\",\"field\":\"\\u5e74\\u5ea6\"},\"width\":{\"type\":\"value\",\"value\":0.8},\"bottom\":{\"type\":\"expr\",\"expr\":{\"id\":\"p1834\"}},\"top\":{\"type\":\"expr\",\"expr\":{\"id\":\"p1835\"}},\"line_color\":{\"type\":\"value\",\"value\":\"#91cf60\"},\"line_alpha\":{\"type\":\"value\",\"value\":0.1},\"fill_color\":{\"type\":\"value\",\"value\":\"#91cf60\"},\"fill_alpha\":{\"type\":\"value\",\"value\":0.1},\"hatch_color\":{\"type\":\"value\",\"value\":\"#91cf60\"},\"hatch_alpha\":{\"type\":\"value\",\"value\":0.1}}},\"muted_glyph\":{\"type\":\"object\",\"name\":\"VBar\",\"id\":\"p1860\",\"attributes\":{\"x\":{\"type\":\"field\",\"field\":\"\\u5e74\\u5ea6\"},\"width\":{\"type\":\"value\",\"value\":0.8},\"bottom\":{\"type\":\"expr\",\"expr\":{\"id\":\"p1834\"}},\"top\":{\"type\":\"expr\",\"expr\":{\"id\":\"p1835\"}},\"line_color\":{\"type\":\"value\",\"value\":\"#91cf60\"},\"line_alpha\":{\"type\":\"value\",\"value\":0.2},\"fill_color\":{\"type\":\"value\",\"value\":\"#91cf60\"},\"fill_alpha\":{\"type\":\"value\",\"value\":0.2},\"hatch_color\":{\"type\":\"value\",\"value\":\"#91cf60\"},\"hatch_alpha\":{\"type\":\"value\",\"value\":0.2}}}}},{\"type\":\"object\",\"name\":\"GlyphRenderer\",\"id\":\"p1871\",\"attributes\":{\"name\":\"\\u5929\\u7136\\u30ac\\u30b9\",\"data_source\":{\"id\":\"p1794\"},\"view\":{\"type\":\"object\",\"name\":\"CDSView\",\"id\":\"p1872\",\"attributes\":{\"filter\":{\"type\":\"object\",\"name\":\"AllIndices\",\"id\":\"p1873\"}}},\"glyph\":{\"type\":\"object\",\"name\":\"VBar\",\"id\":\"p1868\",\"attributes\":{\"x\":{\"type\":\"field\",\"field\":\"\\u5e74\\u5ea6\"},\"width\":{\"type\":\"value\",\"value\":0.8},\"bottom\":{\"type\":\"expr\",\"expr\":{\"type\":\"object\",\"name\":\"Stack\",\"id\":\"p1836\",\"attributes\":{\"fields\":[\"\\u77f3\\u6cb9\",\"\\u77f3\\u70ad\"]}}},\"top\":{\"type\":\"expr\",\"expr\":{\"type\":\"object\",\"name\":\"Stack\",\"id\":\"p1837\",\"attributes\":{\"fields\":[\"\\u77f3\\u6cb9\",\"\\u77f3\\u70ad\",\"\\u5929\\u7136\\u30ac\\u30b9\"]}}},\"line_color\":{\"type\":\"value\",\"value\":\"#d9ef8b\"},\"fill_color\":{\"type\":\"value\",\"value\":\"#d9ef8b\"},\"hatch_color\":{\"type\":\"value\",\"value\":\"#d9ef8b\"}}},\"nonselection_glyph\":{\"type\":\"object\",\"name\":\"VBar\",\"id\":\"p1869\",\"attributes\":{\"x\":{\"type\":\"field\",\"field\":\"\\u5e74\\u5ea6\"},\"width\":{\"type\":\"value\",\"value\":0.8},\"bottom\":{\"type\":\"expr\",\"expr\":{\"id\":\"p1836\"}},\"top\":{\"type\":\"expr\",\"expr\":{\"id\":\"p1837\"}},\"line_color\":{\"type\":\"value\",\"value\":\"#d9ef8b\"},\"line_alpha\":{\"type\":\"value\",\"value\":0.1},\"fill_color\":{\"type\":\"value\",\"value\":\"#d9ef8b\"},\"fill_alpha\":{\"type\":\"value\",\"value\":0.1},\"hatch_color\":{\"type\":\"value\",\"value\":\"#d9ef8b\"},\"hatch_alpha\":{\"type\":\"value\",\"value\":0.1}}},\"muted_glyph\":{\"type\":\"object\",\"name\":\"VBar\",\"id\":\"p1870\",\"attributes\":{\"x\":{\"type\":\"field\",\"field\":\"\\u5e74\\u5ea6\"},\"width\":{\"type\":\"value\",\"value\":0.8},\"bottom\":{\"type\":\"expr\",\"expr\":{\"id\":\"p1836\"}},\"top\":{\"type\":\"expr\",\"expr\":{\"id\":\"p1837\"}},\"line_color\":{\"type\":\"value\",\"value\":\"#d9ef8b\"},\"line_alpha\":{\"type\":\"value\",\"value\":0.2},\"fill_color\":{\"type\":\"value\",\"value\":\"#d9ef8b\"},\"fill_alpha\":{\"type\":\"value\",\"value\":0.2},\"hatch_color\":{\"type\":\"value\",\"value\":\"#d9ef8b\"},\"hatch_alpha\":{\"type\":\"value\",\"value\":0.2}}}}},{\"type\":\"object\",\"name\":\"GlyphRenderer\",\"id\":\"p1881\",\"attributes\":{\"name\":\"\\u539f\\u5b50\\u529b\",\"data_source\":{\"id\":\"p1794\"},\"view\":{\"type\":\"object\",\"name\":\"CDSView\",\"id\":\"p1882\",\"attributes\":{\"filter\":{\"type\":\"object\",\"name\":\"AllIndices\",\"id\":\"p1883\"}}},\"glyph\":{\"type\":\"object\",\"name\":\"VBar\",\"id\":\"p1878\",\"attributes\":{\"x\":{\"type\":\"field\",\"field\":\"\\u5e74\\u5ea6\"},\"width\":{\"type\":\"value\",\"value\":0.8},\"bottom\":{\"type\":\"expr\",\"expr\":{\"type\":\"object\",\"name\":\"Stack\",\"id\":\"p1838\",\"attributes\":{\"fields\":[\"\\u77f3\\u6cb9\",\"\\u77f3\\u70ad\",\"\\u5929\\u7136\\u30ac\\u30b9\"]}}},\"top\":{\"type\":\"expr\",\"expr\":{\"type\":\"object\",\"name\":\"Stack\",\"id\":\"p1839\",\"attributes\":{\"fields\":[\"\\u77f3\\u6cb9\",\"\\u77f3\\u70ad\",\"\\u5929\\u7136\\u30ac\\u30b9\",\"\\u539f\\u5b50\\u529b\"]}}},\"line_color\":{\"type\":\"value\",\"value\":\"#fee08b\"},\"fill_color\":{\"type\":\"value\",\"value\":\"#fee08b\"},\"hatch_color\":{\"type\":\"value\",\"value\":\"#fee08b\"}}},\"nonselection_glyph\":{\"type\":\"object\",\"name\":\"VBar\",\"id\":\"p1879\",\"attributes\":{\"x\":{\"type\":\"field\",\"field\":\"\\u5e74\\u5ea6\"},\"width\":{\"type\":\"value\",\"value\":0.8},\"bottom\":{\"type\":\"expr\",\"expr\":{\"id\":\"p1838\"}},\"top\":{\"type\":\"expr\",\"expr\":{\"id\":\"p1839\"}},\"line_color\":{\"type\":\"value\",\"value\":\"#fee08b\"},\"line_alpha\":{\"type\":\"value\",\"value\":0.1},\"fill_color\":{\"type\":\"value\",\"value\":\"#fee08b\"},\"fill_alpha\":{\"type\":\"value\",\"value\":0.1},\"hatch_color\":{\"type\":\"value\",\"value\":\"#fee08b\"},\"hatch_alpha\":{\"type\":\"value\",\"value\":0.1}}},\"muted_glyph\":{\"type\":\"object\",\"name\":\"VBar\",\"id\":\"p1880\",\"attributes\":{\"x\":{\"type\":\"field\",\"field\":\"\\u5e74\\u5ea6\"},\"width\":{\"type\":\"value\",\"value\":0.8},\"bottom\":{\"type\":\"expr\",\"expr\":{\"id\":\"p1838\"}},\"top\":{\"type\":\"expr\",\"expr\":{\"id\":\"p1839\"}},\"line_color\":{\"type\":\"value\",\"value\":\"#fee08b\"},\"line_alpha\":{\"type\":\"value\",\"value\":0.2},\"fill_color\":{\"type\":\"value\",\"value\":\"#fee08b\"},\"fill_alpha\":{\"type\":\"value\",\"value\":0.2},\"hatch_color\":{\"type\":\"value\",\"value\":\"#fee08b\"},\"hatch_alpha\":{\"type\":\"value\",\"value\":0.2}}}}},{\"type\":\"object\",\"name\":\"GlyphRenderer\",\"id\":\"p1891\",\"attributes\":{\"name\":\"\\u6c34\\u529b\",\"data_source\":{\"id\":\"p1794\"},\"view\":{\"type\":\"object\",\"name\":\"CDSView\",\"id\":\"p1892\",\"attributes\":{\"filter\":{\"type\":\"object\",\"name\":\"AllIndices\",\"id\":\"p1893\"}}},\"glyph\":{\"type\":\"object\",\"name\":\"VBar\",\"id\":\"p1888\",\"attributes\":{\"x\":{\"type\":\"field\",\"field\":\"\\u5e74\\u5ea6\"},\"width\":{\"type\":\"value\",\"value\":0.8},\"bottom\":{\"type\":\"expr\",\"expr\":{\"type\":\"object\",\"name\":\"Stack\",\"id\":\"p1840\",\"attributes\":{\"fields\":[\"\\u77f3\\u6cb9\",\"\\u77f3\\u70ad\",\"\\u5929\\u7136\\u30ac\\u30b9\",\"\\u539f\\u5b50\\u529b\"]}}},\"top\":{\"type\":\"expr\",\"expr\":{\"type\":\"object\",\"name\":\"Stack\",\"id\":\"p1841\",\"attributes\":{\"fields\":[\"\\u77f3\\u6cb9\",\"\\u77f3\\u70ad\",\"\\u5929\\u7136\\u30ac\\u30b9\",\"\\u539f\\u5b50\\u529b\",\"\\u6c34\\u529b\"]}}},\"line_color\":{\"type\":\"value\",\"value\":\"#fc8d59\"},\"fill_color\":{\"type\":\"value\",\"value\":\"#fc8d59\"},\"hatch_color\":{\"type\":\"value\",\"value\":\"#fc8d59\"}}},\"nonselection_glyph\":{\"type\":\"object\",\"name\":\"VBar\",\"id\":\"p1889\",\"attributes\":{\"x\":{\"type\":\"field\",\"field\":\"\\u5e74\\u5ea6\"},\"width\":{\"type\":\"value\",\"value\":0.8},\"bottom\":{\"type\":\"expr\",\"expr\":{\"id\":\"p1840\"}},\"top\":{\"type\":\"expr\",\"expr\":{\"id\":\"p1841\"}},\"line_color\":{\"type\":\"value\",\"value\":\"#fc8d59\"},\"line_alpha\":{\"type\":\"value\",\"value\":0.1},\"fill_color\":{\"type\":\"value\",\"value\":\"#fc8d59\"},\"fill_alpha\":{\"type\":\"value\",\"value\":0.1},\"hatch_color\":{\"type\":\"value\",\"value\":\"#fc8d59\"},\"hatch_alpha\":{\"type\":\"value\",\"value\":0.1}}},\"muted_glyph\":{\"type\":\"object\",\"name\":\"VBar\",\"id\":\"p1890\",\"attributes\":{\"x\":{\"type\":\"field\",\"field\":\"\\u5e74\\u5ea6\"},\"width\":{\"type\":\"value\",\"value\":0.8},\"bottom\":{\"type\":\"expr\",\"expr\":{\"id\":\"p1840\"}},\"top\":{\"type\":\"expr\",\"expr\":{\"id\":\"p1841\"}},\"line_color\":{\"type\":\"value\",\"value\":\"#fc8d59\"},\"line_alpha\":{\"type\":\"value\",\"value\":0.2},\"fill_color\":{\"type\":\"value\",\"value\":\"#fc8d59\"},\"fill_alpha\":{\"type\":\"value\",\"value\":0.2},\"hatch_color\":{\"type\":\"value\",\"value\":\"#fc8d59\"},\"hatch_alpha\":{\"type\":\"value\",\"value\":0.2}}}}},{\"type\":\"object\",\"name\":\"GlyphRenderer\",\"id\":\"p1901\",\"attributes\":{\"name\":\"\\u65b0\\u30a8\\u30cd\\u30eb\\u30ae\\u30fc\\u30fb\\u5730\\u71b1\\u7b49\",\"data_source\":{\"id\":\"p1794\"},\"view\":{\"type\":\"object\",\"name\":\"CDSView\",\"id\":\"p1902\",\"attributes\":{\"filter\":{\"type\":\"object\",\"name\":\"AllIndices\",\"id\":\"p1903\"}}},\"glyph\":{\"type\":\"object\",\"name\":\"VBar\",\"id\":\"p1898\",\"attributes\":{\"x\":{\"type\":\"field\",\"field\":\"\\u5e74\\u5ea6\"},\"width\":{\"type\":\"value\",\"value\":0.8},\"bottom\":{\"type\":\"expr\",\"expr\":{\"type\":\"object\",\"name\":\"Stack\",\"id\":\"p1842\",\"attributes\":{\"fields\":[\"\\u77f3\\u6cb9\",\"\\u77f3\\u70ad\",\"\\u5929\\u7136\\u30ac\\u30b9\",\"\\u539f\\u5b50\\u529b\",\"\\u6c34\\u529b\"]}}},\"top\":{\"type\":\"expr\",\"expr\":{\"type\":\"object\",\"name\":\"Stack\",\"id\":\"p1843\",\"attributes\":{\"fields\":[\"\\u77f3\\u6cb9\",\"\\u77f3\\u70ad\",\"\\u5929\\u7136\\u30ac\\u30b9\",\"\\u539f\\u5b50\\u529b\",\"\\u6c34\\u529b\",\"\\u65b0\\u30a8\\u30cd\\u30eb\\u30ae\\u30fc\\u30fb\\u5730\\u71b1\\u7b49\"]}}},\"line_color\":{\"type\":\"value\",\"value\":\"#d73027\"},\"fill_color\":{\"type\":\"value\",\"value\":\"#d73027\"},\"hatch_color\":{\"type\":\"value\",\"value\":\"#d73027\"}}},\"nonselection_glyph\":{\"type\":\"object\",\"name\":\"VBar\",\"id\":\"p1899\",\"attributes\":{\"x\":{\"type\":\"field\",\"field\":\"\\u5e74\\u5ea6\"},\"width\":{\"type\":\"value\",\"value\":0.8},\"bottom\":{\"type\":\"expr\",\"expr\":{\"id\":\"p1842\"}},\"top\":{\"type\":\"expr\",\"expr\":{\"id\":\"p1843\"}},\"line_color\":{\"type\":\"value\",\"value\":\"#d73027\"},\"line_alpha\":{\"type\":\"value\",\"value\":0.1},\"fill_color\":{\"type\":\"value\",\"value\":\"#d73027\"},\"fill_alpha\":{\"type\":\"value\",\"value\":0.1},\"hatch_color\":{\"type\":\"value\",\"value\":\"#d73027\"},\"hatch_alpha\":{\"type\":\"value\",\"value\":0.1}}},\"muted_glyph\":{\"type\":\"object\",\"name\":\"VBar\",\"id\":\"p1900\",\"attributes\":{\"x\":{\"type\":\"field\",\"field\":\"\\u5e74\\u5ea6\"},\"width\":{\"type\":\"value\",\"value\":0.8},\"bottom\":{\"type\":\"expr\",\"expr\":{\"id\":\"p1842\"}},\"top\":{\"type\":\"expr\",\"expr\":{\"id\":\"p1843\"}},\"line_color\":{\"type\":\"value\",\"value\":\"#d73027\"},\"line_alpha\":{\"type\":\"value\",\"value\":0.2},\"fill_color\":{\"type\":\"value\",\"value\":\"#d73027\"},\"fill_alpha\":{\"type\":\"value\",\"value\":0.2},\"hatch_color\":{\"type\":\"value\",\"value\":\"#d73027\"},\"hatch_alpha\":{\"type\":\"value\",\"value\":0.2}}}}}],\"toolbar\":{\"type\":\"object\",\"name\":\"Toolbar\",\"id\":\"p1806\",\"attributes\":{\"tools\":[{\"type\":\"object\",\"name\":\"PanTool\",\"id\":\"p1821\"},{\"type\":\"object\",\"name\":\"WheelZoomTool\",\"id\":\"p1822\",\"attributes\":{\"renderers\":\"auto\"}},{\"type\":\"object\",\"name\":\"BoxZoomTool\",\"id\":\"p1823\",\"attributes\":{\"overlay\":{\"type\":\"object\",\"name\":\"BoxAnnotation\",\"id\":\"p1824\",\"attributes\":{\"syncable\":false,\"level\":\"overlay\",\"visible\":false,\"left\":{\"type\":\"number\",\"value\":\"nan\"},\"right\":{\"type\":\"number\",\"value\":\"nan\"},\"top\":{\"type\":\"number\",\"value\":\"nan\"},\"bottom\":{\"type\":\"number\",\"value\":\"nan\"},\"left_units\":\"canvas\",\"right_units\":\"canvas\",\"top_units\":\"canvas\",\"bottom_units\":\"canvas\",\"line_color\":\"black\",\"line_alpha\":1.0,\"line_width\":2,\"line_dash\":[4,4],\"fill_color\":\"lightgrey\",\"fill_alpha\":0.5}}}},{\"type\":\"object\",\"name\":\"SaveTool\",\"id\":\"p1829\"},{\"type\":\"object\",\"name\":\"ResetTool\",\"id\":\"p1830\"},{\"type\":\"object\",\"name\":\"HelpTool\",\"id\":\"p1831\"}]}},\"left\":[{\"type\":\"object\",\"name\":\"LinearAxis\",\"id\":\"p1816\",\"attributes\":{\"ticker\":{\"type\":\"object\",\"name\":\"BasicTicker\",\"id\":\"p1817\",\"attributes\":{\"mantissas\":[1,2,5]}},\"formatter\":{\"type\":\"object\",\"name\":\"BasicTickFormatter\",\"id\":\"p1818\"},\"axis_label\":\"\\u56fd\\u5185\\u4f9b\\u7d66\\u91cf[%]\",\"axis_label_text_font_size\":\"18px\",\"major_label_policy\":{\"type\":\"object\",\"name\":\"AllLabels\",\"id\":\"p1819\"},\"major_label_text_font_size\":\"14px\"}}],\"right\":[{\"type\":\"object\",\"name\":\"Legend\",\"id\":\"p1853\",\"attributes\":{\"border_line_color\":\"black\",\"border_line_width\":2,\"items\":[{\"type\":\"object\",\"name\":\"LegendItem\",\"id\":\"p1854\",\"attributes\":{\"label\":{\"type\":\"value\",\"value\":\"\\u77f3\\u6cb9\"},\"renderers\":[{\"id\":\"p1850\"}]}},{\"type\":\"object\",\"name\":\"LegendItem\",\"id\":\"p1864\",\"attributes\":{\"label\":{\"type\":\"value\",\"value\":\"\\u77f3\\u70ad\"},\"renderers\":[{\"id\":\"p1861\"}]}},{\"type\":\"object\",\"name\":\"LegendItem\",\"id\":\"p1874\",\"attributes\":{\"label\":{\"type\":\"value\",\"value\":\"\\u5929\\u7136\\u30ac\\u30b9\"},\"renderers\":[{\"id\":\"p1871\"}]}},{\"type\":\"object\",\"name\":\"LegendItem\",\"id\":\"p1884\",\"attributes\":{\"label\":{\"type\":\"value\",\"value\":\"\\u539f\\u5b50\\u529b\"},\"renderers\":[{\"id\":\"p1881\"}]}},{\"type\":\"object\",\"name\":\"LegendItem\",\"id\":\"p1894\",\"attributes\":{\"label\":{\"type\":\"value\",\"value\":\"\\u6c34\\u529b\"},\"renderers\":[{\"id\":\"p1891\"}]}},{\"type\":\"object\",\"name\":\"LegendItem\",\"id\":\"p1904\",\"attributes\":{\"label\":{\"type\":\"value\",\"value\":\"\\u65b0\\u30a8\\u30cd\\u30eb\\u30ae\\u30fc\\u30fb\\u5730\\u71b1\\u7b49\"},\"renderers\":[{\"id\":\"p1901\"}]}}]}}],\"below\":[{\"type\":\"object\",\"name\":\"LinearAxis\",\"id\":\"p1811\",\"attributes\":{\"ticker\":{\"type\":\"object\",\"name\":\"BasicTicker\",\"id\":\"p1812\",\"attributes\":{\"mantissas\":[1,2,5]}},\"formatter\":{\"type\":\"object\",\"name\":\"BasicTickFormatter\",\"id\":\"p1813\"},\"axis_label\":\"\\u5e74\\u5ea6\",\"axis_label_text_font_size\":\"18px\",\"major_label_policy\":{\"type\":\"object\",\"name\":\"AllLabels\",\"id\":\"p1814\"},\"major_label_text_font_size\":\"14px\"}}],\"center\":[{\"type\":\"object\",\"name\":\"Grid\",\"id\":\"p1815\",\"attributes\":{\"axis\":{\"id\":\"p1811\"},\"grid_line_color\":null}},{\"type\":\"object\",\"name\":\"Grid\",\"id\":\"p1820\",\"attributes\":{\"dimension\":1,\"axis\":{\"id\":\"p1816\"},\"grid_line_color\":null}},{\"id\":\"p1853\"}]}}]}};\n  const render_items = [{\"docid\":\"602d3bfa-3c07-4c1c-8670-2117a0a65145\",\"roots\":{\"p1797\":\"b8bb1c5f-dcc1-481b-ab1a-4cdfed4b24ba\"},\"root_ids\":[\"p1797\"]}];\n  void root.Bokeh.embed.embed_items_notebook(docs_json, render_items);\n  }\n  if (root.Bokeh !== undefined) {\n    embed_document(root);\n  } else {\n    let attempts = 0;\n    const timer = setInterval(function(root) {\n      if (root.Bokeh !== undefined) {\n        clearInterval(timer);\n        embed_document(root);\n      } else {\n        attempts++;\n        if (attempts > 100) {\n          clearInterval(timer);\n          console.log(\"Bokeh: ERROR: Unable to run BokehJS code because BokehJS library is missing\");\n        }\n      }\n    }, 10, root)\n  }\n})(window);",
      "application/vnd.bokehjs_exec.v0+json": ""
     },
     "metadata": {
      "application/vnd.bokehjs_exec.v0+json": {
       "id": "p1797"
      }
     },
     "output_type": "display_data"
    }
   ],
   "source": [
    "src = ColumnDataSource(stacked_bar_100_df)\n",
    "\n",
    "plot = figure(\n",
    "    width=1000,\n",
    "    height=500,\n",
    "    title=\"日本国内のエネルギー供給量の推移(1973年～2012年)\",\n",
    "    x_axis_label=\"年度\",\n",
    "    y_axis_label=\"国内供給量[%]\",\n",
    "    x_range=[1965 - 0.5, 2012 + 0.5],\n",
    "    y_range=[0, 100],\n",
    "    outline_line_color=\"black\",\n",
    "    outline_line_width=2\n",
    ")\n",
    "\n",
    "column_list = [col for col in stacked_bar_100_df.columns[1:]]\n",
    "color_palette = palettes.RdYlGn[len(stacked_bar_100_df.columns[1:])]\n",
    "\n",
    "plot.vbar_stack(\n",
    "    source=src,\n",
    "    stackers=column_list,\n",
    "    x=\"年度\",\n",
    "    width=0.8,\n",
    "    color=color_palette,\n",
    "    legend_label=column_list\n",
    ")\n",
    "\n",
    "plot.xgrid.grid_line_color = None\n",
    "plot.ygrid.grid_line_color = None\n",
    "plot.title.text_font_size = \"24px\"\n",
    "plot.xaxis.axis_label_text_font_size= \"18px\"\n",
    "plot.xaxis.major_label_text_font_size= \"14px\"\n",
    "plot.yaxis.axis_label_text_font_size= \"18px\"\n",
    "plot.yaxis.major_label_text_font_size= \"14px\"\n",
    "plot.legend.border_line_width = 2\n",
    "plot.legend.border_line_color = \"black\"\n",
    "\n",
    "plot.add_layout(plot.legend[0], place=\"right\")\n",
    "\n",
    "show(plot)"
   ]
  },
  {
   "cell_type": "markdown",
   "metadata": {},
   "source": [
    "## 円グラフ"
   ]
  },
  {
   "cell_type": "code",
   "execution_count": 18,
   "metadata": {},
   "outputs": [
    {
     "data": {
      "text/html": [
       "<div>\n",
       "<style scoped>\n",
       "    .dataframe tbody tr th:only-of-type {\n",
       "        vertical-align: middle;\n",
       "    }\n",
       "\n",
       "    .dataframe tbody tr th {\n",
       "        vertical-align: top;\n",
       "    }\n",
       "\n",
       "    .dataframe thead th {\n",
       "        text-align: right;\n",
       "    }\n",
       "</style>\n",
       "<table border=\"1\" class=\"dataframe\">\n",
       "  <thead>\n",
       "    <tr style=\"text-align: right;\">\n",
       "      <th></th>\n",
       "      <th>石油</th>\n",
       "      <th>石炭</th>\n",
       "      <th>天然ガス</th>\n",
       "      <th>原子力</th>\n",
       "      <th>水力</th>\n",
       "      <th>新エネルギー・地熱等</th>\n",
       "    </tr>\n",
       "    <tr>\n",
       "      <th>年度</th>\n",
       "      <th></th>\n",
       "      <th></th>\n",
       "      <th></th>\n",
       "      <th></th>\n",
       "      <th></th>\n",
       "      <th></th>\n",
       "    </tr>\n",
       "  </thead>\n",
       "  <tbody>\n",
       "    <tr>\n",
       "      <th>1965</th>\n",
       "      <td>3.56</td>\n",
       "      <td>1.87</td>\n",
       "      <td>0.08</td>\n",
       "      <td>0.00</td>\n",
       "      <td>0.75</td>\n",
       "      <td>0.11</td>\n",
       "    </tr>\n",
       "    <tr>\n",
       "      <th>1966</th>\n",
       "      <td>4.13</td>\n",
       "      <td>1.92</td>\n",
       "      <td>0.09</td>\n",
       "      <td>0.01</td>\n",
       "      <td>0.77</td>\n",
       "      <td>0.11</td>\n",
       "    </tr>\n",
       "    <tr>\n",
       "      <th>1967</th>\n",
       "      <td>5.11</td>\n",
       "      <td>2.29</td>\n",
       "      <td>0.09</td>\n",
       "      <td>0.01</td>\n",
       "      <td>0.67</td>\n",
       "      <td>0.11</td>\n",
       "    </tr>\n",
       "    <tr>\n",
       "      <th>1968</th>\n",
       "      <td>5.95</td>\n",
       "      <td>2.42</td>\n",
       "      <td>0.10</td>\n",
       "      <td>0.01</td>\n",
       "      <td>0.72</td>\n",
       "      <td>0.12</td>\n",
       "    </tr>\n",
       "    <tr>\n",
       "      <th>1969</th>\n",
       "      <td>7.19</td>\n",
       "      <td>2.59</td>\n",
       "      <td>0.12</td>\n",
       "      <td>0.01</td>\n",
       "      <td>0.73</td>\n",
       "      <td>0.13</td>\n",
       "    </tr>\n",
       "  </tbody>\n",
       "</table>\n",
       "</div>"
      ],
      "text/plain": [
       "        石油    石炭  天然ガス   原子力    水力  新エネルギー・地熱等\n",
       "年度                                            \n",
       "1965  3.56  1.87  0.08  0.00  0.75        0.11\n",
       "1966  4.13  1.92  0.09  0.01  0.77        0.11\n",
       "1967  5.11  2.29  0.09  0.01  0.67        0.11\n",
       "1968  5.95  2.42  0.10  0.01  0.72        0.12\n",
       "1969  7.19  2.59  0.12  0.01  0.73        0.13"
      ]
     },
     "execution_count": 18,
     "metadata": {},
     "output_type": "execute_result"
    }
   ],
   "source": [
    "pie_df = pd.read_csv(\"../data/japan_energy.csv\", index_col=0)\n",
    "pie_1965_df = pie_df.loc[1965, :]\n",
    "pie_1965_data = {\n",
    "    \"name\": pie_1965_df.index.to_list(),\n",
    "    \"angle\": [value /pie_1965_df.sum() * 2 * np.pi for value in pie_1965_df],\n",
    "    \"cumulative_angle\": [(sum(pie_1965_df[0: i+1]) - (value/2)) / sum(pie_1965_df) * 2 * np.pi for i, value in enumerate(pie_1965_df)],\n",
    "    \"percent\": [value / sum(pie_1965_df) * 100 for value in pie_1965_df],\n",
    "    \"color\": palettes.Category10[6]\n",
    "}\n",
    "pie_1965_data[\"sin\"] = np.sin(pie_1965_data[\"cumulative_angle\"]) * 0.4\n",
    "pie_1965_data[\"cos\"] = np.cos(pie_1965_data[\"cumulative_angle\"]) * 0.4\n",
    "pie_1965_data[\"label\"] = [f\"{p:.1f}%\" for p in pie_1965_data[\"percent\"]]\n",
    "\n",
    "pie_2012_df = pie_df.loc[2012, :]\n",
    "pie_2012_data = {\n",
    "    \"name\": pie_2012_df.index.to_list(),\n",
    "    \"angle\": [value /pie_2012_df.sum() * 2 * np.pi for value in pie_2012_df],\n",
    "    \"cumulative_angle\": [(sum(pie_2012_df[0: i+1]) - (value/2)) / sum(pie_2012_df) * 2 * np.pi for i, value in enumerate(pie_2012_df)],\n",
    "    \"percent\": [value / sum(pie_2012_df) * 100 for value in pie_2012_df],\n",
    "    \"color\": palettes.Category10[6]\n",
    "}\n",
    "pie_2012_data[\"sin\"] = np.sin(pie_2012_data[\"cumulative_angle\"]) * 0.4\n",
    "pie_2012_data[\"cos\"] = np.cos(pie_2012_data[\"cumulative_angle\"]) * 0.4\n",
    "pie_2012_data[\"label\"] = [f\"{p:.1f}%\" for p in pie_2012_data[\"percent\"]]\n",
    "pie_df.head()"
   ]
  },
  {
   "cell_type": "code",
   "execution_count": 19,
   "metadata": {},
   "outputs": [
    {
     "data": {
      "text/html": [
       "\n",
       "  <div id=\"d7137616-1c4f-4651-8731-402796906be3\" data-root-id=\"p1913\" style=\"display: contents;\"></div>\n"
      ]
     },
     "metadata": {},
     "output_type": "display_data"
    },
    {
     "data": {
      "application/javascript": "(function(root) {\n  function embed_document(root) {\n  const docs_json = {\"6ebe8b29-7871-48d2-8974-ade4beaff33e\":{\"version\":\"3.4.1\",\"title\":\"Bokeh Application\",\"roots\":[{\"type\":\"object\",\"name\":\"Figure\",\"id\":\"p1913\",\"attributes\":{\"x_range\":{\"type\":\"object\",\"name\":\"DataRange1d\",\"id\":\"p1914\"},\"y_range\":{\"type\":\"object\",\"name\":\"DataRange1d\",\"id\":\"p1915\"},\"x_scale\":{\"type\":\"object\",\"name\":\"LinearScale\",\"id\":\"p1923\"},\"y_scale\":{\"type\":\"object\",\"name\":\"LinearScale\",\"id\":\"p1924\"},\"title\":{\"type\":\"object\",\"name\":\"Title\",\"id\":\"p1916\",\"attributes\":{\"text\":\"1965\\u5e74\"}},\"renderers\":[{\"type\":\"object\",\"name\":\"GlyphRenderer\",\"id\":\"p1957\",\"attributes\":{\"data_source\":{\"type\":\"object\",\"name\":\"ColumnDataSource\",\"id\":\"p1946\",\"attributes\":{\"selected\":{\"type\":\"object\",\"name\":\"Selection\",\"id\":\"p1947\",\"attributes\":{\"indices\":[],\"line_indices\":[]}},\"selection_policy\":{\"type\":\"object\",\"name\":\"UnionRenderers\",\"id\":\"p1948\"},\"data\":{\"type\":\"map\",\"entries\":[[\"name\",[\"\\u77f3\\u6cb9\",\"\\u77f3\\u70ad\",\"\\u5929\\u7136\\u30ac\\u30b9\",\"\\u539f\\u5b50\\u529b\",\"\\u6c34\\u529b\",\"\\u65b0\\u30a8\\u30cd\\u30eb\\u30ae\\u30fc\\u30fb\\u5730\\u71b1\\u7b49\"]],[\"angle\",[3.511481898517948,1.8445143680417313,0.07890970558467299,0.0,0.7397784898563091,0.10850084517892535]],[\"cumulative_angle\",[1.755740949258974,4.433739082538812,5.395451119352015,5.434905972144351,5.804795217072506,6.228934884590124]],[\"percent\",[55.88697017268446,29.356357927786505,1.2558869701726845,0.0,11.773940345368917,1.726844583987441]],[\"color\",[\"#1f77b4\",\"#ff7f0e\",\"#2ca02c\",\"#d62728\",\"#9467bd\",\"#8c564b\"]],[\"sin\",{\"type\":\"ndarray\",\"array\":{\"type\":\"bytes\",\"data\":\"iXx5d9Yp2T87l0v4z5zYvzj0GhBC29O/xufdQiQ007+67MJG6JHHvyg0G3jHNZa/\"},\"shape\":[6],\"dtype\":\"float64\",\"order\":\"little\"}],[\"cos\",{\"type\":\"ndarray\",\"array\":{\"type\":\"bytes\",\"data\":\"oxBU/57Usr9cIHYleiq8v+WXtmZxKNA/xfsUIrvt0D+LxV3e37nWP6Sz41j1j9k/\"},\"shape\":[6],\"dtype\":\"float64\",\"order\":\"little\"}],[\"label\",[\"55.9%\",\"29.4%\",\"1.3%\",\"0.0%\",\"11.8%\",\"1.7%\"]]]}}},\"view\":{\"type\":\"object\",\"name\":\"CDSView\",\"id\":\"p1958\",\"attributes\":{\"filter\":{\"type\":\"object\",\"name\":\"AllIndices\",\"id\":\"p1959\"}}},\"glyph\":{\"type\":\"object\",\"name\":\"Wedge\",\"id\":\"p1954\",\"attributes\":{\"x\":{\"type\":\"value\",\"value\":0},\"y\":{\"type\":\"value\",\"value\":0},\"radius\":{\"type\":\"value\",\"value\":0.7},\"start_angle\":{\"type\":\"expr\",\"expr\":{\"type\":\"object\",\"name\":\"CumSum\",\"id\":\"p1949\",\"attributes\":{\"field\":\"angle\",\"include_zero\":true}}},\"end_angle\":{\"type\":\"expr\",\"expr\":{\"type\":\"object\",\"name\":\"CumSum\",\"id\":\"p1950\",\"attributes\":{\"field\":\"angle\"}}},\"line_color\":{\"type\":\"value\",\"value\":\"white\"},\"fill_color\":{\"type\":\"field\",\"field\":\"color\"}}},\"nonselection_glyph\":{\"type\":\"object\",\"name\":\"Wedge\",\"id\":\"p1955\",\"attributes\":{\"x\":{\"type\":\"value\",\"value\":0},\"y\":{\"type\":\"value\",\"value\":0},\"radius\":{\"type\":\"value\",\"value\":0.7},\"start_angle\":{\"type\":\"expr\",\"expr\":{\"id\":\"p1949\"}},\"end_angle\":{\"type\":\"expr\",\"expr\":{\"id\":\"p1950\"}},\"line_color\":{\"type\":\"value\",\"value\":\"white\"},\"line_alpha\":{\"type\":\"value\",\"value\":0.1},\"fill_color\":{\"type\":\"field\",\"field\":\"color\"},\"fill_alpha\":{\"type\":\"value\",\"value\":0.1},\"hatch_alpha\":{\"type\":\"value\",\"value\":0.1}}},\"muted_glyph\":{\"type\":\"object\",\"name\":\"Wedge\",\"id\":\"p1956\",\"attributes\":{\"x\":{\"type\":\"value\",\"value\":0},\"y\":{\"type\":\"value\",\"value\":0},\"radius\":{\"type\":\"value\",\"value\":0.7},\"start_angle\":{\"type\":\"expr\",\"expr\":{\"id\":\"p1949\"}},\"end_angle\":{\"type\":\"expr\",\"expr\":{\"id\":\"p1950\"}},\"line_color\":{\"type\":\"value\",\"value\":\"white\"},\"line_alpha\":{\"type\":\"value\",\"value\":0.2},\"fill_color\":{\"type\":\"field\",\"field\":\"color\"},\"fill_alpha\":{\"type\":\"value\",\"value\":0.2},\"hatch_alpha\":{\"type\":\"value\",\"value\":0.2}}}}}],\"toolbar\":{\"type\":\"object\",\"name\":\"Toolbar\",\"id\":\"p1922\",\"attributes\":{\"tools\":[{\"type\":\"object\",\"name\":\"PanTool\",\"id\":\"p1935\"},{\"type\":\"object\",\"name\":\"WheelZoomTool\",\"id\":\"p1936\",\"attributes\":{\"renderers\":\"auto\"}},{\"type\":\"object\",\"name\":\"BoxZoomTool\",\"id\":\"p1937\",\"attributes\":{\"overlay\":{\"type\":\"object\",\"name\":\"BoxAnnotation\",\"id\":\"p1938\",\"attributes\":{\"syncable\":false,\"level\":\"overlay\",\"visible\":false,\"left\":{\"type\":\"number\",\"value\":\"nan\"},\"right\":{\"type\":\"number\",\"value\":\"nan\"},\"top\":{\"type\":\"number\",\"value\":\"nan\"},\"bottom\":{\"type\":\"number\",\"value\":\"nan\"},\"left_units\":\"canvas\",\"right_units\":\"canvas\",\"top_units\":\"canvas\",\"bottom_units\":\"canvas\",\"line_color\":\"black\",\"line_alpha\":1.0,\"line_width\":2,\"line_dash\":[4,4],\"fill_color\":\"lightgrey\",\"fill_alpha\":0.5}}}},{\"type\":\"object\",\"name\":\"SaveTool\",\"id\":\"p1943\"},{\"type\":\"object\",\"name\":\"ResetTool\",\"id\":\"p1944\"},{\"type\":\"object\",\"name\":\"HelpTool\",\"id\":\"p1945\"}]}},\"left\":[{\"type\":\"object\",\"name\":\"LinearAxis\",\"id\":\"p1930\",\"attributes\":{\"visible\":false,\"ticker\":{\"type\":\"object\",\"name\":\"BasicTicker\",\"id\":\"p1931\",\"attributes\":{\"mantissas\":[1,2,5]}},\"formatter\":{\"type\":\"object\",\"name\":\"BasicTickFormatter\",\"id\":\"p1932\"},\"major_label_policy\":{\"type\":\"object\",\"name\":\"AllLabels\",\"id\":\"p1933\"}}}],\"below\":[{\"type\":\"object\",\"name\":\"LinearAxis\",\"id\":\"p1925\",\"attributes\":{\"visible\":false,\"ticker\":{\"type\":\"object\",\"name\":\"BasicTicker\",\"id\":\"p1926\",\"attributes\":{\"mantissas\":[1,2,5]}},\"formatter\":{\"type\":\"object\",\"name\":\"BasicTickFormatter\",\"id\":\"p1927\"},\"major_label_policy\":{\"type\":\"object\",\"name\":\"AllLabels\",\"id\":\"p1928\"}}}],\"center\":[{\"type\":\"object\",\"name\":\"Grid\",\"id\":\"p1929\",\"attributes\":{\"axis\":{\"id\":\"p1925\"},\"grid_line_color\":null}},{\"type\":\"object\",\"name\":\"Grid\",\"id\":\"p1934\",\"attributes\":{\"dimension\":1,\"axis\":{\"id\":\"p1930\"},\"grid_line_color\":null}},{\"type\":\"object\",\"name\":\"Legend\",\"id\":\"p1960\",\"attributes\":{\"items\":[{\"type\":\"object\",\"name\":\"LegendItem\",\"id\":\"p1961\",\"attributes\":{\"label\":{\"type\":\"value\",\"value\":\"name\"},\"renderers\":[{\"id\":\"p1957\"}]}}]}},{\"type\":\"object\",\"name\":\"LabelSet\",\"id\":\"p1965\",\"attributes\":{\"source\":{\"type\":\"object\",\"name\":\"ColumnDataSource\",\"id\":\"p1962\",\"attributes\":{\"selected\":{\"type\":\"object\",\"name\":\"Selection\",\"id\":\"p1963\",\"attributes\":{\"indices\":[],\"line_indices\":[]}},\"selection_policy\":{\"type\":\"object\",\"name\":\"UnionRenderers\",\"id\":\"p1964\"},\"data\":{\"type\":\"map\",\"entries\":[[\"name\",[\"\\u77f3\\u6cb9\",\"\\u77f3\\u70ad\",\"\\u5929\\u7136\\u30ac\\u30b9\",\"\\u539f\\u5b50\\u529b\",\"\\u6c34\\u529b\",\"\\u65b0\\u30a8\\u30cd\\u30eb\\u30ae\\u30fc\\u30fb\\u5730\\u71b1\\u7b49\"]],[\"angle\",[3.511481898517948,1.8445143680417313,0.07890970558467299,0.0,0.7397784898563091,0.10850084517892535]],[\"cumulative_angle\",[1.755740949258974,4.433739082538812,5.395451119352015,5.434905972144351,5.804795217072506,6.228934884590124]],[\"percent\",[55.88697017268446,29.356357927786505,1.2558869701726845,0.0,11.773940345368917,1.726844583987441]],[\"color\",[\"#1f77b4\",\"#ff7f0e\",\"#2ca02c\",\"#d62728\",\"#9467bd\",\"#8c564b\"]],[\"sin\",{\"type\":\"ndarray\",\"array\":{\"type\":\"bytes\",\"data\":\"iXx5d9Yp2T87l0v4z5zYvzj0GhBC29O/xufdQiQ007+67MJG6JHHvyg0G3jHNZa/\"},\"shape\":[6],\"dtype\":\"float64\",\"order\":\"little\"}],[\"cos\",{\"type\":\"ndarray\",\"array\":{\"type\":\"bytes\",\"data\":\"oxBU/57Usr9cIHYleiq8v+WXtmZxKNA/xfsUIrvt0D+LxV3e37nWP6Sz41j1j9k/\"},\"shape\":[6],\"dtype\":\"float64\",\"order\":\"little\"}],[\"label\",[\"55.9%\",\"29.4%\",\"1.3%\",\"0.0%\",\"11.8%\",\"1.7%\"]]]}}},\"x\":{\"type\":\"field\",\"field\":\"cos\"},\"y\":{\"type\":\"field\",\"field\":\"sin\"},\"text\":{\"type\":\"field\",\"field\":\"label\"},\"text_color\":{\"type\":\"value\",\"value\":\"black\"},\"text_font_size\":{\"type\":\"value\",\"value\":\"18pt\"},\"text_align\":{\"type\":\"value\",\"value\":\"center\"}}}]}}]}};\n  const render_items = [{\"docid\":\"6ebe8b29-7871-48d2-8974-ade4beaff33e\",\"roots\":{\"p1913\":\"d7137616-1c4f-4651-8731-402796906be3\"},\"root_ids\":[\"p1913\"]}];\n  void root.Bokeh.embed.embed_items_notebook(docs_json, render_items);\n  }\n  if (root.Bokeh !== undefined) {\n    embed_document(root);\n  } else {\n    let attempts = 0;\n    const timer = setInterval(function(root) {\n      if (root.Bokeh !== undefined) {\n        clearInterval(timer);\n        embed_document(root);\n      } else {\n        attempts++;\n        if (attempts > 100) {\n          clearInterval(timer);\n          console.log(\"Bokeh: ERROR: Unable to run BokehJS code because BokehJS library is missing\");\n        }\n      }\n    }, 10, root)\n  }\n})(window);",
      "application/vnd.bokehjs_exec.v0+json": ""
     },
     "metadata": {
      "application/vnd.bokehjs_exec.v0+json": {
       "id": "p1913"
      }
     },
     "output_type": "display_data"
    },
    {
     "data": {
      "text/html": [
       "\n",
       "  <div id=\"d1ba56f4-4989-469e-b6a1-be661822ce4c\" data-root-id=\"p1973\" style=\"display: contents;\"></div>\n"
      ]
     },
     "metadata": {},
     "output_type": "display_data"
    },
    {
     "data": {
      "application/javascript": "(function(root) {\n  function embed_document(root) {\n  const docs_json = {\"8909f7c6-f5a8-43b6-a1db-e6b2c5e17992\":{\"version\":\"3.4.1\",\"title\":\"Bokeh Application\",\"roots\":[{\"type\":\"object\",\"name\":\"Figure\",\"id\":\"p1973\",\"attributes\":{\"x_range\":{\"type\":\"object\",\"name\":\"DataRange1d\",\"id\":\"p1974\"},\"y_range\":{\"type\":\"object\",\"name\":\"DataRange1d\",\"id\":\"p1975\"},\"x_scale\":{\"type\":\"object\",\"name\":\"LinearScale\",\"id\":\"p1983\"},\"y_scale\":{\"type\":\"object\",\"name\":\"LinearScale\",\"id\":\"p1984\"},\"title\":{\"type\":\"object\",\"name\":\"Title\",\"id\":\"p1976\",\"attributes\":{\"text\":\"2012\\u5e74\"}},\"renderers\":[{\"type\":\"object\",\"name\":\"GlyphRenderer\",\"id\":\"p2017\",\"attributes\":{\"data_source\":{\"type\":\"object\",\"name\":\"ColumnDataSource\",\"id\":\"p2006\",\"attributes\":{\"selected\":{\"type\":\"object\",\"name\":\"Selection\",\"id\":\"p2007\",\"attributes\":{\"indices\":[],\"line_indices\":[]}},\"selection_policy\":{\"type\":\"object\",\"name\":\"UnionRenderers\",\"id\":\"p2008\"},\"data\":{\"type\":\"map\",\"entries\":[[\"name\",[\"\\u77f3\\u6cb9\",\"\\u77f3\\u70ad\",\"\\u5929\\u7136\\u30ac\\u30b9\",\"\\u539f\\u5b50\\u529b\",\"\\u6c34\\u529b\",\"\\u65b0\\u30a8\\u30cd\\u30eb\\u30ae\\u30fc\\u30fb\\u5730\\u71b1\\u7b49\"]],[\"angle\",[2.7824672685973,1.4666801437508545,1.5391087928249705,0.04225004529323449,0.19917878495381974,0.2535002717594069]],[\"cumulative_angle\",[1.39123363429865,3.515807340472728,5.01870180876064,5.809381227819742,5.93009564294327,6.156435171299882]],[\"percent\",[44.28434197886648,23.34293948126801,24.49567723342939,0.6724303554274736,3.170028818443804,4.034582132564841]],[\"color\",[\"#1f77b4\",\"#ff7f0e\",\"#2ca02c\",\"#d62728\",\"#9467bd\",\"#8c564b\"]],[\"sin\",{\"type\":\"ndarray\",\"array\":{\"type\":\"bytes\",\"data\":\"o3bNATsw2T+EoxJVOrfCv7rlt9eKaNi/AOhNfntcx7/3RGdEc7TBv5WyTAWU46m/\"},\"shape\":[6],\"dtype\":\"float64\",\"order\":\"little\"}],[\"cos\",{\"type\":\"ndarray\",\"array\":{\"type\":\"bytes\",\"data\":\"vZY+td9Jsj9gDxTVDtTXv9yk30TT4L4/S5qNJ6bH1j8Rjm/tTAXYPzrZZNUGZdk/\"},\"shape\":[6],\"dtype\":\"float64\",\"order\":\"little\"}],[\"label\",[\"44.3%\",\"23.3%\",\"24.5%\",\"0.7%\",\"3.2%\",\"4.0%\"]]]}}},\"view\":{\"type\":\"object\",\"name\":\"CDSView\",\"id\":\"p2018\",\"attributes\":{\"filter\":{\"type\":\"object\",\"name\":\"AllIndices\",\"id\":\"p2019\"}}},\"glyph\":{\"type\":\"object\",\"name\":\"Wedge\",\"id\":\"p2014\",\"attributes\":{\"x\":{\"type\":\"value\",\"value\":0},\"y\":{\"type\":\"value\",\"value\":0},\"radius\":{\"type\":\"value\",\"value\":0.7},\"start_angle\":{\"type\":\"expr\",\"expr\":{\"type\":\"object\",\"name\":\"CumSum\",\"id\":\"p2009\",\"attributes\":{\"field\":\"angle\",\"include_zero\":true}}},\"end_angle\":{\"type\":\"expr\",\"expr\":{\"type\":\"object\",\"name\":\"CumSum\",\"id\":\"p2010\",\"attributes\":{\"field\":\"angle\"}}},\"line_color\":{\"type\":\"value\",\"value\":\"white\"},\"fill_color\":{\"type\":\"field\",\"field\":\"color\"}}},\"nonselection_glyph\":{\"type\":\"object\",\"name\":\"Wedge\",\"id\":\"p2015\",\"attributes\":{\"x\":{\"type\":\"value\",\"value\":0},\"y\":{\"type\":\"value\",\"value\":0},\"radius\":{\"type\":\"value\",\"value\":0.7},\"start_angle\":{\"type\":\"expr\",\"expr\":{\"id\":\"p2009\"}},\"end_angle\":{\"type\":\"expr\",\"expr\":{\"id\":\"p2010\"}},\"line_color\":{\"type\":\"value\",\"value\":\"white\"},\"line_alpha\":{\"type\":\"value\",\"value\":0.1},\"fill_color\":{\"type\":\"field\",\"field\":\"color\"},\"fill_alpha\":{\"type\":\"value\",\"value\":0.1},\"hatch_alpha\":{\"type\":\"value\",\"value\":0.1}}},\"muted_glyph\":{\"type\":\"object\",\"name\":\"Wedge\",\"id\":\"p2016\",\"attributes\":{\"x\":{\"type\":\"value\",\"value\":0},\"y\":{\"type\":\"value\",\"value\":0},\"radius\":{\"type\":\"value\",\"value\":0.7},\"start_angle\":{\"type\":\"expr\",\"expr\":{\"id\":\"p2009\"}},\"end_angle\":{\"type\":\"expr\",\"expr\":{\"id\":\"p2010\"}},\"line_color\":{\"type\":\"value\",\"value\":\"white\"},\"line_alpha\":{\"type\":\"value\",\"value\":0.2},\"fill_color\":{\"type\":\"field\",\"field\":\"color\"},\"fill_alpha\":{\"type\":\"value\",\"value\":0.2},\"hatch_alpha\":{\"type\":\"value\",\"value\":0.2}}}}}],\"toolbar\":{\"type\":\"object\",\"name\":\"Toolbar\",\"id\":\"p1982\",\"attributes\":{\"tools\":[{\"type\":\"object\",\"name\":\"PanTool\",\"id\":\"p1995\"},{\"type\":\"object\",\"name\":\"WheelZoomTool\",\"id\":\"p1996\",\"attributes\":{\"renderers\":\"auto\"}},{\"type\":\"object\",\"name\":\"BoxZoomTool\",\"id\":\"p1997\",\"attributes\":{\"overlay\":{\"type\":\"object\",\"name\":\"BoxAnnotation\",\"id\":\"p1998\",\"attributes\":{\"syncable\":false,\"level\":\"overlay\",\"visible\":false,\"left\":{\"type\":\"number\",\"value\":\"nan\"},\"right\":{\"type\":\"number\",\"value\":\"nan\"},\"top\":{\"type\":\"number\",\"value\":\"nan\"},\"bottom\":{\"type\":\"number\",\"value\":\"nan\"},\"left_units\":\"canvas\",\"right_units\":\"canvas\",\"top_units\":\"canvas\",\"bottom_units\":\"canvas\",\"line_color\":\"black\",\"line_alpha\":1.0,\"line_width\":2,\"line_dash\":[4,4],\"fill_color\":\"lightgrey\",\"fill_alpha\":0.5}}}},{\"type\":\"object\",\"name\":\"SaveTool\",\"id\":\"p2003\"},{\"type\":\"object\",\"name\":\"ResetTool\",\"id\":\"p2004\"},{\"type\":\"object\",\"name\":\"HelpTool\",\"id\":\"p2005\"}]}},\"left\":[{\"type\":\"object\",\"name\":\"LinearAxis\",\"id\":\"p1990\",\"attributes\":{\"visible\":false,\"ticker\":{\"type\":\"object\",\"name\":\"BasicTicker\",\"id\":\"p1991\",\"attributes\":{\"mantissas\":[1,2,5]}},\"formatter\":{\"type\":\"object\",\"name\":\"BasicTickFormatter\",\"id\":\"p1992\"},\"major_label_policy\":{\"type\":\"object\",\"name\":\"AllLabels\",\"id\":\"p1993\"}}}],\"below\":[{\"type\":\"object\",\"name\":\"LinearAxis\",\"id\":\"p1985\",\"attributes\":{\"visible\":false,\"ticker\":{\"type\":\"object\",\"name\":\"BasicTicker\",\"id\":\"p1986\",\"attributes\":{\"mantissas\":[1,2,5]}},\"formatter\":{\"type\":\"object\",\"name\":\"BasicTickFormatter\",\"id\":\"p1987\"},\"major_label_policy\":{\"type\":\"object\",\"name\":\"AllLabels\",\"id\":\"p1988\"}}}],\"center\":[{\"type\":\"object\",\"name\":\"Grid\",\"id\":\"p1989\",\"attributes\":{\"axis\":{\"id\":\"p1985\"},\"grid_line_color\":null}},{\"type\":\"object\",\"name\":\"Grid\",\"id\":\"p1994\",\"attributes\":{\"dimension\":1,\"axis\":{\"id\":\"p1990\"},\"grid_line_color\":null}},{\"type\":\"object\",\"name\":\"Legend\",\"id\":\"p2020\",\"attributes\":{\"items\":[{\"type\":\"object\",\"name\":\"LegendItem\",\"id\":\"p2021\",\"attributes\":{\"label\":{\"type\":\"value\",\"value\":\"name\"},\"renderers\":[{\"id\":\"p2017\"}]}}]}},{\"type\":\"object\",\"name\":\"LabelSet\",\"id\":\"p2025\",\"attributes\":{\"source\":{\"type\":\"object\",\"name\":\"ColumnDataSource\",\"id\":\"p2022\",\"attributes\":{\"selected\":{\"type\":\"object\",\"name\":\"Selection\",\"id\":\"p2023\",\"attributes\":{\"indices\":[],\"line_indices\":[]}},\"selection_policy\":{\"type\":\"object\",\"name\":\"UnionRenderers\",\"id\":\"p2024\"},\"data\":{\"type\":\"map\",\"entries\":[[\"name\",[\"\\u77f3\\u6cb9\",\"\\u77f3\\u70ad\",\"\\u5929\\u7136\\u30ac\\u30b9\",\"\\u539f\\u5b50\\u529b\",\"\\u6c34\\u529b\",\"\\u65b0\\u30a8\\u30cd\\u30eb\\u30ae\\u30fc\\u30fb\\u5730\\u71b1\\u7b49\"]],[\"angle\",[2.7824672685973,1.4666801437508545,1.5391087928249705,0.04225004529323449,0.19917878495381974,0.2535002717594069]],[\"cumulative_angle\",[1.39123363429865,3.515807340472728,5.01870180876064,5.809381227819742,5.93009564294327,6.156435171299882]],[\"percent\",[44.28434197886648,23.34293948126801,24.49567723342939,0.6724303554274736,3.170028818443804,4.034582132564841]],[\"color\",[\"#1f77b4\",\"#ff7f0e\",\"#2ca02c\",\"#d62728\",\"#9467bd\",\"#8c564b\"]],[\"sin\",{\"type\":\"ndarray\",\"array\":{\"type\":\"bytes\",\"data\":\"o3bNATsw2T+EoxJVOrfCv7rlt9eKaNi/AOhNfntcx7/3RGdEc7TBv5WyTAWU46m/\"},\"shape\":[6],\"dtype\":\"float64\",\"order\":\"little\"}],[\"cos\",{\"type\":\"ndarray\",\"array\":{\"type\":\"bytes\",\"data\":\"vZY+td9Jsj9gDxTVDtTXv9yk30TT4L4/S5qNJ6bH1j8Rjm/tTAXYPzrZZNUGZdk/\"},\"shape\":[6],\"dtype\":\"float64\",\"order\":\"little\"}],[\"label\",[\"44.3%\",\"23.3%\",\"24.5%\",\"0.7%\",\"3.2%\",\"4.0%\"]]]}}},\"x\":{\"type\":\"field\",\"field\":\"cos\"},\"y\":{\"type\":\"field\",\"field\":\"sin\"},\"text\":{\"type\":\"field\",\"field\":\"label\"},\"text_color\":{\"type\":\"value\",\"value\":\"black\"},\"text_font_size\":{\"type\":\"value\",\"value\":\"18pt\"},\"text_align\":{\"type\":\"value\",\"value\":\"center\"}}}]}}]}};\n  const render_items = [{\"docid\":\"8909f7c6-f5a8-43b6-a1db-e6b2c5e17992\",\"roots\":{\"p1973\":\"d1ba56f4-4989-469e-b6a1-be661822ce4c\"},\"root_ids\":[\"p1973\"]}];\n  void root.Bokeh.embed.embed_items_notebook(docs_json, render_items);\n  }\n  if (root.Bokeh !== undefined) {\n    embed_document(root);\n  } else {\n    let attempts = 0;\n    const timer = setInterval(function(root) {\n      if (root.Bokeh !== undefined) {\n        clearInterval(timer);\n        embed_document(root);\n      } else {\n        attempts++;\n        if (attempts > 100) {\n          clearInterval(timer);\n          console.log(\"Bokeh: ERROR: Unable to run BokehJS code because BokehJS library is missing\");\n        }\n      }\n    }, 10, root)\n  }\n})(window);",
      "application/vnd.bokehjs_exec.v0+json": ""
     },
     "metadata": {
      "application/vnd.bokehjs_exec.v0+json": {
       "id": "p1973"
      }
     },
     "output_type": "display_data"
    }
   ],
   "source": [
    "from bokeh.transform import cumsum\n",
    "from bokeh.models import LabelSet\n",
    "\n",
    "plot = figure(height=600, width=600, title=\"1965年\")\n",
    "\n",
    "plot.wedge(\n",
    "    source=ColumnDataSource(pie_1965_data),\n",
    "    x=0,\n",
    "    y=0,\n",
    "    radius=0.7,\n",
    "    start_angle=cumsum(\"angle\", include_zero=True),\n",
    "    end_angle=cumsum(\"angle\"),\n",
    "    line_color=\"white\",\n",
    "    fill_color=\"color\",\n",
    "    legend_label=\"name\",\n",
    ")\n",
    "\n",
    "labels = LabelSet(\n",
    "    source=ColumnDataSource(pie_1965_data),\n",
    "    x=\"cos\",\n",
    "    y=\"sin\",\n",
    "    text=\"label\",\n",
    "    text_font_size=\"18pt\",\n",
    "    text_color=\"black\",\n",
    "    text_align=\"center\",\n",
    ")\n",
    "\n",
    "plot.add_layout(labels)\n",
    "plot.axis.axis_label = None\n",
    "plot.axis.visible = False\n",
    "plot.grid.grid_line_color = None\n",
    "show(plot)\n",
    "\n",
    "plot = figure(height=600, width=600, title=\"2012年\")\n",
    "\n",
    "plot.wedge(\n",
    "    source=ColumnDataSource(pie_2012_data),\n",
    "    x=0,\n",
    "    y=0,\n",
    "    radius=0.7,\n",
    "    start_angle=cumsum(\"angle\", include_zero=True),\n",
    "    end_angle=cumsum(\"angle\"),\n",
    "    line_color=\"white\",\n",
    "    fill_color=\"color\",\n",
    "    legend_label=\"name\",\n",
    ")\n",
    "\n",
    "labels = LabelSet(\n",
    "    source=ColumnDataSource(pie_2012_data),\n",
    "    x=\"cos\",\n",
    "    y=\"sin\",\n",
    "    text=\"label\",\n",
    "    text_font_size=\"18pt\",\n",
    "    text_color=\"black\",\n",
    "    text_align=\"center\",\n",
    ")\n",
    "\n",
    "plot.add_layout(labels)\n",
    "plot.axis.axis_label = None\n",
    "plot.axis.visible = False\n",
    "plot.grid.grid_line_color = None\n",
    "\n",
    "show(plot)"
   ]
  },
  {
   "cell_type": "markdown",
   "metadata": {},
   "source": [
    "## ヒストグラム"
   ]
  },
  {
   "cell_type": "code",
   "execution_count": 20,
   "metadata": {},
   "outputs": [
    {
     "name": "stdout",
     "output_type": "stream",
     "text": [
      "cutの種類 5\n"
     ]
    },
    {
     "data": {
      "text/html": [
       "<div>\n",
       "<style scoped>\n",
       "    .dataframe tbody tr th:only-of-type {\n",
       "        vertical-align: middle;\n",
       "    }\n",
       "\n",
       "    .dataframe tbody tr th {\n",
       "        vertical-align: top;\n",
       "    }\n",
       "\n",
       "    .dataframe thead th {\n",
       "        text-align: right;\n",
       "    }\n",
       "</style>\n",
       "<table border=\"1\" class=\"dataframe\">\n",
       "  <thead>\n",
       "    <tr style=\"text-align: right;\">\n",
       "      <th></th>\n",
       "      <th>carat</th>\n",
       "      <th>cut</th>\n",
       "      <th>color</th>\n",
       "      <th>clarity</th>\n",
       "      <th>depth</th>\n",
       "      <th>table</th>\n",
       "      <th>price</th>\n",
       "      <th>x</th>\n",
       "      <th>y</th>\n",
       "      <th>z</th>\n",
       "    </tr>\n",
       "  </thead>\n",
       "  <tbody>\n",
       "    <tr>\n",
       "      <th>0</th>\n",
       "      <td>0.23</td>\n",
       "      <td>Ideal</td>\n",
       "      <td>E</td>\n",
       "      <td>SI2</td>\n",
       "      <td>61.5</td>\n",
       "      <td>55.0</td>\n",
       "      <td>326</td>\n",
       "      <td>3.95</td>\n",
       "      <td>3.98</td>\n",
       "      <td>2.43</td>\n",
       "    </tr>\n",
       "    <tr>\n",
       "      <th>1</th>\n",
       "      <td>0.21</td>\n",
       "      <td>Premium</td>\n",
       "      <td>E</td>\n",
       "      <td>SI1</td>\n",
       "      <td>59.8</td>\n",
       "      <td>61.0</td>\n",
       "      <td>326</td>\n",
       "      <td>3.89</td>\n",
       "      <td>3.84</td>\n",
       "      <td>2.31</td>\n",
       "    </tr>\n",
       "    <tr>\n",
       "      <th>2</th>\n",
       "      <td>0.23</td>\n",
       "      <td>Good</td>\n",
       "      <td>E</td>\n",
       "      <td>VS1</td>\n",
       "      <td>56.9</td>\n",
       "      <td>65.0</td>\n",
       "      <td>327</td>\n",
       "      <td>4.05</td>\n",
       "      <td>4.07</td>\n",
       "      <td>2.31</td>\n",
       "    </tr>\n",
       "    <tr>\n",
       "      <th>3</th>\n",
       "      <td>0.29</td>\n",
       "      <td>Premium</td>\n",
       "      <td>I</td>\n",
       "      <td>VS2</td>\n",
       "      <td>62.4</td>\n",
       "      <td>58.0</td>\n",
       "      <td>334</td>\n",
       "      <td>4.20</td>\n",
       "      <td>4.23</td>\n",
       "      <td>2.63</td>\n",
       "    </tr>\n",
       "    <tr>\n",
       "      <th>4</th>\n",
       "      <td>0.31</td>\n",
       "      <td>Good</td>\n",
       "      <td>J</td>\n",
       "      <td>SI2</td>\n",
       "      <td>63.3</td>\n",
       "      <td>58.0</td>\n",
       "      <td>335</td>\n",
       "      <td>4.34</td>\n",
       "      <td>4.35</td>\n",
       "      <td>2.75</td>\n",
       "    </tr>\n",
       "  </tbody>\n",
       "</table>\n",
       "</div>"
      ],
      "text/plain": [
       "   carat      cut color clarity  depth  table  price     x     y     z\n",
       "0   0.23    Ideal     E     SI2   61.5   55.0    326  3.95  3.98  2.43\n",
       "1   0.21  Premium     E     SI1   59.8   61.0    326  3.89  3.84  2.31\n",
       "2   0.23     Good     E     VS1   56.9   65.0    327  4.05  4.07  2.31\n",
       "3   0.29  Premium     I     VS2   62.4   58.0    334  4.20  4.23  2.63\n",
       "4   0.31     Good     J     SI2   63.3   58.0    335  4.34  4.35  2.75"
      ]
     },
     "execution_count": 20,
     "metadata": {},
     "output_type": "execute_result"
    }
   ],
   "source": [
    "hist_df = pd.read_csv(\"../data/diamond.csv\")\n",
    "print(\"cutの種類\", len(hist_df[\"cut\"].unique()))\n",
    "\n",
    "hist_data = {\n",
    "    \"cut\": list(hist_df[\"cut\"].unique()),\n",
    "}\n",
    "\n",
    "for cut in hist_df[\"cut\"].unique():\n",
    "    price_per_cut_type = hist_df[hist_df[\"cut\"] == cut][\"price\"].to_numpy()\n",
    "    price_hist, price_edge = np.histogram(price_per_cut_type, bins=250)\n",
    "    hist_data[f\"{cut}_price_hist\"] = price_hist\n",
    "    hist_data[f\"{cut}_price_edge\"] = price_edge\n",
    "\n",
    "hist_df.head()"
   ]
  },
  {
   "cell_type": "code",
   "execution_count": 21,
   "metadata": {},
   "outputs": [
    {
     "data": {
      "text/html": [
       "\n",
       "  <div id=\"ded1cb53-7f3e-4fd7-a0fc-5c37c88b083d\" data-root-id=\"p2243\" style=\"display: contents;\"></div>\n"
      ]
     },
     "metadata": {},
     "output_type": "display_data"
    },
    {
     "data": {
      "application/javascript": "(function(root) {\n  function embed_document(root) {\n  const docs_json = {\"ee649d8c-3a6e-4e12-9dd3-5dc98aca11af\":{\"version\":\"3.4.1\",\"title\":\"Bokeh Application\",\"roots\":[{\"type\":\"object\",\"name\":\"Column\",\"id\":\"p2243\",\"attributes\":{\"children\":[{\"type\":\"object\",\"name\":\"Figure\",\"id\":\"p2033\",\"attributes\":{\"width\":700,\"height\":300,\"x_range\":{\"type\":\"object\",\"name\":\"DataRange1d\",\"id\":\"p2034\"},\"y_range\":{\"type\":\"object\",\"name\":\"DataRange1d\",\"id\":\"p2035\",\"attributes\":{\"start\":0,\"end\":1200}},\"x_scale\":{\"type\":\"object\",\"name\":\"LinearScale\",\"id\":\"p2043\"},\"y_scale\":{\"type\":\"object\",\"name\":\"LinearScale\",\"id\":\"p2044\"},\"title\":{\"type\":\"object\",\"name\":\"Title\",\"id\":\"p2036\",\"attributes\":{\"text\":\"cut = Ideal\",\"text_font_size\":\"24px\"}},\"outline_line_color\":\"black\",\"outline_line_width\":2,\"renderers\":[{\"type\":\"object\",\"name\":\"GlyphRenderer\",\"id\":\"p2072\",\"attributes\":{\"data_source\":{\"type\":\"object\",\"name\":\"ColumnDataSource\",\"id\":\"p2066\",\"attributes\":{\"selected\":{\"type\":\"object\",\"name\":\"Selection\",\"id\":\"p2067\",\"attributes\":{\"indices\":[],\"line_indices\":[]}},\"selection_policy\":{\"type\":\"object\",\"name\":\"UnionRenderers\",\"id\":\"p2068\"},\"data\":{\"type\":\"map\",\"entries\":[[\"top\",{\"type\":\"ndarray\",\"array\":{\"type\":\"bytes\",\"data\":\"PAAAAHIBAABHAgAA8AIAAMEDAABEBAAAHgQAAAkEAABsAwAA6gIAACsCAAB0AQAAaQEAADABAAAoAQAAZwAAAJwAAABwAQAAgAEAAEsBAAB6AQAALgEAAOwAAADOAAAAuAAAAKMAAADJAAAAyQAAAKkAAAChAAAAtwAAAKcAAACkAAAAkwAAAJgAAACRAAAAegAAAHUAAACaAAAAfgAAAIMAAABsAAAAdgAAAFoAAABZAAAAXAAAAGYAAABMAAAARgAAAEYAAABWAAAAUwAAAFoAAABMAAAAXAAAAFwAAABVAAAAXAAAAGIAAABTAAAAawAAAFkAAABbAAAAZwAAAE0AAABXAAAAYQAAAEUAAABeAAAAOQAAAE4AAAA5AAAAQwAAADMAAABFAAAARgAAADIAAAA1AAAAMgAAACkAAAA7AAAAPgAAAEEAAAA9AAAAPAAAAEIAAAArAAAANQAAACsAAAAuAAAAJAAAAEAAAAAvAAAAMQAAACUAAAAsAAAAMAAAACkAAAA2AAAAIgAAACMAAAAlAAAAJAAAACUAAAAvAAAAIwAAACAAAAArAAAAGAAAACgAAAAbAAAAIgAAACgAAAAqAAAAJAAAACMAAAAmAAAAJQAAACIAAAAcAAAAJgAAACgAAAAiAAAAIgAAACQAAAAlAAAAGAAAABMAAAAZAAAAIwAAABIAAAAZAAAAGwAAABUAAAAcAAAAJwAAABYAAAATAAAAGgAAABkAAAAgAAAAGwAAABoAAAAbAAAAFwAAAB0AAAAhAAAAHwAAAA0AAAASAAAAGQAAABcAAAAWAAAAEQAAAAkAAAAQAAAAEAAAABIAAAATAAAAFQAAAB0AAAANAAAAEAAAABEAAAAPAAAAFAAAABUAAAAcAAAAEAAAABMAAAARAAAAEAAAAAsAAAASAAAAEAAAAAsAAAARAAAADAAAAA0AAAALAAAADAAAAA0AAAAQAAAADQAAAAoAAAARAAAACgAAAAkAAAAOAAAACgAAABIAAAAQAAAADQAAAA4AAAALAAAACwAAAAcAAAAFAAAADAAAAAgAAAALAAAAEQAAAA8AAAAIAAAADAAAAAkAAAALAAAABwAAAA4AAAAXAAAACAAAAA4AAAAGAAAABAAAAAgAAAAMAAAAEAAAAAcAAAALAAAACwAAAAsAAAAQAAAACwAAAAMAAAALAAAACAAAAA0AAAAKAAAAEQAAAAYAAAALAAAADAAAAAcAAAAKAAAABQAAAAgAAAAHAAAADAAAAAcAAAAMAAAACQAAAA4AAAAGAAAADQAAAAoAAAAKAAAABwAAAAUAAAAIAAAADAAAAA==\"},\"shape\":[250],\"dtype\":\"int32\",\"order\":\"little\"}],[\"left\",{\"type\":\"ndarray\",\"array\":{\"type\":\"bytes\",\"data\":\"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\"},\"shape\":[250],\"dtype\":\"float64\",\"order\":\"little\"}],[\"right\",{\"type\":\"ndarray\",\"array\":{\"type\":\"bytes\",\"data\":\"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\"},\"shape\":[250],\"dtype\":\"float64\",\"order\":\"little\"}]]}}},\"view\":{\"type\":\"object\",\"name\":\"CDSView\",\"id\":\"p2073\",\"attributes\":{\"filter\":{\"type\":\"object\",\"name\":\"AllIndices\",\"id\":\"p2074\"}}},\"glyph\":{\"type\":\"object\",\"name\":\"Quad\",\"id\":\"p2069\",\"attributes\":{\"left\":{\"type\":\"field\",\"field\":\"left\"},\"right\":{\"type\":\"field\",\"field\":\"right\"},\"bottom\":{\"type\":\"value\",\"value\":0},\"top\":{\"type\":\"field\",\"field\":\"top\"},\"line_color\":{\"type\":\"value\",\"value\":\"#1a9850\"},\"fill_color\":{\"type\":\"value\",\"value\":\"#1f77b4\"}}},\"nonselection_glyph\":{\"type\":\"object\",\"name\":\"Quad\",\"id\":\"p2070\",\"attributes\":{\"left\":{\"type\":\"field\",\"field\":\"left\"},\"right\":{\"type\":\"field\",\"field\":\"right\"},\"bottom\":{\"type\":\"value\",\"value\":0},\"top\":{\"type\":\"field\",\"field\":\"top\"},\"line_color\":{\"type\":\"value\",\"value\":\"#1a9850\"},\"line_alpha\":{\"type\":\"value\",\"value\":0.1},\"fill_color\":{\"type\":\"value\",\"value\":\"#1f77b4\"},\"fill_alpha\":{\"type\":\"value\",\"value\":0.1},\"hatch_alpha\":{\"type\":\"value\",\"value\":0.1}}},\"muted_glyph\":{\"type\":\"object\",\"name\":\"Quad\",\"id\":\"p2071\",\"attributes\":{\"left\":{\"type\":\"field\",\"field\":\"left\"},\"right\":{\"type\":\"field\",\"field\":\"right\"},\"bottom\":{\"type\":\"value\",\"value\":0},\"top\":{\"type\":\"field\",\"field\":\"top\"},\"line_color\":{\"type\":\"value\",\"value\":\"#1a9850\"},\"line_alpha\":{\"type\":\"value\",\"value\":0.2},\"fill_color\":{\"type\":\"value\",\"value\":\"#1f77b4\"},\"fill_alpha\":{\"type\":\"value\",\"value\":0.2},\"hatch_alpha\":{\"type\":\"value\",\"value\":0.2}}}}}],\"toolbar\":{\"type\":\"object\",\"name\":\"Toolbar\",\"id\":\"p2042\",\"attributes\":{\"tools\":[{\"type\":\"object\",\"name\":\"PanTool\",\"id\":\"p2055\"},{\"type\":\"object\",\"name\":\"WheelZoomTool\",\"id\":\"p2056\",\"attributes\":{\"renderers\":\"auto\"}},{\"type\":\"object\",\"name\":\"BoxZoomTool\",\"id\":\"p2057\",\"attributes\":{\"overlay\":{\"type\":\"object\",\"name\":\"BoxAnnotation\",\"id\":\"p2058\",\"attributes\":{\"syncable\":false,\"level\":\"overlay\",\"visible\":false,\"left\":{\"type\":\"number\",\"value\":\"nan\"},\"right\":{\"type\":\"number\",\"value\":\"nan\"},\"top\":{\"type\":\"number\",\"value\":\"nan\"},\"bottom\":{\"type\":\"number\",\"value\":\"nan\"},\"left_units\":\"canvas\",\"right_units\":\"canvas\",\"top_units\":\"canvas\",\"bottom_units\":\"canvas\",\"line_color\":\"black\",\"line_alpha\":1.0,\"line_width\":2,\"line_dash\":[4,4],\"fill_color\":\"lightgrey\",\"fill_alpha\":0.5}}}},{\"type\":\"object\",\"name\":\"SaveTool\",\"id\":\"p2063\"},{\"type\":\"object\",\"name\":\"ResetTool\",\"id\":\"p2064\"},{\"type\":\"object\",\"name\":\"HelpTool\",\"id\":\"p2065\"}]}},\"left\":[{\"type\":\"object\",\"name\":\"LinearAxis\",\"id\":\"p2050\",\"attributes\":{\"ticker\":{\"type\":\"object\",\"name\":\"BasicTicker\",\"id\":\"p2051\",\"attributes\":{\"num_minor_ticks\":2,\"mantissas\":[1,2,5]}},\"formatter\":{\"type\":\"object\",\"name\":\"BasicTickFormatter\",\"id\":\"p2052\"},\"axis_label\":\"count\",\"axis_label_text_font_size\":\"18px\",\"major_label_policy\":{\"type\":\"object\",\"name\":\"AllLabels\",\"id\":\"p2053\"},\"major_label_text_font_size\":\"14px\"}}],\"below\":[{\"type\":\"object\",\"name\":\"LinearAxis\",\"id\":\"p2045\",\"attributes\":{\"ticker\":{\"type\":\"object\",\"name\":\"BasicTicker\",\"id\":\"p2046\",\"attributes\":{\"mantissas\":[1,2,5]}},\"formatter\":{\"type\":\"object\",\"name\":\"BasicTickFormatter\",\"id\":\"p2047\"},\"axis_label\":\"price\",\"axis_label_text_font_size\":\"18px\",\"major_label_policy\":{\"type\":\"object\",\"name\":\"AllLabels\",\"id\":\"p2048\"},\"major_label_text_font_size\":\"14px\"}}],\"center\":[{\"type\":\"object\",\"name\":\"Grid\",\"id\":\"p2049\",\"attributes\":{\"axis\":{\"id\":\"p2045\"},\"grid_line_color\":null}},{\"type\":\"object\",\"name\":\"Grid\",\"id\":\"p2054\",\"attributes\":{\"dimension\":1,\"axis\":{\"id\":\"p2050\"},\"grid_line_color\":null}}]}},{\"type\":\"object\",\"name\":\"Figure\",\"id\":\"p2075\",\"attributes\":{\"width\":700,\"height\":300,\"x_range\":{\"type\":\"object\",\"name\":\"DataRange1d\",\"id\":\"p2076\"},\"y_range\":{\"type\":\"object\",\"name\":\"DataRange1d\",\"id\":\"p2077\",\"attributes\":{\"start\":0,\"end\":1200}},\"x_scale\":{\"type\":\"object\",\"name\":\"LinearScale\",\"id\":\"p2085\"},\"y_scale\":{\"type\":\"object\",\"name\":\"LinearScale\",\"id\":\"p2086\"},\"title\":{\"type\":\"object\",\"name\":\"Title\",\"id\":\"p2078\",\"attributes\":{\"text\":\"cut = Premium\",\"text_font_size\":\"24px\"}},\"outline_line_color\":\"black\",\"outline_line_width\":2,\"renderers\":[{\"type\":\"object\",\"name\":\"GlyphRenderer\",\"id\":\"p2114\",\"attributes\":{\"data_source\":{\"type\":\"object\",\"name\":\"ColumnDataSource\",\"id\":\"p2108\",\"attributes\":{\"selected\":{\"type\":\"object\",\"name\":\"Selection\",\"id\":\"p2109\",\"attributes\":{\"indices\":[],\"line_indices\":[]}},\"selection_policy\":{\"type\":\"object\",\"name\":\"UnionRenderers\",\"id\":\"p2110\"},\"data\":{\"type\":\"map\",\"entries\":[[\"top\",{\"type\":\"ndarray\",\"array\":{\"type\":\"bytes\",\"data\":\"KgAAAIIAAAD5AAAAqQEAALQBAAAAAgAA4gEAALoBAAC5AQAAmwEAAEIBAACmAAAAowAAAHUAAAB6AAAAIAAAAFUAAACyAAAAiwAAAJMAAACnAAAAfQAAAGUAAABTAAAARwAAAGEAAABqAAAArQAAAFsAAABnAAAAVwAAAFQAAABhAAAAmwAAAGwAAAA7AAAAOgAAADwAAAA1AAAAMQAAADwAAABKAAAAQAAAADwAAABKAAAAUwAAAFIAAABUAAAATgAAAE4AAABvAAAAawAAAHEAAABnAAAAewAAAGoAAABsAAAAUwAAAHoAAABrAAAAXAAAAEwAAABkAAAAWAAAAFQAAABpAAAAUgAAAFcAAABLAAAAQwAAAEgAAABHAAAAQwAAAEcAAAA7AAAARQAAADYAAABBAAAASgAAADYAAAA2AAAAOAAAADUAAAA4AAAANQAAADMAAAAzAAAAJAAAACUAAAAoAAAAIwAAACQAAAAhAAAAKAAAACYAAAApAAAAIgAAACsAAAApAAAAIQAAACkAAAAqAAAAFQAAACQAAAAWAAAAHgAAABoAAAAVAAAAGAAAABsAAAAbAAAAIwAAABsAAAAjAAAAIwAAACcAAAAZAAAAGgAAABYAAAAQAAAAGwAAABwAAAASAAAAGAAAABoAAAARAAAAHQAAABYAAAAPAAAAGQAAABUAAAAoAAAADwAAABIAAAASAAAAFAAAABcAAAAXAAAAEwAAABEAAAAXAAAAEwAAABIAAAAbAAAAFAAAABwAAAAhAAAAGwAAAA4AAAAWAAAAFwAAABIAAAASAAAAEQAAAA0AAAAaAAAADAAAABAAAAAVAAAACwAAABMAAAASAAAAFQAAABMAAAAQAAAADAAAAA8AAAAPAAAAEwAAABAAAAALAAAAEQAAABoAAAAQAAAAEwAAABUAAAATAAAACwAAAAwAAAARAAAADQAAABoAAAAQAAAADwAAAA0AAAALAAAADAAAABcAAAAQAAAAEwAAABMAAAANAAAADwAAAA0AAAAMAAAACAAAAA4AAAAQAAAACQAAAA4AAAAPAAAADwAAAA4AAAAPAAAACwAAAA8AAAAGAAAADAAAAAYAAAAQAAAADgAAABMAAAAJAAAACgAAAA4AAAANAAAACgAAAAoAAAAJAAAACAAAAAsAAAAMAAAAFgAAAAkAAAAOAAAADwAAAAoAAAAUAAAAEQAAAAcAAAAJAAAACAAAAAsAAAAKAAAACwAAAAwAAAALAAAACAAAAAkAAAAIAAAACQAAAAoAAAAMAAAACgAAAAwAAAAHAAAABgAAAAQAAAAOAAAABwAAAA==\"},\"shape\":[250],\"dtype\":\"int32\",\"order\":\"little\"}],[\"left\",{\"type\":\"ndarray\",\"array\":{\"type\":\"bytes\",\"data\":\"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\"},\"shape\":[250],\"dtype\":\"float64\",\"order\":\"little\"}],[\"right\",{\"type\":\"ndarray\",\"array\":{\"type\":\"bytes\",\"data\":\"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\"},\"shape\":[250],\"dtype\":\"float64\",\"order\":\"little\"}]]}}},\"view\":{\"type\":\"object\",\"name\":\"CDSView\",\"id\":\"p2115\",\"attributes\":{\"filter\":{\"type\":\"object\",\"name\":\"AllIndices\",\"id\":\"p2116\"}}},\"glyph\":{\"type\":\"object\",\"name\":\"Quad\",\"id\":\"p2111\",\"attributes\":{\"left\":{\"type\":\"field\",\"field\":\"left\"},\"right\":{\"type\":\"field\",\"field\":\"right\"},\"bottom\":{\"type\":\"value\",\"value\":0},\"top\":{\"type\":\"field\",\"field\":\"top\"},\"line_color\":{\"type\":\"value\",\"value\":\"#91cf60\"},\"fill_color\":{\"type\":\"value\",\"value\":\"#1f77b4\"}}},\"nonselection_glyph\":{\"type\":\"object\",\"name\":\"Quad\",\"id\":\"p2112\",\"attributes\":{\"left\":{\"type\":\"field\",\"field\":\"left\"},\"right\":{\"type\":\"field\",\"field\":\"right\"},\"bottom\":{\"type\":\"value\",\"value\":0},\"top\":{\"type\":\"field\",\"field\":\"top\"},\"line_color\":{\"type\":\"value\",\"value\":\"#91cf60\"},\"line_alpha\":{\"type\":\"value\",\"value\":0.1},\"fill_color\":{\"type\":\"value\",\"value\":\"#1f77b4\"},\"fill_alpha\":{\"type\":\"value\",\"value\":0.1},\"hatch_alpha\":{\"type\":\"value\",\"value\":0.1}}},\"muted_glyph\":{\"type\":\"object\",\"name\":\"Quad\",\"id\":\"p2113\",\"attributes\":{\"left\":{\"type\":\"field\",\"field\":\"left\"},\"right\":{\"type\":\"field\",\"field\":\"right\"},\"bottom\":{\"type\":\"value\",\"value\":0},\"top\":{\"type\":\"field\",\"field\":\"top\"},\"line_color\":{\"type\":\"value\",\"value\":\"#91cf60\"},\"line_alpha\":{\"type\":\"value\",\"value\":0.2},\"fill_color\":{\"type\":\"value\",\"value\":\"#1f77b4\"},\"fill_alpha\":{\"type\":\"value\",\"value\":0.2},\"hatch_alpha\":{\"type\":\"value\",\"value\":0.2}}}}}],\"toolbar\":{\"type\":\"object\",\"name\":\"Toolbar\",\"id\":\"p2084\",\"attributes\":{\"tools\":[{\"type\":\"object\",\"name\":\"PanTool\",\"id\":\"p2097\"},{\"type\":\"object\",\"name\":\"WheelZoomTool\",\"id\":\"p2098\",\"attributes\":{\"renderers\":\"auto\"}},{\"type\":\"object\",\"name\":\"BoxZoomTool\",\"id\":\"p2099\",\"attributes\":{\"overlay\":{\"type\":\"object\",\"name\":\"BoxAnnotation\",\"id\":\"p2100\",\"attributes\":{\"syncable\":false,\"level\":\"overlay\",\"visible\":false,\"left\":{\"type\":\"number\",\"value\":\"nan\"},\"right\":{\"type\":\"number\",\"value\":\"nan\"},\"top\":{\"type\":\"number\",\"value\":\"nan\"},\"bottom\":{\"type\":\"number\",\"value\":\"nan\"},\"left_units\":\"canvas\",\"right_units\":\"canvas\",\"top_units\":\"canvas\",\"bottom_units\":\"canvas\",\"line_color\":\"black\",\"line_alpha\":1.0,\"line_width\":2,\"line_dash\":[4,4],\"fill_color\":\"lightgrey\",\"fill_alpha\":0.5}}}},{\"type\":\"object\",\"name\":\"SaveTool\",\"id\":\"p2105\"},{\"type\":\"object\",\"name\":\"ResetTool\",\"id\":\"p2106\"},{\"type\":\"object\",\"name\":\"HelpTool\",\"id\":\"p2107\"}]}},\"left\":[{\"type\":\"object\",\"name\":\"LinearAxis\",\"id\":\"p2092\",\"attributes\":{\"ticker\":{\"type\":\"object\",\"name\":\"BasicTicker\",\"id\":\"p2093\",\"attributes\":{\"num_minor_ticks\":2,\"mantissas\":[1,2,5]}},\"formatter\":{\"type\":\"object\",\"name\":\"BasicTickFormatter\",\"id\":\"p2094\"},\"axis_label\":\"count\",\"axis_label_text_font_size\":\"18px\",\"major_label_policy\":{\"type\":\"object\",\"name\":\"AllLabels\",\"id\":\"p2095\"},\"major_label_text_font_size\":\"14px\"}}],\"below\":[{\"type\":\"object\",\"name\":\"LinearAxis\",\"id\":\"p2087\",\"attributes\":{\"ticker\":{\"type\":\"object\",\"name\":\"BasicTicker\",\"id\":\"p2088\",\"attributes\":{\"mantissas\":[1,2,5]}},\"formatter\":{\"type\":\"object\",\"name\":\"BasicTickFormatter\",\"id\":\"p2089\"},\"axis_label\":\"price\",\"axis_label_text_font_size\":\"18px\",\"major_label_policy\":{\"type\":\"object\",\"name\":\"AllLabels\",\"id\":\"p2090\"},\"major_label_text_font_size\":\"14px\"}}],\"center\":[{\"type\":\"object\",\"name\":\"Grid\",\"id\":\"p2091\",\"attributes\":{\"axis\":{\"id\":\"p2087\"},\"grid_line_color\":null}},{\"type\":\"object\",\"name\":\"Grid\",\"id\":\"p2096\",\"attributes\":{\"dimension\":1,\"axis\":{\"id\":\"p2092\"},\"grid_line_color\":null}}]}},{\"type\":\"object\",\"name\":\"Figure\",\"id\":\"p2117\",\"attributes\":{\"width\":700,\"height\":300,\"x_range\":{\"type\":\"object\",\"name\":\"DataRange1d\",\"id\":\"p2118\"},\"y_range\":{\"type\":\"object\",\"name\":\"DataRange1d\",\"id\":\"p2119\",\"attributes\":{\"start\":0,\"end\":1200}},\"x_scale\":{\"type\":\"object\",\"name\":\"LinearScale\",\"id\":\"p2127\"},\"y_scale\":{\"type\":\"object\",\"name\":\"LinearScale\",\"id\":\"p2128\"},\"title\":{\"type\":\"object\",\"name\":\"Title\",\"id\":\"p2120\",\"attributes\":{\"text\":\"cut = Good\",\"text_font_size\":\"24px\"}},\"outline_line_color\":\"black\",\"outline_line_width\":2,\"renderers\":[{\"type\":\"object\",\"name\":\"GlyphRenderer\",\"id\":\"p2156\",\"attributes\":{\"data_source\":{\"type\":\"object\",\"name\":\"ColumnDataSource\",\"id\":\"p2150\",\"attributes\":{\"selected\":{\"type\":\"object\",\"name\":\"Selection\",\"id\":\"p2151\",\"attributes\":{\"indices\":[],\"line_indices\":[]}},\"selection_policy\":{\"type\":\"object\",\"name\":\"UnionRenderers\",\"id\":\"p2152\"},\"data\":{\"type\":\"map\",\"entries\":[[\"top\",{\"type\":\"ndarray\",\"array\":{\"type\":\"bytes\",\"data\":\"MgAAAHgAAAC6AAAAwgAAAK0AAACPAAAAXQAAAEUAAABOAAAALwAAAEEAAABJAAAAVQAAAEkAAABIAAAAGwAAABYAAAAwAAAAMwAAADYAAAAwAAAAKwAAACQAAAA6AAAAMwAAADQAAAA8AAAAQQAAADcAAAAhAAAAJQAAACEAAAAnAAAAJwAAAB0AAAAdAAAAGwAAACgAAAAmAAAAJgAAADAAAAAwAAAAIQAAACIAAAAvAAAAKAAAADwAAAAvAAAAOwAAADkAAAAtAAAANQAAAEQAAAA7AAAAJwAAADkAAAA+AAAANwAAACgAAAAiAAAAIQAAACIAAAAcAAAAJAAAABcAAAAVAAAAHQAAABQAAAATAAAAFQAAABcAAAAaAAAAFQAAABIAAAATAAAAEwAAABMAAAATAAAAEwAAABoAAAAWAAAADwAAABMAAAARAAAABwAAAAwAAAARAAAACwAAAA8AAAANAAAADQAAAA4AAAAOAAAAEwAAAA0AAAAKAAAACwAAAA8AAAAEAAAACgAAAAgAAAAIAAAACQAAAAgAAAAJAAAADQAAAAgAAAALAAAABwAAAAgAAAAHAAAABgAAAAIAAAAOAAAABwAAAAcAAAANAAAACgAAAAcAAAAIAAAABQAAAAcAAAAGAAAAAwAAAAQAAAAEAAAABwAAAAYAAAAGAAAABwAAAAUAAAABAAAACQAAAAUAAAAFAAAAAgAAAAUAAAACAAAAAgAAAAUAAAAFAAAABQAAAAUAAAACAAAAAwAAAAUAAAAEAAAABAAAAAQAAAAFAAAAAQAAAAkAAAAFAAAAAgAAAAYAAAAFAAAAAwAAAAQAAAABAAAAAwAAAAIAAAAFAAAAAgAAAAMAAAADAAAABQAAAAIAAAAEAAAABgAAAAIAAAAEAAAABQAAAAIAAAAEAAAABAAAAAYAAAABAAAAAQAAAAYAAAAEAAAABQAAAAEAAAACAAAABQAAAAUAAAAFAAAAAQAAAAMAAAAEAAAAAgAAAAMAAAADAAAAAQAAAAEAAAAEAAAAAwAAAAEAAAAEAAAABAAAAAYAAAADAAAAAQAAAAMAAAADAAAAAwAAAAEAAAABAAAAAwAAAAIAAAAEAAAAAwAAAAQAAAADAAAAAgAAAAIAAAAHAAAABAAAAAMAAAACAAAABAAAAAMAAAACAAAABQAAAAEAAAAAAAAAAAAAAAEAAAAEAAAAAAAAAAAAAAAEAAAABAAAAAMAAAADAAAAAQAAAAEAAAADAAAAAgAAAAMAAAADAAAAAgAAAAAAAAADAAAAAgAAAAIAAAADAAAAAwAAAAQAAAACAAAAAQAAAA==\"},\"shape\":[250],\"dtype\":\"int32\",\"order\":\"little\"}],[\"left\",{\"type\":\"ndarray\",\"array\":{\"type\":\"bytes\",\"data\":\"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\"},\"shape\":[250],\"dtype\":\"float64\",\"order\":\"little\"}],[\"right\",{\"type\":\"ndarray\",\"array\":{\"type\":\"bytes\",\"data\":\"L90kBoENeUBeukkMAqt9QMZLN4lBJIFAXrpJDAJzg0D2KFyPwsGFQI2XbhKDEIhAJAaBlUNfikC8dJMYBK6MQFTjpZvE/I5A9ihcj8KlkEBBYOXQIs2RQI2XbhKD9JJA2c73U+MblEAkBoGVQ0OVQHA9CtejapZAvHSTGASSl0AIrBxaZLmYQFTjpZvE4JlAnxov3SQIm0DrUbgehS+cQDeJQWDlVp1AgsDKoUV+nkDO91PjpaWfQI2XbhKDZqBAMzMzMzP6oEDZzvdT442hQH5qvHSTIaJAJAaBlUO1okDKoUW280ijQHA9Ctej3KNAFtnO91NwpEC8dJMYBASlQGIQWDm0l6VACKwcWmQrpkCuR+F6FL+mQFTjpZvEUqdA+X5qvHTmp0CfGi/dJHqoQEW28/3UDalA61G4HoWhqUCR7Xw/NTWqQDeJQWDlyKpA3SQGgZVcq0CCwMqhRfCrQChcj8L1g6xAzvdT46UXrUB0kxgEVqutQBov3SQGP65AwMqhRbbSrkBmZmZmZmavQAwCK4cW+q9A2c73U+NGsECsHFpku5CwQH5qvHST2rBAUrgehWsksUAkBoGVQ26xQPdT46UbuLFAyqFFtvMBskCd76fGy0uyQHA9CtejlbJAQ4ts53vfskAW2c73UymzQOkmMQgsc7NAvHSTGAS9s0CPwvUo3Aa0QGIQWDm0ULRANV66SYyatEAIrBxaZOS0QNv5fmo8LrVArkfhehR4tUCBlUOL7MG1QFTjpZvEC7ZAJjEIrJxVtkD5fmq8dJ+2QMzMzMxM6bZAnxov3SQzt0ByaJHt/Hy3QEW28/3UxrdAGARWDq0QuEDrUbgehVq4QL6fGi9dpLhAke18PzXuuEBkO99PDTi5QDeJQWDlgblACtejcL3LuUDdJAaBlRW6QLByaJFtX7pAgsDKoUWpukBVDi2yHfO6QChcj8L1PLtA+6nx0s2Gu0DO91PjpdC7QKFFtvN9GrxAdJMYBFZkvEBH4XoULq68QBov3SQG+LxA7Xw/Nd5BvUDAyqFFtou9QJMYBFaO1b1AZmZmZmYfvkA5tMh2Pmm+QAwCK4cWs75A30+Nl+78vkCyne+nxka/QITrUbiekL9AVzm0yHbav0CVQ4tsJxLAQH5qvHQTN8BAaJHtfP9bwEBSuB6F64DAQDvfT43XpcBAJAaBlcPKwEAOLbKdr+/AQPdT46WbFMFA4XoUroc5wUDKoUW2c17BQLTIdr5fg8FAne+nxkuowUCHFtnON83BQHA9Ctcj8sFAWmQ73w8XwkBDi2zn+zvCQC2yne/nYMJAFtnO99OFwkAAAAAAwKrCQOkmMQisz8JA001iEJj0wkC8dJMYhBnDQKWbxCBwPsNAj8L1KFxjw0B46SYxSIjDQGIQWDk0rcNASzeJQSDSw0A1XrpJDPfDQB6F61H4G8RACKwcWuRAxEDx0k1i0GXEQNv5fmq8isRAxCCwcqivxECuR+F6lNTEQJduEoOA+cRAgZVDi2wexUBqvHSTWEPFQFTjpZtEaMVAPQrXozCNxUAmMQisHLLFQBBYObQI18VA+X5qvPT7xUDjpZvE4CDGQMzMzMzMRcZAtvP91LhqxkCfGi/dpI/GQIlBYOWQtMZAcmiR7XzZxkBcj8L1aP7GQEW28/1UI8dAL90kBkFIx0AYBFYOLW3HQAIrhxYZksdA61G4HgW3x0DUeOkm8dvHQL6fGi/dAMhAp8ZLN8klyECR7Xw/tUrIQHoUrkehb8hAZDvfT42UyEBNYhBYebnIQDeJQWBl3shAILByaFEDyUAK16NwPSjJQPP91HgpTclA3SQGgRVyyUDGSzeJAZfJQLByaJHtu8lAmZmZmdngyUCCwMqhxQXKQGzn+6mxKspAVQ4tsp1PykA/NV66iXTKQChcj8J1mcpAEoPAymG+ykD7qfHSTePKQOXQIts5CMtAzvdT4yUty0C4HoXrEVLLQKFFtvP9dstAi2zn++mby0B0kxgE1sDLQF66SQzC5ctAR+F6FK4KzEAxCKwcmi/MQBov3SSGVMxAA1YOLXJ5zEDtfD81Xp7MQNajcD1Kw8xAwMqhRTbozECp8dJNIg3NQJMYBFYOMs1AfD81XvpWzUBmZmZm5nvNQE+Nl27SoM1AObTIdr7FzUAi2/l+qurNQAwCK4eWD85A9Shcj4I0zkDfT42XblnOQMh2vp9afs5Asp3vp0ajzkCbxCCwMsjOQITrUbge7c5AbhKDwAoSz0BXObTI9jbPQEFg5dDiW89AKocW2c6Az0AUrkfhuqXPQP3UeOmmys9A5/up8ZLvz0Boke18PwrQQN0kBoG1HNBAUrgehSsv0EDGSzeJoUHQQDvfT40XVNBAsHJokY1m0EAkBoGVA3nQQJmZmZl5i9BADi2yne+d0ECDwMqhZbDQQPdT46XbwtBAbOf7qVHV0EDhehSux+fQQFYOLbI9+tBAyqFFtrMM0UA/NV66KR/RQLTIdr6fMdFAKVyPwhVE0UCd76fGi1bRQBKDwMoBadFAhxbZznd70UD8qfHS7Y3RQHA9CtdjoNFA5dAi29my0UBaZDvfT8XRQM73U+PF19FAQ4ts5zvq0UC4HoXrsfzRQC2yne8nD9JAoUW2850h0kAW2c73EzTSQIts5/uJRtJAAAAAAABZ0kA=\"},\"shape\":[250],\"dtype\":\"float64\",\"order\":\"little\"}]]}}},\"view\":{\"type\":\"object\",\"name\":\"CDSView\",\"id\":\"p2157\",\"attributes\":{\"filter\":{\"type\":\"object\",\"name\":\"AllIndices\",\"id\":\"p2158\"}}},\"glyph\":{\"type\":\"object\",\"name\":\"Quad\",\"id\":\"p2153\",\"attributes\":{\"left\":{\"type\":\"field\",\"field\":\"left\"},\"right\":{\"type\":\"field\",\"field\":\"right\"},\"bottom\":{\"type\":\"value\",\"value\":0},\"top\":{\"type\":\"field\",\"field\":\"top\"},\"line_color\":{\"type\":\"value\",\"value\":\"#d9ef8b\"},\"fill_color\":{\"type\":\"value\",\"value\":\"#1f77b4\"}}},\"nonselection_glyph\":{\"type\":\"object\",\"name\":\"Quad\",\"id\":\"p2154\",\"attributes\":{\"left\":{\"type\":\"field\",\"field\":\"left\"},\"right\":{\"type\":\"field\",\"field\":\"right\"},\"bottom\":{\"type\":\"value\",\"value\":0},\"top\":{\"type\":\"field\",\"field\":\"top\"},\"line_color\":{\"type\":\"value\",\"value\":\"#d9ef8b\"},\"line_alpha\":{\"type\":\"value\",\"value\":0.1},\"fill_color\":{\"type\":\"value\",\"value\":\"#1f77b4\"},\"fill_alpha\":{\"type\":\"value\",\"value\":0.1},\"hatch_alpha\":{\"type\":\"value\",\"value\":0.1}}},\"muted_glyph\":{\"type\":\"object\",\"name\":\"Quad\",\"id\":\"p2155\",\"attributes\":{\"left\":{\"type\":\"field\",\"field\":\"left\"},\"right\":{\"type\":\"field\",\"field\":\"right\"},\"bottom\":{\"type\":\"value\",\"value\":0},\"top\":{\"type\":\"field\",\"field\":\"top\"},\"line_color\":{\"type\":\"value\",\"value\":\"#d9ef8b\"},\"line_alpha\":{\"type\":\"value\",\"value\":0.2},\"fill_color\":{\"type\":\"value\",\"value\":\"#1f77b4\"},\"fill_alpha\":{\"type\":\"value\",\"value\":0.2},\"hatch_alpha\":{\"type\":\"value\",\"value\":0.2}}}}}],\"toolbar\":{\"type\":\"object\",\"name\":\"Toolbar\",\"id\":\"p2126\",\"attributes\":{\"tools\":[{\"type\":\"object\",\"name\":\"PanTool\",\"id\":\"p2139\"},{\"type\":\"object\",\"name\":\"WheelZoomTool\",\"id\":\"p2140\",\"attributes\":{\"renderers\":\"auto\"}},{\"type\":\"object\",\"name\":\"BoxZoomTool\",\"id\":\"p2141\",\"attributes\":{\"overlay\":{\"type\":\"object\",\"name\":\"BoxAnnotation\",\"id\":\"p2142\",\"attributes\":{\"syncable\":false,\"level\":\"overlay\",\"visible\":false,\"left\":{\"type\":\"number\",\"value\":\"nan\"},\"right\":{\"type\":\"number\",\"value\":\"nan\"},\"top\":{\"type\":\"number\",\"value\":\"nan\"},\"bottom\":{\"type\":\"number\",\"value\":\"nan\"},\"left_units\":\"canvas\",\"right_units\":\"canvas\",\"top_units\":\"canvas\",\"bottom_units\":\"canvas\",\"line_color\":\"black\",\"line_alpha\":1.0,\"line_width\":2,\"line_dash\":[4,4],\"fill_color\":\"lightgrey\",\"fill_alpha\":0.5}}}},{\"type\":\"object\",\"name\":\"SaveTool\",\"id\":\"p2147\"},{\"type\":\"object\",\"name\":\"ResetTool\",\"id\":\"p2148\"},{\"type\":\"object\",\"name\":\"HelpTool\",\"id\":\"p2149\"}]}},\"left\":[{\"type\":\"object\",\"name\":\"LinearAxis\",\"id\":\"p2134\",\"attributes\":{\"ticker\":{\"type\":\"object\",\"name\":\"BasicTicker\",\"id\":\"p2135\",\"attributes\":{\"num_minor_ticks\":2,\"mantissas\":[1,2,5]}},\"formatter\":{\"type\":\"object\",\"name\":\"BasicTickFormatter\",\"id\":\"p2136\"},\"axis_label\":\"count\",\"axis_label_text_font_size\":\"18px\",\"major_label_policy\":{\"type\":\"object\",\"name\":\"AllLabels\",\"id\":\"p2137\"},\"major_label_text_font_size\":\"14px\"}}],\"below\":[{\"type\":\"object\",\"name\":\"LinearAxis\",\"id\":\"p2129\",\"attributes\":{\"ticker\":{\"type\":\"object\",\"name\":\"BasicTicker\",\"id\":\"p2130\",\"attributes\":{\"mantissas\":[1,2,5]}},\"formatter\":{\"type\":\"object\",\"name\":\"BasicTickFormatter\",\"id\":\"p2131\"},\"axis_label\":\"price\",\"axis_label_text_font_size\":\"18px\",\"major_label_policy\":{\"type\":\"object\",\"name\":\"AllLabels\",\"id\":\"p2132\"},\"major_label_text_font_size\":\"14px\"}}],\"center\":[{\"type\":\"object\",\"name\":\"Grid\",\"id\":\"p2133\",\"attributes\":{\"axis\":{\"id\":\"p2129\"},\"grid_line_color\":null}},{\"type\":\"object\",\"name\":\"Grid\",\"id\":\"p2138\",\"attributes\":{\"dimension\":1,\"axis\":{\"id\":\"p2134\"},\"grid_line_color\":null}}]}},{\"type\":\"object\",\"name\":\"Figure\",\"id\":\"p2159\",\"attributes\":{\"width\":700,\"height\":300,\"x_range\":{\"type\":\"object\",\"name\":\"DataRange1d\",\"id\":\"p2160\"},\"y_range\":{\"type\":\"object\",\"name\":\"DataRange1d\",\"id\":\"p2161\",\"attributes\":{\"start\":0,\"end\":1200}},\"x_scale\":{\"type\":\"object\",\"name\":\"LinearScale\",\"id\":\"p2169\"},\"y_scale\":{\"type\":\"object\",\"name\":\"LinearScale\",\"id\":\"p2170\"},\"title\":{\"type\":\"object\",\"name\":\"Title\",\"id\":\"p2162\",\"attributes\":{\"text\":\"cut = Very Good\",\"text_font_size\":\"24px\"}},\"outline_line_color\":\"black\",\"outline_line_width\":2,\"renderers\":[{\"type\":\"object\",\"name\":\"GlyphRenderer\",\"id\":\"p2198\",\"attributes\":{\"data_source\":{\"type\":\"object\",\"name\":\"ColumnDataSource\",\"id\":\"p2192\",\"attributes\":{\"selected\":{\"type\":\"object\",\"name\":\"Selection\",\"id\":\"p2193\",\"attributes\":{\"indices\":[],\"line_indices\":[]}},\"selection_policy\":{\"type\":\"object\",\"name\":\"UnionRenderers\",\"id\":\"p2194\"},\"data\":{\"type\":\"map\",\"entries\":[[\"top\",{\"type\":\"ndarray\",\"array\":{\"type\":\"bytes\",\"data\":\"hgAAAIgBAAAtAgAAAgIAAP8BAACOAQAAKAEAABcBAACmAAAAqgAAAIQAAACPAAAAoAAAAIUAAAC2AAAAEwAAAGcAAAC4AAAAbQAAAH8AAAByAAAAYQAAAHEAAACGAAAAcQAAAGwAAACSAAAAhwAAAHIAAAB2AAAAdQAAAF4AAABfAAAAYwAAAGEAAABWAAAAXAAAAE0AAABJAAAATgAAAEEAAABFAAAATwAAAEIAAABHAAAATQAAAEsAAABGAAAATgAAAFkAAABSAAAAWAAAAGwAAAB9AAAAUAAAAGkAAABjAAAAWQAAAGEAAABWAAAARAAAAFYAAABCAAAAXAAAADgAAAA3AAAASwAAADAAAAA1AAAANgAAADoAAAA6AAAANAAAADYAAAAlAAAAKgAAAC0AAAAyAAAAMQAAACgAAAAwAAAAIAAAACMAAAAoAAAALgAAACYAAAAnAAAANQAAACYAAAAcAAAAFQAAACYAAAAjAAAAIQAAABYAAAAiAAAAIQAAABkAAAAdAAAAIwAAABwAAAAVAAAAGAAAABcAAAAYAAAADgAAABYAAAARAAAADgAAABcAAAATAAAAEQAAAB0AAAAOAAAAFAAAABMAAAAaAAAAFQAAABEAAAAaAAAAEAAAABYAAAAJAAAAFQAAABQAAAANAAAAEwAAABQAAAAUAAAAEQAAABgAAAAUAAAAEwAAAA0AAAAKAAAAEwAAAA0AAAASAAAADAAAABQAAAAOAAAADgAAAAkAAAAQAAAACQAAAAwAAAAQAAAADAAAAAkAAAANAAAADQAAABEAAAANAAAADwAAABEAAAANAAAADAAAAAwAAAAHAAAACwAAAA4AAAARAAAADgAAAAoAAAAFAAAACQAAAA8AAAAGAAAADQAAAA8AAAAIAAAADQAAAAoAAAAGAAAACgAAAAkAAAAFAAAABAAAAAwAAAAOAAAACAAAAAoAAAAJAAAABgAAAAgAAAAGAAAABgAAAAkAAAALAAAABgAAAAoAAAAIAAAABgAAAAYAAAALAAAADAAAAAUAAAAEAAAACQAAAAoAAAAHAAAACQAAAAcAAAAEAAAACAAAAAYAAAAFAAAACgAAAAgAAAANAAAACQAAAAsAAAAKAAAACQAAAAcAAAAFAAAABQAAAAsAAAAFAAAABQAAAAgAAAAIAAAABwAAAAUAAAAGAAAACQAAAAoAAAAGAAAABgAAAAcAAAADAAAABwAAAAQAAAAFAAAABwAAAAgAAAAEAAAACAAAAAYAAAAKAAAADgAAAAQAAAAGAAAAAgAAAAgAAAAIAAAABgAAAAIAAAAGAAAABQAAAA==\"},\"shape\":[250],\"dtype\":\"int32\",\"order\":\"little\"}],[\"left\",{\"type\":\"ndarray\",\"array\":{\"type\":\"bytes\",\"data\":\"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\"},\"shape\":[250],\"dtype\":\"float64\",\"order\":\"little\"}],[\"right\",{\"type\":\"ndarray\",\"array\":{\"type\":\"bytes\",\"data\":\"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\"},\"shape\":[250],\"dtype\":\"float64\",\"order\":\"little\"}]]}}},\"view\":{\"type\":\"object\",\"name\":\"CDSView\",\"id\":\"p2199\",\"attributes\":{\"filter\":{\"type\":\"object\",\"name\":\"AllIndices\",\"id\":\"p2200\"}}},\"glyph\":{\"type\":\"object\",\"name\":\"Quad\",\"id\":\"p2195\",\"attributes\":{\"left\":{\"type\":\"field\",\"field\":\"left\"},\"right\":{\"type\":\"field\",\"field\":\"right\"},\"bottom\":{\"type\":\"value\",\"value\":0},\"top\":{\"type\":\"field\",\"field\":\"top\"},\"line_color\":{\"type\":\"value\",\"value\":\"#fee08b\"},\"fill_color\":{\"type\":\"value\",\"value\":\"#1f77b4\"}}},\"nonselection_glyph\":{\"type\":\"object\",\"name\":\"Quad\",\"id\":\"p2196\",\"attributes\":{\"left\":{\"type\":\"field\",\"field\":\"left\"},\"right\":{\"type\":\"field\",\"field\":\"right\"},\"bottom\":{\"type\":\"value\",\"value\":0},\"top\":{\"type\":\"field\",\"field\":\"top\"},\"line_color\":{\"type\":\"value\",\"value\":\"#fee08b\"},\"line_alpha\":{\"type\":\"value\",\"value\":0.1},\"fill_color\":{\"type\":\"value\",\"value\":\"#1f77b4\"},\"fill_alpha\":{\"type\":\"value\",\"value\":0.1},\"hatch_alpha\":{\"type\":\"value\",\"value\":0.1}}},\"muted_glyph\":{\"type\":\"object\",\"name\":\"Quad\",\"id\":\"p2197\",\"attributes\":{\"left\":{\"type\":\"field\",\"field\":\"left\"},\"right\":{\"type\":\"field\",\"field\":\"right\"},\"bottom\":{\"type\":\"value\",\"value\":0},\"top\":{\"type\":\"field\",\"field\":\"top\"},\"line_color\":{\"type\":\"value\",\"value\":\"#fee08b\"},\"line_alpha\":{\"type\":\"value\",\"value\":0.2},\"fill_color\":{\"type\":\"value\",\"value\":\"#1f77b4\"},\"fill_alpha\":{\"type\":\"value\",\"value\":0.2},\"hatch_alpha\":{\"type\":\"value\",\"value\":0.2}}}}}],\"toolbar\":{\"type\":\"object\",\"name\":\"Toolbar\",\"id\":\"p2168\",\"attributes\":{\"tools\":[{\"type\":\"object\",\"name\":\"PanTool\",\"id\":\"p2181\"},{\"type\":\"object\",\"name\":\"WheelZoomTool\",\"id\":\"p2182\",\"attributes\":{\"renderers\":\"auto\"}},{\"type\":\"object\",\"name\":\"BoxZoomTool\",\"id\":\"p2183\",\"attributes\":{\"overlay\":{\"type\":\"object\",\"name\":\"BoxAnnotation\",\"id\":\"p2184\",\"attributes\":{\"syncable\":false,\"level\":\"overlay\",\"visible\":false,\"left\":{\"type\":\"number\",\"value\":\"nan\"},\"right\":{\"type\":\"number\",\"value\":\"nan\"},\"top\":{\"type\":\"number\",\"value\":\"nan\"},\"bottom\":{\"type\":\"number\",\"value\":\"nan\"},\"left_units\":\"canvas\",\"right_units\":\"canvas\",\"top_units\":\"canvas\",\"bottom_units\":\"canvas\",\"line_color\":\"black\",\"line_alpha\":1.0,\"line_width\":2,\"line_dash\":[4,4],\"fill_color\":\"lightgrey\",\"fill_alpha\":0.5}}}},{\"type\":\"object\",\"name\":\"SaveTool\",\"id\":\"p2189\"},{\"type\":\"object\",\"name\":\"ResetTool\",\"id\":\"p2190\"},{\"type\":\"object\",\"name\":\"HelpTool\",\"id\":\"p2191\"}]}},\"left\":[{\"type\":\"object\",\"name\":\"LinearAxis\",\"id\":\"p2176\",\"attributes\":{\"ticker\":{\"type\":\"object\",\"name\":\"BasicTicker\",\"id\":\"p2177\",\"attributes\":{\"num_minor_ticks\":2,\"mantissas\":[1,2,5]}},\"formatter\":{\"type\":\"object\",\"name\":\"BasicTickFormatter\",\"id\":\"p2178\"},\"axis_label\":\"count\",\"axis_label_text_font_size\":\"18px\",\"major_label_policy\":{\"type\":\"object\",\"name\":\"AllLabels\",\"id\":\"p2179\"},\"major_label_text_font_size\":\"14px\"}}],\"below\":[{\"type\":\"object\",\"name\":\"LinearAxis\",\"id\":\"p2171\",\"attributes\":{\"ticker\":{\"type\":\"object\",\"name\":\"BasicTicker\",\"id\":\"p2172\",\"attributes\":{\"mantissas\":[1,2,5]}},\"formatter\":{\"type\":\"object\",\"name\":\"BasicTickFormatter\",\"id\":\"p2173\"},\"axis_label\":\"price\",\"axis_label_text_font_size\":\"18px\",\"major_label_policy\":{\"type\":\"object\",\"name\":\"AllLabels\",\"id\":\"p2174\"},\"major_label_text_font_size\":\"14px\"}}],\"center\":[{\"type\":\"object\",\"name\":\"Grid\",\"id\":\"p2175\",\"attributes\":{\"axis\":{\"id\":\"p2171\"},\"grid_line_color\":null}},{\"type\":\"object\",\"name\":\"Grid\",\"id\":\"p2180\",\"attributes\":{\"dimension\":1,\"axis\":{\"id\":\"p2176\"},\"grid_line_color\":null}}]}},{\"type\":\"object\",\"name\":\"Figure\",\"id\":\"p2201\",\"attributes\":{\"width\":700,\"height\":300,\"x_range\":{\"type\":\"object\",\"name\":\"DataRange1d\",\"id\":\"p2202\"},\"y_range\":{\"type\":\"object\",\"name\":\"DataRange1d\",\"id\":\"p2203\",\"attributes\":{\"start\":0,\"end\":1200}},\"x_scale\":{\"type\":\"object\",\"name\":\"LinearScale\",\"id\":\"p2211\"},\"y_scale\":{\"type\":\"object\",\"name\":\"LinearScale\",\"id\":\"p2212\"},\"title\":{\"type\":\"object\",\"name\":\"Title\",\"id\":\"p2204\",\"attributes\":{\"text\":\"cut = Fair\",\"text_font_size\":\"24px\"}},\"outline_line_color\":\"black\",\"outline_line_width\":2,\"renderers\":[{\"type\":\"object\",\"name\":\"GlyphRenderer\",\"id\":\"p2240\",\"attributes\":{\"data_source\":{\"type\":\"object\",\"name\":\"ColumnDataSource\",\"id\":\"p2234\",\"attributes\":{\"selected\":{\"type\":\"object\",\"name\":\"Selection\",\"id\":\"p2235\",\"attributes\":{\"indices\":[],\"line_indices\":[]}},\"selection_policy\":{\"type\":\"object\",\"name\":\"UnionRenderers\",\"id\":\"p2236\"},\"data\":{\"type\":\"map\",\"entries\":[[\"top\",{\"type\":\"ndarray\",\"array\":{\"type\":\"bytes\",\"data\":\"BAAAAAEAAAAEAAAADgAAAA0AAAAPAAAAEgAAAAsAAAAaAAAAHgAAACUAAAAXAAAAFwAAABMAAAAWAAAABgAAAAQAAAAIAAAAGQAAABYAAAAYAAAADgAAABwAAAAXAAAAHwAAABMAAAAWAAAALQAAABwAAAAMAAAAGAAAAAoAAAAWAAAAGgAAACQAAAAQAAAAGwAAABIAAAAcAAAAEgAAABYAAAANAAAADAAAABEAAAAMAAAAEgAAABwAAAAXAAAAEgAAABAAAAARAAAAEgAAAA8AAAARAAAAEwAAAA4AAAAQAAAADQAAAAgAAAARAAAADQAAABIAAAAPAAAABwAAAAkAAAAKAAAACAAAAAgAAAADAAAACAAAAAoAAAAFAAAACAAAAAkAAAAFAAAABQAAAAgAAAAFAAAABQAAAAYAAAAEAAAACgAAAAsAAAAEAAAAAwAAAAUAAAAEAAAABAAAAAUAAAAGAAAAAgAAAAIAAAAIAAAABgAAAAQAAAAIAAAAAwAAAAUAAAADAAAAAQAAAAMAAAACAAAAAwAAAAMAAAAGAAAABgAAAAEAAAABAAAABQAAAAEAAAACAAAAAAAAAAIAAAABAAAABgAAAAQAAAAEAAAAAgAAAAIAAAABAAAAAgAAAAAAAAABAAAAAQAAAAIAAAAAAAAAAgAAAAEAAAADAAAAAQAAAAIAAAAAAAAAAgAAAAIAAAACAAAAAgAAAAAAAAACAAAAAQAAAAIAAAADAAAAAwAAAAQAAAADAAAAAwAAAAEAAAABAAAAAgAAAAUAAAACAAAAAQAAAAEAAAABAAAAAAAAAAEAAAACAAAAAQAAAAAAAAACAAAAAgAAAAAAAAAAAAAAAAAAAAEAAAAAAAAAAAAAAAQAAAADAAAABQAAAAAAAAAEAAAAAQAAAAMAAAACAAAAAAAAAAAAAAAAAAAAAgAAAAIAAAACAAAAAQAAAAMAAAABAAAAAwAAAAMAAAACAAAAAAAAAAAAAAABAAAAAQAAAAIAAAAAAAAAAQAAAAEAAAAAAAAAAAAAAAMAAAABAAAAAQAAAAEAAAACAAAAAQAAAAAAAAABAAAAAQAAAAIAAAAAAAAAAAAAAAMAAAACAAAAAgAAAAIAAAACAAAAAQAAAAEAAAABAAAAAAAAAAAAAAABAAAAAQAAAAEAAAABAAAAAAAAAAAAAAAAAAAAAAAAAAAAAAAAAAAAAgAAAAEAAAAAAAAAAAAAAAEAAAABAAAAAQAAAAAAAAAAAAAAAAAAAAEAAAAAAAAAAQAAAAAAAAADAAAAAAAAAAAAAAACAAAAAQAAAAAAAAAAAAAABAAAAA==\"},\"shape\":[250],\"dtype\":\"int32\",\"order\":\"little\"}],[\"left\",{\"type\":\"ndarray\",\"array\":{\"type\":\"bytes\",\"data\":\"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\"},\"shape\":[250],\"dtype\":\"float64\",\"order\":\"little\"}],[\"right\",{\"type\":\"ndarray\",\"array\":{\"type\":\"bytes\",\"data\":\"ukkMAiufeUB0kxgEVi5+QJhuEoPAXoFAdJMYBFamg0BSuB6F6+2FQC/dJAaBNYhADAIrhxZ9ikDpJjEIrMSMQMZLN4lBDI9AUrgeheupkEDAyqFFts2RQC/dJAaB8ZJAnu+nxksVlEAMAiuHFjmVQHoUrkfhXJZA6SYxCKyAl0BYObTIdqSYQMZLN4lByJlANV66SQzsmkCjcD0K1w+cQBKDwMqhM51AgJVDi2xXnkDvp8ZLN3ufQC/dJAaBT6BAZmZmZmbhoECe76fGS3OhQNR46SYxBaJADAIrhxaXokBDi2zn+yijQHoUrkfhuqNAsp3vp8ZMpEDpJjEIrN6kQCCwcmiRcKVAWDm0yHYCpkCPwvUoXJSmQMZLN4lBJqdA/dR46Sa4p0A1XrpJDEqoQGzn+6nx26hAo3A9CtdtqUDb+X5qvP+pQBKDwMqhkapASQwCK4cjq0CAlUOLbLWrQLgehetRR6xA76fGSzfZrEAmMQisHGutQF66SQwC/a1AlUOLbOeOrkDMzMzMzCCvQANWDi2ysq9Anu+nxksisEA5tMh2PmuwQNR46SYxtLBAcD0K1yP9sEAMAiuHFkaxQKjGSzcJj7FAQ4ts5/vXsUDfT42X7iCyQHoUrkfhabJAFtnO99OyskCyne+nxvuyQE1iEFi5RLNA6SYxCKyNs0CF61G4ntazQCCwcmiRH7RAvHSTGIRotEBYObTIdrG0QPP91Hhp+rRAj8L1KFxDtUAqhxbZToy1QMZLN4lB1bVAYhBYOTQetkD91HjpJme2QJmZmZkZsLZANV66SQz5tkDQItv5/kG3QGzn+6nxirdACKwcWuTTt0CjcD0K1xy4QD81XrrJZbhA2/l+aryuuEB2vp8ar/e4QBKDwMqhQLlArUfhepSJuUBJDAIrh9K5QOXQItt5G7pAgJVDi2xkukAcWmQ7X626QLgehetR9rpAU+Olm0Q/u0Dvp8ZLN4i7QIts5/sp0btAJjEIrBwavEDC9ShcD2O8QF66SQwCrLxA+X5qvPT0vECVQ4ts5z29QDAIrBzahr1AzMzMzMzPvUBoke18vxi+QANWDi2yYb5Anxov3aSqvkA730+Nl/O+QNajcD2KPL9AcmiR7XyFv0AOLbKdb86/QNR46SaxC8BAItv5fiowwEBwPQrXo1TAQL6fGi8decBADAIrh5adwEBaZDvfD8LAQKjGSzeJ5sBA9ShcjwILwUBDi2zney/BQJHtfD/1U8FA30+Nl254wUAtsp3v55zBQHoUrkdhwcFAyHa+n9rlwUAW2c73UwrCQGQ730/NLsJAsp3vp0ZTwkAAAAAAwHfCQE1iEFg5nMJAm8QgsLLAwkDpJjEILOXCQDeJQWClCcNAhetRuB4uw0DSTWIQmFLDQCCwcmgRd8NAbhKDwIqbw0C8dJMYBMDDQArXo3B95MNAWDm0yPYIxEClm8QgcC3EQPP91HjpUcRAQWDl0GJ2xECPwvUo3JrEQN0kBoFVv8RAKocW2c7jxEB46SYxSAjFQMZLN4nBLMVAFK5H4TpRxUBiEFg5tHXFQLByaJEtmsVA/dR46aa+xUBLN4lBIOPFQJmZmZmZB8ZA5/up8RIsxkA1XrpJjFDGQIPAyqEFdcZA0CLb+X6ZxkAehetR+L3GQGzn+6lx4sZAukkMAusGx0AIrBxaZCvHQFUOLbLdT8dAo3A9Cld0x0Dx0k1i0JjHQD81XrpJvcdAjZduEsPhx0Db+X5qPAbIQChcj8K1KshAdr6fGi9PyEDEILByqHPIQBKDwMohmMhAYOXQIpu8yECtR+F6FOHIQPup8dKNBclASQwCKwcqyUCXbhKDgE7JQOXQItv5cslAMzMzM3OXyUCAlUOL7LvJQM73U+Nl4MlAHFpkO98EykBqvHSTWCnKQLgehevRTcpABYGVQ0tyykBT46WbxJbKQKFFtvM9u8pA76fGS7ffykA9CtejMATLQIts5/upKMtA2M73UyNNy0AmMQisnHHLQHSTGAQWlstAwvUoXI+6y0AQWDm0CN/LQF66SQyCA8xAqxxaZPsnzED5fmq8dEzMQEfhehTucMxAlUOLbGeVzEDjpZvE4LnMQDAIrBxa3sxAfmq8dNMCzUDMzMzMTCfNQBov3STGS81AaJHtfD9wzUC28/3UuJTNQANWDi0yuc1AUbgehavdzUCfGi/dJALOQO18PzWeJs5AO99PjRdLzkCIQWDlkG/OQNajcD0KlM5AJAaBlYO4zkByaJHt/NzOQMDKoUV2Ac9ADi2yne8lz0Bbj8L1aErPQKnx0k3ibs9A91PjpVuTz0BFtvP91LfPQJMYBFZO3M9AcD0K12MA0ECXbhKDoBLQQL6fGi/dJNBA5dAi2xk30EAMAiuHVknQQDMzMzOTW9BAWmQ7389t0ECBlUOLDIDQQKjGSzdJktBAzvdT44Wk0ED1KFyPwrbQQBxaZDv/yNBAQ4ts5zvb0EBqvHSTeO3QQJHtfD+1/9BAuB6F6/ER0UDfT42XLiTRQAaBlUNrNtFALbKd76dI0UBU46Wb5FrRQHoUrkchbdFAoUW2811/0UDIdr6fmpHRQO+nxkvXo9FAFtnO9xO20UA9CtejUMjRQGQ730+N2tFAi2zn+8ns0UCyne+nBv/RQNnO91NDEdJAAAAAAIAj0kA=\"},\"shape\":[250],\"dtype\":\"float64\",\"order\":\"little\"}]]}}},\"view\":{\"type\":\"object\",\"name\":\"CDSView\",\"id\":\"p2241\",\"attributes\":{\"filter\":{\"type\":\"object\",\"name\":\"AllIndices\",\"id\":\"p2242\"}}},\"glyph\":{\"type\":\"object\",\"name\":\"Quad\",\"id\":\"p2237\",\"attributes\":{\"left\":{\"type\":\"field\",\"field\":\"left\"},\"right\":{\"type\":\"field\",\"field\":\"right\"},\"bottom\":{\"type\":\"value\",\"value\":0},\"top\":{\"type\":\"field\",\"field\":\"top\"},\"line_color\":{\"type\":\"value\",\"value\":\"#fc8d59\"},\"fill_color\":{\"type\":\"value\",\"value\":\"#1f77b4\"}}},\"nonselection_glyph\":{\"type\":\"object\",\"name\":\"Quad\",\"id\":\"p2238\",\"attributes\":{\"left\":{\"type\":\"field\",\"field\":\"left\"},\"right\":{\"type\":\"field\",\"field\":\"right\"},\"bottom\":{\"type\":\"value\",\"value\":0},\"top\":{\"type\":\"field\",\"field\":\"top\"},\"line_color\":{\"type\":\"value\",\"value\":\"#fc8d59\"},\"line_alpha\":{\"type\":\"value\",\"value\":0.1},\"fill_color\":{\"type\":\"value\",\"value\":\"#1f77b4\"},\"fill_alpha\":{\"type\":\"value\",\"value\":0.1},\"hatch_alpha\":{\"type\":\"value\",\"value\":0.1}}},\"muted_glyph\":{\"type\":\"object\",\"name\":\"Quad\",\"id\":\"p2239\",\"attributes\":{\"left\":{\"type\":\"field\",\"field\":\"left\"},\"right\":{\"type\":\"field\",\"field\":\"right\"},\"bottom\":{\"type\":\"value\",\"value\":0},\"top\":{\"type\":\"field\",\"field\":\"top\"},\"line_color\":{\"type\":\"value\",\"value\":\"#fc8d59\"},\"line_alpha\":{\"type\":\"value\",\"value\":0.2},\"fill_color\":{\"type\":\"value\",\"value\":\"#1f77b4\"},\"fill_alpha\":{\"type\":\"value\",\"value\":0.2},\"hatch_alpha\":{\"type\":\"value\",\"value\":0.2}}}}}],\"toolbar\":{\"type\":\"object\",\"name\":\"Toolbar\",\"id\":\"p2210\",\"attributes\":{\"tools\":[{\"type\":\"object\",\"name\":\"PanTool\",\"id\":\"p2223\"},{\"type\":\"object\",\"name\":\"WheelZoomTool\",\"id\":\"p2224\",\"attributes\":{\"renderers\":\"auto\"}},{\"type\":\"object\",\"name\":\"BoxZoomTool\",\"id\":\"p2225\",\"attributes\":{\"overlay\":{\"type\":\"object\",\"name\":\"BoxAnnotation\",\"id\":\"p2226\",\"attributes\":{\"syncable\":false,\"level\":\"overlay\",\"visible\":false,\"left\":{\"type\":\"number\",\"value\":\"nan\"},\"right\":{\"type\":\"number\",\"value\":\"nan\"},\"top\":{\"type\":\"number\",\"value\":\"nan\"},\"bottom\":{\"type\":\"number\",\"value\":\"nan\"},\"left_units\":\"canvas\",\"right_units\":\"canvas\",\"top_units\":\"canvas\",\"bottom_units\":\"canvas\",\"line_color\":\"black\",\"line_alpha\":1.0,\"line_width\":2,\"line_dash\":[4,4],\"fill_color\":\"lightgrey\",\"fill_alpha\":0.5}}}},{\"type\":\"object\",\"name\":\"SaveTool\",\"id\":\"p2231\"},{\"type\":\"object\",\"name\":\"ResetTool\",\"id\":\"p2232\"},{\"type\":\"object\",\"name\":\"HelpTool\",\"id\":\"p2233\"}]}},\"left\":[{\"type\":\"object\",\"name\":\"LinearAxis\",\"id\":\"p2218\",\"attributes\":{\"ticker\":{\"type\":\"object\",\"name\":\"BasicTicker\",\"id\":\"p2219\",\"attributes\":{\"num_minor_ticks\":2,\"mantissas\":[1,2,5]}},\"formatter\":{\"type\":\"object\",\"name\":\"BasicTickFormatter\",\"id\":\"p2220\"},\"axis_label\":\"count\",\"axis_label_text_font_size\":\"18px\",\"major_label_policy\":{\"type\":\"object\",\"name\":\"AllLabels\",\"id\":\"p2221\"},\"major_label_text_font_size\":\"14px\"}}],\"below\":[{\"type\":\"object\",\"name\":\"LinearAxis\",\"id\":\"p2213\",\"attributes\":{\"ticker\":{\"type\":\"object\",\"name\":\"BasicTicker\",\"id\":\"p2214\",\"attributes\":{\"mantissas\":[1,2,5]}},\"formatter\":{\"type\":\"object\",\"name\":\"BasicTickFormatter\",\"id\":\"p2215\"},\"axis_label\":\"price\",\"axis_label_text_font_size\":\"18px\",\"major_label_policy\":{\"type\":\"object\",\"name\":\"AllLabels\",\"id\":\"p2216\"},\"major_label_text_font_size\":\"14px\"}}],\"center\":[{\"type\":\"object\",\"name\":\"Grid\",\"id\":\"p2217\",\"attributes\":{\"axis\":{\"id\":\"p2213\"},\"grid_line_color\":null}},{\"type\":\"object\",\"name\":\"Grid\",\"id\":\"p2222\",\"attributes\":{\"dimension\":1,\"axis\":{\"id\":\"p2218\"},\"grid_line_color\":null}}]}}]}}]}};\n  const render_items = [{\"docid\":\"ee649d8c-3a6e-4e12-9dd3-5dc98aca11af\",\"roots\":{\"p2243\":\"ded1cb53-7f3e-4fd7-a0fc-5c37c88b083d\"},\"root_ids\":[\"p2243\"]}];\n  void root.Bokeh.embed.embed_items_notebook(docs_json, render_items);\n  }\n  if (root.Bokeh !== undefined) {\n    embed_document(root);\n  } else {\n    let attempts = 0;\n    const timer = setInterval(function(root) {\n      if (root.Bokeh !== undefined) {\n        clearInterval(timer);\n        embed_document(root);\n      } else {\n        attempts++;\n        if (attempts > 100) {\n          clearInterval(timer);\n          console.log(\"Bokeh: ERROR: Unable to run BokehJS code because BokehJS library is missing\");\n        }\n      }\n    }, 10, root)\n  }\n})(window);",
      "application/vnd.bokehjs_exec.v0+json": ""
     },
     "metadata": {
      "application/vnd.bokehjs_exec.v0+json": {
       "id": "p2243"
      }
     },
     "output_type": "display_data"
    }
   ],
   "source": [
    "plot_list = list()\n",
    "\n",
    "for i, cut in enumerate(hist_df[\"cut\"].unique()):\n",
    "    plot = figure(\n",
    "        width=700,\n",
    "        height=300,\n",
    "        title=f\"cut = {cut}\",\n",
    "        x_axis_label=\"price\",\n",
    "        y_axis_label=\"count\",\n",
    "        y_minor_ticks=2,\n",
    "        outline_line_color=\"black\",\n",
    "        outline_line_width=2\n",
    "    )\n",
    "\n",
    "    plot.quad(\n",
    "        top=hist_data[f\"{cut}_price_hist\"],\n",
    "        bottom=0,\n",
    "        left=hist_data[f\"{cut}_price_edge\"][:-1],\n",
    "        right=hist_data[f\"{cut}_price_edge\"][1:],\n",
    "        line_color=color_palette[i]\n",
    "    )\n",
    "    plot.y_range.start = 0\n",
    "    plot.y_range.end = 1200\n",
    "    plot.xgrid.grid_line_color = None\n",
    "    plot.ygrid.grid_line_color = None\n",
    "    plot.title.text_font_size = \"24px\"\n",
    "    plot.xaxis.axis_label_text_font_size= \"18px\"\n",
    "    plot.xaxis.major_label_text_font_size= \"14px\"\n",
    "    plot.yaxis.axis_label_text_font_size= \"18px\"\n",
    "    plot.yaxis.major_label_text_font_size= \"14px\"\n",
    "    plot_list.append(plot)\n",
    "\n",
    "show(column(plot_list))"
   ]
  },
  {
   "cell_type": "markdown",
   "metadata": {},
   "source": [
    "## 箱ひげ図"
   ]
  },
  {
   "cell_type": "code",
   "execution_count": 22,
   "metadata": {},
   "outputs": [
    {
     "data": {
      "text/html": [
       "<div>\n",
       "<style scoped>\n",
       "    .dataframe tbody tr th:only-of-type {\n",
       "        vertical-align: middle;\n",
       "    }\n",
       "\n",
       "    .dataframe tbody tr th {\n",
       "        vertical-align: top;\n",
       "    }\n",
       "\n",
       "    .dataframe thead th {\n",
       "        text-align: right;\n",
       "    }\n",
       "</style>\n",
       "<table border=\"1\" class=\"dataframe\">\n",
       "  <thead>\n",
       "    <tr style=\"text-align: right;\">\n",
       "      <th></th>\n",
       "      <th>sepal_length</th>\n",
       "      <th>sepal_width</th>\n",
       "      <th>petal_length</th>\n",
       "      <th>petal_width</th>\n",
       "      <th>species</th>\n",
       "    </tr>\n",
       "  </thead>\n",
       "  <tbody>\n",
       "    <tr>\n",
       "      <th>0</th>\n",
       "      <td>5.1</td>\n",
       "      <td>3.5</td>\n",
       "      <td>1.4</td>\n",
       "      <td>0.2</td>\n",
       "      <td>setosa</td>\n",
       "    </tr>\n",
       "    <tr>\n",
       "      <th>1</th>\n",
       "      <td>4.9</td>\n",
       "      <td>3.0</td>\n",
       "      <td>1.4</td>\n",
       "      <td>0.2</td>\n",
       "      <td>setosa</td>\n",
       "    </tr>\n",
       "    <tr>\n",
       "      <th>2</th>\n",
       "      <td>4.7</td>\n",
       "      <td>3.2</td>\n",
       "      <td>1.3</td>\n",
       "      <td>0.2</td>\n",
       "      <td>setosa</td>\n",
       "    </tr>\n",
       "    <tr>\n",
       "      <th>3</th>\n",
       "      <td>4.6</td>\n",
       "      <td>3.1</td>\n",
       "      <td>1.5</td>\n",
       "      <td>0.2</td>\n",
       "      <td>setosa</td>\n",
       "    </tr>\n",
       "    <tr>\n",
       "      <th>4</th>\n",
       "      <td>5.0</td>\n",
       "      <td>3.6</td>\n",
       "      <td>1.4</td>\n",
       "      <td>0.2</td>\n",
       "      <td>setosa</td>\n",
       "    </tr>\n",
       "  </tbody>\n",
       "</table>\n",
       "</div>"
      ],
      "text/plain": [
       "   sepal_length  sepal_width  petal_length  petal_width species\n",
       "0           5.1          3.5           1.4          0.2  setosa\n",
       "1           4.9          3.0           1.4          0.2  setosa\n",
       "2           4.7          3.2           1.3          0.2  setosa\n",
       "3           4.6          3.1           1.5          0.2  setosa\n",
       "4           5.0          3.6           1.4          0.2  setosa"
      ]
     },
     "metadata": {},
     "output_type": "display_data"
    },
    {
     "data": {
      "text/html": [
       "<div>\n",
       "<style scoped>\n",
       "    .dataframe tbody tr th:only-of-type {\n",
       "        vertical-align: middle;\n",
       "    }\n",
       "\n",
       "    .dataframe tbody tr th {\n",
       "        vertical-align: top;\n",
       "    }\n",
       "\n",
       "    .dataframe thead th {\n",
       "        text-align: right;\n",
       "    }\n",
       "</style>\n",
       "<table border=\"1\" class=\"dataframe\">\n",
       "  <thead>\n",
       "    <tr style=\"text-align: right;\">\n",
       "      <th></th>\n",
       "      <th>index</th>\n",
       "      <th>q1</th>\n",
       "      <th>q2</th>\n",
       "      <th>q3</th>\n",
       "    </tr>\n",
       "  </thead>\n",
       "  <tbody>\n",
       "    <tr>\n",
       "      <th>0</th>\n",
       "      <td>sepal_length</td>\n",
       "      <td>5.1</td>\n",
       "      <td>5.80</td>\n",
       "      <td>6.4</td>\n",
       "    </tr>\n",
       "    <tr>\n",
       "      <th>1</th>\n",
       "      <td>sepal_width</td>\n",
       "      <td>2.8</td>\n",
       "      <td>3.00</td>\n",
       "      <td>3.3</td>\n",
       "    </tr>\n",
       "    <tr>\n",
       "      <th>2</th>\n",
       "      <td>petal_length</td>\n",
       "      <td>1.6</td>\n",
       "      <td>4.35</td>\n",
       "      <td>5.1</td>\n",
       "    </tr>\n",
       "    <tr>\n",
       "      <th>3</th>\n",
       "      <td>petal_width</td>\n",
       "      <td>0.3</td>\n",
       "      <td>1.30</td>\n",
       "      <td>1.8</td>\n",
       "    </tr>\n",
       "  </tbody>\n",
       "</table>\n",
       "</div>"
      ],
      "text/plain": [
       "          index   q1    q2   q3\n",
       "0  sepal_length  5.1  5.80  6.4\n",
       "1   sepal_width  2.8  3.00  3.3\n",
       "2  petal_length  1.6  4.35  5.1\n",
       "3   petal_width  0.3  1.30  1.8"
      ]
     },
     "metadata": {},
     "output_type": "display_data"
    },
    {
     "data": {
      "text/html": [
       "<div>\n",
       "<style scoped>\n",
       "    .dataframe tbody tr th:only-of-type {\n",
       "        vertical-align: middle;\n",
       "    }\n",
       "\n",
       "    .dataframe tbody tr th {\n",
       "        vertical-align: top;\n",
       "    }\n",
       "\n",
       "    .dataframe thead th {\n",
       "        text-align: right;\n",
       "    }\n",
       "</style>\n",
       "<table border=\"1\" class=\"dataframe\">\n",
       "  <thead>\n",
       "    <tr style=\"text-align: right;\">\n",
       "      <th></th>\n",
       "      <th>index</th>\n",
       "      <th>q1</th>\n",
       "      <th>q2</th>\n",
       "      <th>q3</th>\n",
       "      <th>upper</th>\n",
       "      <th>lower</th>\n",
       "    </tr>\n",
       "  </thead>\n",
       "  <tbody>\n",
       "    <tr>\n",
       "      <th>0</th>\n",
       "      <td>sepal_length</td>\n",
       "      <td>5.1</td>\n",
       "      <td>5.80</td>\n",
       "      <td>6.4</td>\n",
       "      <td>8.35</td>\n",
       "      <td>3.15</td>\n",
       "    </tr>\n",
       "    <tr>\n",
       "      <th>1</th>\n",
       "      <td>sepal_width</td>\n",
       "      <td>2.8</td>\n",
       "      <td>3.00</td>\n",
       "      <td>3.3</td>\n",
       "      <td>4.05</td>\n",
       "      <td>2.05</td>\n",
       "    </tr>\n",
       "    <tr>\n",
       "      <th>2</th>\n",
       "      <td>petal_length</td>\n",
       "      <td>1.6</td>\n",
       "      <td>4.35</td>\n",
       "      <td>5.1</td>\n",
       "      <td>10.35</td>\n",
       "      <td>-3.65</td>\n",
       "    </tr>\n",
       "    <tr>\n",
       "      <th>3</th>\n",
       "      <td>petal_width</td>\n",
       "      <td>0.3</td>\n",
       "      <td>1.30</td>\n",
       "      <td>1.8</td>\n",
       "      <td>4.05</td>\n",
       "      <td>-1.95</td>\n",
       "    </tr>\n",
       "  </tbody>\n",
       "</table>\n",
       "</div>"
      ],
      "text/plain": [
       "          index   q1    q2   q3  upper  lower\n",
       "0  sepal_length  5.1  5.80  6.4   8.35   3.15\n",
       "1   sepal_width  2.8  3.00  3.3   4.05   2.05\n",
       "2  petal_length  1.6  4.35  5.1  10.35  -3.65\n",
       "3   petal_width  0.3  1.30  1.8   4.05  -1.95"
      ]
     },
     "execution_count": 22,
     "metadata": {},
     "output_type": "execute_result"
    }
   ],
   "source": [
    "box_plot_df = pd.read_csv(\"../data/iris.csv\")\n",
    "display(box_plot_df.head())\n",
    "# box_plot_df.head()\n",
    "box_plot_data = box_plot_df.iloc[:, :-1].quantile([0.25, 0.5, 0.75]).T.reset_index()\n",
    "box_plot_data = box_plot_data.rename(columns={0.25: \"q1\", 0.5: \"q2\", 0.75: \"q3\"})\n",
    "display(box_plot_data)\n",
    "iqr = box_plot_data[\"q3\"] - box_plot_data[\"q1\"]\n",
    "box_plot_data[\"upper\"] = box_plot_data[\"q3\"] + 1.5*iqr\n",
    "box_plot_data[\"lower\"] = box_plot_data[\"q1\"] - 1.5*iqr\n",
    "box_plot_data"
   ]
  },
  {
   "cell_type": "code",
   "execution_count": 23,
   "metadata": {},
   "outputs": [
    {
     "data": {
      "text/html": [
       "\n",
       "  <div id=\"efc1f42d-ed4f-4902-afa8-42c8eaffbae3\" data-root-id=\"p2259\" style=\"display: contents;\"></div>\n"
      ]
     },
     "metadata": {},
     "output_type": "display_data"
    },
    {
     "data": {
      "application/javascript": "(function(root) {\n  function embed_document(root) {\n  const docs_json = {\"4d1788c8-a061-48cd-8115-f2e790f7a197\":{\"version\":\"3.4.1\",\"title\":\"Bokeh Application\",\"roots\":[{\"type\":\"object\",\"name\":\"Figure\",\"id\":\"p2259\",\"attributes\":{\"width\":800,\"height\":500,\"x_range\":{\"type\":\"object\",\"name\":\"FactorRange\",\"id\":\"p2269\",\"attributes\":{\"factors\":[\"sepal_length\",\"sepal_width\",\"petal_length\",\"petal_width\"]}},\"y_range\":{\"type\":\"object\",\"name\":\"Range1d\",\"id\":\"p2270\",\"attributes\":{\"end\":10}},\"x_scale\":{\"type\":\"object\",\"name\":\"CategoricalScale\",\"id\":\"p2271\"},\"y_scale\":{\"type\":\"object\",\"name\":\"LinearScale\",\"id\":\"p2272\"},\"title\":{\"type\":\"object\",\"name\":\"Title\",\"id\":\"p2262\",\"attributes\":{\"text\":\"Iris Dataset \\u7279\\u5fb4\\u91cf\",\"text_font_size\":\"24px\"}},\"outline_line_color\":\"black\",\"outline_line_width\":2,\"renderers\":[{\"type\":\"object\",\"name\":\"GlyphRenderer\",\"id\":\"p2312\",\"attributes\":{\"data_source\":{\"type\":\"object\",\"name\":\"ColumnDataSource\",\"id\":\"p2303\",\"attributes\":{\"selected\":{\"type\":\"object\",\"name\":\"Selection\",\"id\":\"p2304\",\"attributes\":{\"indices\":[],\"line_indices\":[]}},\"selection_policy\":{\"type\":\"object\",\"name\":\"UnionRenderers\",\"id\":\"p2305\"},\"data\":{\"type\":\"map\",\"entries\":[[\"level_0\",{\"type\":\"ndarray\",\"array\":{\"type\":\"bytes\",\"data\":\"AAAAAAEAAAACAAAAAwAAAA==\"},\"shape\":[4],\"dtype\":\"int32\",\"order\":\"little\"}],[\"index\",{\"type\":\"ndarray\",\"array\":[\"sepal_length\",\"sepal_width\",\"petal_length\",\"petal_width\"],\"shape\":[4],\"dtype\":\"object\",\"order\":\"little\"}],[\"q1\",{\"type\":\"ndarray\",\"array\":{\"type\":\"bytes\",\"data\":\"ZmZmZmZmFEBmZmZmZmYGQJqZmZmZmfk/MzMzMzMz0z8=\"},\"shape\":[4],\"dtype\":\"float64\",\"order\":\"little\"}],[\"q2\",{\"type\":\"ndarray\",\"array\":{\"type\":\"bytes\",\"data\":\"MzMzMzMzF0AAAAAAAAAIQGZmZmZmZhFAzczMzMzM9D8=\"},\"shape\":[4],\"dtype\":\"float64\",\"order\":\"little\"}],[\"q3\",{\"type\":\"ndarray\",\"array\":{\"type\":\"bytes\",\"data\":\"mpmZmZmZGUBmZmZmZmYKQGZmZmZmZhRAzczMzMzM/D8=\"},\"shape\":[4],\"dtype\":\"float64\",\"order\":\"little\"}],[\"upper\",{\"type\":\"ndarray\",\"array\":{\"type\":\"bytes\",\"data\":\"NDMzMzOzIEAzMzMzMzMQQDIzMzMzsyRAMzMzMzMzEEA=\"},\"shape\":[4],\"dtype\":\"float64\",\"order\":\"little\"}],[\"lower\",{\"type\":\"ndarray\",\"array\":{\"type\":\"bytes\",\"data\":\"MDMzMzMzCUBmZmZmZmYAQDEzMzMzMw3AMzMzMzMz/78=\"},\"shape\":[4],\"dtype\":\"float64\",\"order\":\"little\"}]]}}},\"view\":{\"type\":\"object\",\"name\":\"CDSView\",\"id\":\"p2313\",\"attributes\":{\"filter\":{\"type\":\"object\",\"name\":\"AllIndices\",\"id\":\"p2314\"}}},\"glyph\":{\"type\":\"object\",\"name\":\"VBar\",\"id\":\"p2309\",\"attributes\":{\"x\":{\"type\":\"field\",\"field\":\"index\"},\"width\":{\"type\":\"value\",\"value\":0.7},\"bottom\":{\"type\":\"field\",\"field\":\"q2\"},\"top\":{\"type\":\"field\",\"field\":\"q3\"},\"line_color\":{\"type\":\"value\",\"value\":\"#1f77b4\"},\"fill_color\":{\"type\":\"value\",\"value\":\"#1f77b4\"}}},\"nonselection_glyph\":{\"type\":\"object\",\"name\":\"VBar\",\"id\":\"p2310\",\"attributes\":{\"x\":{\"type\":\"field\",\"field\":\"index\"},\"width\":{\"type\":\"value\",\"value\":0.7},\"bottom\":{\"type\":\"field\",\"field\":\"q2\"},\"top\":{\"type\":\"field\",\"field\":\"q3\"},\"line_color\":{\"type\":\"value\",\"value\":\"#1f77b4\"},\"line_alpha\":{\"type\":\"value\",\"value\":0.1},\"fill_color\":{\"type\":\"value\",\"value\":\"#1f77b4\"},\"fill_alpha\":{\"type\":\"value\",\"value\":0.1},\"hatch_alpha\":{\"type\":\"value\",\"value\":0.1}}},\"muted_glyph\":{\"type\":\"object\",\"name\":\"VBar\",\"id\":\"p2311\",\"attributes\":{\"x\":{\"type\":\"field\",\"field\":\"index\"},\"width\":{\"type\":\"value\",\"value\":0.7},\"bottom\":{\"type\":\"field\",\"field\":\"q2\"},\"top\":{\"type\":\"field\",\"field\":\"q3\"},\"line_color\":{\"type\":\"value\",\"value\":\"#1f77b4\"},\"line_alpha\":{\"type\":\"value\",\"value\":0.2},\"fill_color\":{\"type\":\"value\",\"value\":\"#1f77b4\"},\"fill_alpha\":{\"type\":\"value\",\"value\":0.2},\"hatch_alpha\":{\"type\":\"value\",\"value\":0.2}}}}},{\"type\":\"object\",\"name\":\"GlyphRenderer\",\"id\":\"p2324\",\"attributes\":{\"data_source\":{\"type\":\"object\",\"name\":\"ColumnDataSource\",\"id\":\"p2315\",\"attributes\":{\"selected\":{\"type\":\"object\",\"name\":\"Selection\",\"id\":\"p2316\",\"attributes\":{\"indices\":[],\"line_indices\":[]}},\"selection_policy\":{\"type\":\"object\",\"name\":\"UnionRenderers\",\"id\":\"p2317\"},\"data\":{\"type\":\"map\",\"entries\":[[\"level_0\",{\"type\":\"ndarray\",\"array\":{\"type\":\"bytes\",\"data\":\"AAAAAAEAAAACAAAAAwAAAA==\"},\"shape\":[4],\"dtype\":\"int32\",\"order\":\"little\"}],[\"index\",{\"type\":\"ndarray\",\"array\":[\"sepal_length\",\"sepal_width\",\"petal_length\",\"petal_width\"],\"shape\":[4],\"dtype\":\"object\",\"order\":\"little\"}],[\"q1\",{\"type\":\"ndarray\",\"array\":{\"type\":\"bytes\",\"data\":\"ZmZmZmZmFEBmZmZmZmYGQJqZmZmZmfk/MzMzMzMz0z8=\"},\"shape\":[4],\"dtype\":\"float64\",\"order\":\"little\"}],[\"q2\",{\"type\":\"ndarray\",\"array\":{\"type\":\"bytes\",\"data\":\"MzMzMzMzF0AAAAAAAAAIQGZmZmZmZhFAzczMzMzM9D8=\"},\"shape\":[4],\"dtype\":\"float64\",\"order\":\"little\"}],[\"q3\",{\"type\":\"ndarray\",\"array\":{\"type\":\"bytes\",\"data\":\"mpmZmZmZGUBmZmZmZmYKQGZmZmZmZhRAzczMzMzM/D8=\"},\"shape\":[4],\"dtype\":\"float64\",\"order\":\"little\"}],[\"upper\",{\"type\":\"ndarray\",\"array\":{\"type\":\"bytes\",\"data\":\"NDMzMzOzIEAzMzMzMzMQQDIzMzMzsyRAMzMzMzMzEEA=\"},\"shape\":[4],\"dtype\":\"float64\",\"order\":\"little\"}],[\"lower\",{\"type\":\"ndarray\",\"array\":{\"type\":\"bytes\",\"data\":\"MDMzMzMzCUBmZmZmZmYAQDEzMzMzMw3AMzMzMzMz/78=\"},\"shape\":[4],\"dtype\":\"float64\",\"order\":\"little\"}]]}}},\"view\":{\"type\":\"object\",\"name\":\"CDSView\",\"id\":\"p2325\",\"attributes\":{\"filter\":{\"type\":\"object\",\"name\":\"AllIndices\",\"id\":\"p2326\"}}},\"glyph\":{\"type\":\"object\",\"name\":\"VBar\",\"id\":\"p2321\",\"attributes\":{\"x\":{\"type\":\"field\",\"field\":\"index\"},\"width\":{\"type\":\"value\",\"value\":0.7},\"bottom\":{\"type\":\"field\",\"field\":\"q1\"},\"top\":{\"type\":\"field\",\"field\":\"q2\"},\"line_color\":{\"type\":\"value\",\"value\":\"#1f77b4\"},\"fill_color\":{\"type\":\"value\",\"value\":\"#1f77b4\"}}},\"nonselection_glyph\":{\"type\":\"object\",\"name\":\"VBar\",\"id\":\"p2322\",\"attributes\":{\"x\":{\"type\":\"field\",\"field\":\"index\"},\"width\":{\"type\":\"value\",\"value\":0.7},\"bottom\":{\"type\":\"field\",\"field\":\"q1\"},\"top\":{\"type\":\"field\",\"field\":\"q2\"},\"line_color\":{\"type\":\"value\",\"value\":\"#1f77b4\"},\"line_alpha\":{\"type\":\"value\",\"value\":0.1},\"fill_color\":{\"type\":\"value\",\"value\":\"#1f77b4\"},\"fill_alpha\":{\"type\":\"value\",\"value\":0.1},\"hatch_alpha\":{\"type\":\"value\",\"value\":0.1}}},\"muted_glyph\":{\"type\":\"object\",\"name\":\"VBar\",\"id\":\"p2323\",\"attributes\":{\"x\":{\"type\":\"field\",\"field\":\"index\"},\"width\":{\"type\":\"value\",\"value\":0.7},\"bottom\":{\"type\":\"field\",\"field\":\"q1\"},\"top\":{\"type\":\"field\",\"field\":\"q2\"},\"line_color\":{\"type\":\"value\",\"value\":\"#1f77b4\"},\"line_alpha\":{\"type\":\"value\",\"value\":0.2},\"fill_color\":{\"type\":\"value\",\"value\":\"#1f77b4\"},\"fill_alpha\":{\"type\":\"value\",\"value\":0.2},\"hatch_alpha\":{\"type\":\"value\",\"value\":0.2}}}}}],\"toolbar\":{\"type\":\"object\",\"name\":\"Toolbar\",\"id\":\"p2268\",\"attributes\":{\"tools\":[{\"type\":\"object\",\"name\":\"PanTool\",\"id\":\"p2283\"},{\"type\":\"object\",\"name\":\"WheelZoomTool\",\"id\":\"p2284\",\"attributes\":{\"renderers\":\"auto\"}},{\"type\":\"object\",\"name\":\"BoxZoomTool\",\"id\":\"p2285\",\"attributes\":{\"overlay\":{\"type\":\"object\",\"name\":\"BoxAnnotation\",\"id\":\"p2286\",\"attributes\":{\"syncable\":false,\"level\":\"overlay\",\"visible\":false,\"left\":{\"type\":\"number\",\"value\":\"nan\"},\"right\":{\"type\":\"number\",\"value\":\"nan\"},\"top\":{\"type\":\"number\",\"value\":\"nan\"},\"bottom\":{\"type\":\"number\",\"value\":\"nan\"},\"left_units\":\"canvas\",\"right_units\":\"canvas\",\"top_units\":\"canvas\",\"bottom_units\":\"canvas\",\"line_color\":\"black\",\"line_alpha\":1.0,\"line_width\":2,\"line_dash\":[4,4],\"fill_color\":\"lightgrey\",\"fill_alpha\":0.5}}}},{\"type\":\"object\",\"name\":\"SaveTool\",\"id\":\"p2291\"},{\"type\":\"object\",\"name\":\"ResetTool\",\"id\":\"p2292\"},{\"type\":\"object\",\"name\":\"HelpTool\",\"id\":\"p2293\"}]}},\"left\":[{\"type\":\"object\",\"name\":\"LinearAxis\",\"id\":\"p2278\",\"attributes\":{\"ticker\":{\"type\":\"object\",\"name\":\"BasicTicker\",\"id\":\"p2279\",\"attributes\":{\"mantissas\":[1,2,5]}},\"formatter\":{\"type\":\"object\",\"name\":\"BasicTickFormatter\",\"id\":\"p2280\"},\"axis_label\":\"[cm]\",\"axis_label_text_font_size\":\"18px\",\"major_label_policy\":{\"type\":\"object\",\"name\":\"AllLabels\",\"id\":\"p2281\"},\"major_label_text_font_size\":\"14px\"}}],\"below\":[{\"type\":\"object\",\"name\":\"CategoricalAxis\",\"id\":\"p2273\",\"attributes\":{\"ticker\":{\"type\":\"object\",\"name\":\"CategoricalTicker\",\"id\":\"p2274\"},\"formatter\":{\"type\":\"object\",\"name\":\"CategoricalTickFormatter\",\"id\":\"p2275\"},\"axis_label\":\"\\u7279\\u5fb4\\u91cf\",\"axis_label_text_font_size\":\"18px\",\"major_label_policy\":{\"type\":\"object\",\"name\":\"AllLabels\",\"id\":\"p2276\"},\"major_label_text_font_size\":\"14px\"}}],\"center\":[{\"type\":\"object\",\"name\":\"Grid\",\"id\":\"p2277\",\"attributes\":{\"axis\":{\"id\":\"p2273\"},\"grid_line_color\":null}},{\"type\":\"object\",\"name\":\"Grid\",\"id\":\"p2282\",\"attributes\":{\"dimension\":1,\"axis\":{\"id\":\"p2278\"},\"grid_line_color\":null}},{\"type\":\"object\",\"name\":\"Whisker\",\"id\":\"p2297\",\"attributes\":{\"source\":{\"type\":\"object\",\"name\":\"ColumnDataSource\",\"id\":\"p2294\",\"attributes\":{\"selected\":{\"type\":\"object\",\"name\":\"Selection\",\"id\":\"p2295\",\"attributes\":{\"indices\":[],\"line_indices\":[]}},\"selection_policy\":{\"type\":\"object\",\"name\":\"UnionRenderers\",\"id\":\"p2296\"},\"data\":{\"type\":\"map\",\"entries\":[[\"level_0\",{\"type\":\"ndarray\",\"array\":{\"type\":\"bytes\",\"data\":\"AAAAAAEAAAACAAAAAwAAAA==\"},\"shape\":[4],\"dtype\":\"int32\",\"order\":\"little\"}],[\"index\",{\"type\":\"ndarray\",\"array\":[\"sepal_length\",\"sepal_width\",\"petal_length\",\"petal_width\"],\"shape\":[4],\"dtype\":\"object\",\"order\":\"little\"}],[\"q1\",{\"type\":\"ndarray\",\"array\":{\"type\":\"bytes\",\"data\":\"ZmZmZmZmFEBmZmZmZmYGQJqZmZmZmfk/MzMzMzMz0z8=\"},\"shape\":[4],\"dtype\":\"float64\",\"order\":\"little\"}],[\"q2\",{\"type\":\"ndarray\",\"array\":{\"type\":\"bytes\",\"data\":\"MzMzMzMzF0AAAAAAAAAIQGZmZmZmZhFAzczMzMzM9D8=\"},\"shape\":[4],\"dtype\":\"float64\",\"order\":\"little\"}],[\"q3\",{\"type\":\"ndarray\",\"array\":{\"type\":\"bytes\",\"data\":\"mpmZmZmZGUBmZmZmZmYKQGZmZmZmZhRAzczMzMzM/D8=\"},\"shape\":[4],\"dtype\":\"float64\",\"order\":\"little\"}],[\"upper\",{\"type\":\"ndarray\",\"array\":{\"type\":\"bytes\",\"data\":\"NDMzMzOzIEAzMzMzMzMQQDIzMzMzsyRAMzMzMzMzEEA=\"},\"shape\":[4],\"dtype\":\"float64\",\"order\":\"little\"}],[\"lower\",{\"type\":\"ndarray\",\"array\":{\"type\":\"bytes\",\"data\":\"MDMzMzMzCUBmZmZmZmYAQDEzMzMzMw3AMzMzMzMz/78=\"},\"shape\":[4],\"dtype\":\"float64\",\"order\":\"little\"}]]}}},\"lower\":{\"type\":\"field\",\"field\":\"lower\"},\"lower_head\":{\"type\":\"object\",\"name\":\"TeeHead\",\"id\":\"p2301\",\"attributes\":{\"size\":{\"type\":\"value\",\"value\":10}}},\"upper\":{\"type\":\"field\",\"field\":\"upper\"},\"upper_head\":{\"type\":\"object\",\"name\":\"TeeHead\",\"id\":\"p2302\",\"attributes\":{\"size\":{\"type\":\"value\",\"value\":10}}},\"base\":{\"type\":\"field\",\"field\":\"index\"}}}]}}]}};\n  const render_items = [{\"docid\":\"4d1788c8-a061-48cd-8115-f2e790f7a197\",\"roots\":{\"p2259\":\"efc1f42d-ed4f-4902-afa8-42c8eaffbae3\"},\"root_ids\":[\"p2259\"]}];\n  void root.Bokeh.embed.embed_items_notebook(docs_json, render_items);\n  }\n  if (root.Bokeh !== undefined) {\n    embed_document(root);\n  } else {\n    let attempts = 0;\n    const timer = setInterval(function(root) {\n      if (root.Bokeh !== undefined) {\n        clearInterval(timer);\n        embed_document(root);\n      } else {\n        attempts++;\n        if (attempts > 100) {\n          clearInterval(timer);\n          console.log(\"Bokeh: ERROR: Unable to run BokehJS code because BokehJS library is missing\");\n        }\n      }\n    }, 10, root)\n  }\n})(window);",
      "application/vnd.bokehjs_exec.v0+json": ""
     },
     "metadata": {
      "application/vnd.bokehjs_exec.v0+json": {
       "id": "p2259"
      }
     },
     "output_type": "display_data"
    }
   ],
   "source": [
    "from bokeh.models import Whisker\n",
    "\n",
    "plot = figure(\n",
    "    width=800,\n",
    "    height=500,\n",
    "    title=\"Iris Dataset 特徴量\",\n",
    "    y_axis_label=\"[cm]\",\n",
    "    x_axis_label=\"特徴量\",\n",
    "    x_range=box_plot_data[\"index\"],\n",
    "    y_range=[0, 10],\n",
    "    outline_line_color=\"black\",\n",
    "    outline_line_width=2\n",
    ")\n",
    "\n",
    "# column_list = [col for col in stacked_bar_100_df.columns[1:]]\n",
    "# color_palette = palettes.RdYlGn[len(stacked_bar_100_df.columns[1:])]\n",
    "\n",
    "whisker = Whisker(\n",
    "    source=ColumnDataSource(box_plot_data),\n",
    "    base=\"index\",\n",
    "    upper=\"upper\",\n",
    "    lower=\"lower\"\n",
    ")\n",
    "\n",
    "plot.add_layout(whisker)\n",
    "\n",
    "plot.vbar(\n",
    "    source=ColumnDataSource(box_plot_data),\n",
    "    x=\"index\",\n",
    "    width=0.7,\n",
    "    bottom=\"q2\",\n",
    "    top=\"q3\"\n",
    ")\n",
    "plot.vbar(\n",
    "    source=ColumnDataSource(box_plot_data),\n",
    "    x=\"index\",\n",
    "    width=0.7,\n",
    "    bottom=\"q1\",\n",
    "    top=\"q2\"\n",
    ")\n",
    "\n",
    "plot.xgrid.grid_line_color = None\n",
    "plot.ygrid.grid_line_color = None\n",
    "plot.title.text_font_size = \"24px\"\n",
    "plot.xaxis.axis_label_text_font_size= \"18px\"\n",
    "plot.xaxis.major_label_text_font_size= \"14px\"\n",
    "plot.yaxis.axis_label_text_font_size= \"18px\"\n",
    "plot.yaxis.major_label_text_font_size= \"14px\"\n",
    "\n",
    "show(plot)"
   ]
  }
 ],
 "metadata": {
  "kernelspec": {
   "display_name": ".venv",
   "language": "python",
   "name": "python3"
  },
  "language_info": {
   "codemirror_mode": {
    "name": "ipython",
    "version": 3
   },
   "file_extension": ".py",
   "mimetype": "text/x-python",
   "name": "python",
   "nbconvert_exporter": "python",
   "pygments_lexer": "ipython3",
   "version": "3.11.9"
  }
 },
 "nbformat": 4,
 "nbformat_minor": 2
}
